{
 "cells": [
  {
   "cell_type": "markdown",
   "metadata": {},
   "source": [
    "# Indiana Pines"
   ]
  },
  {
   "cell_type": "markdown",
   "metadata": {},
   "source": [
    "1. Import dependencies"
   ]
  },
  {
   "cell_type": "code",
   "execution_count": 1,
   "metadata": {},
   "outputs": [],
   "source": [
    "import random\n",
    "import torch\n",
    "import multiprocessing\n",
    "import numpy as np\n",
    "\n",
    "import torch.utils.data as data\n",
    "\n",
    "from sklearn.model_selection import train_test_split\n",
    "\n",
    "from lightning import Trainer\n",
    "\n",
    "from src.util.torch import resolve_torch_device\n",
    "from src.util.hsi import (\n",
    "    extract_patches,\n",
    "    reduce_hsi_dim,\n",
    "    train_test_band_patch_split,\n",
    "    preprocess_hsi,\n",
    "    PreProcessType,\n",
    "    DimReductionType,\n",
    ")\n",
    "from src.data.indian_pines import load_indian_pines\n",
    "from src.model.hsic import HyperSpectralImageClassifier\n",
    "from src.visualization.plot import plot_segmentation_comparison\n",
    "from src.data.dataset_decorator import UnlabeledDatasetDecorator\n",
    "from src.visualization.plot import (\n",
    "    plot_segmentation_comparison,\n",
    ")\n",
    "from src.util.reporting import (\n",
    "    create_model_name,\n",
    "    report_run,\n",
    "    read_report_to_show,\n",
    "    lightning_metrics,\n",
    ")\n",
    "from src.util.list_ext import smooth_moving_average\n",
    "from src.visualization.plot import plot_epoch_generic, plot_epoch_generic_comparison\n",
    "from src.model.facto_former import FactoFormer"
   ]
  },
  {
   "cell_type": "markdown",
   "metadata": {},
   "source": [
    "2. Prepare env"
   ]
  },
  {
   "cell_type": "code",
   "execution_count": 2,
   "metadata": {},
   "outputs": [],
   "source": [
    "spatial_embed_dim = 64\n",
    "spectral_embed_dim = 32\n",
    "depth = 5\n",
    "n_heads = 4\n",
    "attn_p = 0.3\n",
    "proj_p = 0.3\n",
    "\n",
    "learning_rate = 1e-4\n",
    "weight_decay = 0\n",
    "num_epochs = 300"
   ]
  },
  {
   "cell_type": "code",
   "execution_count": 3,
   "metadata": {},
   "outputs": [],
   "source": [
    "batch_size = 64\n",
    "patch_size = 9\n",
    "target_dim = 75\n",
    "\n",
    "examples_per_class = []\n",
    "\n",
    "pre_process_type = PreProcessType.STANDARTIZATION\n",
    "dim_reduction_type = DimReductionType.PCA"
   ]
  },
  {
   "cell_type": "code",
   "execution_count": 4,
   "metadata": {},
   "outputs": [],
   "source": [
    "random_seed = 42\n",
    "\n",
    "random.seed(random_seed)\n",
    "torch.manual_seed(random_seed)\n",
    "np.random.seed(random_seed)\n",
    "\n",
    "device = resolve_torch_device()"
   ]
  },
  {
   "cell_type": "code",
   "execution_count": 5,
   "metadata": {},
   "outputs": [],
   "source": [
    "torch.cuda.empty_cache()"
   ]
  },
  {
   "cell_type": "code",
   "execution_count": 6,
   "metadata": {},
   "outputs": [],
   "source": [
    "torch.set_float32_matmul_precision(\"medium\")"
   ]
  },
  {
   "cell_type": "code",
   "execution_count": 7,
   "metadata": {},
   "outputs": [
    {
     "data": {
      "text/plain": [
       "'Device is cuda'"
      ]
     },
     "execution_count": 7,
     "metadata": {},
     "output_type": "execute_result"
    }
   ],
   "source": [
    "f\"Device is {device}\""
   ]
  },
  {
   "cell_type": "markdown",
   "metadata": {},
   "source": [
    "3. Load dataset"
   ]
  },
  {
   "cell_type": "code",
   "execution_count": 8,
   "metadata": {},
   "outputs": [],
   "source": [
    "image, labels = load_indian_pines()\n",
    "\n",
    "image_h, image_w, image_c = image.shape"
   ]
  },
  {
   "cell_type": "code",
   "execution_count": 9,
   "metadata": {},
   "outputs": [],
   "source": [
    "_, image = preprocess_hsi(image, pre_process_type)"
   ]
  },
  {
   "cell_type": "code",
   "execution_count": 10,
   "metadata": {},
   "outputs": [],
   "source": [
    "_, target_dim, image = reduce_hsi_dim(\n",
    "    image, target_dim, dim_reduction_type, device, random_seed\n",
    ")"
   ]
  },
  {
   "cell_type": "code",
   "execution_count": 11,
   "metadata": {},
   "outputs": [],
   "source": [
    "x, y = extract_patches(image, labels, patch_size=patch_size)"
   ]
  },
  {
   "cell_type": "code",
   "execution_count": 12,
   "metadata": {},
   "outputs": [
    {
     "data": {
      "text/plain": [
       "'Number of classes 17'"
      ]
     },
     "execution_count": 12,
     "metadata": {},
     "output_type": "execute_result"
    }
   ],
   "source": [
    "num_classes = len(np.unique(y))\n",
    "\n",
    "f\"Number of classes {num_classes}\""
   ]
  },
  {
   "cell_type": "code",
   "execution_count": 13,
   "metadata": {},
   "outputs": [],
   "source": [
    "examples_per_class = [20] * num_classes"
   ]
  },
  {
   "cell_type": "code",
   "execution_count": 14,
   "metadata": {},
   "outputs": [
    {
     "data": {
      "image/png": "[encoded data removed]",
      "text/plain": [
       "<Figure size 1000x500 with 2 Axes>"
      ]
     },
     "metadata": {},
     "output_type": "display_data"
    }
   ],
   "source": [
    "if examples_per_class:\n",
    "    x_train, y_train, x_test, y_test, y_masked = train_test_band_patch_split(\n",
    "        x, y, examples_per_class, \"indian_pines\"\n",
    "    )\n",
    "\n",
    "    plot_segmentation_comparison(\n",
    "        y.reshape(image_h, image_w), y_masked.reshape(image_h, image_w)\n",
    "    )\n",
    "else:\n",
    "    x_train, x_test, y_train, y_test = train_test_split(\n",
    "        x, y, test_size=0.2, random_state=random_seed, stratify=y\n",
    "    )\n",
    "\n",
    "# plot_numbers_distribution(y_train, desc=\"Train class distribution\")"
   ]
  },
  {
   "cell_type": "code",
   "execution_count": 15,
   "metadata": {},
   "outputs": [],
   "source": [
    "x_tensor = torch.tensor(x, dtype=torch.float32).permute(0, 3, 1, 2) \n",
    "y_tensor = torch.tensor(y, dtype=torch.long)\n",
    "x_train_tensor = torch.tensor(x_train, dtype=torch.float32).permute(0, 3, 1, 2)\n",
    "y_train_tensor = torch.tensor(y_train, dtype=torch.long)\n",
    "x_test_tensor = torch.tensor(x_test, dtype=torch.float32).permute(0, 3, 1, 2)\n",
    "y_test_tensor = torch.tensor(y_test, dtype=torch.long)"
   ]
  },
  {
   "cell_type": "code",
   "execution_count": 16,
   "metadata": {},
   "outputs": [
    {
     "data": {
      "text/plain": [
       "'Setting num_workers to 24'"
      ]
     },
     "execution_count": 16,
     "metadata": {},
     "output_type": "execute_result"
    }
   ],
   "source": [
    "cpu_count = multiprocessing.cpu_count()\n",
    "\n",
    "f\"Setting num_workers to {cpu_count}\""
   ]
  },
  {
   "cell_type": "code",
   "execution_count": 17,
   "metadata": {},
   "outputs": [],
   "source": [
    "train_dataset = data.TensorDataset(x_train_tensor, y_train_tensor)\n",
    "test_dataset = data.TensorDataset(x_test_tensor, y_test_tensor)\n",
    "full_dataset = data.TensorDataset(x_tensor, y_tensor)\n",
    "\n",
    "train_loader = data.DataLoader(\n",
    "    train_dataset,\n",
    "    batch_size=batch_size,\n",
    "    shuffle=True,\n",
    "    num_workers=cpu_count,\n",
    "    persistent_workers=True,\n",
    ")\n",
    "test_loader = data.DataLoader(\n",
    "    test_dataset,\n",
    "    batch_size=batch_size,\n",
    "    shuffle=False,\n",
    "    num_workers=cpu_count,\n",
    "    persistent_workers=True,\n",
    ")\n",
    "full_loader = data.DataLoader(\n",
    "    full_dataset,\n",
    "    batch_size=batch_size,\n",
    "    shuffle=False,\n",
    "    num_workers=cpu_count,\n",
    "    persistent_workers=True,\n",
    ")\n",
    "predict_loader = data.DataLoader(\n",
    "    UnlabeledDatasetDecorator(full_dataset),\n",
    "    batch_size=batch_size,\n",
    "    num_workers=cpu_count,\n",
    "    persistent_workers=True,\n",
    ")"
   ]
  },
  {
   "cell_type": "code",
   "execution_count": 18,
   "metadata": {},
   "outputs": [
    {
     "data": {
      "text/plain": [
       "'Training samples: 340, Testing samples: 20685'"
      ]
     },
     "execution_count": 18,
     "metadata": {},
     "output_type": "execute_result"
    }
   ],
   "source": [
    "f\"Training samples: {len(train_dataset)}, Testing samples: {len(test_dataset)}\""
   ]
  },
  {
   "cell_type": "markdown",
   "metadata": {},
   "source": [
    "4. Train model"
   ]
  },
  {
   "cell_type": "code",
   "execution_count": 19,
   "metadata": {},
   "outputs": [
    {
     "name": "stderr",
     "output_type": "stream",
     "text": [
      "You are using the plain ModelCheckpoint callback. Consider using LitModelCheckpoint which with seamless uploading to Model registry.\n",
      "GPU available: True (cuda), used: True\n",
      "TPU available: False, using: 0 TPU cores\n",
      "HPU available: False, using: 0 HPUs\n",
      "/home/melal/Workspace/spatial-regulated-self-training/.venv/lib/python3.12/site-packages/lightning/pytorch/trainer/connectors/logger_connector/logger_connector.py:76: Starting from v1.9.0, `tensorboardX` has been removed as a dependency of the `lightning.pytorch` package, due to potential conflicts with other packages in the ML ecosystem. For this reason, `logger=True` will use `CSVLogger` as the default logger, unless the `tensorboard` or `tensorboardX` packages are found. Please `pip install lightning[extra]` or one of them to enable TensorBoard support by default\n"
     ]
    }
   ],
   "source": [
    "model = HyperSpectralImageClassifier(\n",
    "    FactoFormer(\n",
    "        img_size=[target_dim, patch_size, patch_size],\n",
    "        spatial_patch=[target_dim, 1, 1],\n",
    "        spectral_patch=[1, patch_size, patch_size],\n",
    "        spatial_embed_dim=spatial_embed_dim,\n",
    "        spectral_embed_dim=spectral_embed_dim,\n",
    "        bands=target_dim,\n",
    "        n_classes=num_classes,\n",
    "        depth=depth,\n",
    "        n_heads=n_heads,\n",
    "        qkv_bias=True,\n",
    "        attn_p=attn_p,\n",
    "        proj_p=proj_p,\n",
    "    ),\n",
    "    num_classes,\n",
    "    lr=learning_rate,\n",
    "    weight_decay=weight_decay,\n",
    ")\n",
    "\n",
    "trainer = Trainer(accelerator=\"auto\", max_epochs=num_epochs)"
   ]
  },
  {
   "cell_type": "code",
   "execution_count": 20,
   "metadata": {},
   "outputs": [
    {
     "name": "stderr",
     "output_type": "stream",
     "text": [
      "/home/melal/Workspace/spatial-regulated-self-training/.venv/lib/python3.12/site-packages/lightning/pytorch/trainer/configuration_validator.py:70: You defined a `validation_step` but have no `val_dataloader`. Skipping val loop.\n",
      "LOCAL_RANK: 0 - CUDA_VISIBLE_DEVICES: [0]\n",
      "\n",
      "  | Name             | Type                 | Params | Mode \n",
      "------------------------------------------------------------------\n",
      "0 | net              | FactoFormer          | 139 K  | train\n",
      "1 | f1               | MulticlassF1Score    | 0      | train\n",
      "2 | overall_accuracy | MulticlassAccuracy   | 0      | train\n",
      "3 | average_accuracy | MulticlassAccuracy   | 0      | train\n",
      "4 | kappa            | MulticlassCohenKappa | 0      | train\n",
      "------------------------------------------------------------------\n",
      "139 K     Trainable params\n",
      "0         Non-trainable params\n",
      "139 K     Total params\n",
      "0.559     Total estimated model params size (MB)\n",
      "190       Modules in train mode\n",
      "0         Modules in eval mode\n",
      "/home/melal/Workspace/spatial-regulated-self-training/.venv/lib/python3.12/site-packages/lightning/pytorch/loops/fit_loop.py:310: The number of training batches (6) is smaller than the logging interval Trainer(log_every_n_steps=50). Set a lower value for log_every_n_steps if you want to see logs for the training epoch.\n"
     ]
    },
    {
     "data": {
      "application/vnd.jupyter.widget-view+json": {
       "model_id": "3c48622f117c41408630f80f4a3a01c6",
       "version_major": 2,
       "version_minor": 0
      },
      "text/plain": [
       "Training: |          | 0/? [00:00<?, ?it/s]"
      ]
     },
     "metadata": {},
     "output_type": "display_data"
    },
    {
     "name": "stderr",
     "output_type": "stream",
     "text": [
      "`Trainer.fit` stopped: `max_epochs=300` reached.\n"
     ]
    }
   ],
   "source": [
    "trainer.fit(\n",
    "    model,\n",
    "    train_loader, \n",
    "    # test_loader,\n",
    ")"
   ]
  },
  {
   "cell_type": "code",
   "execution_count": 21,
   "metadata": {},
   "outputs": [],
   "source": [
    "# smothed_train = smooth_moving_average([it.loss.cpu() for it in model.train_metrics], 20)\n",
    "# smothed_eval = smooth_moving_average([it.loss.cpu() for it in model.val_metrics], 20)\n",
    "\n",
    "# plot_epoch_generic_comparison(smothed_train, smothed_eval)"
   ]
  },
  {
   "cell_type": "code",
   "execution_count": 22,
   "metadata": {},
   "outputs": [],
   "source": [
    "# smooth_f1 = smooth_moving_average([it.f1.cpu() for it in model.val_metrics], 20)\n",
    "\n",
    "# plot_epoch_generic(smooth_f1, desc=\"F1\")"
   ]
  },
  {
   "cell_type": "code",
   "execution_count": 23,
   "metadata": {},
   "outputs": [
    {
     "name": "stderr",
     "output_type": "stream",
     "text": [
      "LOCAL_RANK: 0 - CUDA_VISIBLE_DEVICES: [0]\n"
     ]
    },
    {
     "data": {
      "application/vnd.jupyter.widget-view+json": {
       "model_id": "18657e62bbdf4a948bd9f201241cc795",
       "version_major": 2,
       "version_minor": 0
      },
      "text/plain": [
       "Validation: |          | 0/? [00:00<?, ?it/s]"
      ]
     },
     "metadata": {},
     "output_type": "display_data"
    },
    {
     "name": "stdout",
     "output_type": "stream",
     "text": [
      "────────────────────────────────────────────────────────────────────────────────────────────────────────────────────────\n",
      "     Validate metric           DataLoader 0\n",
      "────────────────────────────────────────────────────────────────────────────────────────────────────────────────────────\n",
      "  val_average_accuracy       0.590297281742096\n",
      "         val_f1             0.6227023005485535\n",
      "        val_kappa           0.4202210009098053\n",
      "        val_loss            2.4580535888671875\n",
      "  val_overall_accuracy      0.35172876715660095\n",
      "────────────────────────────────────────────────────────────────────────────────────────────────────────────────────────\n"
     ]
    },
    {
     "data": {
      "text/plain": [
       "[{'val_loss': 2.4580535888671875,\n",
       "  'val_f1': 0.6227023005485535,\n",
       "  'val_overall_accuracy': 0.35172876715660095,\n",
       "  'val_average_accuracy': 0.590297281742096,\n",
       "  'val_kappa': 0.4202210009098053}]"
      ]
     },
     "execution_count": 23,
     "metadata": {},
     "output_type": "execute_result"
    }
   ],
   "source": [
    "validation_result = trainer.validate(model, full_loader)\n",
    "\n",
    "validation_result"
   ]
  },
  {
   "cell_type": "markdown",
   "metadata": {},
   "source": [
    "2. Display prediction"
   ]
  },
  {
   "cell_type": "code",
   "execution_count": 24,
   "metadata": {},
   "outputs": [
    {
     "name": "stderr",
     "output_type": "stream",
     "text": [
      "LOCAL_RANK: 0 - CUDA_VISIBLE_DEVICES: [0]\n"
     ]
    },
    {
     "data": {
      "application/vnd.jupyter.widget-view+json": {
       "model_id": "a0df7df9145f46289f84ca896b1fc0cd",
       "version_major": 2,
       "version_minor": 0
      },
      "text/plain": [
       "Predicting: |          | 0/? [00:00<?, ?it/s]"
      ]
     },
     "metadata": {},
     "output_type": "display_data"
    }
   ],
   "source": [
    "y_pred = trainer.predict(model, predict_loader)"
   ]
  },
  {
   "cell_type": "code",
   "execution_count": 25,
   "metadata": {},
   "outputs": [],
   "source": [
    "y_pred = torch.cat(y_pred, dim=0)\n",
    "y_pred = torch.argmax(y_pred, dim=1)\n",
    "y_pred = y_pred.reshape(image_h, image_w)"
   ]
  },
  {
   "cell_type": "code",
   "execution_count": 26,
   "metadata": {},
   "outputs": [
    {
     "data": {
      "image/png": "[encoded data removed]",
      "text/plain": [
       "<Figure size 1000x500 with 2 Axes>"
      ]
     },
     "metadata": {},
     "output_type": "display_data"
    }
   ],
   "source": [
    "plot_segmentation_comparison(y.reshape(image_h, image_w), y_pred.numpy(), num_classes)"
   ]
  },
  {
   "cell_type": "markdown",
   "metadata": {},
   "source": [
    "6. Write report"
   ]
  },
  {
   "cell_type": "code",
   "execution_count": 27,
   "metadata": {},
   "outputs": [
    {
     "data": {
      "text/plain": [
       "PosixPath('/home/melal/Workspace/spatial-regulated-self-training/reports/runs/indian_pines__2020202020202020202020202020202020.csv')"
      ]
     },
     "execution_count": 27,
     "metadata": {},
     "output_type": "execute_result"
    }
   ],
   "source": [
    "model_name = create_model_name(\"indian_pines_\", examples_per_class)\n",
    "model_category = \"facto_former\"\n",
    "\n",
    "report_run(\n",
    "    model_name=model_name,\n",
    "    model_category=model_category,\n",
    "    run_desc=\"Add PCA, more dropout, bigger patch\",\n",
    "    run_params={\n",
    "        \"spatial_embed_dim\": spatial_embed_dim,\n",
    "        \"spectral_embed_dim\": spectral_embed_dim,\n",
    "        \"depth\": depth,\n",
    "        \"n_heads\": n_heads,\n",
    "        \"attn_p\": attn_p,\n",
    "        \"proj_p\": proj_p,\n",
    "        \"learning_rate\": learning_rate,\n",
    "        \"weight_decay\": weight_decay,\n",
    "        \"num_epochs\": num_epochs,\n",
    "        \"batch_size\": batch_size,\n",
    "        \"patch_size\": patch_size,\n",
    "        \"target_dim\": target_dim,\n",
    "        \"pre_process_type\": str(pre_process_type),\n",
    "        \"dim_reduction_type\": str(dim_reduction_type),\n",
    "    },\n",
    "    run_metrics=lightning_metrics(validation_result),\n",
    ")"
   ]
  },
  {
   "cell_type": "code",
   "execution_count": 28,
   "metadata": {},
   "outputs": [
    {
     "data": {
      "text/html": [
       "<div>\n",
       "<style scoped>\n",
       "    .dataframe tbody tr th:only-of-type {\n",
       "        vertical-align: middle;\n",
       "    }\n",
       "\n",
       "    .dataframe tbody tr th {\n",
       "        vertical-align: top;\n",
       "    }\n",
       "\n",
       "    .dataframe thead th {\n",
       "        text-align: right;\n",
       "    }\n",
       "</style>\n",
       "<table border=\"1\" class=\"dataframe\">\n",
       "  <thead>\n",
       "    <tr style=\"text-align: right;\">\n",
       "      <th></th>\n",
       "      <th>timestamp</th>\n",
       "      <th>model_category</th>\n",
       "      <th>run_desc</th>\n",
       "      <th>params</th>\n",
       "      <th>loss</th>\n",
       "      <th>f1</th>\n",
       "      <th>OA</th>\n",
       "      <th>AA</th>\n",
       "      <th>kappa</th>\n",
       "    </tr>\n",
       "  </thead>\n",
       "  <tbody>\n",
       "    <tr>\n",
       "      <th>34</th>\n",
       "      <td>2025-05-25T22:38:49.667274+00:00</td>\n",
       "      <td>gsvit</td>\n",
       "      <td>More dropout, PCA</td>\n",
       "      <td>{\"group_spatial_size\": [3, 3, 3], \"dropout\": 0...</td>\n",
       "      <td>1.796985</td>\n",
       "      <td>0.630547</td>\n",
       "      <td>3.905122e-01</td>\n",
       "      <td>0.602711</td>\n",
       "      <td>0.433849</td>\n",
       "    </tr>\n",
       "    <tr>\n",
       "      <th>21</th>\n",
       "      <td>2025-05-25T13:49:18.465537+00:00</td>\n",
       "      <td>specteal_former</td>\n",
       "      <td>With scheduling, incresed dropout and weight d...</td>\n",
       "      <td>{\"hidden_dim\": 64, \"num_layers\": 5, \"num_heads...</td>\n",
       "      <td>1.709462</td>\n",
       "      <td>0.629933</td>\n",
       "      <td>3.285941e-01</td>\n",
       "      <td>0.592009</td>\n",
       "      <td>0.428213</td>\n",
       "    </tr>\n",
       "    <tr>\n",
       "      <th>35</th>\n",
       "      <td>2025-05-25T22:44:10.977863+00:00</td>\n",
       "      <td>facto_former</td>\n",
       "      <td>Add PCA, more dropout, bigger patch</td>\n",
       "      <td>{\"spatial_embed_dim\": 64, \"spectral_embed_dim\"...</td>\n",
       "      <td>2.458054</td>\n",
       "      <td>0.622702</td>\n",
       "      <td>3.517288e-01</td>\n",
       "      <td>0.590297</td>\n",
       "      <td>0.420221</td>\n",
       "    </tr>\n",
       "    <tr>\n",
       "      <th>19</th>\n",
       "      <td>2025-05-25T13:11:09.295934+00:00</td>\n",
       "      <td>specteal_former</td>\n",
       "      <td>With scheduling, incresed dropout</td>\n",
       "      <td>{\"hidden_dim\": 64, \"num_layers\": 5, \"num_heads...</td>\n",
       "      <td>1.884388</td>\n",
       "      <td>0.610363</td>\n",
       "      <td>3.212764e-01</td>\n",
       "      <td>0.573888</td>\n",
       "      <td>0.418024</td>\n",
       "    </tr>\n",
       "    <tr>\n",
       "      <th>29</th>\n",
       "      <td>2025-05-25T20:53:11.217368+00:00</td>\n",
       "      <td>facto_former</td>\n",
       "      <td>Add PCA, and dropout</td>\n",
       "      <td>{\"spatial_embed_dim\": 64, \"spectral_embed_dim\"...</td>\n",
       "      <td>2.707989</td>\n",
       "      <td>0.606260</td>\n",
       "      <td>2.905328e-01</td>\n",
       "      <td>0.565232</td>\n",
       "      <td>0.399181</td>\n",
       "    </tr>\n",
       "    <tr>\n",
       "      <th>26</th>\n",
       "      <td>2025-05-25T20:32:27.231494+00:00</td>\n",
       "      <td>facto_former</td>\n",
       "      <td>Default run</td>\n",
       "      <td>{\"spatial_embed_dim\": 64, \"spectral_embed_dim\"...</td>\n",
       "      <td>2.480875</td>\n",
       "      <td>0.605703</td>\n",
       "      <td>3.172534e-01</td>\n",
       "      <td>0.563092</td>\n",
       "      <td>0.405921</td>\n",
       "    </tr>\n",
       "    <tr>\n",
       "      <th>30</th>\n",
       "      <td>2025-05-25T20:56:33.371563+00:00</td>\n",
       "      <td>facto_former</td>\n",
       "      <td>Add PCA and more dropout</td>\n",
       "      <td>{\"spatial_embed_dim\": 64, \"spectral_embed_dim\"...</td>\n",
       "      <td>2.790326</td>\n",
       "      <td>0.600878</td>\n",
       "      <td>2.908698e-01</td>\n",
       "      <td>0.559477</td>\n",
       "      <td>0.393422</td>\n",
       "    </tr>\n",
       "    <tr>\n",
       "      <th>17</th>\n",
       "      <td>2025-05-25T12:28:13.957191+00:00</td>\n",
       "      <td>specteal_former</td>\n",
       "      <td>With scheduling</td>\n",
       "      <td>{\"hidden_dim\": 64, \"num_layers\": 5, \"num_heads...</td>\n",
       "      <td>2.039043</td>\n",
       "      <td>0.588829</td>\n",
       "      <td>3.162847e-01</td>\n",
       "      <td>0.557241</td>\n",
       "      <td>0.407733</td>\n",
       "    </tr>\n",
       "    <tr>\n",
       "      <th>28</th>\n",
       "      <td>2025-05-25T20:51:22.895522+00:00</td>\n",
       "      <td>facto_former</td>\n",
       "      <td>Add PCA, and dropout</td>\n",
       "      <td>{\"spatial_embed_dim\": 64, \"spectral_embed_dim\"...</td>\n",
       "      <td>2.768773</td>\n",
       "      <td>0.588547</td>\n",
       "      <td>2.797896e-01</td>\n",
       "      <td>0.550725</td>\n",
       "      <td>0.390024</td>\n",
       "    </tr>\n",
       "    <tr>\n",
       "      <th>18</th>\n",
       "      <td>2025-05-25T12:48:49.301608+00:00</td>\n",
       "      <td>specteal_former</td>\n",
       "      <td>With scheduling, incresed dropout</td>\n",
       "      <td>{\"hidden_dim\": 64, \"num_layers\": 5, \"num_heads...</td>\n",
       "      <td>2.218621</td>\n",
       "      <td>0.575685</td>\n",
       "      <td>3.045633e-01</td>\n",
       "      <td>0.548062</td>\n",
       "      <td>0.399809</td>\n",
       "    </tr>\n",
       "    <tr>\n",
       "      <th>33</th>\n",
       "      <td>2025-05-25T22:37:26.348140+00:00</td>\n",
       "      <td>gsvit</td>\n",
       "      <td>More dropout</td>\n",
       "      <td>{\"group_spatial_size\": [3, 3, 3], \"dropout\": 0...</td>\n",
       "      <td>2.059639</td>\n",
       "      <td>0.574772</td>\n",
       "      <td>3.694175e-01</td>\n",
       "      <td>0.553436</td>\n",
       "      <td>0.388018</td>\n",
       "    </tr>\n",
       "    <tr>\n",
       "      <th>27</th>\n",
       "      <td>2025-05-25T20:49:26.036093+00:00</td>\n",
       "      <td>facto_former</td>\n",
       "      <td>Add PCA</td>\n",
       "      <td>{\"spatial_embed_dim\": 64, \"spectral_embed_dim\"...</td>\n",
       "      <td>2.720715</td>\n",
       "      <td>0.574609</td>\n",
       "      <td>2.798136e-01</td>\n",
       "      <td>0.538835</td>\n",
       "      <td>0.382495</td>\n",
       "    </tr>\n",
       "    <tr>\n",
       "      <th>32</th>\n",
       "      <td>2025-05-25T22:31:59.825713+00:00</td>\n",
       "      <td>gsvit</td>\n",
       "      <td>Default run</td>\n",
       "      <td>{\"group_spatial_size\": [3, 3, 3], \"dropout\": 0...</td>\n",
       "      <td>2.053219</td>\n",
       "      <td>0.562529</td>\n",
       "      <td>3.620150e-01</td>\n",
       "      <td>0.538407</td>\n",
       "      <td>0.369482</td>\n",
       "    </tr>\n",
       "    <tr>\n",
       "      <th>16</th>\n",
       "      <td>2025-05-25T11:54:50.924387+00:00</td>\n",
       "      <td>specteal_former</td>\n",
       "      <td>Default run</td>\n",
       "      <td>{\"hidden_dim\": 64, \"num_layers\": 5, \"num_heads...</td>\n",
       "      <td>2.187469</td>\n",
       "      <td>0.560617</td>\n",
       "      <td>2.933610e-01</td>\n",
       "      <td>0.531653</td>\n",
       "      <td>0.385957</td>\n",
       "    </tr>\n",
       "    <tr>\n",
       "      <th>20</th>\n",
       "      <td>2025-05-25T13:31:55.937456+00:00</td>\n",
       "      <td>specteal_former</td>\n",
       "      <td>With scheduling, incresed dropout and weight d...</td>\n",
       "      <td>{\"hidden_dim\": 64, \"num_layers\": 5, \"num_heads...</td>\n",
       "      <td>1.904269</td>\n",
       "      <td>0.550501</td>\n",
       "      <td>2.584340e-01</td>\n",
       "      <td>0.511486</td>\n",
       "      <td>0.363580</td>\n",
       "    </tr>\n",
       "    <tr>\n",
       "      <th>8</th>\n",
       "      <td>2025-05-25T00:13:59.916485+00:00</td>\n",
       "      <td>lenet</td>\n",
       "      <td>A lot more epochs, PCA and scheduler</td>\n",
       "      <td>{\"learning_rate\": 0.001, \"num_epochs\": 1000, \"...</td>\n",
       "      <td>2.457449</td>\n",
       "      <td>0.489860</td>\n",
       "      <td>2.897493e-01</td>\n",
       "      <td>0.478478</td>\n",
       "      <td>NaN</td>\n",
       "    </tr>\n",
       "    <tr>\n",
       "      <th>1</th>\n",
       "      <td>2025-05-24T19:21:48.509234+00:00</td>\n",
       "      <td>lenet</td>\n",
       "      <td>Default run (more epochs)</td>\n",
       "      <td>{\"learning_rate\": 0.001, \"num_epochs\": 100, \"b...</td>\n",
       "      <td>2.559524</td>\n",
       "      <td>0.489064</td>\n",
       "      <td>2.364114e-01</td>\n",
       "      <td>0.443092</td>\n",
       "      <td>NaN</td>\n",
       "    </tr>\n",
       "    <tr>\n",
       "      <th>15</th>\n",
       "      <td>2025-05-25T11:31:53.271370+00:00</td>\n",
       "      <td>lenet</td>\n",
       "      <td>More epochs, PCA, norm, and scheduler</td>\n",
       "      <td>{\"learning_rate\": 0.001, \"num_epochs\": 1000, \"...</td>\n",
       "      <td>2.469688</td>\n",
       "      <td>0.473372</td>\n",
       "      <td>2.799799e-01</td>\n",
       "      <td>0.462592</td>\n",
       "      <td>NaN</td>\n",
       "    </tr>\n",
       "    <tr>\n",
       "      <th>7</th>\n",
       "      <td>2025-05-25T00:11:16.070258+00:00</td>\n",
       "      <td>lenet</td>\n",
       "      <td>More epochs, PCA and scheduler</td>\n",
       "      <td>{\"learning_rate\": 0.001, \"num_epochs\": 300, \"b...</td>\n",
       "      <td>2.513368</td>\n",
       "      <td>0.472783</td>\n",
       "      <td>2.816274e-01</td>\n",
       "      <td>0.463876</td>\n",
       "      <td>NaN</td>\n",
       "    </tr>\n",
       "    <tr>\n",
       "      <th>2</th>\n",
       "      <td>2025-05-24T20:10:50.695790+00:00</td>\n",
       "      <td>lenet</td>\n",
       "      <td>Default run (more epochs)</td>\n",
       "      <td>{\"learning_rate\": 0.001, \"num_epochs\": 300, \"b...</td>\n",
       "      <td>2.519917</td>\n",
       "      <td>0.471948</td>\n",
       "      <td>2.376698e-01</td>\n",
       "      <td>0.444376</td>\n",
       "      <td>NaN</td>\n",
       "    </tr>\n",
       "    <tr>\n",
       "      <th>3</th>\n",
       "      <td>2025-05-24T20:55:14.129875+00:00</td>\n",
       "      <td>lenet</td>\n",
       "      <td>Default run (more epochs and PCA)</td>\n",
       "      <td>{\"learning_rate\": 0.001, \"num_epochs\": 300, \"b...</td>\n",
       "      <td>2.496867</td>\n",
       "      <td>0.468382</td>\n",
       "      <td>2.811697e-01</td>\n",
       "      <td>0.461641</td>\n",
       "      <td>NaN</td>\n",
       "    </tr>\n",
       "    <tr>\n",
       "      <th>6</th>\n",
       "      <td>2025-05-24T23:39:51.672671+00:00</td>\n",
       "      <td>lenet</td>\n",
       "      <td>More epochs, PCA and scheduler</td>\n",
       "      <td>{\"learning_rate\": 0.001, \"num_epochs\": 300, \"b...</td>\n",
       "      <td>2.497706</td>\n",
       "      <td>0.462771</td>\n",
       "      <td>2.424388e+33</td>\n",
       "      <td>0.457883</td>\n",
       "      <td>NaN</td>\n",
       "    </tr>\n",
       "    <tr>\n",
       "      <th>31</th>\n",
       "      <td>2025-05-25T21:07:44.655094+00:00</td>\n",
       "      <td>lenet</td>\n",
       "      <td>More epochs, PCA, norm, scheduler and smaller ...</td>\n",
       "      <td>{\"learning_rate\": 0.001, \"num_epochs\": 1000, \"...</td>\n",
       "      <td>2.487204</td>\n",
       "      <td>0.461530</td>\n",
       "      <td>2.653589e-01</td>\n",
       "      <td>0.449322</td>\n",
       "      <td>NaN</td>\n",
       "    </tr>\n",
       "    <tr>\n",
       "      <th>5</th>\n",
       "      <td>2025-05-24T22:22:51.497627+00:00</td>\n",
       "      <td>lenet</td>\n",
       "      <td>More epochs and PCA with whiten False</td>\n",
       "      <td>{\"learning_rate\": 0.001, \"num_epochs\": 300, \"b...</td>\n",
       "      <td>2.522240</td>\n",
       "      <td>0.461525</td>\n",
       "      <td>2.551436e-01</td>\n",
       "      <td>0.444233</td>\n",
       "      <td>NaN</td>\n",
       "    </tr>\n",
       "    <tr>\n",
       "      <th>4</th>\n",
       "      <td>2025-05-24T21:44:16.017235+00:00</td>\n",
       "      <td>lenet</td>\n",
       "      <td>Default run (more epochs and PCA)</td>\n",
       "      <td>{\"learning_rate\": 0.001, \"num_epochs\": 300, \"b...</td>\n",
       "      <td>2.533018</td>\n",
       "      <td>0.439027</td>\n",
       "      <td>2.516287e-01</td>\n",
       "      <td>0.430059</td>\n",
       "      <td>NaN</td>\n",
       "    </tr>\n",
       "    <tr>\n",
       "      <th>0</th>\n",
       "      <td>2025-05-24T18:58:52.007676+00:00</td>\n",
       "      <td>lenet</td>\n",
       "      <td>Default run</td>\n",
       "      <td>{\"learning_rate\": 0.001, \"num_epochs\": 12, \"ba...</td>\n",
       "      <td>2.699703</td>\n",
       "      <td>0.359812</td>\n",
       "      <td>1.701580e-01</td>\n",
       "      <td>0.333603</td>\n",
       "      <td>NaN</td>\n",
       "    </tr>\n",
       "    <tr>\n",
       "      <th>12</th>\n",
       "      <td>2025-05-25T10:40:01.078565+00:00</td>\n",
       "      <td>vit</td>\n",
       "      <td>Add weight decay and smaller lr</td>\n",
       "      <td>{\"hidden_dim\": 64, \"num_layers\": 5, \"num_heads...</td>\n",
       "      <td>2.884203</td>\n",
       "      <td>0.274386</td>\n",
       "      <td>5.943282e-02</td>\n",
       "      <td>0.204804</td>\n",
       "      <td>0.085991</td>\n",
       "    </tr>\n",
       "    <tr>\n",
       "      <th>11</th>\n",
       "      <td>2025-05-25T10:20:38.669253+00:00</td>\n",
       "      <td>vit</td>\n",
       "      <td>Add weight decay and smaller lr</td>\n",
       "      <td>{\"hidden_dim\": 64, \"num_layers\": 5, \"num_heads...</td>\n",
       "      <td>3.053134</td>\n",
       "      <td>0.260749</td>\n",
       "      <td>5.337951e-02</td>\n",
       "      <td>0.192771</td>\n",
       "      <td>0.081146</td>\n",
       "    </tr>\n",
       "    <tr>\n",
       "      <th>13</th>\n",
       "      <td>2025-05-25T11:05:35.126823+00:00</td>\n",
       "      <td>vit</td>\n",
       "      <td>Add weight decay and smaller lr</td>\n",
       "      <td>{\"hidden_dim\": 64, \"num_layers\": 5, \"num_heads...</td>\n",
       "      <td>2.611931</td>\n",
       "      <td>0.251206</td>\n",
       "      <td>5.845405e-02</td>\n",
       "      <td>0.188966</td>\n",
       "      <td>0.081323</td>\n",
       "    </tr>\n",
       "    <tr>\n",
       "      <th>9</th>\n",
       "      <td>2025-05-25T00:43:41.538913+00:00</td>\n",
       "      <td>vit</td>\n",
       "      <td>Default run</td>\n",
       "      <td>{\"hidden_dim\": 64, \"num_layers\": 5, \"num_heads...</td>\n",
       "      <td>4.584047</td>\n",
       "      <td>0.245635</td>\n",
       "      <td>5.025616e-02</td>\n",
       "      <td>0.179643</td>\n",
       "      <td>0.077745</td>\n",
       "    </tr>\n",
       "    <tr>\n",
       "      <th>14</th>\n",
       "      <td>2025-05-25T11:26:53.611845+00:00</td>\n",
       "      <td>vit</td>\n",
       "      <td>Add weight decay, increase dropout and smaller lr</td>\n",
       "      <td>{\"hidden_dim\": 64, \"num_layers\": 5, \"num_heads...</td>\n",
       "      <td>2.557661</td>\n",
       "      <td>0.207239</td>\n",
       "      <td>5.841505e-02</td>\n",
       "      <td>0.163187</td>\n",
       "      <td>0.074733</td>\n",
       "    </tr>\n",
       "    <tr>\n",
       "      <th>23</th>\n",
       "      <td>2025-05-25T15:52:03.734232+00:00</td>\n",
       "      <td>lenet_co_training</td>\n",
       "      <td>Default run</td>\n",
       "      <td>{\"learning_rate\": 0.001, \"num_epochs\": 300, \"b...</td>\n",
       "      <td>2.826677</td>\n",
       "      <td>0.195459</td>\n",
       "      <td>6.889482e-01</td>\n",
       "      <td>0.286706</td>\n",
       "      <td>0.255198</td>\n",
       "    </tr>\n",
       "    <tr>\n",
       "      <th>25</th>\n",
       "      <td>2025-05-25T19:19:51.903381+00:00</td>\n",
       "      <td>lenet_clustering</td>\n",
       "      <td>Default run</td>\n",
       "      <td>{\"learning_rate\": 0.001, \"num_epochs\": 30, \"ba...</td>\n",
       "      <td>2.678000</td>\n",
       "      <td>0.182683</td>\n",
       "      <td>2.902175e-01</td>\n",
       "      <td>0.250369</td>\n",
       "      <td>0.206694</td>\n",
       "    </tr>\n",
       "    <tr>\n",
       "      <th>22</th>\n",
       "      <td>2025-05-25T14:39:13.847478+00:00</td>\n",
       "      <td>specteal_former_co_training</td>\n",
       "      <td>Default run</td>\n",
       "      <td>{\"hidden_dim\": 32, \"num_layers\": 5, \"num_heads...</td>\n",
       "      <td>2.814270</td>\n",
       "      <td>0.179225</td>\n",
       "      <td>4.305314e-01</td>\n",
       "      <td>0.176266</td>\n",
       "      <td>0.130307</td>\n",
       "    </tr>\n",
       "    <tr>\n",
       "      <th>10</th>\n",
       "      <td>2025-05-25T09:30:05.188620+00:00</td>\n",
       "      <td>vit</td>\n",
       "      <td>Add weight decay</td>\n",
       "      <td>{\"hidden_dim\": 64, \"num_layers\": 5, \"num_heads...</td>\n",
       "      <td>5.515652</td>\n",
       "      <td>0.177391</td>\n",
       "      <td>5.255213e-02</td>\n",
       "      <td>0.143306</td>\n",
       "      <td>0.060421</td>\n",
       "    </tr>\n",
       "    <tr>\n",
       "      <th>24</th>\n",
       "      <td>2025-05-25T16:13:53.131416+00:00</td>\n",
       "      <td>lenet_co_training</td>\n",
       "      <td>Less epochs, no scheduling</td>\n",
       "      <td>{\"learning_rate\": 0.001, \"num_epochs\": 30, \"ba...</td>\n",
       "      <td>2.827521</td>\n",
       "      <td>0.147750</td>\n",
       "      <td>6.770636e-01</td>\n",
       "      <td>0.252176</td>\n",
       "      <td>0.225479</td>\n",
       "    </tr>\n",
       "  </tbody>\n",
       "</table>\n",
       "</div>"
      ],
      "text/plain": [
       "                           timestamp               model_category  \\\n",
       "34  2025-05-25T22:38:49.667274+00:00                        gsvit   \n",
       "21  2025-05-25T13:49:18.465537+00:00              specteal_former   \n",
       "35  2025-05-25T22:44:10.977863+00:00                 facto_former   \n",
       "19  2025-05-25T13:11:09.295934+00:00              specteal_former   \n",
       "29  2025-05-25T20:53:11.217368+00:00                 facto_former   \n",
       "26  2025-05-25T20:32:27.231494+00:00                 facto_former   \n",
       "30  2025-05-25T20:56:33.371563+00:00                 facto_former   \n",
       "17  2025-05-25T12:28:13.957191+00:00              specteal_former   \n",
       "28  2025-05-25T20:51:22.895522+00:00                 facto_former   \n",
       "18  2025-05-25T12:48:49.301608+00:00              specteal_former   \n",
       "33  2025-05-25T22:37:26.348140+00:00                        gsvit   \n",
       "27  2025-05-25T20:49:26.036093+00:00                 facto_former   \n",
       "32  2025-05-25T22:31:59.825713+00:00                        gsvit   \n",
       "16  2025-05-25T11:54:50.924387+00:00              specteal_former   \n",
       "20  2025-05-25T13:31:55.937456+00:00              specteal_former   \n",
       "8   2025-05-25T00:13:59.916485+00:00                        lenet   \n",
       "1   2025-05-24T19:21:48.509234+00:00                        lenet   \n",
       "15  2025-05-25T11:31:53.271370+00:00                        lenet   \n",
       "7   2025-05-25T00:11:16.070258+00:00                        lenet   \n",
       "2   2025-05-24T20:10:50.695790+00:00                        lenet   \n",
       "3   2025-05-24T20:55:14.129875+00:00                        lenet   \n",
       "6   2025-05-24T23:39:51.672671+00:00                        lenet   \n",
       "31  2025-05-25T21:07:44.655094+00:00                        lenet   \n",
       "5   2025-05-24T22:22:51.497627+00:00                        lenet   \n",
       "4   2025-05-24T21:44:16.017235+00:00                        lenet   \n",
       "0   2025-05-24T18:58:52.007676+00:00                        lenet   \n",
       "12  2025-05-25T10:40:01.078565+00:00                          vit   \n",
       "11  2025-05-25T10:20:38.669253+00:00                          vit   \n",
       "13  2025-05-25T11:05:35.126823+00:00                          vit   \n",
       "9   2025-05-25T00:43:41.538913+00:00                          vit   \n",
       "14  2025-05-25T11:26:53.611845+00:00                          vit   \n",
       "23  2025-05-25T15:52:03.734232+00:00            lenet_co_training   \n",
       "25  2025-05-25T19:19:51.903381+00:00             lenet_clustering   \n",
       "22  2025-05-25T14:39:13.847478+00:00  specteal_former_co_training   \n",
       "10  2025-05-25T09:30:05.188620+00:00                          vit   \n",
       "24  2025-05-25T16:13:53.131416+00:00            lenet_co_training   \n",
       "\n",
       "                                             run_desc  \\\n",
       "34                                  More dropout, PCA   \n",
       "21  With scheduling, incresed dropout and weight d...   \n",
       "35                Add PCA, more dropout, bigger patch   \n",
       "19                  With scheduling, incresed dropout   \n",
       "29                               Add PCA, and dropout   \n",
       "26                                        Default run   \n",
       "30                           Add PCA and more dropout   \n",
       "17                                    With scheduling   \n",
       "28                               Add PCA, and dropout   \n",
       "18                  With scheduling, incresed dropout   \n",
       "33                                       More dropout   \n",
       "27                                            Add PCA   \n",
       "32                                        Default run   \n",
       "16                                        Default run   \n",
       "20  With scheduling, incresed dropout and weight d...   \n",
       "8                A lot more epochs, PCA and scheduler   \n",
       "1                           Default run (more epochs)   \n",
       "15              More epochs, PCA, norm, and scheduler   \n",
       "7                      More epochs, PCA and scheduler   \n",
       "2                           Default run (more epochs)   \n",
       "3                   Default run (more epochs and PCA)   \n",
       "6                      More epochs, PCA and scheduler   \n",
       "31  More epochs, PCA, norm, scheduler and smaller ...   \n",
       "5               More epochs and PCA with whiten False   \n",
       "4                   Default run (more epochs and PCA)   \n",
       "0                                         Default run   \n",
       "12                    Add weight decay and smaller lr   \n",
       "11                    Add weight decay and smaller lr   \n",
       "13                    Add weight decay and smaller lr   \n",
       "9                                         Default run   \n",
       "14  Add weight decay, increase dropout and smaller lr   \n",
       "23                                        Default run   \n",
       "25                                        Default run   \n",
       "22                                        Default run   \n",
       "10                                   Add weight decay   \n",
       "24                         Less epochs, no scheduling   \n",
       "\n",
       "                                               params      loss        f1  \\\n",
       "34  {\"group_spatial_size\": [3, 3, 3], \"dropout\": 0...  1.796985  0.630547   \n",
       "21  {\"hidden_dim\": 64, \"num_layers\": 5, \"num_heads...  1.709462  0.629933   \n",
       "35  {\"spatial_embed_dim\": 64, \"spectral_embed_dim\"...  2.458054  0.622702   \n",
       "19  {\"hidden_dim\": 64, \"num_layers\": 5, \"num_heads...  1.884388  0.610363   \n",
       "29  {\"spatial_embed_dim\": 64, \"spectral_embed_dim\"...  2.707989  0.606260   \n",
       "26  {\"spatial_embed_dim\": 64, \"spectral_embed_dim\"...  2.480875  0.605703   \n",
       "30  {\"spatial_embed_dim\": 64, \"spectral_embed_dim\"...  2.790326  0.600878   \n",
       "17  {\"hidden_dim\": 64, \"num_layers\": 5, \"num_heads...  2.039043  0.588829   \n",
       "28  {\"spatial_embed_dim\": 64, \"spectral_embed_dim\"...  2.768773  0.588547   \n",
       "18  {\"hidden_dim\": 64, \"num_layers\": 5, \"num_heads...  2.218621  0.575685   \n",
       "33  {\"group_spatial_size\": [3, 3, 3], \"dropout\": 0...  2.059639  0.574772   \n",
       "27  {\"spatial_embed_dim\": 64, \"spectral_embed_dim\"...  2.720715  0.574609   \n",
       "32  {\"group_spatial_size\": [3, 3, 3], \"dropout\": 0...  2.053219  0.562529   \n",
       "16  {\"hidden_dim\": 64, \"num_layers\": 5, \"num_heads...  2.187469  0.560617   \n",
       "20  {\"hidden_dim\": 64, \"num_layers\": 5, \"num_heads...  1.904269  0.550501   \n",
       "8   {\"learning_rate\": 0.001, \"num_epochs\": 1000, \"...  2.457449  0.489860   \n",
       "1   {\"learning_rate\": 0.001, \"num_epochs\": 100, \"b...  2.559524  0.489064   \n",
       "15  {\"learning_rate\": 0.001, \"num_epochs\": 1000, \"...  2.469688  0.473372   \n",
       "7   {\"learning_rate\": 0.001, \"num_epochs\": 300, \"b...  2.513368  0.472783   \n",
       "2   {\"learning_rate\": 0.001, \"num_epochs\": 300, \"b...  2.519917  0.471948   \n",
       "3   {\"learning_rate\": 0.001, \"num_epochs\": 300, \"b...  2.496867  0.468382   \n",
       "6   {\"learning_rate\": 0.001, \"num_epochs\": 300, \"b...  2.497706  0.462771   \n",
       "31  {\"learning_rate\": 0.001, \"num_epochs\": 1000, \"...  2.487204  0.461530   \n",
       "5   {\"learning_rate\": 0.001, \"num_epochs\": 300, \"b...  2.522240  0.461525   \n",
       "4   {\"learning_rate\": 0.001, \"num_epochs\": 300, \"b...  2.533018  0.439027   \n",
       "0   {\"learning_rate\": 0.001, \"num_epochs\": 12, \"ba...  2.699703  0.359812   \n",
       "12  {\"hidden_dim\": 64, \"num_layers\": 5, \"num_heads...  2.884203  0.274386   \n",
       "11  {\"hidden_dim\": 64, \"num_layers\": 5, \"num_heads...  3.053134  0.260749   \n",
       "13  {\"hidden_dim\": 64, \"num_layers\": 5, \"num_heads...  2.611931  0.251206   \n",
       "9   {\"hidden_dim\": 64, \"num_layers\": 5, \"num_heads...  4.584047  0.245635   \n",
       "14  {\"hidden_dim\": 64, \"num_layers\": 5, \"num_heads...  2.557661  0.207239   \n",
       "23  {\"learning_rate\": 0.001, \"num_epochs\": 300, \"b...  2.826677  0.195459   \n",
       "25  {\"learning_rate\": 0.001, \"num_epochs\": 30, \"ba...  2.678000  0.182683   \n",
       "22  {\"hidden_dim\": 32, \"num_layers\": 5, \"num_heads...  2.814270  0.179225   \n",
       "10  {\"hidden_dim\": 64, \"num_layers\": 5, \"num_heads...  5.515652  0.177391   \n",
       "24  {\"learning_rate\": 0.001, \"num_epochs\": 30, \"ba...  2.827521  0.147750   \n",
       "\n",
       "              OA        AA     kappa  \n",
       "34  3.905122e-01  0.602711  0.433849  \n",
       "21  3.285941e-01  0.592009  0.428213  \n",
       "35  3.517288e-01  0.590297  0.420221  \n",
       "19  3.212764e-01  0.573888  0.418024  \n",
       "29  2.905328e-01  0.565232  0.399181  \n",
       "26  3.172534e-01  0.563092  0.405921  \n",
       "30  2.908698e-01  0.559477  0.393422  \n",
       "17  3.162847e-01  0.557241  0.407733  \n",
       "28  2.797896e-01  0.550725  0.390024  \n",
       "18  3.045633e-01  0.548062  0.399809  \n",
       "33  3.694175e-01  0.553436  0.388018  \n",
       "27  2.798136e-01  0.538835  0.382495  \n",
       "32  3.620150e-01  0.538407  0.369482  \n",
       "16  2.933610e-01  0.531653  0.385957  \n",
       "20  2.584340e-01  0.511486  0.363580  \n",
       "8   2.897493e-01  0.478478       NaN  \n",
       "1   2.364114e-01  0.443092       NaN  \n",
       "15  2.799799e-01  0.462592       NaN  \n",
       "7   2.816274e-01  0.463876       NaN  \n",
       "2   2.376698e-01  0.444376       NaN  \n",
       "3   2.811697e-01  0.461641       NaN  \n",
       "6   2.424388e+33  0.457883       NaN  \n",
       "31  2.653589e-01  0.449322       NaN  \n",
       "5   2.551436e-01  0.444233       NaN  \n",
       "4   2.516287e-01  0.430059       NaN  \n",
       "0   1.701580e-01  0.333603       NaN  \n",
       "12  5.943282e-02  0.204804  0.085991  \n",
       "11  5.337951e-02  0.192771  0.081146  \n",
       "13  5.845405e-02  0.188966  0.081323  \n",
       "9   5.025616e-02  0.179643  0.077745  \n",
       "14  5.841505e-02  0.163187  0.074733  \n",
       "23  6.889482e-01  0.286706  0.255198  \n",
       "25  2.902175e-01  0.250369  0.206694  \n",
       "22  4.305314e-01  0.176266  0.130307  \n",
       "10  5.255213e-02  0.143306  0.060421  \n",
       "24  6.770636e-01  0.252176  0.225479  "
      ]
     },
     "execution_count": 28,
     "metadata": {},
     "output_type": "execute_result"
    }
   ],
   "source": [
    "read_report_to_show(model_name, sort_by_metric=\"f1\")"
   ]
  },
  {
   "cell_type": "code",
   "execution_count": 29,
   "metadata": {},
   "outputs": [
    {
     "data": {
      "text/html": [
       "<div>\n",
       "<style scoped>\n",
       "    .dataframe tbody tr th:only-of-type {\n",
       "        vertical-align: middle;\n",
       "    }\n",
       "\n",
       "    .dataframe tbody tr th {\n",
       "        vertical-align: top;\n",
       "    }\n",
       "\n",
       "    .dataframe thead th {\n",
       "        text-align: right;\n",
       "    }\n",
       "</style>\n",
       "<table border=\"1\" class=\"dataframe\">\n",
       "  <thead>\n",
       "    <tr style=\"text-align: right;\">\n",
       "      <th></th>\n",
       "      <th>timestamp</th>\n",
       "      <th>run_desc</th>\n",
       "      <th>params</th>\n",
       "      <th>loss</th>\n",
       "      <th>f1</th>\n",
       "      <th>OA</th>\n",
       "      <th>AA</th>\n",
       "      <th>kappa</th>\n",
       "    </tr>\n",
       "  </thead>\n",
       "  <tbody>\n",
       "    <tr>\n",
       "      <th>35</th>\n",
       "      <td>2025-05-25T22:44:10.977863+00:00</td>\n",
       "      <td>Add PCA, more dropout, bigger patch</td>\n",
       "      <td>{\"spatial_embed_dim\": 64, \"spectral_embed_dim\"...</td>\n",
       "      <td>2.458054</td>\n",
       "      <td>0.622702</td>\n",
       "      <td>0.351729</td>\n",
       "      <td>0.590297</td>\n",
       "      <td>0.420221</td>\n",
       "    </tr>\n",
       "    <tr>\n",
       "      <th>29</th>\n",
       "      <td>2025-05-25T20:53:11.217368+00:00</td>\n",
       "      <td>Add PCA, and dropout</td>\n",
       "      <td>{\"spatial_embed_dim\": 64, \"spectral_embed_dim\"...</td>\n",
       "      <td>2.707989</td>\n",
       "      <td>0.606260</td>\n",
       "      <td>0.290533</td>\n",
       "      <td>0.565232</td>\n",
       "      <td>0.399181</td>\n",
       "    </tr>\n",
       "    <tr>\n",
       "      <th>26</th>\n",
       "      <td>2025-05-25T20:32:27.231494+00:00</td>\n",
       "      <td>Default run</td>\n",
       "      <td>{\"spatial_embed_dim\": 64, \"spectral_embed_dim\"...</td>\n",
       "      <td>2.480875</td>\n",
       "      <td>0.605703</td>\n",
       "      <td>0.317253</td>\n",
       "      <td>0.563092</td>\n",
       "      <td>0.405921</td>\n",
       "    </tr>\n",
       "    <tr>\n",
       "      <th>30</th>\n",
       "      <td>2025-05-25T20:56:33.371563+00:00</td>\n",
       "      <td>Add PCA and more dropout</td>\n",
       "      <td>{\"spatial_embed_dim\": 64, \"spectral_embed_dim\"...</td>\n",
       "      <td>2.790326</td>\n",
       "      <td>0.600878</td>\n",
       "      <td>0.290870</td>\n",
       "      <td>0.559477</td>\n",
       "      <td>0.393422</td>\n",
       "    </tr>\n",
       "    <tr>\n",
       "      <th>28</th>\n",
       "      <td>2025-05-25T20:51:22.895522+00:00</td>\n",
       "      <td>Add PCA, and dropout</td>\n",
       "      <td>{\"spatial_embed_dim\": 64, \"spectral_embed_dim\"...</td>\n",
       "      <td>2.768773</td>\n",
       "      <td>0.588547</td>\n",
       "      <td>0.279790</td>\n",
       "      <td>0.550725</td>\n",
       "      <td>0.390024</td>\n",
       "    </tr>\n",
       "    <tr>\n",
       "      <th>27</th>\n",
       "      <td>2025-05-25T20:49:26.036093+00:00</td>\n",
       "      <td>Add PCA</td>\n",
       "      <td>{\"spatial_embed_dim\": 64, \"spectral_embed_dim\"...</td>\n",
       "      <td>2.720715</td>\n",
       "      <td>0.574609</td>\n",
       "      <td>0.279814</td>\n",
       "      <td>0.538835</td>\n",
       "      <td>0.382495</td>\n",
       "    </tr>\n",
       "  </tbody>\n",
       "</table>\n",
       "</div>"
      ],
      "text/plain": [
       "                           timestamp                             run_desc  \\\n",
       "35  2025-05-25T22:44:10.977863+00:00  Add PCA, more dropout, bigger patch   \n",
       "29  2025-05-25T20:53:11.217368+00:00                 Add PCA, and dropout   \n",
       "26  2025-05-25T20:32:27.231494+00:00                          Default run   \n",
       "30  2025-05-25T20:56:33.371563+00:00             Add PCA and more dropout   \n",
       "28  2025-05-25T20:51:22.895522+00:00                 Add PCA, and dropout   \n",
       "27  2025-05-25T20:49:26.036093+00:00                              Add PCA   \n",
       "\n",
       "                                               params      loss        f1  \\\n",
       "35  {\"spatial_embed_dim\": 64, \"spectral_embed_dim\"...  2.458054  0.622702   \n",
       "29  {\"spatial_embed_dim\": 64, \"spectral_embed_dim\"...  2.707989  0.606260   \n",
       "26  {\"spatial_embed_dim\": 64, \"spectral_embed_dim\"...  2.480875  0.605703   \n",
       "30  {\"spatial_embed_dim\": 64, \"spectral_embed_dim\"...  2.790326  0.600878   \n",
       "28  {\"spatial_embed_dim\": 64, \"spectral_embed_dim\"...  2.768773  0.588547   \n",
       "27  {\"spatial_embed_dim\": 64, \"spectral_embed_dim\"...  2.720715  0.574609   \n",
       "\n",
       "          OA        AA     kappa  \n",
       "35  0.351729  0.590297  0.420221  \n",
       "29  0.290533  0.565232  0.399181  \n",
       "26  0.317253  0.563092  0.405921  \n",
       "30  0.290870  0.559477  0.393422  \n",
       "28  0.279790  0.550725  0.390024  \n",
       "27  0.279814  0.538835  0.382495  "
      ]
     },
     "execution_count": 29,
     "metadata": {},
     "output_type": "execute_result"
    }
   ],
   "source": [
    "read_report_to_show(model_name, sort_by_metric=\"f1\", model_category=model_category)"
   ]
  }
 ],
 "metadata": {
  "kernelspec": {
   "display_name": ".venv",
   "language": "python",
   "name": "python3"
  },
  "language_info": {
   "codemirror_mode": {
    "name": "ipython",
    "version": 3
   },
   "file_extension": ".py",
   "mimetype": "text/x-python",
   "name": "python",
   "nbconvert_exporter": "python",
   "pygments_lexer": "ipython3",
   "version": "3.12.3"
  }
 },
 "nbformat": 4,
 "nbformat_minor": 2
}
