{
 "cells": [
  {
   "cell_type": "markdown",
   "metadata": {},
   "source": [
    "# Grid Search hyper parameters for SRST"
   ]
  },
  {
   "cell_type": "markdown",
   "metadata": {},
   "source": [
    "1. Import dependencies"
   ]
  },
  {
   "cell_type": "code",
   "execution_count": null,
   "metadata": {},
   "outputs": [],
   "source": [
    "import random\n",
    "import torch\n",
    "import numpy as np\n",
    "import pandas as pd\n",
    "import time\n",
    "import glob\n",
    "import os\n",
    "\n",
    "from src.util.torch import resolve_torch_device\n",
    "from src.data.indian_pines import load_indian_pines\n",
    "from src.util.hsi import sample_from_segmentation_matrix\n",
    "from src.definitions import GREED_SEARCH_FOLDER\n",
    "from src.model.greed_search import GreedSearch\n",
    "from src.model.spatial_regulated_self_training_greed_search import (\n",
    "    SpatialRegulatedSelfTrainingPipelineGreedSearchAdapter,\n",
    ")"
   ]
  },
  {
   "cell_type": "markdown",
   "metadata": {},
   "source": [
    "2. Prepare env"
   ]
  },
  {
   "cell_type": "code",
   "execution_count": 2,
   "metadata": {},
   "outputs": [
    {
     "data": {
      "text/plain": [
       "<torch._C.Generator at 0x7fb6bc769b70>"
      ]
     },
     "execution_count": 2,
     "metadata": {},
     "output_type": "execute_result"
    }
   ],
   "source": [
    "random_seed = 42\n",
    "cpu_count = 1\n",
    "\n",
    "random.seed(random_seed)\n",
    "torch.manual_seed(random_seed)\n",
    "np.random.seed(random_seed)\n",
    "\n",
    "device = resolve_torch_device()\n",
    "\n",
    "generator = torch.Generator()\n",
    "generator.manual_seed(random_seed)"
   ]
  },
  {
   "cell_type": "code",
   "execution_count": 3,
   "metadata": {},
   "outputs": [
    {
     "data": {
      "text/plain": [
       "'Setting num_workers to 1'"
      ]
     },
     "execution_count": 3,
     "metadata": {},
     "output_type": "execute_result"
    }
   ],
   "source": [
    "f\"Setting num_workers to {cpu_count}\""
   ]
  },
  {
   "cell_type": "code",
   "execution_count": 4,
   "metadata": {},
   "outputs": [
    {
     "data": {
      "text/plain": [
       "'Device is cuda'"
      ]
     },
     "execution_count": 4,
     "metadata": {},
     "output_type": "execute_result"
    }
   ],
   "source": [
    "f\"Device is {device}\""
   ]
  },
  {
   "cell_type": "markdown",
   "metadata": {},
   "source": [
    "# Indian pines (Init step greed search)"
   ]
  },
  {
   "cell_type": "markdown",
   "metadata": {},
   "source": [
    "0. Set params"
   ]
  },
  {
   "cell_type": "code",
   "execution_count": 5,
   "metadata": {},
   "outputs": [],
   "source": [
    "examples_per_class = 15\n",
    "epoch_seconds = int(time.time())\n",
    "# epoch_seconds = 1745249041\n",
    "run_name = f\"indian-pines-init-greed-search-{epoch_seconds}\""
   ]
  },
  {
   "cell_type": "markdown",
   "metadata": {},
   "source": [
    "1. Load dataset"
   ]
  },
  {
   "cell_type": "code",
   "execution_count": 6,
   "metadata": {},
   "outputs": [],
   "source": [
    "image, labels = load_indian_pines()"
   ]
  },
  {
   "cell_type": "code",
   "execution_count": 7,
   "metadata": {},
   "outputs": [
    {
     "data": {
      "text/plain": [
       "'Number of classes 17'"
      ]
     },
     "execution_count": 7,
     "metadata": {},
     "output_type": "execute_result"
    }
   ],
   "source": [
    "num_classes = len(np.unique(labels))\n",
    "\n",
    "f\"Number of classes {num_classes}\""
   ]
  },
  {
   "cell_type": "code",
   "execution_count": 8,
   "metadata": {},
   "outputs": [],
   "source": [
    "masked_labels = sample_from_segmentation_matrix(labels, examples_per_class)"
   ]
  },
  {
   "cell_type": "markdown",
   "metadata": {},
   "source": [
    "2. Train model"
   ]
  },
  {
   "cell_type": "code",
   "execution_count": 9,
   "metadata": {},
   "outputs": [],
   "source": [
    "adapter = SpatialRegulatedSelfTrainingPipelineGreedSearchAdapter(\n",
    "    image, masked_labels, labels, num_classes, device, cpu_count, random_seed, generator\n",
    ")"
   ]
  },
  {
   "cell_type": "code",
   "execution_count": 10,
   "metadata": {},
   "outputs": [],
   "source": [
    "log_dir = GREED_SEARCH_FOLDER / run_name"
   ]
  },
  {
   "cell_type": "code",
   "execution_count": 11,
   "metadata": {},
   "outputs": [],
   "source": [
    "search = GreedSearch(\n",
    "    adapter=adapter,\n",
    "    optimize_metric=\"f1_score\",\n",
    "    log_dir=log_dir,\n",
    ")"
   ]
  },
  {
   "cell_type": "code",
   "execution_count": 12,
   "metadata": {},
   "outputs": [
    {
     "name": "stderr",
     "output_type": "stream",
     "text": [
      "7it [4:04:15, 2093.60s/it, high=184, high_score=0.37, low=184, low_score=0.37]\n"
     ]
    }
   ],
   "source": [
    "_, best_params, best_score = search.run()"
   ]
  },
  {
   "cell_type": "code",
   "execution_count": 13,
   "metadata": {},
   "outputs": [
    {
     "name": "stdout",
     "output_type": "stream",
     "text": [
      "Best Params: {'k_values': [18400]}\n",
      "Best Score: [{'overall_accuracy': 0.1667003333568573, 'average_accuracy': 0.523614764213562, 'kappa_score': 0.03330647945404053, 'f1_score': 0.37034767866134644}]\n"
     ]
    }
   ],
   "source": [
    "print(\"Best Params:\", best_params)\n",
    "print(\"Best Score:\", best_score)"
   ]
  },
  {
   "cell_type": "markdown",
   "metadata": {},
   "source": [
    "3. Training results"
   ]
  },
  {
   "cell_type": "code",
   "execution_count": 14,
   "metadata": {},
   "outputs": [
    {
     "data": {
      "text/html": [
       "<div>\n",
       "<style scoped>\n",
       "    .dataframe tbody tr th:only-of-type {\n",
       "        vertical-align: middle;\n",
       "    }\n",
       "\n",
       "    .dataframe tbody tr th {\n",
       "        vertical-align: top;\n",
       "    }\n",
       "\n",
       "    .dataframe thead th {\n",
       "        text-align: right;\n",
       "    }\n",
       "</style>\n",
       "<table border=\"1\" class=\"dataframe\">\n",
       "  <thead>\n",
       "    <tr style=\"text-align: right;\">\n",
       "      <th></th>\n",
       "      <th>k_values</th>\n",
       "      <th>overall_accuracy</th>\n",
       "      <th>average_accuracy</th>\n",
       "      <th>kappa_score</th>\n",
       "      <th>f1_score</th>\n",
       "      <th>best_iteration</th>\n",
       "      <th>best_f1_score</th>\n",
       "    </tr>\n",
       "  </thead>\n",
       "  <tbody>\n",
       "    <tr>\n",
       "      <th>0</th>\n",
       "      <td>[10600]</td>\n",
       "      <td>0.168287</td>\n",
       "      <td>0.524804</td>\n",
       "      <td>0.036831</td>\n",
       "      <td>0.372851</td>\n",
       "      <td>0</td>\n",
       "      <td>0.372851</td>\n",
       "    </tr>\n",
       "    <tr>\n",
       "      <th>1</th>\n",
       "      <td>[15900]</td>\n",
       "      <td>0.167024</td>\n",
       "      <td>0.523615</td>\n",
       "      <td>0.033311</td>\n",
       "      <td>0.370332</td>\n",
       "      <td>0</td>\n",
       "      <td>0.370332</td>\n",
       "    </tr>\n",
       "    <tr>\n",
       "      <th>2</th>\n",
       "      <td>[18400]</td>\n",
       "      <td>0.166700</td>\n",
       "      <td>0.523615</td>\n",
       "      <td>0.033306</td>\n",
       "      <td>0.370348</td>\n",
       "      <td>0</td>\n",
       "      <td>0.370348</td>\n",
       "    </tr>\n",
       "    <tr>\n",
       "      <th>3</th>\n",
       "      <td>[17200]</td>\n",
       "      <td>0.166683</td>\n",
       "      <td>0.523615</td>\n",
       "      <td>0.033307</td>\n",
       "      <td>0.370348</td>\n",
       "      <td>0</td>\n",
       "      <td>0.370348</td>\n",
       "    </tr>\n",
       "    <tr>\n",
       "      <th>4</th>\n",
       "      <td>[17900]</td>\n",
       "      <td>0.166693</td>\n",
       "      <td>0.523615</td>\n",
       "      <td>0.033308</td>\n",
       "      <td>0.370348</td>\n",
       "      <td>0</td>\n",
       "      <td>0.370348</td>\n",
       "    </tr>\n",
       "  </tbody>\n",
       "</table>\n",
       "</div>"
      ],
      "text/plain": [
       "  k_values  overall_accuracy  average_accuracy  kappa_score  f1_score  \\\n",
       "0  [10600]          0.168287          0.524804     0.036831  0.372851   \n",
       "1  [15900]          0.167024          0.523615     0.033311  0.370332   \n",
       "2  [18400]          0.166700          0.523615     0.033306  0.370348   \n",
       "3  [17200]          0.166683          0.523615     0.033307  0.370348   \n",
       "4  [17900]          0.166693          0.523615     0.033308  0.370348   \n",
       "\n",
       "   best_iteration  best_f1_score  \n",
       "0               0       0.372851  \n",
       "1               0       0.370332  \n",
       "2               0       0.370348  \n",
       "3               0       0.370348  \n",
       "4               0       0.370348  "
      ]
     },
     "execution_count": 14,
     "metadata": {},
     "output_type": "execute_result"
    }
   ],
   "source": [
    "csv_files = glob.glob(os.path.join(log_dir, \"*.csv\"))\n",
    "\n",
    "report = pd.concat([pd.read_csv(f) for f in csv_files])\n",
    "\n",
    "report.head()"
   ]
  },
  {
   "cell_type": "code",
   "execution_count": 15,
   "metadata": {},
   "outputs": [
    {
     "data": {
      "text/plain": [
       "7"
      ]
     },
     "execution_count": 15,
     "metadata": {},
     "output_type": "execute_result"
    }
   ],
   "source": [
    "len(report)"
   ]
  },
  {
   "cell_type": "code",
   "execution_count": 16,
   "metadata": {},
   "outputs": [
    {
     "data": {
      "text/html": [
       "<div>\n",
       "<style scoped>\n",
       "    .dataframe tbody tr th:only-of-type {\n",
       "        vertical-align: middle;\n",
       "    }\n",
       "\n",
       "    .dataframe tbody tr th {\n",
       "        vertical-align: top;\n",
       "    }\n",
       "\n",
       "    .dataframe thead th {\n",
       "        text-align: right;\n",
       "    }\n",
       "</style>\n",
       "<table border=\"1\" class=\"dataframe\">\n",
       "  <thead>\n",
       "    <tr style=\"text-align: right;\">\n",
       "      <th></th>\n",
       "      <th>k_values</th>\n",
       "      <th>overall_accuracy</th>\n",
       "      <th>average_accuracy</th>\n",
       "      <th>kappa_score</th>\n",
       "      <th>f1_score</th>\n",
       "      <th>best_iteration</th>\n",
       "      <th>best_f1_score</th>\n",
       "    </tr>\n",
       "  </thead>\n",
       "  <tbody>\n",
       "    <tr>\n",
       "      <th>0</th>\n",
       "      <td>[10600]</td>\n",
       "      <td>0.168287</td>\n",
       "      <td>0.524804</td>\n",
       "      <td>0.036831</td>\n",
       "      <td>0.372851</td>\n",
       "      <td>0</td>\n",
       "      <td>0.372851</td>\n",
       "    </tr>\n",
       "    <tr>\n",
       "      <th>1</th>\n",
       "      <td>[15900]</td>\n",
       "      <td>0.167024</td>\n",
       "      <td>0.523615</td>\n",
       "      <td>0.033311</td>\n",
       "      <td>0.370332</td>\n",
       "      <td>0</td>\n",
       "      <td>0.370332</td>\n",
       "    </tr>\n",
       "    <tr>\n",
       "      <th>4</th>\n",
       "      <td>[17900]</td>\n",
       "      <td>0.166693</td>\n",
       "      <td>0.523615</td>\n",
       "      <td>0.033308</td>\n",
       "      <td>0.370348</td>\n",
       "      <td>0</td>\n",
       "      <td>0.370348</td>\n",
       "    </tr>\n",
       "    <tr>\n",
       "      <th>3</th>\n",
       "      <td>[17200]</td>\n",
       "      <td>0.166683</td>\n",
       "      <td>0.523615</td>\n",
       "      <td>0.033307</td>\n",
       "      <td>0.370348</td>\n",
       "      <td>0</td>\n",
       "      <td>0.370348</td>\n",
       "    </tr>\n",
       "    <tr>\n",
       "      <th>2</th>\n",
       "      <td>[18400]</td>\n",
       "      <td>0.166700</td>\n",
       "      <td>0.523615</td>\n",
       "      <td>0.033306</td>\n",
       "      <td>0.370348</td>\n",
       "      <td>0</td>\n",
       "      <td>0.370348</td>\n",
       "    </tr>\n",
       "  </tbody>\n",
       "</table>\n",
       "</div>"
      ],
      "text/plain": [
       "  k_values  overall_accuracy  average_accuracy  kappa_score  f1_score  \\\n",
       "0  [10600]          0.168287          0.524804     0.036831  0.372851   \n",
       "1  [15900]          0.167024          0.523615     0.033311  0.370332   \n",
       "4  [17900]          0.166693          0.523615     0.033308  0.370348   \n",
       "3  [17200]          0.166683          0.523615     0.033307  0.370348   \n",
       "2  [18400]          0.166700          0.523615     0.033306  0.370348   \n",
       "\n",
       "   best_iteration  best_f1_score  \n",
       "0               0       0.372851  \n",
       "1               0       0.370332  \n",
       "4               0       0.370348  \n",
       "3               0       0.370348  \n",
       "2               0       0.370348  "
      ]
     },
     "execution_count": 16,
     "metadata": {},
     "output_type": "execute_result"
    }
   ],
   "source": [
    "report.sort_values(\"kappa_score\", ascending=False).head()"
   ]
  }
 ],
 "metadata": {
  "kernelspec": {
   "display_name": ".venv",
   "language": "python",
   "name": "python3"
  },
  "language_info": {
   "codemirror_mode": {
    "name": "ipython",
    "version": 3
   },
   "file_extension": ".py",
   "mimetype": "text/x-python",
   "name": "python",
   "nbconvert_exporter": "python",
   "pygments_lexer": "ipython3",
   "version": "3.12.3"
  }
 },
 "nbformat": 4,
 "nbformat_minor": 2
}
