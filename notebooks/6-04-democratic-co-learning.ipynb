{
 "cells": [
  {
   "cell_type": "markdown",
   "metadata": {},
   "source": [
    "# Indiana Pines"
   ]
  },
  {
   "cell_type": "markdown",
   "metadata": {},
   "source": [
    "1. Import dependencies"
   ]
  },
  {
   "cell_type": "code",
   "execution_count": 1,
   "metadata": {},
   "outputs": [],
   "source": [
    "import random\n",
    "import torch\n",
    "import numpy as np\n",
    "\n",
    "import torch.utils.data as data\n",
    "\n",
    "from torch import nn\n",
    "from torch.optim.lr_scheduler import StepLR\n",
    "\n",
    "from src.util.hsi import (\n",
    "    extract_patches,\n",
    "    DimReductionType,\n",
    "    PreProcessType,\n",
    "    preprocess_hsi,\n",
    "    train_test_band_patch_split,\n",
    "    reduce_hsi_dim,\n",
    ")\n",
    "from src.model.lenet import FullyConvolutionalLeNet\n",
    "from src.util.torch import resolve_torch_device\n",
    "from src.data.indian_pines import load_indian_pines\n",
    "from src.visualization.plot import plot_segmentation_comparison, plot_epoch_generic\n",
    "from src.data.dataset_decorator import UnlabeledDatasetDecorator, BinaryDatasetDecorator\n",
    "from src.model.lenet import PuLeNet\n",
    "from src.trainer.multiview_trainer import MultiViewTrainer\n",
    "from src.model.ensemble import MultiViewEnsemble\n",
    "from src.trainer.base_trainer import AdamOptimizedModule\n",
    "from src.trainer.classification_trainer import ClassificationTrainer\n",
    "from src.util.reporting import (\n",
    "    classification_trainer,\n",
    "    create_model_name,\n",
    "    report_run,\n",
    "    read_report_to_show,\n",
    ")\n",
    "from src.trainer.co_learning import DemocraticCoLearningTrainer\n",
    "from src.model.dbda import DBDA\n",
    "from src.model.facto_former import FactoFormer\n",
    "from src.model.fdssc import FDSSC_f\n",
    "from src.model.gscvit import GSCViT\n",
    "from src.model.ssrn import SSRN\n",
    "from src.util.scheduler import CosineLRSchedulerWrapper"
   ]
  },
  {
   "cell_type": "markdown",
   "metadata": {},
   "source": [
    "2. Prepare env"
   ]
  },
  {
   "cell_type": "code",
   "execution_count": 2,
   "metadata": {},
   "outputs": [],
   "source": [
    "y = torch.rand(16, 64)\n",
    "coef, idx = torch.max(y, dim=0)\n"
   ]
  },
  {
   "cell_type": "code",
   "execution_count": 3,
   "metadata": {},
   "outputs": [],
   "source": [
    "batch_size = 32\n",
    "patch_size = 9\n",
    "target_dim = 75\n",
    "\n",
    "pre_process_type = PreProcessType.STANDARTIZATION\n",
    "dim_reduction_type = DimReductionType.PCA"
   ]
  },
  {
   "cell_type": "code",
   "execution_count": 4,
   "metadata": {},
   "outputs": [
    {
     "data": {
      "text/plain": [
       "<torch._C.Generator at 0x7fac51481c10>"
      ]
     },
     "execution_count": 4,
     "metadata": {},
     "output_type": "execute_result"
    }
   ],
   "source": [
    "random_seed = 42\n",
    "\n",
    "random.seed(random_seed)\n",
    "torch.manual_seed(random_seed)\n",
    "np.random.seed(random_seed)\n",
    "\n",
    "device = resolve_torch_device()\n",
    "\n",
    "generator = torch.Generator()\n",
    "generator.manual_seed(random_seed)"
   ]
  },
  {
   "cell_type": "code",
   "execution_count": 5,
   "metadata": {},
   "outputs": [
    {
     "data": {
      "text/plain": [
       "'Device is cuda'"
      ]
     },
     "execution_count": 5,
     "metadata": {},
     "output_type": "execute_result"
    }
   ],
   "source": [
    "f\"Device is {device}\""
   ]
  },
  {
   "cell_type": "markdown",
   "metadata": {},
   "source": [
    "3. Load dataset"
   ]
  },
  {
   "cell_type": "code",
   "execution_count": 6,
   "metadata": {},
   "outputs": [],
   "source": [
    "image, labels = load_indian_pines()\n",
    "\n",
    "image_h, image_w, image_c = image.shape"
   ]
  },
  {
   "cell_type": "code",
   "execution_count": 7,
   "metadata": {},
   "outputs": [],
   "source": [
    "_, image = preprocess_hsi(image, pre_process_type)"
   ]
  },
  {
   "cell_type": "code",
   "execution_count": 8,
   "metadata": {},
   "outputs": [
    {
     "data": {
      "text/plain": [
       "'Number of classes 17'"
      ]
     },
     "execution_count": 8,
     "metadata": {},
     "output_type": "execute_result"
    }
   ],
   "source": [
    "num_classes = len(np.unique(labels))\n",
    "\n",
    "f\"Number of classes {num_classes}\""
   ]
  },
  {
   "cell_type": "code",
   "execution_count": 9,
   "metadata": {},
   "outputs": [],
   "source": [
    "examples_per_class = [20] * num_classes"
   ]
  },
  {
   "cell_type": "markdown",
   "metadata": {},
   "source": [
    "4. Reduce dimensions"
   ]
  },
  {
   "cell_type": "code",
   "execution_count": 10,
   "metadata": {},
   "outputs": [],
   "source": [
    "_, target_dim, image = reduce_hsi_dim(\n",
    "    image, target_dim, dim_reduction_type, device, random_seed\n",
    ")"
   ]
  },
  {
   "cell_type": "markdown",
   "metadata": {},
   "source": [
    "5. Prepare dataset"
   ]
  },
  {
   "cell_type": "code",
   "execution_count": 11,
   "metadata": {},
   "outputs": [],
   "source": [
    "x, y = extract_patches(image, labels, patch_size=patch_size)"
   ]
  },
  {
   "cell_type": "code",
   "execution_count": 12,
   "metadata": {},
   "outputs": [],
   "source": [
    "x_train, y_train, x_test, y_test, y_masked = train_test_band_patch_split(\n",
    "    x, y, examples_per_class, \"indian_pines\"\n",
    ")"
   ]
  },
  {
   "cell_type": "code",
   "execution_count": 13,
   "metadata": {},
   "outputs": [
    {
     "data": {
      "image/png": "[encoded data removed]",
      "text/plain": [
       "<Figure size 1000x500 with 2 Axes>"
      ]
     },
     "metadata": {},
     "output_type": "display_data"
    }
   ],
   "source": [
    "plot_segmentation_comparison(labels, y_masked.reshape(labels.shape), title2=\"Downsampled\")"
   ]
  },
  {
   "cell_type": "code",
   "execution_count": 14,
   "metadata": {},
   "outputs": [
    {
     "data": {
      "text/plain": [
       "(340, 9, 9, 75)"
      ]
     },
     "execution_count": 14,
     "metadata": {},
     "output_type": "execute_result"
    }
   ],
   "source": [
    "x_train.shape"
   ]
  },
  {
   "cell_type": "code",
   "execution_count": 15,
   "metadata": {},
   "outputs": [],
   "source": [
    "x_all = torch.tensor(x, dtype=torch.float32).permute(0, 3, 1, 2)\n",
    "y_all = torch.tensor(y, dtype=torch.long)\n",
    "x_train = torch.tensor(x_train, dtype=torch.float32).permute(0, 3, 1, 2)\n",
    "y_train = torch.tensor(y_train, dtype=torch.long)\n",
    "x_test = torch.tensor(x_test, dtype=torch.float32).permute(0, 3, 1, 2)\n",
    "y_test = torch.tensor(y_test, dtype=torch.long)"
   ]
  },
  {
   "cell_type": "code",
   "execution_count": 16,
   "metadata": {},
   "outputs": [],
   "source": [
    "train_dataset = data.TensorDataset(x_train, y_train)\n",
    "test_dataset = data.TensorDataset(x_test, y_test)\n",
    "full_dataset = data.TensorDataset(x_all, y_all)"
   ]
  },
  {
   "cell_type": "code",
   "execution_count": 17,
   "metadata": {},
   "outputs": [],
   "source": [
    "train_loader = data.DataLoader(\n",
    "    train_dataset,\n",
    "    batch_size=batch_size,\n",
    "    shuffle=True,\n",
    "    generator=generator,\n",
    ")\n",
    "test_loader = data.DataLoader(\n",
    "    test_dataset,\n",
    "    batch_size=batch_size,\n",
    "    shuffle=False,\n",
    "    generator=generator,\n",
    ")\n",
    "unlabeled_loader = data.DataLoader(\n",
    "    UnlabeledDatasetDecorator(test_dataset),\n",
    "    batch_size=batch_size,\n",
    "    shuffle=False,\n",
    "    generator=generator,\n",
    ")\n",
    "full_loader = data.DataLoader(\n",
    "    full_dataset,\n",
    "    batch_size=batch_size,\n",
    "    shuffle=False,\n",
    "    generator=generator,\n",
    ")\n",
    "predict_loader = data.DataLoader(\n",
    "    UnlabeledDatasetDecorator(full_dataset),\n",
    "    batch_size=batch_size,\n",
    "    shuffle=False,\n",
    "    generator=generator,\n",
    ")"
   ]
  },
  {
   "cell_type": "markdown",
   "metadata": {},
   "source": [
    "6. Train semi-supervised model"
   ]
  },
  {
   "cell_type": "code",
   "execution_count": 18,
   "metadata": {},
   "outputs": [
    {
     "name": "stdout",
     "output_type": "stream",
     "text": [
      "FDSSC_f\n"
     ]
    }
   ],
   "source": [
    "num_epochs = 300\n",
    "\n",
    "lenet = AdamOptimizedModule(\n",
    "    FullyConvolutionalLeNet(target_dim, num_classes),\n",
    "    lr=1e-3,\n",
    "    scheduler=lambda opt: StepLR(\n",
    "        opt, step_size=num_epochs // 10, gamma=0.9\n",
    "    ),\n",
    ")\n",
    "\n",
    "lenet_trainer = ClassificationTrainer(\n",
    "    num_epochs=num_epochs,\n",
    "    num_classes=num_classes,\n",
    "    criterion=nn.CrossEntropyLoss(),\n",
    "    device=device,\n",
    "    dl_accumulation_steps=2,\n",
    ")\n",
    "\n",
    "facto_former = AdamOptimizedModule(\n",
    "    FactoFormer(\n",
    "        img_size=[target_dim, patch_size, patch_size],\n",
    "        spatial_patch=[target_dim, 1, 1],\n",
    "        spectral_patch=[1, patch_size, patch_size],\n",
    "        spatial_embed_dim=64,\n",
    "        spectral_embed_dim=32,\n",
    "        bands=target_dim,\n",
    "        n_classes=num_classes,\n",
    "        depth=5,\n",
    "        n_heads=4,\n",
    "        qkv_bias=True,\n",
    "        attn_p=0.3,\n",
    "        proj_p=0.3,\n",
    "    ),\n",
    "    lr=1e-4,\n",
    ")\n",
    "\n",
    "facto_former_trainer = ClassificationTrainer(\n",
    "    num_epochs=num_epochs,\n",
    "    num_classes=num_classes,\n",
    "    criterion=nn.CrossEntropyLoss(),\n",
    "    device=device,\n",
    "    dl_accumulation_steps=2,\n",
    ")\n",
    "\n",
    "gsvit = AdamOptimizedModule(\n",
    "    GSCViT(\n",
    "        num_classes=num_classes,\n",
    "        channels=target_dim,\n",
    "        heads=(16, 16, 16),\n",
    "        depth=(1, 1, 1),\n",
    "        group_spatial_size=[3, 3, 3],\n",
    "        dropout=0.3,\n",
    "        padding=[1, 1, 1],\n",
    "        dims=(256, 128, 64),\n",
    "        num_groups=[8, 8, 8],\n",
    "    ),\n",
    "    lr=1e-4,\n",
    ")\n",
    "\n",
    "gsvit_trainer = ClassificationTrainer(\n",
    "    num_epochs=num_epochs,\n",
    "    num_classes=num_classes,\n",
    "    criterion=nn.CrossEntropyLoss(),\n",
    "    device=device,\n",
    "    dl_accumulation_steps=2,\n",
    ")\n",
    "\n",
    "dbda_lr = 1e-3\n",
    "dbda = AdamOptimizedModule(\n",
    "    DBDA(\n",
    "        band=target_dim,\n",
    "        classes=num_classes,\n",
    "    ),\n",
    "    lr=dbda_lr,\n",
    "    scheduler=lambda optimizer: CosineLRSchedulerWrapper(\n",
    "        optimizer,\n",
    "        t_initial=num_epochs,\n",
    "        lr_min=dbda_lr * 0.01,\n",
    "        warmup_t=int(np.ceil(0.1 * num_epochs)),\n",
    "        warmup_lr_init=dbda_lr * 0.01,\n",
    "    ),\n",
    ")\n",
    "\n",
    "dbda_trainer = ClassificationTrainer(\n",
    "    num_epochs=num_epochs,\n",
    "    num_classes=num_classes,\n",
    "    criterion=nn.CrossEntropyLoss(),\n",
    "    device=device,\n",
    "    dl_accumulation_steps=2,\n",
    ")\n",
    "\n",
    "fdscc = AdamOptimizedModule(\n",
    "    FDSSC_f(\n",
    "        band=target_dim,\n",
    "        classes=num_classes,\n",
    "    ),\n",
    "    lr=1e-4,\n",
    ")\n",
    "\n",
    "fdscc_trainer = ClassificationTrainer(\n",
    "    num_epochs=num_epochs,\n",
    "    num_classes=num_classes,\n",
    "    criterion=nn.CrossEntropyLoss(),\n",
    "    device=device,\n",
    "    dl_accumulation_steps=2,\n",
    ")\n",
    "\n",
    "ssrn = AdamOptimizedModule(\n",
    "    SSRN(\n",
    "        band=target_dim,\n",
    "        classes=num_classes,\n",
    "    ),\n",
    "    lr=1e-3,\n",
    ")\n",
    "\n",
    "ssrn_trainer = ClassificationTrainer(\n",
    "    num_epochs=num_epochs,\n",
    "    num_classes=num_classes,\n",
    "    criterion=nn.CrossEntropyLoss(),\n",
    "    device=device,\n",
    "    dl_accumulation_steps=2,\n",
    ")\n",
    "\n",
    "models = [\n",
    "    lenet,\n",
    "    facto_former,\n",
    "    gsvit,\n",
    "    dbda,\n",
    "    fdscc,\n",
    "    ssrn,\n",
    "]\n",
    "trainers = [\n",
    "    lenet_trainer,\n",
    "    facto_former_trainer,\n",
    "    gsvit_trainer,\n",
    "    dbda_trainer,\n",
    "    fdscc_trainer,\n",
    "    ssrn_trainer,\n",
    "]\n",
    "\n",
    "co_learning = DemocraticCoLearningTrainer(num_classes, device, max_epochs=10)"
   ]
  },
  {
   "cell_type": "code",
   "execution_count": 19,
   "metadata": {},
   "outputs": [],
   "source": [
    "# from torch import Tensor\n",
    "\n",
    "\n",
    "# def choose_new_labels_candidates(\n",
    "#     majority_vote: Tensor, predictions: list[Tensor], weights: list[float]\n",
    "# ) -> list[Tensor]:\n",
    "#     predictions_tensor = torch.stack(predictions)\n",
    "#     agreement_mask = predictions_tensor == majority_vote\n",
    "#     print(agreement_mask)\n",
    "#     disagreement_mask = ~agreement_mask\n",
    "#     weights_tensor = torch.tensor(weights, device=agreement_mask.device).unsqueeze(1)\n",
    "\n",
    "#     agrees = agreement_mask.float() * weights_tensor\n",
    "#     disagrees = disagreement_mask.float() * weights_tensor\n",
    "\n",
    "#     print(agrees)\n",
    "#     print(disagrees)\n",
    "\n",
    "#     agrees_weight = torch.sum(agrees, dim=0)\n",
    "\n",
    "#     print(agrees_weight)\n",
    "\n",
    "#     disagrees_weight = torch.sum(disagrees, dim=0)\n",
    "\n",
    "#     print(disagrees_weight)\n",
    "\n",
    "#     candidates = agrees_weight > disagrees_weight\n",
    "\n",
    "#     print(candidates)\n",
    "\n",
    "#     disagreeing_candidates = disagreement_mask & candidates\n",
    "\n",
    "#     print(disagreeing_candidates)\n",
    "\n",
    "#     return [torch.nonzero(row, as_tuple=True)[0] for row in disagreeing_candidates]\n",
    "\n",
    "\n",
    "# majority_vote = torch.tensor([1, 2, 3, 4, 4])\n",
    "# predictions = [\n",
    "#     torch.tensor([1, 2, 3, 4, 5]),\n",
    "#     torch.tensor([3, 1, 2, 5, 4]),\n",
    "#     torch.tensor([1, 2, 3, 4, 4]),\n",
    "# ]\n",
    "# weights = [1, 1, 1]\n",
    "\n",
    "# choose_new_labels_candidates(majority_vote, predictions, weights)"
   ]
  },
  {
   "cell_type": "code",
   "execution_count": 20,
   "metadata": {},
   "outputs": [
    {
     "data": {
      "application/vnd.jupyter.widget-view+json": {
       "model_id": "59f728382c8f4a6f8b257d1c958dcc1f",
       "version_major": 2,
       "version_minor": 0
      },
      "text/plain": [
       "  0%|          | 0/10 [00:00<?, ?it/s]"
      ]
     },
     "metadata": {},
     "output_type": "display_data"
    },
    {
     "data": {
      "application/vnd.jupyter.widget-view+json": {
       "model_id": "cccfb8ae26f8473b9ad90ddc619b613f",
       "version_major": 2,
       "version_minor": 0
      },
      "text/plain": [
       "  0%|          | 0/300 [00:00<?, ?it/s]"
      ]
     },
     "metadata": {},
     "output_type": "display_data"
    },
    {
     "data": {
      "application/vnd.jupyter.widget-view+json": {
       "model_id": "c238b5909e384376bd1bddacd7339057",
       "version_major": 2,
       "version_minor": 0
      },
      "text/plain": [
       "  0%|          | 0/300 [00:00<?, ?it/s]"
      ]
     },
     "metadata": {},
     "output_type": "display_data"
    },
    {
     "data": {
      "application/vnd.jupyter.widget-view+json": {
       "model_id": "474c90020c4e4ad597ef7167bf39938b",
       "version_major": 2,
       "version_minor": 0
      },
      "text/plain": [
       "  0%|          | 0/300 [00:00<?, ?it/s]"
      ]
     },
     "metadata": {},
     "output_type": "display_data"
    },
    {
     "data": {
      "application/vnd.jupyter.widget-view+json": {
       "model_id": "0b0e667f8230429b8e1e70ecc43d52e6",
       "version_major": 2,
       "version_minor": 0
      },
      "text/plain": [
       "  0%|          | 0/300 [00:00<?, ?it/s]"
      ]
     },
     "metadata": {},
     "output_type": "display_data"
    },
    {
     "data": {
      "application/vnd.jupyter.widget-view+json": {
       "model_id": "dbbbda3b0c02497a87b36c6b66e3b721",
       "version_major": 2,
       "version_minor": 0
      },
      "text/plain": [
       "  0%|          | 0/300 [00:00<?, ?it/s]"
      ]
     },
     "metadata": {},
     "output_type": "display_data"
    },
    {
     "data": {
      "application/vnd.jupyter.widget-view+json": {
       "model_id": "c1b220c34c1f427cad5a5ff0bd8e04f0",
       "version_major": 2,
       "version_minor": 0
      },
      "text/plain": [
       "  0%|          | 0/300 [00:00<?, ?it/s]"
      ]
     },
     "metadata": {},
     "output_type": "display_data"
    },
    {
     "data": {
      "application/vnd.jupyter.widget-view+json": {
       "model_id": "2649afa143e14954aa60f97cc48dd4bc",
       "version_major": 2,
       "version_minor": 0
      },
      "text/plain": [
       "  0%|          | 0/300 [00:00<?, ?it/s]"
      ]
     },
     "metadata": {},
     "output_type": "display_data"
    },
    {
     "data": {
      "application/vnd.jupyter.widget-view+json": {
       "model_id": "e21dc227bdf2455ab2a2078aa8f04c05",
       "version_major": 2,
       "version_minor": 0
      },
      "text/plain": [
       "  0%|          | 0/300 [00:00<?, ?it/s]"
      ]
     },
     "metadata": {},
     "output_type": "display_data"
    },
    {
     "data": {
      "application/vnd.jupyter.widget-view+json": {
       "model_id": "35c9e60f1de0474ab047d0bc3b3b03e9",
       "version_major": 2,
       "version_minor": 0
      },
      "text/plain": [
       "  0%|          | 0/300 [00:00<?, ?it/s]"
      ]
     },
     "metadata": {},
     "output_type": "display_data"
    },
    {
     "data": {
      "application/vnd.jupyter.widget-view+json": {
       "model_id": "dc7d064005234b4ea1c2405c52032ab7",
       "version_major": 2,
       "version_minor": 0
      },
      "text/plain": [
       "  0%|          | 0/300 [00:00<?, ?it/s]"
      ]
     },
     "metadata": {},
     "output_type": "display_data"
    },
    {
     "data": {
      "application/vnd.jupyter.widget-view+json": {
       "model_id": "7876cfc490664b1a9ecdb7549941a3da",
       "version_major": 2,
       "version_minor": 0
      },
      "text/plain": [
       "  0%|          | 0/300 [00:00<?, ?it/s]"
      ]
     },
     "metadata": {},
     "output_type": "display_data"
    },
    {
     "data": {
      "application/vnd.jupyter.widget-view+json": {
       "model_id": "5adaa934645f43c2bdb9a41a51c001dc",
       "version_major": 2,
       "version_minor": 0
      },
      "text/plain": [
       "  0%|          | 0/300 [00:00<?, ?it/s]"
      ]
     },
     "metadata": {},
     "output_type": "display_data"
    },
    {
     "data": {
      "application/vnd.jupyter.widget-view+json": {
       "model_id": "b61ed9f48cd94587afced2f2354c9a6d",
       "version_major": 2,
       "version_minor": 0
      },
      "text/plain": [
       "  0%|          | 0/300 [00:00<?, ?it/s]"
      ]
     },
     "metadata": {},
     "output_type": "display_data"
    },
    {
     "data": {
      "application/vnd.jupyter.widget-view+json": {
       "model_id": "60fade0ea8f94b26a459c5f5a8723f6b",
       "version_major": 2,
       "version_minor": 0
      },
      "text/plain": [
       "  0%|          | 0/300 [00:00<?, ?it/s]"
      ]
     },
     "metadata": {},
     "output_type": "display_data"
    },
    {
     "data": {
      "application/vnd.jupyter.widget-view+json": {
       "model_id": "7bbb1aa17ad14f0488cdb9e22846651b",
       "version_major": 2,
       "version_minor": 0
      },
      "text/plain": [
       "  0%|          | 0/300 [00:00<?, ?it/s]"
      ]
     },
     "metadata": {},
     "output_type": "display_data"
    },
    {
     "data": {
      "application/vnd.jupyter.widget-view+json": {
       "model_id": "88fca9ec6ed5458296677c20f16de14a",
       "version_major": 2,
       "version_minor": 0
      },
      "text/plain": [
       "  0%|          | 0/300 [00:00<?, ?it/s]"
      ]
     },
     "metadata": {},
     "output_type": "display_data"
    },
    {
     "data": {
      "application/vnd.jupyter.widget-view+json": {
       "model_id": "8b1f8bcdb5f64353970c1ce354feec41",
       "version_major": 2,
       "version_minor": 0
      },
      "text/plain": [
       "  0%|          | 0/300 [00:00<?, ?it/s]"
      ]
     },
     "metadata": {},
     "output_type": "display_data"
    },
    {
     "data": {
      "application/vnd.jupyter.widget-view+json": {
       "model_id": "a598db742d374d7aa8ac9b7fb218b2f5",
       "version_major": 2,
       "version_minor": 0
      },
      "text/plain": [
       "  0%|          | 0/300 [00:00<?, ?it/s]"
      ]
     },
     "metadata": {},
     "output_type": "display_data"
    },
    {
     "data": {
      "application/vnd.jupyter.widget-view+json": {
       "model_id": "c6944a750e7a419894f2c2aaea36073f",
       "version_major": 2,
       "version_minor": 0
      },
      "text/plain": [
       "  0%|          | 0/300 [00:00<?, ?it/s]"
      ]
     },
     "metadata": {},
     "output_type": "display_data"
    },
    {
     "data": {
      "application/vnd.jupyter.widget-view+json": {
       "model_id": "da78c79d4bd44b389cd17a14cd8949b5",
       "version_major": 2,
       "version_minor": 0
      },
      "text/plain": [
       "  0%|          | 0/300 [00:00<?, ?it/s]"
      ]
     },
     "metadata": {},
     "output_type": "display_data"
    },
    {
     "data": {
      "application/vnd.jupyter.widget-view+json": {
       "model_id": "18796bf08bcb422da7ec1c50f433c675",
       "version_major": 2,
       "version_minor": 0
      },
      "text/plain": [
       "  0%|          | 0/300 [00:00<?, ?it/s]"
      ]
     },
     "metadata": {},
     "output_type": "display_data"
    },
    {
     "data": {
      "application/vnd.jupyter.widget-view+json": {
       "model_id": "d656ee9ce63d4c14a910f82464054df8",
       "version_major": 2,
       "version_minor": 0
      },
      "text/plain": [
       "  0%|          | 0/300 [00:00<?, ?it/s]"
      ]
     },
     "metadata": {},
     "output_type": "display_data"
    },
    {
     "data": {
      "application/vnd.jupyter.widget-view+json": {
       "model_id": "405d16c727174c72a08ad36e7384acae",
       "version_major": 2,
       "version_minor": 0
      },
      "text/plain": [
       "  0%|          | 0/300 [00:00<?, ?it/s]"
      ]
     },
     "metadata": {},
     "output_type": "display_data"
    },
    {
     "data": {
      "application/vnd.jupyter.widget-view+json": {
       "model_id": "ad0bc5deb4b045be9ba5ce741864ac8b",
       "version_major": 2,
       "version_minor": 0
      },
      "text/plain": [
       "  0%|          | 0/300 [00:00<?, ?it/s]"
      ]
     },
     "metadata": {},
     "output_type": "display_data"
    },
    {
     "data": {
      "application/vnd.jupyter.widget-view+json": {
       "model_id": "a00ad088ece547418acecaf0f92a20e4",
       "version_major": 2,
       "version_minor": 0
      },
      "text/plain": [
       "  0%|          | 0/300 [00:00<?, ?it/s]"
      ]
     },
     "metadata": {},
     "output_type": "display_data"
    },
    {
     "data": {
      "application/vnd.jupyter.widget-view+json": {
       "model_id": "3c3eecf895254361aaafceb418f1457f",
       "version_major": 2,
       "version_minor": 0
      },
      "text/plain": [
       "  0%|          | 0/300 [00:00<?, ?it/s]"
      ]
     },
     "metadata": {},
     "output_type": "display_data"
    },
    {
     "data": {
      "application/vnd.jupyter.widget-view+json": {
       "model_id": "18131cefb10b41c5b33edae6ce89c7de",
       "version_major": 2,
       "version_minor": 0
      },
      "text/plain": [
       "  0%|          | 0/300 [00:00<?, ?it/s]"
      ]
     },
     "metadata": {},
     "output_type": "display_data"
    },
    {
     "data": {
      "application/vnd.jupyter.widget-view+json": {
       "model_id": "cc0bc9717d0d438a83a6ff6c08f32b14",
       "version_major": 2,
       "version_minor": 0
      },
      "text/plain": [
       "  0%|          | 0/300 [00:00<?, ?it/s]"
      ]
     },
     "metadata": {},
     "output_type": "display_data"
    },
    {
     "data": {
      "application/vnd.jupyter.widget-view+json": {
       "model_id": "311af90a398f4472b19004180e13e284",
       "version_major": 2,
       "version_minor": 0
      },
      "text/plain": [
       "  0%|          | 0/300 [00:00<?, ?it/s]"
      ]
     },
     "metadata": {},
     "output_type": "display_data"
    },
    {
     "data": {
      "application/vnd.jupyter.widget-view+json": {
       "model_id": "3d8014c829484a7a92f92eb1563734e1",
       "version_major": 2,
       "version_minor": 0
      },
      "text/plain": [
       "  0%|          | 0/300 [00:00<?, ?it/s]"
      ]
     },
     "metadata": {},
     "output_type": "display_data"
    },
    {
     "data": {
      "application/vnd.jupyter.widget-view+json": {
       "model_id": "e883e93c654444428ac295e28a0bf225",
       "version_major": 2,
       "version_minor": 0
      },
      "text/plain": [
       "  0%|          | 0/300 [00:00<?, ?it/s]"
      ]
     },
     "metadata": {},
     "output_type": "display_data"
    },
    {
     "data": {
      "application/vnd.jupyter.widget-view+json": {
       "model_id": "c2cc294b7fa54f1e97dabdb0ea056295",
       "version_major": 2,
       "version_minor": 0
      },
      "text/plain": [
       "  0%|          | 0/300 [00:00<?, ?it/s]"
      ]
     },
     "metadata": {},
     "output_type": "display_data"
    },
    {
     "data": {
      "application/vnd.jupyter.widget-view+json": {
       "model_id": "04920fac28854a2983977f531bab247a",
       "version_major": 2,
       "version_minor": 0
      },
      "text/plain": [
       "  0%|          | 0/300 [00:00<?, ?it/s]"
      ]
     },
     "metadata": {},
     "output_type": "display_data"
    },
    {
     "data": {
      "application/vnd.jupyter.widget-view+json": {
       "model_id": "f9526a050c5745fbacfd9eb0b8cc6a50",
       "version_major": 2,
       "version_minor": 0
      },
      "text/plain": [
       "  0%|          | 0/300 [00:00<?, ?it/s]"
      ]
     },
     "metadata": {},
     "output_type": "display_data"
    },
    {
     "data": {
      "application/vnd.jupyter.widget-view+json": {
       "model_id": "e19e267c662d4fbf8a513588277cc079",
       "version_major": 2,
       "version_minor": 0
      },
      "text/plain": [
       "  0%|          | 0/300 [00:00<?, ?it/s]"
      ]
     },
     "metadata": {},
     "output_type": "display_data"
    },
    {
     "data": {
      "application/vnd.jupyter.widget-view+json": {
       "model_id": "2c26168b85164c47a331e7a875c9aac1",
       "version_major": 2,
       "version_minor": 0
      },
      "text/plain": [
       "  0%|          | 0/300 [00:00<?, ?it/s]"
      ]
     },
     "metadata": {},
     "output_type": "display_data"
    },
    {
     "data": {
      "application/vnd.jupyter.widget-view+json": {
       "model_id": "aca637b8e3654f09a368efb08910d794",
       "version_major": 2,
       "version_minor": 0
      },
      "text/plain": [
       "  0%|          | 0/300 [00:00<?, ?it/s]"
      ]
     },
     "metadata": {},
     "output_type": "display_data"
    },
    {
     "data": {
      "application/vnd.jupyter.widget-view+json": {
       "model_id": "bf7b1952d8e141e484a7e9411a76e424",
       "version_major": 2,
       "version_minor": 0
      },
      "text/plain": [
       "  0%|          | 0/300 [00:00<?, ?it/s]"
      ]
     },
     "metadata": {},
     "output_type": "display_data"
    },
    {
     "data": {
      "application/vnd.jupyter.widget-view+json": {
       "model_id": "844c7854a8a54a0ca83260870a4ae757",
       "version_major": 2,
       "version_minor": 0
      },
      "text/plain": [
       "  0%|          | 0/300 [00:00<?, ?it/s]"
      ]
     },
     "metadata": {},
     "output_type": "display_data"
    },
    {
     "data": {
      "application/vnd.jupyter.widget-view+json": {
       "model_id": "ba4958735c714b6785ad4ee99bce7b85",
       "version_major": 2,
       "version_minor": 0
      },
      "text/plain": [
       "  0%|          | 0/300 [00:00<?, ?it/s]"
      ]
     },
     "metadata": {},
     "output_type": "display_data"
    },
    {
     "data": {
      "application/vnd.jupyter.widget-view+json": {
       "model_id": "870e7dcc8196472caaae1a3f680ed198",
       "version_major": 2,
       "version_minor": 0
      },
      "text/plain": [
       "  0%|          | 0/300 [00:00<?, ?it/s]"
      ]
     },
     "metadata": {},
     "output_type": "display_data"
    },
    {
     "data": {
      "application/vnd.jupyter.widget-view+json": {
       "model_id": "4fcdf3b3ce944a018e41ea1a70081f0a",
       "version_major": 2,
       "version_minor": 0
      },
      "text/plain": [
       "  0%|          | 0/300 [00:00<?, ?it/s]"
      ]
     },
     "metadata": {},
     "output_type": "display_data"
    },
    {
     "data": {
      "application/vnd.jupyter.widget-view+json": {
       "model_id": "b558c57b44894d59810f8ebc13053d25",
       "version_major": 2,
       "version_minor": 0
      },
      "text/plain": [
       "  0%|          | 0/300 [00:00<?, ?it/s]"
      ]
     },
     "metadata": {},
     "output_type": "display_data"
    },
    {
     "data": {
      "application/vnd.jupyter.widget-view+json": {
       "model_id": "8ebd9d4108d14317977e28e63126d2a1",
       "version_major": 2,
       "version_minor": 0
      },
      "text/plain": [
       "  0%|          | 0/300 [00:00<?, ?it/s]"
      ]
     },
     "metadata": {},
     "output_type": "display_data"
    },
    {
     "data": {
      "application/vnd.jupyter.widget-view+json": {
       "model_id": "4a695e124df047b09422931e742138d5",
       "version_major": 2,
       "version_minor": 0
      },
      "text/plain": [
       "  0%|          | 0/300 [00:00<?, ?it/s]"
      ]
     },
     "metadata": {},
     "output_type": "display_data"
    },
    {
     "data": {
      "application/vnd.jupyter.widget-view+json": {
       "model_id": "7c6b20108b394bf49666e562706ad225",
       "version_major": 2,
       "version_minor": 0
      },
      "text/plain": [
       "  0%|          | 0/300 [00:00<?, ?it/s]"
      ]
     },
     "metadata": {},
     "output_type": "display_data"
    },
    {
     "data": {
      "application/vnd.jupyter.widget-view+json": {
       "model_id": "8b23e77d71424a88a1bfa7459124b400",
       "version_major": 2,
       "version_minor": 0
      },
      "text/plain": [
       "  0%|          | 0/300 [00:00<?, ?it/s]"
      ]
     },
     "metadata": {},
     "output_type": "display_data"
    },
    {
     "data": {
      "application/vnd.jupyter.widget-view+json": {
       "model_id": "b9bd280cb4bd434e8acd8611b0cbe50d",
       "version_major": 2,
       "version_minor": 0
      },
      "text/plain": [
       "  0%|          | 0/300 [00:00<?, ?it/s]"
      ]
     },
     "metadata": {},
     "output_type": "display_data"
    },
    {
     "data": {
      "application/vnd.jupyter.widget-view+json": {
       "model_id": "19be2d46422f404680ca296d80999e4c",
       "version_major": 2,
       "version_minor": 0
      },
      "text/plain": [
       "  0%|          | 0/300 [00:00<?, ?it/s]"
      ]
     },
     "metadata": {},
     "output_type": "display_data"
    },
    {
     "data": {
      "application/vnd.jupyter.widget-view+json": {
       "model_id": "8a32d2cb6603435fbfa0965794d23d88",
       "version_major": 2,
       "version_minor": 0
      },
      "text/plain": [
       "  0%|          | 0/300 [00:00<?, ?it/s]"
      ]
     },
     "metadata": {},
     "output_type": "display_data"
    },
    {
     "data": {
      "application/vnd.jupyter.widget-view+json": {
       "model_id": "3eecae6c516b45b68879e62b4127aff9",
       "version_major": 2,
       "version_minor": 0
      },
      "text/plain": [
       "  0%|          | 0/300 [00:00<?, ?it/s]"
      ]
     },
     "metadata": {},
     "output_type": "display_data"
    },
    {
     "data": {
      "application/vnd.jupyter.widget-view+json": {
       "model_id": "9157bcb677814a11a9c067224af8366b",
       "version_major": 2,
       "version_minor": 0
      },
      "text/plain": [
       "  0%|          | 0/300 [00:00<?, ?it/s]"
      ]
     },
     "metadata": {},
     "output_type": "display_data"
    },
    {
     "data": {
      "application/vnd.jupyter.widget-view+json": {
       "model_id": "1932ac606bcd47c18500ed7c1d3e5347",
       "version_major": 2,
       "version_minor": 0
      },
      "text/plain": [
       "  0%|          | 0/300 [00:00<?, ?it/s]"
      ]
     },
     "metadata": {},
     "output_type": "display_data"
    },
    {
     "data": {
      "application/vnd.jupyter.widget-view+json": {
       "model_id": "49163bf4abf142a085afefea31d32a8e",
       "version_major": 2,
       "version_minor": 0
      },
      "text/plain": [
       "  0%|          | 0/300 [00:00<?, ?it/s]"
      ]
     },
     "metadata": {},
     "output_type": "display_data"
    },
    {
     "data": {
      "application/vnd.jupyter.widget-view+json": {
       "model_id": "d4f0739d8c7e491d87f565b274b9cdd7",
       "version_major": 2,
       "version_minor": 0
      },
      "text/plain": [
       "  0%|          | 0/300 [00:00<?, ?it/s]"
      ]
     },
     "metadata": {},
     "output_type": "display_data"
    },
    {
     "data": {
      "application/vnd.jupyter.widget-view+json": {
       "model_id": "569ad94b626f421cb2f28a9b89e9cf60",
       "version_major": 2,
       "version_minor": 0
      },
      "text/plain": [
       "  0%|          | 0/300 [00:00<?, ?it/s]"
      ]
     },
     "metadata": {},
     "output_type": "display_data"
    },
    {
     "data": {
      "application/vnd.jupyter.widget-view+json": {
       "model_id": "013e3fff1f1045218aa5f0d0f41a55d3",
       "version_major": 2,
       "version_minor": 0
      },
      "text/plain": [
       "  0%|          | 0/300 [00:00<?, ?it/s]"
      ]
     },
     "metadata": {},
     "output_type": "display_data"
    },
    {
     "data": {
      "application/vnd.jupyter.widget-view+json": {
       "model_id": "72d968461d1141e29ff572dd5661def6",
       "version_major": 2,
       "version_minor": 0
      },
      "text/plain": [
       "  0%|          | 0/300 [00:00<?, ?it/s]"
      ]
     },
     "metadata": {},
     "output_type": "display_data"
    },
    {
     "data": {
      "application/vnd.jupyter.widget-view+json": {
       "model_id": "9b69056282364601bc0457706e46ae99",
       "version_major": 2,
       "version_minor": 0
      },
      "text/plain": [
       "  0%|          | 0/300 [00:00<?, ?it/s]"
      ]
     },
     "metadata": {},
     "output_type": "display_data"
    },
    {
     "data": {
      "application/vnd.jupyter.widget-view+json": {
       "model_id": "c2ca2c68344e4c41bb516a3f851f0767",
       "version_major": 2,
       "version_minor": 0
      },
      "text/plain": [
       "  0%|          | 0/300 [00:00<?, ?it/s]"
      ]
     },
     "metadata": {},
     "output_type": "display_data"
    }
   ],
   "source": [
    "history, co_learned = co_learning.fit(\n",
    "    models=models,\n",
    "    trainers=trainers,\n",
    "    labeled=train_loader,\n",
    "    unlabeled=unlabeled_loader,\n",
    "    eval_dataloader=test_loader,\n",
    ")"
   ]
  },
  {
   "cell_type": "code",
   "execution_count": 31,
   "metadata": {},
   "outputs": [
    {
     "data": {
      "image/png": "[encoded data removed]",
      "text/plain": [
       "<Figure size 1200x600 with 1 Axes>"
      ]
     },
     "metadata": {},
     "output_type": "display_data"
    }
   ],
   "source": [
    "plot_epoch_generic([it[\"eval_accuracy_overall\"] for it in history], desc=\"accuracy\")"
   ]
  },
  {
   "cell_type": "code",
   "execution_count": 23,
   "metadata": {},
   "outputs": [
    {
     "data": {
      "text/plain": [
       "{'eval_f1': 0.6239833831787109,\n",
       " 'eval_accuracy_overall': 0.9092147946357727,\n",
       " 'eval_accuracy_avg': 0.6318192481994629,\n",
       " 'eval_kappa': 0.5678752660751343}"
      ]
     },
     "execution_count": 23,
     "metadata": {},
     "output_type": "execute_result"
    }
   ],
   "source": [
    "validation_result = co_learning.validate(co_learned, full_loader)\n",
    "\n",
    "validation_result"
   ]
  },
  {
   "cell_type": "code",
   "execution_count": 24,
   "metadata": {},
   "outputs": [
    {
     "data": {
      "image/png": "[encoded data removed]",
      "text/plain": [
       "<Figure size 1000x500 with 2 Axes>"
      ]
     },
     "metadata": {},
     "output_type": "display_data"
    }
   ],
   "source": [
    "_, y_pred = co_learning.predict(co_learned, predict_loader)\n",
    "y_pred = torch.cat(y_pred, dim=0)\n",
    "y_pred = y_pred.reshape(image_h, image_w)\n",
    "\n",
    "plot_segmentation_comparison(labels, y_pred.cpu().numpy())"
   ]
  },
  {
   "cell_type": "markdown",
   "metadata": {},
   "source": [
    "6. Write report"
   ]
  },
  {
   "cell_type": "code",
   "execution_count": 25,
   "metadata": {},
   "outputs": [
    {
     "data": {
      "text/plain": [
       "PosixPath('/home/melal/Workspace/spatial-regulated-self-training/reports/runs/indian_pines__2020202020202020202020202020202020.csv')"
      ]
     },
     "execution_count": 25,
     "metadata": {},
     "output_type": "execute_result"
    }
   ],
   "source": [
    "model_name = create_model_name(\"indian_pines_\", examples_per_class)\n",
    "model_category = \"democratic_co_learning\"\n",
    "\n",
    "run_params = {\n",
    "    \"num_epochs\": num_epochs,\n",
    "    \"batch_size\": batch_size,\n",
    "    \"patch_size\": patch_size,\n",
    "    \"target_dim\": target_dim,\n",
    "    \"pre_process_type\": str(pre_process_type),\n",
    "    \"dim_reduction_type\": str(dim_reduction_type),\n",
    "}\n",
    "\n",
    "report_run(\n",
    "    model_name=model_name,\n",
    "    model_category=model_category,\n",
    "    run_desc=\"Max 10 epochs\",\n",
    "    run_params=[run_params | it.get_params() for it in models],\n",
    "    run_metrics=classification_trainer(validation_result),\n",
    ")"
   ]
  },
  {
   "cell_type": "code",
   "execution_count": 32,
   "metadata": {},
   "outputs": [
    {
     "data": {
      "text/html": [
       "<div>\n",
       "<style scoped>\n",
       "    .dataframe tbody tr th:only-of-type {\n",
       "        vertical-align: middle;\n",
       "    }\n",
       "\n",
       "    .dataframe tbody tr th {\n",
       "        vertical-align: top;\n",
       "    }\n",
       "\n",
       "    .dataframe thead th {\n",
       "        text-align: right;\n",
       "    }\n",
       "</style>\n",
       "<table border=\"1\" class=\"dataframe\">\n",
       "  <thead>\n",
       "    <tr style=\"text-align: right;\">\n",
       "      <th></th>\n",
       "      <th>timestamp</th>\n",
       "      <th>model_category</th>\n",
       "      <th>run_desc</th>\n",
       "      <th>params</th>\n",
       "      <th>loss</th>\n",
       "      <th>f1</th>\n",
       "      <th>OA</th>\n",
       "      <th>AA</th>\n",
       "      <th>kappa</th>\n",
       "    </tr>\n",
       "  </thead>\n",
       "  <tbody>\n",
       "    <tr>\n",
       "      <th>6</th>\n",
       "      <td>2025-05-24T23:39:51.672671+00:00</td>\n",
       "      <td>lenet</td>\n",
       "      <td>More epochs, PCA and scheduler</td>\n",
       "      <td>{\"learning_rate\": 0.001, \"num_epochs\": 300, \"b...</td>\n",
       "      <td>2.497706</td>\n",
       "      <td>0.462771</td>\n",
       "      <td>2.424388e+33</td>\n",
       "      <td>0.457883</td>\n",
       "      <td>NaN</td>\n",
       "    </tr>\n",
       "    <tr>\n",
       "      <th>53</th>\n",
       "      <td>2025-05-28T15:49:18.248456+00:00</td>\n",
       "      <td>democratic_co_learning</td>\n",
       "      <td>Max 10 epochs</td>\n",
       "      <td>[{\"num_epochs\": 300, \"batch_size\": 32, \"patch_...</td>\n",
       "      <td>NaN</td>\n",
       "      <td>0.623983</td>\n",
       "      <td>9.092148e-01</td>\n",
       "      <td>0.631819</td>\n",
       "      <td>0.567875</td>\n",
       "    </tr>\n",
       "    <tr>\n",
       "      <th>44</th>\n",
       "      <td>2025-05-27T00:09:37.873340+00:00</td>\n",
       "      <td>lenet_co_training</td>\n",
       "      <td>Less epochs, no scheduling</td>\n",
       "      <td>{\"learning_rate\": 0.001, \"num_epochs\": 20, \"ba...</td>\n",
       "      <td>2.825143</td>\n",
       "      <td>0.313785</td>\n",
       "      <td>8.071435e-01</td>\n",
       "      <td>0.392818</td>\n",
       "      <td>0.350767</td>\n",
       "    </tr>\n",
       "    <tr>\n",
       "      <th>23</th>\n",
       "      <td>2025-05-25T15:52:03.734232+00:00</td>\n",
       "      <td>lenet_co_training</td>\n",
       "      <td>Default run</td>\n",
       "      <td>{\"learning_rate\": 0.001, \"num_epochs\": 300, \"b...</td>\n",
       "      <td>2.826677</td>\n",
       "      <td>0.195459</td>\n",
       "      <td>6.889482e-01</td>\n",
       "      <td>0.286706</td>\n",
       "      <td>0.255198</td>\n",
       "    </tr>\n",
       "    <tr>\n",
       "      <th>24</th>\n",
       "      <td>2025-05-25T16:13:53.131416+00:00</td>\n",
       "      <td>lenet_co_training</td>\n",
       "      <td>Less epochs, no scheduling</td>\n",
       "      <td>{\"learning_rate\": 0.001, \"num_epochs\": 30, \"ba...</td>\n",
       "      <td>2.827521</td>\n",
       "      <td>0.147750</td>\n",
       "      <td>6.770636e-01</td>\n",
       "      <td>0.252176</td>\n",
       "      <td>0.225479</td>\n",
       "    </tr>\n",
       "    <tr>\n",
       "      <th>43</th>\n",
       "      <td>2025-05-26T18:04:18.361995+00:00</td>\n",
       "      <td>gsvit</td>\n",
       "      <td>More dropout, PCA</td>\n",
       "      <td>{\"group_spatial_size\": [3, 3, 3], \"dropout\": 0...</td>\n",
       "      <td>0.849760</td>\n",
       "      <td>0.666169</td>\n",
       "      <td>6.166382e-01</td>\n",
       "      <td>0.684423</td>\n",
       "      <td>0.243633</td>\n",
       "    </tr>\n",
       "    <tr>\n",
       "      <th>42</th>\n",
       "      <td>2025-05-26T17:57:44.884483+00:00</td>\n",
       "      <td>gsvit</td>\n",
       "      <td>More dropout, PCA</td>\n",
       "      <td>{\"group_spatial_size\": [3, 3, 3], \"dropout\": 0...</td>\n",
       "      <td>1.363228</td>\n",
       "      <td>0.581219</td>\n",
       "      <td>5.302057e-01</td>\n",
       "      <td>0.617788</td>\n",
       "      <td>0.171814</td>\n",
       "    </tr>\n",
       "    <tr>\n",
       "      <th>41</th>\n",
       "      <td>2025-05-26T13:36:49.598137+00:00</td>\n",
       "      <td>dbda</td>\n",
       "      <td>Add PCA, scheduler, bigger lr</td>\n",
       "      <td>{\"learning_rate\": 0.001, \"weight_decay\": 0, \"n...</td>\n",
       "      <td>3.049507</td>\n",
       "      <td>0.684335</td>\n",
       "      <td>4.947623e-01</td>\n",
       "      <td>0.657646</td>\n",
       "      <td>0.478008</td>\n",
       "    </tr>\n",
       "    <tr>\n",
       "      <th>37</th>\n",
       "      <td>2025-05-26T10:53:25.065429+00:00</td>\n",
       "      <td>fdssc</td>\n",
       "      <td>Default run</td>\n",
       "      <td>{\"learning_rate\": 0.0001, \"weight_decay\": 0, \"...</td>\n",
       "      <td>1.341803</td>\n",
       "      <td>0.670137</td>\n",
       "      <td>4.786997e-01</td>\n",
       "      <td>0.650464</td>\n",
       "      <td>0.480878</td>\n",
       "    </tr>\n",
       "    <tr>\n",
       "      <th>39</th>\n",
       "      <td>2025-05-26T13:19:18.177604+00:00</td>\n",
       "      <td>dbda</td>\n",
       "      <td>Add PCA</td>\n",
       "      <td>{\"learning_rate\": 0.0001, \"weight_decay\": 0, \"...</td>\n",
       "      <td>1.579928</td>\n",
       "      <td>0.672000</td>\n",
       "      <td>4.676890e-01</td>\n",
       "      <td>0.644138</td>\n",
       "      <td>0.468405</td>\n",
       "    </tr>\n",
       "    <tr>\n",
       "      <th>48</th>\n",
       "      <td>2025-05-27T14:30:47.867891+00:00</td>\n",
       "      <td>fdssc</td>\n",
       "      <td>Scheduler for loss, larger lr</td>\n",
       "      <td>{\"num_epochs\": 300, \"batch_size\": 64, \"patch_s...</td>\n",
       "      <td>1.641746</td>\n",
       "      <td>0.656210</td>\n",
       "      <td>4.636437e-01</td>\n",
       "      <td>0.636766</td>\n",
       "      <td>0.471007</td>\n",
       "    </tr>\n",
       "    <tr>\n",
       "      <th>36</th>\n",
       "      <td>2025-05-25T23:33:57.452646+00:00</td>\n",
       "      <td>dbda</td>\n",
       "      <td>Default run</td>\n",
       "      <td>{\"learning_rate\": 0.0001, \"weight_decay\": 0, \"...</td>\n",
       "      <td>1.600769</td>\n",
       "      <td>0.661525</td>\n",
       "      <td>4.561908e-01</td>\n",
       "      <td>0.630725</td>\n",
       "      <td>0.466202</td>\n",
       "    </tr>\n",
       "    <tr>\n",
       "      <th>50</th>\n",
       "      <td>2025-05-27T14:43:20.597565+00:00</td>\n",
       "      <td>ssrn</td>\n",
       "      <td>Larger lr</td>\n",
       "      <td>{\"num_epochs\": 300, \"batch_size\": 64, \"patch_s...</td>\n",
       "      <td>1.749286</td>\n",
       "      <td>0.677324</td>\n",
       "      <td>4.521383e-01</td>\n",
       "      <td>0.650987</td>\n",
       "      <td>0.475914</td>\n",
       "    </tr>\n",
       "    <tr>\n",
       "      <th>49</th>\n",
       "      <td>2025-05-27T14:39:29.850243+00:00</td>\n",
       "      <td>fdssc</td>\n",
       "      <td>Larger lr</td>\n",
       "      <td>{\"num_epochs\": 300, \"batch_size\": 64, \"patch_s...</td>\n",
       "      <td>2.278236</td>\n",
       "      <td>0.645094</td>\n",
       "      <td>4.456609e-01</td>\n",
       "      <td>0.624590</td>\n",
       "      <td>0.461505</td>\n",
       "    </tr>\n",
       "    <tr>\n",
       "      <th>40</th>\n",
       "      <td>2025-05-26T13:35:13.284522+00:00</td>\n",
       "      <td>dbda</td>\n",
       "      <td>Add PCA, scheduler</td>\n",
       "      <td>{\"learning_rate\": 0.0001, \"weight_decay\": 0, \"...</td>\n",
       "      <td>1.308922</td>\n",
       "      <td>0.651018</td>\n",
       "      <td>4.426903e-01</td>\n",
       "      <td>0.620404</td>\n",
       "      <td>0.443848</td>\n",
       "    </tr>\n",
       "    <tr>\n",
       "      <th>46</th>\n",
       "      <td>2025-05-27T14:27:12.497711+00:00</td>\n",
       "      <td>fdssc</td>\n",
       "      <td>Scheduler for val_loss</td>\n",
       "      <td>{\"num_epochs\": 300, \"batch_size\": 64, \"patch_s...</td>\n",
       "      <td>1.391315</td>\n",
       "      <td>0.638199</td>\n",
       "      <td>4.321836e-01</td>\n",
       "      <td>0.617503</td>\n",
       "      <td>0.453314</td>\n",
       "    </tr>\n",
       "    <tr>\n",
       "      <th>22</th>\n",
       "      <td>2025-05-25T14:39:13.847478+00:00</td>\n",
       "      <td>specteal_former_co_training</td>\n",
       "      <td>Default run</td>\n",
       "      <td>{\"hidden_dim\": 32, \"num_layers\": 5, \"num_heads...</td>\n",
       "      <td>2.814270</td>\n",
       "      <td>0.179225</td>\n",
       "      <td>4.305314e-01</td>\n",
       "      <td>0.176266</td>\n",
       "      <td>0.130307</td>\n",
       "    </tr>\n",
       "    <tr>\n",
       "      <th>47</th>\n",
       "      <td>2025-05-27T14:29:28.344003+00:00</td>\n",
       "      <td>fdssc</td>\n",
       "      <td>Scheduler for loss</td>\n",
       "      <td>{\"num_epochs\": 300, \"batch_size\": 64, \"patch_s...</td>\n",
       "      <td>1.406228</td>\n",
       "      <td>0.632592</td>\n",
       "      <td>4.262406e-01</td>\n",
       "      <td>0.612509</td>\n",
       "      <td>0.448813</td>\n",
       "    </tr>\n",
       "    <tr>\n",
       "      <th>51</th>\n",
       "      <td>2025-05-27T14:49:03.581118+00:00</td>\n",
       "      <td>ssrn</td>\n",
       "      <td>Larger lr, scheduler</td>\n",
       "      <td>{\"num_epochs\": 300, \"batch_size\": 64, \"patch_s...</td>\n",
       "      <td>1.700081</td>\n",
       "      <td>0.637689</td>\n",
       "      <td>4.097105e-01</td>\n",
       "      <td>0.610987</td>\n",
       "      <td>0.454518</td>\n",
       "    </tr>\n",
       "    <tr>\n",
       "      <th>34</th>\n",
       "      <td>2025-05-25T22:38:49.667274+00:00</td>\n",
       "      <td>gsvit</td>\n",
       "      <td>More dropout, PCA</td>\n",
       "      <td>{\"group_spatial_size\": [3, 3, 3], \"dropout\": 0...</td>\n",
       "      <td>1.796985</td>\n",
       "      <td>0.630547</td>\n",
       "      <td>3.905122e-01</td>\n",
       "      <td>0.602711</td>\n",
       "      <td>0.433849</td>\n",
       "    </tr>\n",
       "    <tr>\n",
       "      <th>33</th>\n",
       "      <td>2025-05-25T22:37:26.348140+00:00</td>\n",
       "      <td>gsvit</td>\n",
       "      <td>More dropout</td>\n",
       "      <td>{\"group_spatial_size\": [3, 3, 3], \"dropout\": 0...</td>\n",
       "      <td>2.059639</td>\n",
       "      <td>0.574772</td>\n",
       "      <td>3.694175e-01</td>\n",
       "      <td>0.553436</td>\n",
       "      <td>0.388018</td>\n",
       "    </tr>\n",
       "    <tr>\n",
       "      <th>32</th>\n",
       "      <td>2025-05-25T22:31:59.825713+00:00</td>\n",
       "      <td>gsvit</td>\n",
       "      <td>Default run</td>\n",
       "      <td>{\"group_spatial_size\": [3, 3, 3], \"dropout\": 0...</td>\n",
       "      <td>2.053219</td>\n",
       "      <td>0.562529</td>\n",
       "      <td>3.620150e-01</td>\n",
       "      <td>0.538407</td>\n",
       "      <td>0.369482</td>\n",
       "    </tr>\n",
       "    <tr>\n",
       "      <th>35</th>\n",
       "      <td>2025-05-25T22:44:10.977863+00:00</td>\n",
       "      <td>facto_former</td>\n",
       "      <td>Add PCA, more dropout, bigger patch</td>\n",
       "      <td>{\"spatial_embed_dim\": 64, \"spectral_embed_dim\"...</td>\n",
       "      <td>2.458054</td>\n",
       "      <td>0.622702</td>\n",
       "      <td>3.517288e-01</td>\n",
       "      <td>0.590297</td>\n",
       "      <td>0.420221</td>\n",
       "    </tr>\n",
       "    <tr>\n",
       "      <th>38</th>\n",
       "      <td>2025-05-26T12:10:45.981069+00:00</td>\n",
       "      <td>ssrn</td>\n",
       "      <td>Default run</td>\n",
       "      <td>{\"learning_rate\": 0.0001, \"weight_decay\": 0, \"...</td>\n",
       "      <td>1.591642</td>\n",
       "      <td>0.593839</td>\n",
       "      <td>3.335705e-01</td>\n",
       "      <td>0.562996</td>\n",
       "      <td>0.407638</td>\n",
       "    </tr>\n",
       "    <tr>\n",
       "      <th>21</th>\n",
       "      <td>2025-05-25T13:49:18.465537+00:00</td>\n",
       "      <td>specteal_former</td>\n",
       "      <td>With scheduling, incresed dropout and weight d...</td>\n",
       "      <td>{\"hidden_dim\": 64, \"num_layers\": 5, \"num_heads...</td>\n",
       "      <td>1.709462</td>\n",
       "      <td>0.629933</td>\n",
       "      <td>3.285941e-01</td>\n",
       "      <td>0.592009</td>\n",
       "      <td>0.428213</td>\n",
       "    </tr>\n",
       "    <tr>\n",
       "      <th>19</th>\n",
       "      <td>2025-05-25T13:11:09.295934+00:00</td>\n",
       "      <td>specteal_former</td>\n",
       "      <td>With scheduling, incresed dropout</td>\n",
       "      <td>{\"hidden_dim\": 64, \"num_layers\": 5, \"num_heads...</td>\n",
       "      <td>1.884388</td>\n",
       "      <td>0.610363</td>\n",
       "      <td>3.212764e-01</td>\n",
       "      <td>0.573888</td>\n",
       "      <td>0.418024</td>\n",
       "    </tr>\n",
       "    <tr>\n",
       "      <th>26</th>\n",
       "      <td>2025-05-25T20:32:27.231494+00:00</td>\n",
       "      <td>facto_former</td>\n",
       "      <td>Default run</td>\n",
       "      <td>{\"spatial_embed_dim\": 64, \"spectral_embed_dim\"...</td>\n",
       "      <td>2.480875</td>\n",
       "      <td>0.605703</td>\n",
       "      <td>3.172534e-01</td>\n",
       "      <td>0.563092</td>\n",
       "      <td>0.405921</td>\n",
       "    </tr>\n",
       "    <tr>\n",
       "      <th>17</th>\n",
       "      <td>2025-05-25T12:28:13.957191+00:00</td>\n",
       "      <td>specteal_former</td>\n",
       "      <td>With scheduling</td>\n",
       "      <td>{\"hidden_dim\": 64, \"num_layers\": 5, \"num_heads...</td>\n",
       "      <td>2.039043</td>\n",
       "      <td>0.588829</td>\n",
       "      <td>3.162847e-01</td>\n",
       "      <td>0.557241</td>\n",
       "      <td>0.407733</td>\n",
       "    </tr>\n",
       "    <tr>\n",
       "      <th>18</th>\n",
       "      <td>2025-05-25T12:48:49.301608+00:00</td>\n",
       "      <td>specteal_former</td>\n",
       "      <td>With scheduling, incresed dropout</td>\n",
       "      <td>{\"hidden_dim\": 64, \"num_layers\": 5, \"num_heads...</td>\n",
       "      <td>2.218621</td>\n",
       "      <td>0.575685</td>\n",
       "      <td>3.045633e-01</td>\n",
       "      <td>0.548062</td>\n",
       "      <td>0.399809</td>\n",
       "    </tr>\n",
       "    <tr>\n",
       "      <th>16</th>\n",
       "      <td>2025-05-25T11:54:50.924387+00:00</td>\n",
       "      <td>specteal_former</td>\n",
       "      <td>Default run</td>\n",
       "      <td>{\"hidden_dim\": 64, \"num_layers\": 5, \"num_heads...</td>\n",
       "      <td>2.187469</td>\n",
       "      <td>0.560617</td>\n",
       "      <td>2.933610e-01</td>\n",
       "      <td>0.531653</td>\n",
       "      <td>0.385957</td>\n",
       "    </tr>\n",
       "    <tr>\n",
       "      <th>30</th>\n",
       "      <td>2025-05-25T20:56:33.371563+00:00</td>\n",
       "      <td>facto_former</td>\n",
       "      <td>Add PCA and more dropout</td>\n",
       "      <td>{\"spatial_embed_dim\": 64, \"spectral_embed_dim\"...</td>\n",
       "      <td>2.790326</td>\n",
       "      <td>0.600878</td>\n",
       "      <td>2.908698e-01</td>\n",
       "      <td>0.559477</td>\n",
       "      <td>0.393422</td>\n",
       "    </tr>\n",
       "    <tr>\n",
       "      <th>29</th>\n",
       "      <td>2025-05-25T20:53:11.217368+00:00</td>\n",
       "      <td>facto_former</td>\n",
       "      <td>Add PCA, and dropout</td>\n",
       "      <td>{\"spatial_embed_dim\": 64, \"spectral_embed_dim\"...</td>\n",
       "      <td>2.707989</td>\n",
       "      <td>0.606260</td>\n",
       "      <td>2.905328e-01</td>\n",
       "      <td>0.565232</td>\n",
       "      <td>0.399181</td>\n",
       "    </tr>\n",
       "    <tr>\n",
       "      <th>25</th>\n",
       "      <td>2025-05-25T19:19:51.903381+00:00</td>\n",
       "      <td>lenet_clustering</td>\n",
       "      <td>Default run</td>\n",
       "      <td>{\"learning_rate\": 0.001, \"num_epochs\": 30, \"ba...</td>\n",
       "      <td>2.678000</td>\n",
       "      <td>0.182683</td>\n",
       "      <td>2.902175e-01</td>\n",
       "      <td>0.250369</td>\n",
       "      <td>0.206694</td>\n",
       "    </tr>\n",
       "    <tr>\n",
       "      <th>8</th>\n",
       "      <td>2025-05-25T00:13:59.916485+00:00</td>\n",
       "      <td>lenet</td>\n",
       "      <td>A lot more epochs, PCA and scheduler</td>\n",
       "      <td>{\"learning_rate\": 0.001, \"num_epochs\": 1000, \"...</td>\n",
       "      <td>2.457449</td>\n",
       "      <td>0.489860</td>\n",
       "      <td>2.897493e-01</td>\n",
       "      <td>0.478478</td>\n",
       "      <td>NaN</td>\n",
       "    </tr>\n",
       "    <tr>\n",
       "      <th>7</th>\n",
       "      <td>2025-05-25T00:11:16.070258+00:00</td>\n",
       "      <td>lenet</td>\n",
       "      <td>More epochs, PCA and scheduler</td>\n",
       "      <td>{\"learning_rate\": 0.001, \"num_epochs\": 300, \"b...</td>\n",
       "      <td>2.513368</td>\n",
       "      <td>0.472783</td>\n",
       "      <td>2.816274e-01</td>\n",
       "      <td>0.463876</td>\n",
       "      <td>NaN</td>\n",
       "    </tr>\n",
       "    <tr>\n",
       "      <th>3</th>\n",
       "      <td>2025-05-24T20:55:14.129875+00:00</td>\n",
       "      <td>lenet</td>\n",
       "      <td>Default run (more epochs and PCA)</td>\n",
       "      <td>{\"learning_rate\": 0.001, \"num_epochs\": 300, \"b...</td>\n",
       "      <td>2.496867</td>\n",
       "      <td>0.468382</td>\n",
       "      <td>2.811697e-01</td>\n",
       "      <td>0.461641</td>\n",
       "      <td>NaN</td>\n",
       "    </tr>\n",
       "    <tr>\n",
       "      <th>15</th>\n",
       "      <td>2025-05-25T11:31:53.271370+00:00</td>\n",
       "      <td>lenet</td>\n",
       "      <td>More epochs, PCA, norm, and scheduler</td>\n",
       "      <td>{\"learning_rate\": 0.001, \"num_epochs\": 1000, \"...</td>\n",
       "      <td>2.469688</td>\n",
       "      <td>0.473372</td>\n",
       "      <td>2.799799e-01</td>\n",
       "      <td>0.462592</td>\n",
       "      <td>NaN</td>\n",
       "    </tr>\n",
       "    <tr>\n",
       "      <th>27</th>\n",
       "      <td>2025-05-25T20:49:26.036093+00:00</td>\n",
       "      <td>facto_former</td>\n",
       "      <td>Add PCA</td>\n",
       "      <td>{\"spatial_embed_dim\": 64, \"spectral_embed_dim\"...</td>\n",
       "      <td>2.720715</td>\n",
       "      <td>0.574609</td>\n",
       "      <td>2.798136e-01</td>\n",
       "      <td>0.538835</td>\n",
       "      <td>0.382495</td>\n",
       "    </tr>\n",
       "    <tr>\n",
       "      <th>28</th>\n",
       "      <td>2025-05-25T20:51:22.895522+00:00</td>\n",
       "      <td>facto_former</td>\n",
       "      <td>Add PCA, and dropout</td>\n",
       "      <td>{\"spatial_embed_dim\": 64, \"spectral_embed_dim\"...</td>\n",
       "      <td>2.768773</td>\n",
       "      <td>0.588547</td>\n",
       "      <td>2.797896e-01</td>\n",
       "      <td>0.550725</td>\n",
       "      <td>0.390024</td>\n",
       "    </tr>\n",
       "    <tr>\n",
       "      <th>31</th>\n",
       "      <td>2025-05-25T21:07:44.655094+00:00</td>\n",
       "      <td>lenet</td>\n",
       "      <td>More epochs, PCA, norm, scheduler and smaller ...</td>\n",
       "      <td>{\"learning_rate\": 0.001, \"num_epochs\": 1000, \"...</td>\n",
       "      <td>2.487204</td>\n",
       "      <td>0.461530</td>\n",
       "      <td>2.653589e-01</td>\n",
       "      <td>0.449322</td>\n",
       "      <td>NaN</td>\n",
       "    </tr>\n",
       "    <tr>\n",
       "      <th>45</th>\n",
       "      <td>2025-05-27T12:31:33.013031+00:00</td>\n",
       "      <td>lenet</td>\n",
       "      <td>More epochs, PCA, norm, scheduler and smaller ...</td>\n",
       "      <td>{\"num_epochs\": 200, \"batch_size\": 32, \"patch_s...</td>\n",
       "      <td>2.555508</td>\n",
       "      <td>0.434289</td>\n",
       "      <td>2.632036e-01</td>\n",
       "      <td>0.432580</td>\n",
       "      <td>NaN</td>\n",
       "    </tr>\n",
       "    <tr>\n",
       "      <th>20</th>\n",
       "      <td>2025-05-25T13:31:55.937456+00:00</td>\n",
       "      <td>specteal_former</td>\n",
       "      <td>With scheduling, incresed dropout and weight d...</td>\n",
       "      <td>{\"hidden_dim\": 64, \"num_layers\": 5, \"num_heads...</td>\n",
       "      <td>1.904269</td>\n",
       "      <td>0.550501</td>\n",
       "      <td>2.584340e-01</td>\n",
       "      <td>0.511486</td>\n",
       "      <td>0.363580</td>\n",
       "    </tr>\n",
       "    <tr>\n",
       "      <th>5</th>\n",
       "      <td>2025-05-24T22:22:51.497627+00:00</td>\n",
       "      <td>lenet</td>\n",
       "      <td>More epochs and PCA with whiten False</td>\n",
       "      <td>{\"learning_rate\": 0.001, \"num_epochs\": 300, \"b...</td>\n",
       "      <td>2.522240</td>\n",
       "      <td>0.461525</td>\n",
       "      <td>2.551436e-01</td>\n",
       "      <td>0.444233</td>\n",
       "      <td>NaN</td>\n",
       "    </tr>\n",
       "    <tr>\n",
       "      <th>4</th>\n",
       "      <td>2025-05-24T21:44:16.017235+00:00</td>\n",
       "      <td>lenet</td>\n",
       "      <td>Default run (more epochs and PCA)</td>\n",
       "      <td>{\"learning_rate\": 0.001, \"num_epochs\": 300, \"b...</td>\n",
       "      <td>2.533018</td>\n",
       "      <td>0.439027</td>\n",
       "      <td>2.516287e-01</td>\n",
       "      <td>0.430059</td>\n",
       "      <td>NaN</td>\n",
       "    </tr>\n",
       "    <tr>\n",
       "      <th>2</th>\n",
       "      <td>2025-05-24T20:10:50.695790+00:00</td>\n",
       "      <td>lenet</td>\n",
       "      <td>Default run (more epochs)</td>\n",
       "      <td>{\"learning_rate\": 0.001, \"num_epochs\": 300, \"b...</td>\n",
       "      <td>2.519917</td>\n",
       "      <td>0.471948</td>\n",
       "      <td>2.376698e-01</td>\n",
       "      <td>0.444376</td>\n",
       "      <td>NaN</td>\n",
       "    </tr>\n",
       "    <tr>\n",
       "      <th>1</th>\n",
       "      <td>2025-05-24T19:21:48.509234+00:00</td>\n",
       "      <td>lenet</td>\n",
       "      <td>Default run (more epochs)</td>\n",
       "      <td>{\"learning_rate\": 0.001, \"num_epochs\": 100, \"b...</td>\n",
       "      <td>2.559524</td>\n",
       "      <td>0.489064</td>\n",
       "      <td>2.364114e-01</td>\n",
       "      <td>0.443092</td>\n",
       "      <td>NaN</td>\n",
       "    </tr>\n",
       "    <tr>\n",
       "      <th>0</th>\n",
       "      <td>2025-05-24T18:58:52.007676+00:00</td>\n",
       "      <td>lenet</td>\n",
       "      <td>Default run</td>\n",
       "      <td>{\"learning_rate\": 0.001, \"num_epochs\": 12, \"ba...</td>\n",
       "      <td>2.699703</td>\n",
       "      <td>0.359812</td>\n",
       "      <td>1.701580e-01</td>\n",
       "      <td>0.333603</td>\n",
       "      <td>NaN</td>\n",
       "    </tr>\n",
       "    <tr>\n",
       "      <th>52</th>\n",
       "      <td>2025-05-28T09:20:45.680745+00:00</td>\n",
       "      <td>democratic_co_learning</td>\n",
       "      <td>Default run</td>\n",
       "      <td>[{\"num_epochs\": 300, \"batch_size\": 32, \"patch_...</td>\n",
       "      <td>NaN</td>\n",
       "      <td>0.291210</td>\n",
       "      <td>8.264553e-02</td>\n",
       "      <td>0.209750</td>\n",
       "      <td>0.108568</td>\n",
       "    </tr>\n",
       "    <tr>\n",
       "      <th>12</th>\n",
       "      <td>2025-05-25T10:40:01.078565+00:00</td>\n",
       "      <td>vit</td>\n",
       "      <td>Add weight decay and smaller lr</td>\n",
       "      <td>{\"hidden_dim\": 64, \"num_layers\": 5, \"num_heads...</td>\n",
       "      <td>2.884203</td>\n",
       "      <td>0.274386</td>\n",
       "      <td>5.943282e-02</td>\n",
       "      <td>0.204804</td>\n",
       "      <td>0.085991</td>\n",
       "    </tr>\n",
       "    <tr>\n",
       "      <th>13</th>\n",
       "      <td>2025-05-25T11:05:35.126823+00:00</td>\n",
       "      <td>vit</td>\n",
       "      <td>Add weight decay and smaller lr</td>\n",
       "      <td>{\"hidden_dim\": 64, \"num_layers\": 5, \"num_heads...</td>\n",
       "      <td>2.611931</td>\n",
       "      <td>0.251206</td>\n",
       "      <td>5.845405e-02</td>\n",
       "      <td>0.188966</td>\n",
       "      <td>0.081323</td>\n",
       "    </tr>\n",
       "    <tr>\n",
       "      <th>14</th>\n",
       "      <td>2025-05-25T11:26:53.611845+00:00</td>\n",
       "      <td>vit</td>\n",
       "      <td>Add weight decay, increase dropout and smaller lr</td>\n",
       "      <td>{\"hidden_dim\": 64, \"num_layers\": 5, \"num_heads...</td>\n",
       "      <td>2.557661</td>\n",
       "      <td>0.207239</td>\n",
       "      <td>5.841505e-02</td>\n",
       "      <td>0.163187</td>\n",
       "      <td>0.074733</td>\n",
       "    </tr>\n",
       "    <tr>\n",
       "      <th>11</th>\n",
       "      <td>2025-05-25T10:20:38.669253+00:00</td>\n",
       "      <td>vit</td>\n",
       "      <td>Add weight decay and smaller lr</td>\n",
       "      <td>{\"hidden_dim\": 64, \"num_layers\": 5, \"num_heads...</td>\n",
       "      <td>3.053134</td>\n",
       "      <td>0.260749</td>\n",
       "      <td>5.337951e-02</td>\n",
       "      <td>0.192771</td>\n",
       "      <td>0.081146</td>\n",
       "    </tr>\n",
       "    <tr>\n",
       "      <th>10</th>\n",
       "      <td>2025-05-25T09:30:05.188620+00:00</td>\n",
       "      <td>vit</td>\n",
       "      <td>Add weight decay</td>\n",
       "      <td>{\"hidden_dim\": 64, \"num_layers\": 5, \"num_heads...</td>\n",
       "      <td>5.515652</td>\n",
       "      <td>0.177391</td>\n",
       "      <td>5.255213e-02</td>\n",
       "      <td>0.143306</td>\n",
       "      <td>0.060421</td>\n",
       "    </tr>\n",
       "    <tr>\n",
       "      <th>9</th>\n",
       "      <td>2025-05-25T00:43:41.538913+00:00</td>\n",
       "      <td>vit</td>\n",
       "      <td>Default run</td>\n",
       "      <td>{\"hidden_dim\": 64, \"num_layers\": 5, \"num_heads...</td>\n",
       "      <td>4.584047</td>\n",
       "      <td>0.245635</td>\n",
       "      <td>5.025616e-02</td>\n",
       "      <td>0.179643</td>\n",
       "      <td>0.077745</td>\n",
       "    </tr>\n",
       "  </tbody>\n",
       "</table>\n",
       "</div>"
      ],
      "text/plain": [
       "                           timestamp               model_category  \\\n",
       "6   2025-05-24T23:39:51.672671+00:00                        lenet   \n",
       "53  2025-05-28T15:49:18.248456+00:00       democratic_co_learning   \n",
       "44  2025-05-27T00:09:37.873340+00:00            lenet_co_training   \n",
       "23  2025-05-25T15:52:03.734232+00:00            lenet_co_training   \n",
       "24  2025-05-25T16:13:53.131416+00:00            lenet_co_training   \n",
       "43  2025-05-26T18:04:18.361995+00:00                        gsvit   \n",
       "42  2025-05-26T17:57:44.884483+00:00                        gsvit   \n",
       "41  2025-05-26T13:36:49.598137+00:00                         dbda   \n",
       "37  2025-05-26T10:53:25.065429+00:00                        fdssc   \n",
       "39  2025-05-26T13:19:18.177604+00:00                         dbda   \n",
       "48  2025-05-27T14:30:47.867891+00:00                        fdssc   \n",
       "36  2025-05-25T23:33:57.452646+00:00                         dbda   \n",
       "50  2025-05-27T14:43:20.597565+00:00                         ssrn   \n",
       "49  2025-05-27T14:39:29.850243+00:00                        fdssc   \n",
       "40  2025-05-26T13:35:13.284522+00:00                         dbda   \n",
       "46  2025-05-27T14:27:12.497711+00:00                        fdssc   \n",
       "22  2025-05-25T14:39:13.847478+00:00  specteal_former_co_training   \n",
       "47  2025-05-27T14:29:28.344003+00:00                        fdssc   \n",
       "51  2025-05-27T14:49:03.581118+00:00                         ssrn   \n",
       "34  2025-05-25T22:38:49.667274+00:00                        gsvit   \n",
       "33  2025-05-25T22:37:26.348140+00:00                        gsvit   \n",
       "32  2025-05-25T22:31:59.825713+00:00                        gsvit   \n",
       "35  2025-05-25T22:44:10.977863+00:00                 facto_former   \n",
       "38  2025-05-26T12:10:45.981069+00:00                         ssrn   \n",
       "21  2025-05-25T13:49:18.465537+00:00              specteal_former   \n",
       "19  2025-05-25T13:11:09.295934+00:00              specteal_former   \n",
       "26  2025-05-25T20:32:27.231494+00:00                 facto_former   \n",
       "17  2025-05-25T12:28:13.957191+00:00              specteal_former   \n",
       "18  2025-05-25T12:48:49.301608+00:00              specteal_former   \n",
       "16  2025-05-25T11:54:50.924387+00:00              specteal_former   \n",
       "30  2025-05-25T20:56:33.371563+00:00                 facto_former   \n",
       "29  2025-05-25T20:53:11.217368+00:00                 facto_former   \n",
       "25  2025-05-25T19:19:51.903381+00:00             lenet_clustering   \n",
       "8   2025-05-25T00:13:59.916485+00:00                        lenet   \n",
       "7   2025-05-25T00:11:16.070258+00:00                        lenet   \n",
       "3   2025-05-24T20:55:14.129875+00:00                        lenet   \n",
       "15  2025-05-25T11:31:53.271370+00:00                        lenet   \n",
       "27  2025-05-25T20:49:26.036093+00:00                 facto_former   \n",
       "28  2025-05-25T20:51:22.895522+00:00                 facto_former   \n",
       "31  2025-05-25T21:07:44.655094+00:00                        lenet   \n",
       "45  2025-05-27T12:31:33.013031+00:00                        lenet   \n",
       "20  2025-05-25T13:31:55.937456+00:00              specteal_former   \n",
       "5   2025-05-24T22:22:51.497627+00:00                        lenet   \n",
       "4   2025-05-24T21:44:16.017235+00:00                        lenet   \n",
       "2   2025-05-24T20:10:50.695790+00:00                        lenet   \n",
       "1   2025-05-24T19:21:48.509234+00:00                        lenet   \n",
       "0   2025-05-24T18:58:52.007676+00:00                        lenet   \n",
       "52  2025-05-28T09:20:45.680745+00:00       democratic_co_learning   \n",
       "12  2025-05-25T10:40:01.078565+00:00                          vit   \n",
       "13  2025-05-25T11:05:35.126823+00:00                          vit   \n",
       "14  2025-05-25T11:26:53.611845+00:00                          vit   \n",
       "11  2025-05-25T10:20:38.669253+00:00                          vit   \n",
       "10  2025-05-25T09:30:05.188620+00:00                          vit   \n",
       "9   2025-05-25T00:43:41.538913+00:00                          vit   \n",
       "\n",
       "                                             run_desc  \\\n",
       "6                      More epochs, PCA and scheduler   \n",
       "53                                      Max 10 epochs   \n",
       "44                         Less epochs, no scheduling   \n",
       "23                                        Default run   \n",
       "24                         Less epochs, no scheduling   \n",
       "43                                  More dropout, PCA   \n",
       "42                                  More dropout, PCA   \n",
       "41                      Add PCA, scheduler, bigger lr   \n",
       "37                                        Default run   \n",
       "39                                            Add PCA   \n",
       "48                      Scheduler for loss, larger lr   \n",
       "36                                        Default run   \n",
       "50                                          Larger lr   \n",
       "49                                          Larger lr   \n",
       "40                                 Add PCA, scheduler   \n",
       "46                             Scheduler for val_loss   \n",
       "22                                        Default run   \n",
       "47                                 Scheduler for loss   \n",
       "51                               Larger lr, scheduler   \n",
       "34                                  More dropout, PCA   \n",
       "33                                       More dropout   \n",
       "32                                        Default run   \n",
       "35                Add PCA, more dropout, bigger patch   \n",
       "38                                        Default run   \n",
       "21  With scheduling, incresed dropout and weight d...   \n",
       "19                  With scheduling, incresed dropout   \n",
       "26                                        Default run   \n",
       "17                                    With scheduling   \n",
       "18                  With scheduling, incresed dropout   \n",
       "16                                        Default run   \n",
       "30                           Add PCA and more dropout   \n",
       "29                               Add PCA, and dropout   \n",
       "25                                        Default run   \n",
       "8                A lot more epochs, PCA and scheduler   \n",
       "7                      More epochs, PCA and scheduler   \n",
       "3                   Default run (more epochs and PCA)   \n",
       "15              More epochs, PCA, norm, and scheduler   \n",
       "27                                            Add PCA   \n",
       "28                               Add PCA, and dropout   \n",
       "31  More epochs, PCA, norm, scheduler and smaller ...   \n",
       "45  More epochs, PCA, norm, scheduler and smaller ...   \n",
       "20  With scheduling, incresed dropout and weight d...   \n",
       "5               More epochs and PCA with whiten False   \n",
       "4                   Default run (more epochs and PCA)   \n",
       "2                           Default run (more epochs)   \n",
       "1                           Default run (more epochs)   \n",
       "0                                         Default run   \n",
       "52                                        Default run   \n",
       "12                    Add weight decay and smaller lr   \n",
       "13                    Add weight decay and smaller lr   \n",
       "14  Add weight decay, increase dropout and smaller lr   \n",
       "11                    Add weight decay and smaller lr   \n",
       "10                                   Add weight decay   \n",
       "9                                         Default run   \n",
       "\n",
       "                                               params      loss        f1  \\\n",
       "6   {\"learning_rate\": 0.001, \"num_epochs\": 300, \"b...  2.497706  0.462771   \n",
       "53  [{\"num_epochs\": 300, \"batch_size\": 32, \"patch_...       NaN  0.623983   \n",
       "44  {\"learning_rate\": 0.001, \"num_epochs\": 20, \"ba...  2.825143  0.313785   \n",
       "23  {\"learning_rate\": 0.001, \"num_epochs\": 300, \"b...  2.826677  0.195459   \n",
       "24  {\"learning_rate\": 0.001, \"num_epochs\": 30, \"ba...  2.827521  0.147750   \n",
       "43  {\"group_spatial_size\": [3, 3, 3], \"dropout\": 0...  0.849760  0.666169   \n",
       "42  {\"group_spatial_size\": [3, 3, 3], \"dropout\": 0...  1.363228  0.581219   \n",
       "41  {\"learning_rate\": 0.001, \"weight_decay\": 0, \"n...  3.049507  0.684335   \n",
       "37  {\"learning_rate\": 0.0001, \"weight_decay\": 0, \"...  1.341803  0.670137   \n",
       "39  {\"learning_rate\": 0.0001, \"weight_decay\": 0, \"...  1.579928  0.672000   \n",
       "48  {\"num_epochs\": 300, \"batch_size\": 64, \"patch_s...  1.641746  0.656210   \n",
       "36  {\"learning_rate\": 0.0001, \"weight_decay\": 0, \"...  1.600769  0.661525   \n",
       "50  {\"num_epochs\": 300, \"batch_size\": 64, \"patch_s...  1.749286  0.677324   \n",
       "49  {\"num_epochs\": 300, \"batch_size\": 64, \"patch_s...  2.278236  0.645094   \n",
       "40  {\"learning_rate\": 0.0001, \"weight_decay\": 0, \"...  1.308922  0.651018   \n",
       "46  {\"num_epochs\": 300, \"batch_size\": 64, \"patch_s...  1.391315  0.638199   \n",
       "22  {\"hidden_dim\": 32, \"num_layers\": 5, \"num_heads...  2.814270  0.179225   \n",
       "47  {\"num_epochs\": 300, \"batch_size\": 64, \"patch_s...  1.406228  0.632592   \n",
       "51  {\"num_epochs\": 300, \"batch_size\": 64, \"patch_s...  1.700081  0.637689   \n",
       "34  {\"group_spatial_size\": [3, 3, 3], \"dropout\": 0...  1.796985  0.630547   \n",
       "33  {\"group_spatial_size\": [3, 3, 3], \"dropout\": 0...  2.059639  0.574772   \n",
       "32  {\"group_spatial_size\": [3, 3, 3], \"dropout\": 0...  2.053219  0.562529   \n",
       "35  {\"spatial_embed_dim\": 64, \"spectral_embed_dim\"...  2.458054  0.622702   \n",
       "38  {\"learning_rate\": 0.0001, \"weight_decay\": 0, \"...  1.591642  0.593839   \n",
       "21  {\"hidden_dim\": 64, \"num_layers\": 5, \"num_heads...  1.709462  0.629933   \n",
       "19  {\"hidden_dim\": 64, \"num_layers\": 5, \"num_heads...  1.884388  0.610363   \n",
       "26  {\"spatial_embed_dim\": 64, \"spectral_embed_dim\"...  2.480875  0.605703   \n",
       "17  {\"hidden_dim\": 64, \"num_layers\": 5, \"num_heads...  2.039043  0.588829   \n",
       "18  {\"hidden_dim\": 64, \"num_layers\": 5, \"num_heads...  2.218621  0.575685   \n",
       "16  {\"hidden_dim\": 64, \"num_layers\": 5, \"num_heads...  2.187469  0.560617   \n",
       "30  {\"spatial_embed_dim\": 64, \"spectral_embed_dim\"...  2.790326  0.600878   \n",
       "29  {\"spatial_embed_dim\": 64, \"spectral_embed_dim\"...  2.707989  0.606260   \n",
       "25  {\"learning_rate\": 0.001, \"num_epochs\": 30, \"ba...  2.678000  0.182683   \n",
       "8   {\"learning_rate\": 0.001, \"num_epochs\": 1000, \"...  2.457449  0.489860   \n",
       "7   {\"learning_rate\": 0.001, \"num_epochs\": 300, \"b...  2.513368  0.472783   \n",
       "3   {\"learning_rate\": 0.001, \"num_epochs\": 300, \"b...  2.496867  0.468382   \n",
       "15  {\"learning_rate\": 0.001, \"num_epochs\": 1000, \"...  2.469688  0.473372   \n",
       "27  {\"spatial_embed_dim\": 64, \"spectral_embed_dim\"...  2.720715  0.574609   \n",
       "28  {\"spatial_embed_dim\": 64, \"spectral_embed_dim\"...  2.768773  0.588547   \n",
       "31  {\"learning_rate\": 0.001, \"num_epochs\": 1000, \"...  2.487204  0.461530   \n",
       "45  {\"num_epochs\": 200, \"batch_size\": 32, \"patch_s...  2.555508  0.434289   \n",
       "20  {\"hidden_dim\": 64, \"num_layers\": 5, \"num_heads...  1.904269  0.550501   \n",
       "5   {\"learning_rate\": 0.001, \"num_epochs\": 300, \"b...  2.522240  0.461525   \n",
       "4   {\"learning_rate\": 0.001, \"num_epochs\": 300, \"b...  2.533018  0.439027   \n",
       "2   {\"learning_rate\": 0.001, \"num_epochs\": 300, \"b...  2.519917  0.471948   \n",
       "1   {\"learning_rate\": 0.001, \"num_epochs\": 100, \"b...  2.559524  0.489064   \n",
       "0   {\"learning_rate\": 0.001, \"num_epochs\": 12, \"ba...  2.699703  0.359812   \n",
       "52  [{\"num_epochs\": 300, \"batch_size\": 32, \"patch_...       NaN  0.291210   \n",
       "12  {\"hidden_dim\": 64, \"num_layers\": 5, \"num_heads...  2.884203  0.274386   \n",
       "13  {\"hidden_dim\": 64, \"num_layers\": 5, \"num_heads...  2.611931  0.251206   \n",
       "14  {\"hidden_dim\": 64, \"num_layers\": 5, \"num_heads...  2.557661  0.207239   \n",
       "11  {\"hidden_dim\": 64, \"num_layers\": 5, \"num_heads...  3.053134  0.260749   \n",
       "10  {\"hidden_dim\": 64, \"num_layers\": 5, \"num_heads...  5.515652  0.177391   \n",
       "9   {\"hidden_dim\": 64, \"num_layers\": 5, \"num_heads...  4.584047  0.245635   \n",
       "\n",
       "              OA        AA     kappa  \n",
       "6   2.424388e+33  0.457883       NaN  \n",
       "53  9.092148e-01  0.631819  0.567875  \n",
       "44  8.071435e-01  0.392818  0.350767  \n",
       "23  6.889482e-01  0.286706  0.255198  \n",
       "24  6.770636e-01  0.252176  0.225479  \n",
       "43  6.166382e-01  0.684423  0.243633  \n",
       "42  5.302057e-01  0.617788  0.171814  \n",
       "41  4.947623e-01  0.657646  0.478008  \n",
       "37  4.786997e-01  0.650464  0.480878  \n",
       "39  4.676890e-01  0.644138  0.468405  \n",
       "48  4.636437e-01  0.636766  0.471007  \n",
       "36  4.561908e-01  0.630725  0.466202  \n",
       "50  4.521383e-01  0.650987  0.475914  \n",
       "49  4.456609e-01  0.624590  0.461505  \n",
       "40  4.426903e-01  0.620404  0.443848  \n",
       "46  4.321836e-01  0.617503  0.453314  \n",
       "22  4.305314e-01  0.176266  0.130307  \n",
       "47  4.262406e-01  0.612509  0.448813  \n",
       "51  4.097105e-01  0.610987  0.454518  \n",
       "34  3.905122e-01  0.602711  0.433849  \n",
       "33  3.694175e-01  0.553436  0.388018  \n",
       "32  3.620150e-01  0.538407  0.369482  \n",
       "35  3.517288e-01  0.590297  0.420221  \n",
       "38  3.335705e-01  0.562996  0.407638  \n",
       "21  3.285941e-01  0.592009  0.428213  \n",
       "19  3.212764e-01  0.573888  0.418024  \n",
       "26  3.172534e-01  0.563092  0.405921  \n",
       "17  3.162847e-01  0.557241  0.407733  \n",
       "18  3.045633e-01  0.548062  0.399809  \n",
       "16  2.933610e-01  0.531653  0.385957  \n",
       "30  2.908698e-01  0.559477  0.393422  \n",
       "29  2.905328e-01  0.565232  0.399181  \n",
       "25  2.902175e-01  0.250369  0.206694  \n",
       "8   2.897493e-01  0.478478       NaN  \n",
       "7   2.816274e-01  0.463876       NaN  \n",
       "3   2.811697e-01  0.461641       NaN  \n",
       "15  2.799799e-01  0.462592       NaN  \n",
       "27  2.798136e-01  0.538835  0.382495  \n",
       "28  2.797896e-01  0.550725  0.390024  \n",
       "31  2.653589e-01  0.449322       NaN  \n",
       "45  2.632036e-01  0.432580       NaN  \n",
       "20  2.584340e-01  0.511486  0.363580  \n",
       "5   2.551436e-01  0.444233       NaN  \n",
       "4   2.516287e-01  0.430059       NaN  \n",
       "2   2.376698e-01  0.444376       NaN  \n",
       "1   2.364114e-01  0.443092       NaN  \n",
       "0   1.701580e-01  0.333603       NaN  \n",
       "52  8.264553e-02  0.209750  0.108568  \n",
       "12  5.943282e-02  0.204804  0.085991  \n",
       "13  5.845405e-02  0.188966  0.081323  \n",
       "14  5.841505e-02  0.163187  0.074733  \n",
       "11  5.337951e-02  0.192771  0.081146  \n",
       "10  5.255213e-02  0.143306  0.060421  \n",
       "9   5.025616e-02  0.179643  0.077745  "
      ]
     },
     "execution_count": 32,
     "metadata": {},
     "output_type": "execute_result"
    }
   ],
   "source": [
    "read_report_to_show(model_name, sort_by_metric=\"OA\")"
   ]
  },
  {
   "cell_type": "code",
   "execution_count": 27,
   "metadata": {},
   "outputs": [
    {
     "data": {
      "text/html": [
       "<div>\n",
       "<style scoped>\n",
       "    .dataframe tbody tr th:only-of-type {\n",
       "        vertical-align: middle;\n",
       "    }\n",
       "\n",
       "    .dataframe tbody tr th {\n",
       "        vertical-align: top;\n",
       "    }\n",
       "\n",
       "    .dataframe thead th {\n",
       "        text-align: right;\n",
       "    }\n",
       "</style>\n",
       "<table border=\"1\" class=\"dataframe\">\n",
       "  <thead>\n",
       "    <tr style=\"text-align: right;\">\n",
       "      <th></th>\n",
       "      <th>timestamp</th>\n",
       "      <th>run_desc</th>\n",
       "      <th>params</th>\n",
       "      <th>loss</th>\n",
       "      <th>f1</th>\n",
       "      <th>OA</th>\n",
       "      <th>AA</th>\n",
       "      <th>kappa</th>\n",
       "    </tr>\n",
       "  </thead>\n",
       "  <tbody>\n",
       "    <tr>\n",
       "      <th>53</th>\n",
       "      <td>2025-05-28T15:49:18.248456+00:00</td>\n",
       "      <td>Max 10 epochs</td>\n",
       "      <td>[{\"num_epochs\": 300, \"batch_size\": 32, \"patch_...</td>\n",
       "      <td>NaN</td>\n",
       "      <td>0.623983</td>\n",
       "      <td>0.909215</td>\n",
       "      <td>0.631819</td>\n",
       "      <td>0.567875</td>\n",
       "    </tr>\n",
       "    <tr>\n",
       "      <th>52</th>\n",
       "      <td>2025-05-28T09:20:45.680745+00:00</td>\n",
       "      <td>Default run</td>\n",
       "      <td>[{\"num_epochs\": 300, \"batch_size\": 32, \"patch_...</td>\n",
       "      <td>NaN</td>\n",
       "      <td>0.291210</td>\n",
       "      <td>0.082646</td>\n",
       "      <td>0.209750</td>\n",
       "      <td>0.108568</td>\n",
       "    </tr>\n",
       "  </tbody>\n",
       "</table>\n",
       "</div>"
      ],
      "text/plain": [
       "                           timestamp       run_desc  \\\n",
       "53  2025-05-28T15:49:18.248456+00:00  Max 10 epochs   \n",
       "52  2025-05-28T09:20:45.680745+00:00    Default run   \n",
       "\n",
       "                                               params  loss        f1  \\\n",
       "53  [{\"num_epochs\": 300, \"batch_size\": 32, \"patch_...   NaN  0.623983   \n",
       "52  [{\"num_epochs\": 300, \"batch_size\": 32, \"patch_...   NaN  0.291210   \n",
       "\n",
       "          OA        AA     kappa  \n",
       "53  0.909215  0.631819  0.567875  \n",
       "52  0.082646  0.209750  0.108568  "
      ]
     },
     "execution_count": 27,
     "metadata": {},
     "output_type": "execute_result"
    }
   ],
   "source": [
    "read_report_to_show(model_name, sort_by_metric=\"OA\", model_category=model_category)"
   ]
  }
 ],
 "metadata": {
  "kernelspec": {
   "display_name": ".venv",
   "language": "python",
   "name": "python3"
  },
  "language_info": {
   "codemirror_mode": {
    "name": "ipython",
    "version": 3
   },
   "file_extension": ".py",
   "mimetype": "text/x-python",
   "name": "python",
   "nbconvert_exporter": "python",
   "pygments_lexer": "ipython3",
   "version": "3.12.3"
  }
 },
 "nbformat": 4,
 "nbformat_minor": 2
}
