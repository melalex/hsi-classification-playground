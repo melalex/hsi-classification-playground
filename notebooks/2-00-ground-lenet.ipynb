{
 "cells": [
  {
   "cell_type": "markdown",
   "metadata": {},
   "source": [
    "# Indiana Pines"
   ]
  },
  {
   "cell_type": "markdown",
   "metadata": {},
   "source": [
    "1. Import dependencies"
   ]
  },
  {
   "cell_type": "code",
   "execution_count": 1,
   "metadata": {},
   "outputs": [],
   "source": [
    "import random\n",
    "import torch\n",
    "import multiprocessing\n",
    "import numpy as np\n",
    "import torch.utils.data as data\n",
    "\n",
    "from torch import nn\n",
    "\n",
    "from sklearn.model_selection import train_test_split\n",
    "from lightning import Trainer\n",
    "from torch.optim.lr_scheduler import StepLR\n",
    "\n",
    "from src.util.torch import resolve_torch_device\n",
    "from src.util.hsi import (\n",
    "    extract_patches,\n",
    "    reduce_hsi_dim,\n",
    "    train_test_band_patch_split,\n",
    "    preprocess_hsi,\n",
    "    to_bin_labels_mask,\n",
    "    to_bin_labels,\n",
    "    to_pu_labels,\n",
    "    PreProcessType,\n",
    "    DimReductionType,\n",
    ")\n",
    "from src.data.indian_pines import load_indian_pines\n",
    "from src.model.hsic import HyperSpectralImageClassifier\n",
    "from src.model.lenet import FullyConvolutionalLeNet, PuLeNet\n",
    "from src.visualization.plot import (\n",
    "    plot_segmentation_comparison,\n",
    "    plot_numbers_distribution,\n",
    "    plot_epoch_generic_comparison,\n",
    "    plot_epoch_generic,\n",
    ")\n",
    "from src.data.dataset_decorator import UnlabeledDatasetDecorator\n",
    "from src.util.reporting import (\n",
    "    create_model_name,\n",
    "    report_run,\n",
    "    read_report_to_show,\n",
    "    lightning_metrics,\n",
    ")\n",
    "from src.util.list_ext import smooth_moving_average\n",
    "from src.util.loss import PULoss"
   ]
  },
  {
   "cell_type": "markdown",
   "metadata": {},
   "source": [
    "2. Prepare env"
   ]
  },
  {
   "cell_type": "code",
   "execution_count": 2,
   "metadata": {},
   "outputs": [],
   "source": [
    "learning_rate = 1e-3\n",
    "num_epochs = 30\n",
    "scheduler_step_size = num_epochs \n",
    "scheduler_gamma = 0.9"
   ]
  },
  {
   "cell_type": "code",
   "execution_count": 3,
   "metadata": {},
   "outputs": [],
   "source": [
    "batch_size = 64\n",
    "patch_size = 9\n",
    "target_dim = 75\n",
    "examples_per_class = []\n",
    "\n",
    "pre_process_type = PreProcessType.STANDARTIZATION\n",
    "dim_reduction_type = DimReductionType.PCA"
   ]
  },
  {
   "cell_type": "code",
   "execution_count": 4,
   "metadata": {},
   "outputs": [],
   "source": [
    "random_seed = 42\n",
    "\n",
    "random.seed(random_seed)\n",
    "torch.manual_seed(random_seed)\n",
    "np.random.seed(random_seed)\n",
    "\n",
    "device = resolve_torch_device()"
   ]
  },
  {
   "cell_type": "code",
   "execution_count": 5,
   "metadata": {},
   "outputs": [],
   "source": [
    "torch.cuda.empty_cache()"
   ]
  },
  {
   "cell_type": "code",
   "execution_count": 6,
   "metadata": {},
   "outputs": [],
   "source": [
    "torch.set_float32_matmul_precision(\"medium\")"
   ]
  },
  {
   "cell_type": "code",
   "execution_count": 7,
   "metadata": {},
   "outputs": [
    {
     "data": {
      "text/plain": [
       "'Device is cuda'"
      ]
     },
     "execution_count": 7,
     "metadata": {},
     "output_type": "execute_result"
    }
   ],
   "source": [
    "f\"Device is {device}\""
   ]
  },
  {
   "cell_type": "markdown",
   "metadata": {},
   "source": [
    "3. Load dataset"
   ]
  },
  {
   "cell_type": "code",
   "execution_count": 8,
   "metadata": {},
   "outputs": [],
   "source": [
    "image, labels = load_indian_pines()\n",
    "\n",
    "image_h, image_w, image_c = image.shape"
   ]
  },
  {
   "cell_type": "code",
   "execution_count": 9,
   "metadata": {},
   "outputs": [],
   "source": [
    "_, image = preprocess_hsi(image, pre_process_type)"
   ]
  },
  {
   "cell_type": "code",
   "execution_count": 10,
   "metadata": {},
   "outputs": [],
   "source": [
    "_, target_dim, image = reduce_hsi_dim(\n",
    "    image, target_dim, dim_reduction_type, device, random_seed\n",
    ")"
   ]
  },
  {
   "cell_type": "code",
   "execution_count": 11,
   "metadata": {},
   "outputs": [],
   "source": [
    "x, y = extract_patches(image, labels, patch_size=patch_size)"
   ]
  },
  {
   "cell_type": "code",
   "execution_count": 12,
   "metadata": {},
   "outputs": [
    {
     "data": {
      "text/plain": [
       "'Number of classes 17'"
      ]
     },
     "execution_count": 12,
     "metadata": {},
     "output_type": "execute_result"
    }
   ],
   "source": [
    "num_classes = len(np.unique(y))\n",
    "\n",
    "f\"Number of classes {num_classes}\""
   ]
  },
  {
   "cell_type": "code",
   "execution_count": 13,
   "metadata": {},
   "outputs": [],
   "source": [
    "examples_per_class = [20] * num_classes"
   ]
  },
  {
   "cell_type": "code",
   "execution_count": 14,
   "metadata": {},
   "outputs": [],
   "source": [
    "num_classes = 2"
   ]
  },
  {
   "cell_type": "code",
   "execution_count": 15,
   "metadata": {},
   "outputs": [
    {
     "data": {
      "image/png": "[encoded data removed]",
      "text/plain": [
       "<Figure size 1000x500 with 2 Axes>"
      ]
     },
     "metadata": {},
     "output_type": "display_data"
    }
   ],
   "source": [
    "if examples_per_class:\n",
    "    x_train, y_train, x_test, y_test, y_masked = train_test_band_patch_split(\n",
    "        x, y, examples_per_class, \"indian_pines\"\n",
    "    )\n",
    "\n",
    "    plot_segmentation_comparison(\n",
    "        to_bin_labels_mask(y).reshape(image_h, image_w),\n",
    "        to_bin_labels_mask(y_masked).reshape(image_h, image_w),\n",
    "        title2=\"Masked\",\n",
    "    )\n",
    "else:\n",
    "    x_train, x_test, y_train, y_test = train_test_split(\n",
    "        x, y, test_size=0.2, random_state=random_seed, stratify=y\n",
    "    )\n",
    "\n",
    "y = to_bin_labels(y)\n",
    "y_train = to_bin_labels(y_train)\n",
    "y_test = to_bin_labels(y_test)\n",
    "\n",
    "x_train = np.concatenate((x_train, x_test), axis=0)\n",
    "y_train = np.concatenate((y_train, to_pu_labels(y_test)), axis=0)\n",
    "\n",
    "# y = to_bin_labels(y)\n",
    "# y_train = to_bin_labels(y_train)\n",
    "# y_test = to_bin_labels(y_test)"
   ]
  },
  {
   "cell_type": "code",
   "execution_count": 16,
   "metadata": {},
   "outputs": [],
   "source": [
    "x_tensor = torch.tensor(x, dtype=torch.float32).permute(0, 3, 1, 2) \n",
    "y_tensor = torch.tensor(y, dtype=torch.long)\n",
    "x_train_tensor = torch.tensor(x_train, dtype=torch.float32).permute(0, 3, 1, 2)\n",
    "y_train_tensor = torch.tensor(y_train, dtype=torch.long)\n",
    "x_test_tensor = torch.tensor(x_test, dtype=torch.float32).permute(0, 3, 1, 2)\n",
    "y_test_tensor = torch.tensor(y_test, dtype=torch.long)"
   ]
  },
  {
   "cell_type": "code",
   "execution_count": 17,
   "metadata": {},
   "outputs": [
    {
     "data": {
      "text/plain": [
       "'Setting num_workers to 24'"
      ]
     },
     "execution_count": 17,
     "metadata": {},
     "output_type": "execute_result"
    }
   ],
   "source": [
    "cpu_count = multiprocessing.cpu_count()\n",
    "\n",
    "f\"Setting num_workers to {cpu_count}\""
   ]
  },
  {
   "cell_type": "code",
   "execution_count": 18,
   "metadata": {},
   "outputs": [],
   "source": [
    "train_dataset = data.TensorDataset(x_train_tensor, y_train_tensor)\n",
    "test_dataset = data.TensorDataset(x_test_tensor, y_test_tensor)\n",
    "full_dataset = data.TensorDataset(x_tensor, y_tensor)\n",
    "\n",
    "train_loader = data.DataLoader(\n",
    "    train_dataset,\n",
    "    batch_size=batch_size,\n",
    "    shuffle=True,\n",
    "    num_workers=cpu_count,\n",
    "    persistent_workers=True,\n",
    ")\n",
    "test_loader = data.DataLoader(\n",
    "    test_dataset,\n",
    "    batch_size=batch_size,\n",
    "    shuffle=False,\n",
    "    num_workers=cpu_count,\n",
    "    persistent_workers=True,\n",
    ")\n",
    "full_loader = data.DataLoader(\n",
    "    full_dataset,\n",
    "    batch_size=batch_size,\n",
    "    shuffle=False,\n",
    "    num_workers=cpu_count,\n",
    "    persistent_workers=True,\n",
    ")\n",
    "predict_loader = data.DataLoader(\n",
    "    UnlabeledDatasetDecorator(full_dataset),\n",
    "    batch_size=batch_size,\n",
    "    num_workers=cpu_count,\n",
    "    persistent_workers=True,\n",
    ")"
   ]
  },
  {
   "cell_type": "code",
   "execution_count": 19,
   "metadata": {},
   "outputs": [
    {
     "data": {
      "text/plain": [
       "'Training samples: 21025, Testing samples: 20685'"
      ]
     },
     "execution_count": 19,
     "metadata": {},
     "output_type": "execute_result"
    }
   ],
   "source": [
    "f\"Training samples: {len(train_dataset)}, Testing samples: {len(test_dataset)}\""
   ]
  },
  {
   "cell_type": "markdown",
   "metadata": {},
   "source": [
    "4. Train model"
   ]
  },
  {
   "cell_type": "code",
   "execution_count": 20,
   "metadata": {},
   "outputs": [
    {
     "data": {
      "text/plain": [
       "tensor([0.0019, 0.9962, 0.0019])"
      ]
     },
     "execution_count": 20,
     "metadata": {},
     "output_type": "execute_result"
    }
   ],
   "source": [
    "_, counts = np.unique(y_train, return_counts=True)\n",
    "\n",
    "class_weights = 1.0 / counts \n",
    "class_weights = class_weights / class_weights.sum() \n",
    "class_weights = torch.tensor(class_weights, dtype=torch.float32)\n",
    "\n",
    "class_weights"
   ]
  },
  {
   "cell_type": "code",
   "execution_count": 21,
   "metadata": {},
   "outputs": [
    {
     "data": {
      "text/plain": [
       "tensor(0.4875)"
      ]
     },
     "execution_count": 21,
     "metadata": {},
     "output_type": "execute_result"
    }
   ],
   "source": [
    "_, counts = torch.unique(y_tensor, return_counts=True)\n",
    "\n",
    "positive_prob = counts[1] / counts.sum()\n",
    "\n",
    "positive_prob"
   ]
  },
  {
   "cell_type": "code",
   "execution_count": 22,
   "metadata": {},
   "outputs": [],
   "source": [
    "# loss_fun = nn.CrossEntropyLoss(weight=class_weights)\n",
    "\n",
    "# backbone = FullyConvolutionalLeNet(target_dim, num_classes)"
   ]
  },
  {
   "cell_type": "code",
   "execution_count": 23,
   "metadata": {},
   "outputs": [],
   "source": [
    "loss_fun = PULoss(prior=positive_prob)\n",
    "\n",
    "backbone = PuLeNet(target_dim)"
   ]
  },
  {
   "cell_type": "code",
   "execution_count": 24,
   "metadata": {},
   "outputs": [
    {
     "name": "stderr",
     "output_type": "stream",
     "text": [
      "You are using the plain ModelCheckpoint callback. Consider using LitModelCheckpoint which with seamless uploading to Model registry.\n",
      "GPU available: True (cuda), used: True\n",
      "TPU available: False, using: 0 TPU cores\n",
      "HPU available: False, using: 0 HPUs\n",
      "/home/melal/Workspace/spatial-regulated-self-training/.venv/lib/python3.12/site-packages/lightning/pytorch/trainer/connectors/logger_connector/logger_connector.py:76: Starting from v1.9.0, `tensorboardX` has been removed as a dependency of the `lightning.pytorch` package, due to potential conflicts with other packages in the ML ecosystem. For this reason, `logger=True` will use `CSVLogger` as the default logger, unless the `tensorboard` or `tensorboardX` packages are found. Please `pip install lightning[extra]` or one of them to enable TensorBoard support by default\n"
     ]
    }
   ],
   "source": [
    "model = HyperSpectralImageClassifier(\n",
    "    backbone,\n",
    "    num_classes,\n",
    "    lr=learning_rate,\n",
    "    loss_fun=loss_fun,\n",
    "    scheduler=lambda opt: StepLR(\n",
    "        opt, step_size=scheduler_step_size, gamma=scheduler_gamma\n",
    "    ),\n",
    ")\n",
    "\n",
    "trainer = Trainer(accelerator=\"auto\", devices=1, max_epochs=num_epochs)"
   ]
  },
  {
   "cell_type": "code",
   "execution_count": 25,
   "metadata": {},
   "outputs": [
    {
     "name": "stderr",
     "output_type": "stream",
     "text": [
      "LOCAL_RANK: 0 - CUDA_VISIBLE_DEVICES: [0]\n",
      "\n",
      "  | Name             | Type                 | Params | Mode \n",
      "------------------------------------------------------------------\n",
      "0 | net              | PuLeNet              | 301 K  | train\n",
      "1 | loss_fun         | PULoss               | 0      | train\n",
      "2 | f1               | MulticlassF1Score    | 0      | train\n",
      "3 | overall_accuracy | MulticlassAccuracy   | 0      | train\n",
      "4 | average_accuracy | MulticlassAccuracy   | 0      | train\n",
      "5 | kappa            | MulticlassCohenKappa | 0      | train\n",
      "------------------------------------------------------------------\n",
      "301 K     Trainable params\n",
      "0         Non-trainable params\n",
      "301 K     Total params\n",
      "1.208     Total estimated model params size (MB)\n",
      "16        Modules in train mode\n",
      "0         Modules in eval mode\n"
     ]
    },
    {
     "data": {
      "application/vnd.jupyter.widget-view+json": {
       "model_id": "48235582b866467885f3c8aa02c6fa19",
       "version_major": 2,
       "version_minor": 0
      },
      "text/plain": [
       "Sanity Checking: |          | 0/? [00:00<?, ?it/s]"
      ]
     },
     "metadata": {},
     "output_type": "display_data"
    },
    {
     "data": {
      "application/vnd.jupyter.widget-view+json": {
       "model_id": "26eea739bf10477f9214d334eb15e1a2",
       "version_major": 2,
       "version_minor": 0
      },
      "text/plain": [
       "Training: |          | 0/? [00:00<?, ?it/s]"
      ]
     },
     "metadata": {},
     "output_type": "display_data"
    },
    {
     "data": {
      "application/vnd.jupyter.widget-view+json": {
       "model_id": "7dc5fe00434b40dd9b37f1d270359057",
       "version_major": 2,
       "version_minor": 0
      },
      "text/plain": [
       "Validation: |          | 0/? [00:00<?, ?it/s]"
      ]
     },
     "metadata": {},
     "output_type": "display_data"
    },
    {
     "data": {
      "application/vnd.jupyter.widget-view+json": {
       "model_id": "f45d11a5bc114d569b3627f817fbd0d6",
       "version_major": 2,
       "version_minor": 0
      },
      "text/plain": [
       "Validation: |          | 0/? [00:00<?, ?it/s]"
      ]
     },
     "metadata": {},
     "output_type": "display_data"
    },
    {
     "data": {
      "application/vnd.jupyter.widget-view+json": {
       "model_id": "77d39d9316ff4a43a0444808fbc24a76",
       "version_major": 2,
       "version_minor": 0
      },
      "text/plain": [
       "Validation: |          | 0/? [00:00<?, ?it/s]"
      ]
     },
     "metadata": {},
     "output_type": "display_data"
    },
    {
     "data": {
      "application/vnd.jupyter.widget-view+json": {
       "model_id": "0ccb2b717f6e428e9a1713183da3cbb5",
       "version_major": 2,
       "version_minor": 0
      },
      "text/plain": [
       "Validation: |          | 0/? [00:00<?, ?it/s]"
      ]
     },
     "metadata": {},
     "output_type": "display_data"
    },
    {
     "data": {
      "application/vnd.jupyter.widget-view+json": {
       "model_id": "6c1c6f70790e49fcbf2edb511b4c7c79",
       "version_major": 2,
       "version_minor": 0
      },
      "text/plain": [
       "Validation: |          | 0/? [00:00<?, ?it/s]"
      ]
     },
     "metadata": {},
     "output_type": "display_data"
    },
    {
     "data": {
      "application/vnd.jupyter.widget-view+json": {
       "model_id": "0c9888aa1cf04899adf06c2e68a8fde2",
       "version_major": 2,
       "version_minor": 0
      },
      "text/plain": [
       "Validation: |          | 0/? [00:00<?, ?it/s]"
      ]
     },
     "metadata": {},
     "output_type": "display_data"
    },
    {
     "data": {
      "application/vnd.jupyter.widget-view+json": {
       "model_id": "474fc43774834200a4c7d4fb9ee7c119",
       "version_major": 2,
       "version_minor": 0
      },
      "text/plain": [
       "Validation: |          | 0/? [00:00<?, ?it/s]"
      ]
     },
     "metadata": {},
     "output_type": "display_data"
    },
    {
     "data": {
      "application/vnd.jupyter.widget-view+json": {
       "model_id": "6264ef9494334be8961f71d455e494d9",
       "version_major": 2,
       "version_minor": 0
      },
      "text/plain": [
       "Validation: |          | 0/? [00:00<?, ?it/s]"
      ]
     },
     "metadata": {},
     "output_type": "display_data"
    },
    {
     "data": {
      "application/vnd.jupyter.widget-view+json": {
       "model_id": "bdaa572ca0cd4ab384f9d773937f10dd",
       "version_major": 2,
       "version_minor": 0
      },
      "text/plain": [
       "Validation: |          | 0/? [00:00<?, ?it/s]"
      ]
     },
     "metadata": {},
     "output_type": "display_data"
    },
    {
     "data": {
      "application/vnd.jupyter.widget-view+json": {
       "model_id": "22bdeab4fd604ae5aea6bf46f730073a",
       "version_major": 2,
       "version_minor": 0
      },
      "text/plain": [
       "Validation: |          | 0/? [00:00<?, ?it/s]"
      ]
     },
     "metadata": {},
     "output_type": "display_data"
    },
    {
     "data": {
      "application/vnd.jupyter.widget-view+json": {
       "model_id": "a0eff2a4ebf447e3acf8c29be1aa2060",
       "version_major": 2,
       "version_minor": 0
      },
      "text/plain": [
       "Validation: |          | 0/? [00:00<?, ?it/s]"
      ]
     },
     "metadata": {},
     "output_type": "display_data"
    },
    {
     "data": {
      "application/vnd.jupyter.widget-view+json": {
       "model_id": "eaa6f6d1d35a441fa77d5bde48a08cd4",
       "version_major": 2,
       "version_minor": 0
      },
      "text/plain": [
       "Validation: |          | 0/? [00:00<?, ?it/s]"
      ]
     },
     "metadata": {},
     "output_type": "display_data"
    },
    {
     "data": {
      "application/vnd.jupyter.widget-view+json": {
       "model_id": "7ad8b1eb1e774d1fa80fc0a6dcf0b33e",
       "version_major": 2,
       "version_minor": 0
      },
      "text/plain": [
       "Validation: |          | 0/? [00:00<?, ?it/s]"
      ]
     },
     "metadata": {},
     "output_type": "display_data"
    },
    {
     "data": {
      "application/vnd.jupyter.widget-view+json": {
       "model_id": "a6eedccdfddd4affbf75530517164af0",
       "version_major": 2,
       "version_minor": 0
      },
      "text/plain": [
       "Validation: |          | 0/? [00:00<?, ?it/s]"
      ]
     },
     "metadata": {},
     "output_type": "display_data"
    },
    {
     "data": {
      "application/vnd.jupyter.widget-view+json": {
       "model_id": "f9f02127cec54c70a6bb7ab6259ec721",
       "version_major": 2,
       "version_minor": 0
      },
      "text/plain": [
       "Validation: |          | 0/? [00:00<?, ?it/s]"
      ]
     },
     "metadata": {},
     "output_type": "display_data"
    },
    {
     "data": {
      "application/vnd.jupyter.widget-view+json": {
       "model_id": "96f5756ef2814c37bb885bb2b490ca5a",
       "version_major": 2,
       "version_minor": 0
      },
      "text/plain": [
       "Validation: |          | 0/? [00:00<?, ?it/s]"
      ]
     },
     "metadata": {},
     "output_type": "display_data"
    },
    {
     "data": {
      "application/vnd.jupyter.widget-view+json": {
       "model_id": "d1b7b7589d7a4ac8a9fd08e0c0535055",
       "version_major": 2,
       "version_minor": 0
      },
      "text/plain": [
       "Validation: |          | 0/? [00:00<?, ?it/s]"
      ]
     },
     "metadata": {},
     "output_type": "display_data"
    },
    {
     "data": {
      "application/vnd.jupyter.widget-view+json": {
       "model_id": "112676c67903410ba5408ef8f3990542",
       "version_major": 2,
       "version_minor": 0
      },
      "text/plain": [
       "Validation: |          | 0/? [00:00<?, ?it/s]"
      ]
     },
     "metadata": {},
     "output_type": "display_data"
    },
    {
     "data": {
      "application/vnd.jupyter.widget-view+json": {
       "model_id": "a4287b32dcd040ceb646edf49cf37c00",
       "version_major": 2,
       "version_minor": 0
      },
      "text/plain": [
       "Validation: |          | 0/? [00:00<?, ?it/s]"
      ]
     },
     "metadata": {},
     "output_type": "display_data"
    },
    {
     "data": {
      "application/vnd.jupyter.widget-view+json": {
       "model_id": "3bbf9112087e44108bc6fc9cf4b202ac",
       "version_major": 2,
       "version_minor": 0
      },
      "text/plain": [
       "Validation: |          | 0/? [00:00<?, ?it/s]"
      ]
     },
     "metadata": {},
     "output_type": "display_data"
    },
    {
     "data": {
      "application/vnd.jupyter.widget-view+json": {
       "model_id": "1c7b08ffbe914b3fbabbe7ec7689570a",
       "version_major": 2,
       "version_minor": 0
      },
      "text/plain": [
       "Validation: |          | 0/? [00:00<?, ?it/s]"
      ]
     },
     "metadata": {},
     "output_type": "display_data"
    },
    {
     "data": {
      "application/vnd.jupyter.widget-view+json": {
       "model_id": "cc5af7059b6a44388301d47cb97d4935",
       "version_major": 2,
       "version_minor": 0
      },
      "text/plain": [
       "Validation: |          | 0/? [00:00<?, ?it/s]"
      ]
     },
     "metadata": {},
     "output_type": "display_data"
    },
    {
     "data": {
      "application/vnd.jupyter.widget-view+json": {
       "model_id": "cc7b0a18a06b41f2834941723b9f8bd6",
       "version_major": 2,
       "version_minor": 0
      },
      "text/plain": [
       "Validation: |          | 0/? [00:00<?, ?it/s]"
      ]
     },
     "metadata": {},
     "output_type": "display_data"
    },
    {
     "data": {
      "application/vnd.jupyter.widget-view+json": {
       "model_id": "ba054faa4a3d4a93bc40eb7ffefa146a",
       "version_major": 2,
       "version_minor": 0
      },
      "text/plain": [
       "Validation: |          | 0/? [00:00<?, ?it/s]"
      ]
     },
     "metadata": {},
     "output_type": "display_data"
    },
    {
     "data": {
      "application/vnd.jupyter.widget-view+json": {
       "model_id": "864fa4f213904008af2f1c1471a54710",
       "version_major": 2,
       "version_minor": 0
      },
      "text/plain": [
       "Validation: |          | 0/? [00:00<?, ?it/s]"
      ]
     },
     "metadata": {},
     "output_type": "display_data"
    },
    {
     "data": {
      "application/vnd.jupyter.widget-view+json": {
       "model_id": "a97e1c218f6743d5b9c33f79a28edaed",
       "version_major": 2,
       "version_minor": 0
      },
      "text/plain": [
       "Validation: |          | 0/? [00:00<?, ?it/s]"
      ]
     },
     "metadata": {},
     "output_type": "display_data"
    },
    {
     "data": {
      "application/vnd.jupyter.widget-view+json": {
       "model_id": "4297290f268c453285576df8255d7917",
       "version_major": 2,
       "version_minor": 0
      },
      "text/plain": [
       "Validation: |          | 0/? [00:00<?, ?it/s]"
      ]
     },
     "metadata": {},
     "output_type": "display_data"
    },
    {
     "data": {
      "application/vnd.jupyter.widget-view+json": {
       "model_id": "341bb4fda9d4440ca5fd9e7e38cc9ad1",
       "version_major": 2,
       "version_minor": 0
      },
      "text/plain": [
       "Validation: |          | 0/? [00:00<?, ?it/s]"
      ]
     },
     "metadata": {},
     "output_type": "display_data"
    },
    {
     "data": {
      "application/vnd.jupyter.widget-view+json": {
       "model_id": "f556f3edad08455cafe05ef4baab8272",
       "version_major": 2,
       "version_minor": 0
      },
      "text/plain": [
       "Validation: |          | 0/? [00:00<?, ?it/s]"
      ]
     },
     "metadata": {},
     "output_type": "display_data"
    },
    {
     "data": {
      "application/vnd.jupyter.widget-view+json": {
       "model_id": "267a3147f2b34c278420cfd539e75170",
       "version_major": 2,
       "version_minor": 0
      },
      "text/plain": [
       "Validation: |          | 0/? [00:00<?, ?it/s]"
      ]
     },
     "metadata": {},
     "output_type": "display_data"
    },
    {
     "name": "stderr",
     "output_type": "stream",
     "text": [
      "`Trainer.fit` stopped: `max_epochs=30` reached.\n"
     ]
    }
   ],
   "source": [
    "trainer.fit(\n",
    "    model,\n",
    "    train_loader,\n",
    "    test_loader,\n",
    ")"
   ]
  },
  {
   "cell_type": "code",
   "execution_count": 26,
   "metadata": {},
   "outputs": [
    {
     "data": {
      "image/png": "[encoded data removed]",
      "text/plain": [
       "<Figure size 1200x600 with 1 Axes>"
      ]
     },
     "metadata": {},
     "output_type": "display_data"
    }
   ],
   "source": [
    "smothed_train = smooth_moving_average([it.loss.cpu() for it in model.train_metrics], 2)\n",
    "smothed_eval = smooth_moving_average([it.loss.cpu() for it in model.val_metrics], 2)\n",
    "\n",
    "plot_epoch_generic_comparison(smothed_train, smothed_eval)"
   ]
  },
  {
   "cell_type": "code",
   "execution_count": 27,
   "metadata": {},
   "outputs": [],
   "source": [
    "# plot_epoch_generic(smothed_train)"
   ]
  },
  {
   "cell_type": "code",
   "execution_count": 28,
   "metadata": {},
   "outputs": [
    {
     "data": {
      "image/png": "[encoded data removed]",
      "text/plain": [
       "<Figure size 1200x600 with 1 Axes>"
      ]
     },
     "metadata": {},
     "output_type": "display_data"
    }
   ],
   "source": [
    "smooth_f1 = smooth_moving_average([it.f1.cpu() for it in model.val_metrics], 20)\n",
    "\n",
    "plot_epoch_generic(smooth_f1)"
   ]
  },
  {
   "cell_type": "code",
   "execution_count": 29,
   "metadata": {},
   "outputs": [
    {
     "name": "stderr",
     "output_type": "stream",
     "text": [
      "LOCAL_RANK: 0 - CUDA_VISIBLE_DEVICES: [0]\n"
     ]
    },
    {
     "data": {
      "application/vnd.jupyter.widget-view+json": {
       "model_id": "b41be35323894ab4a4d0fa3a88ac17ac",
       "version_major": 2,
       "version_minor": 0
      },
      "text/plain": [
       "Validation: |          | 0/? [00:00<?, ?it/s]"
      ]
     },
     "metadata": {},
     "output_type": "display_data"
    },
    {
     "name": "stdout",
     "output_type": "stream",
     "text": [
      "────────────────────────────────────────────────────────────────────────────────────────────────────────────────────────\n",
      "     Validate metric           DataLoader 0\n",
      "────────────────────────────────────────────────────────────────────────────────────────────────────────────────────────\n",
      "  val_average_accuracy              0.0\n",
      "         val_f1                     0.0\n",
      "        val_kappa                   0.0\n",
      "        val_loss           -0.42024844884872437\n",
      "  val_overall_accuracy              0.0\n",
      "────────────────────────────────────────────────────────────────────────────────────────────────────────────────────────\n"
     ]
    },
    {
     "data": {
      "text/plain": [
       "[{'val_loss': -0.42024844884872437,\n",
       "  'val_f1': 0.0,\n",
       "  'val_overall_accuracy': 0.0,\n",
       "  'val_average_accuracy': 0.0,\n",
       "  'val_kappa': 0.0}]"
      ]
     },
     "execution_count": 29,
     "metadata": {},
     "output_type": "execute_result"
    }
   ],
   "source": [
    "validation_result = trainer.validate(model, full_loader)\n",
    "\n",
    "validation_result"
   ]
  },
  {
   "cell_type": "markdown",
   "metadata": {},
   "source": [
    "5. Display prediction"
   ]
  },
  {
   "cell_type": "code",
   "execution_count": 30,
   "metadata": {},
   "outputs": [
    {
     "name": "stderr",
     "output_type": "stream",
     "text": [
      "LOCAL_RANK: 0 - CUDA_VISIBLE_DEVICES: [0]\n"
     ]
    },
    {
     "data": {
      "application/vnd.jupyter.widget-view+json": {
       "model_id": "099a45826a1f4ec2b90f15471bfe5e1b",
       "version_major": 2,
       "version_minor": 0
      },
      "text/plain": [
       "Predicting: |          | 0/? [00:00<?, ?it/s]"
      ]
     },
     "metadata": {},
     "output_type": "display_data"
    }
   ],
   "source": [
    "y_pred = trainer.predict(model, predict_loader)"
   ]
  },
  {
   "cell_type": "code",
   "execution_count": 31,
   "metadata": {},
   "outputs": [],
   "source": [
    "y_pred = torch.cat(y_pred, dim=0)\n",
    "# y_pred = torch.argmax(y_pred, dim=1)\n",
    "y_pred = y_pred.reshape(image_h, image_w)"
   ]
  },
  {
   "cell_type": "code",
   "execution_count": 32,
   "metadata": {},
   "outputs": [
    {
     "data": {
      "image/png": "[encoded data removed]",
      "text/plain": [
       "<Figure size 1000x500 with 2 Axes>"
      ]
     },
     "metadata": {},
     "output_type": "display_data"
    }
   ],
   "source": [
    "plot_segmentation_comparison(y.reshape(image_h, image_w), y_pred.numpy())"
   ]
  },
  {
   "cell_type": "markdown",
   "metadata": {},
   "source": [
    "6. Write report"
   ]
  },
  {
   "cell_type": "code",
   "execution_count": 33,
   "metadata": {},
   "outputs": [
    {
     "data": {
      "text/plain": [
       "PosixPath('/home/melal/Workspace/spatial-regulated-self-training/reports/runs/ground_indian_pines__2020202020202020202020202020202020.csv')"
      ]
     },
     "execution_count": 33,
     "metadata": {},
     "output_type": "execute_result"
    }
   ],
   "source": [
    "model_name = create_model_name(\"ground_indian_pines_\", examples_per_class)\n",
    "model_category = \"lenet\"\n",
    "\n",
    "report_run(\n",
    "    model_name=model_name,\n",
    "    model_category=model_category,\n",
    "    run_desc=\"Std, less epochs, PULoss, pass whole dataset\",\n",
    "    run_params={\n",
    "        \"learning_rate\": learning_rate,\n",
    "        \"num_epochs\": num_epochs,\n",
    "        \"batch_size\": batch_size,\n",
    "        \"patch_size\": patch_size,\n",
    "        \"target_dim\": target_dim,\n",
    "        \"scheduler_step_size\": scheduler_step_size,\n",
    "        \"scheduler_gamma\": scheduler_gamma,\n",
    "        \"pre_process_type\": str(pre_process_type),\n",
    "        \"dim_reduction_type\": str(dim_reduction_type),\n",
    "    },\n",
    "    run_metrics=lightning_metrics(validation_result),\n",
    ")"
   ]
  },
  {
   "cell_type": "code",
   "execution_count": 34,
   "metadata": {},
   "outputs": [
    {
     "data": {
      "text/html": [
       "<div>\n",
       "<style scoped>\n",
       "    .dataframe tbody tr th:only-of-type {\n",
       "        vertical-align: middle;\n",
       "    }\n",
       "\n",
       "    .dataframe tbody tr th {\n",
       "        vertical-align: top;\n",
       "    }\n",
       "\n",
       "    .dataframe thead th {\n",
       "        text-align: right;\n",
       "    }\n",
       "</style>\n",
       "<table border=\"1\" class=\"dataframe\">\n",
       "  <thead>\n",
       "    <tr style=\"text-align: right;\">\n",
       "      <th></th>\n",
       "      <th>timestamp</th>\n",
       "      <th>model_category</th>\n",
       "      <th>run_desc</th>\n",
       "      <th>params</th>\n",
       "      <th>loss</th>\n",
       "      <th>f1</th>\n",
       "      <th>OA</th>\n",
       "      <th>AA</th>\n",
       "      <th>kappa</th>\n",
       "    </tr>\n",
       "  </thead>\n",
       "  <tbody>\n",
       "    <tr>\n",
       "      <th>2</th>\n",
       "      <td>2025-05-26T16:48:02.982363+00:00</td>\n",
       "      <td>lenet</td>\n",
       "      <td>Std, loss fun weights, less epochs</td>\n",
       "      <td>{\"learning_rate\": 0.001, \"num_epochs\": 15, \"ba...</td>\n",
       "      <td>0.612272</td>\n",
       "      <td>0.724373</td>\n",
       "      <td>0.660648</td>\n",
       "      <td>0.721379</td>\n",
       "      <td>0.322724</td>\n",
       "    </tr>\n",
       "    <tr>\n",
       "      <th>8</th>\n",
       "      <td>2025-05-26T18:10:10.839530+00:00</td>\n",
       "      <td>gsvit</td>\n",
       "      <td>Default run</td>\n",
       "      <td>{\"group_spatial_size\": [3, 3, 3], \"dropout\": 0...</td>\n",
       "      <td>0.621146</td>\n",
       "      <td>0.708821</td>\n",
       "      <td>0.642272</td>\n",
       "      <td>0.705541</td>\n",
       "      <td>0.291995</td>\n",
       "    </tr>\n",
       "    <tr>\n",
       "      <th>9</th>\n",
       "      <td>2025-05-26T18:39:09.931044+00:00</td>\n",
       "      <td>lenet</td>\n",
       "      <td>Std, loss fun weights, less epochs</td>\n",
       "      <td>{\"learning_rate\": 0.001, \"num_epochs\": 30, \"ba...</td>\n",
       "      <td>0.641825</td>\n",
       "      <td>0.679100</td>\n",
       "      <td>0.615935</td>\n",
       "      <td>0.672438</td>\n",
       "      <td>NaN</td>\n",
       "    </tr>\n",
       "    <tr>\n",
       "      <th>7</th>\n",
       "      <td>2025-05-26T18:07:33.599262+00:00</td>\n",
       "      <td>gsvit</td>\n",
       "      <td>Default run</td>\n",
       "      <td>{\"group_spatial_size\": [3, 3, 3], \"dropout\": 0...</td>\n",
       "      <td>0.776818</td>\n",
       "      <td>0.658534</td>\n",
       "      <td>0.606061</td>\n",
       "      <td>0.669774</td>\n",
       "      <td>0.226723</td>\n",
       "    </tr>\n",
       "    <tr>\n",
       "      <th>4</th>\n",
       "      <td>2025-05-26T17:33:20.980460+00:00</td>\n",
       "      <td>dbda</td>\n",
       "      <td>Default run</td>\n",
       "      <td>{\"learning_rate\": 0.001, \"weight_decay\": 0, \"n...</td>\n",
       "      <td>13.519464</td>\n",
       "      <td>0.546337</td>\n",
       "      <td>0.547112</td>\n",
       "      <td>0.586825</td>\n",
       "      <td>0.138454</td>\n",
       "    </tr>\n",
       "    <tr>\n",
       "      <th>6</th>\n",
       "      <td>2025-05-26T18:01:49.238280+00:00</td>\n",
       "      <td>dbda</td>\n",
       "      <td>Less epochs</td>\n",
       "      <td>{\"learning_rate\": 0.001, \"weight_decay\": 0, \"n...</td>\n",
       "      <td>1.778952</td>\n",
       "      <td>0.444039</td>\n",
       "      <td>0.497332</td>\n",
       "      <td>0.533032</td>\n",
       "      <td>0.057993</td>\n",
       "    </tr>\n",
       "    <tr>\n",
       "      <th>3</th>\n",
       "      <td>2025-05-26T17:10:01.667548+00:00</td>\n",
       "      <td>dbda</td>\n",
       "      <td>Default run</td>\n",
       "      <td>{\"learning_rate\": 0.001, \"weight_decay\": 0, \"n...</td>\n",
       "      <td>1.513930</td>\n",
       "      <td>0.411924</td>\n",
       "      <td>0.481338</td>\n",
       "      <td>0.514388</td>\n",
       "      <td>0.032647</td>\n",
       "    </tr>\n",
       "    <tr>\n",
       "      <th>5</th>\n",
       "      <td>2025-05-26T17:46:58.675023+00:00</td>\n",
       "      <td>dbda</td>\n",
       "      <td>Less epochs</td>\n",
       "      <td>{\"learning_rate\": 0.001, \"weight_decay\": 0, \"n...</td>\n",
       "      <td>1.513930</td>\n",
       "      <td>0.411924</td>\n",
       "      <td>0.481338</td>\n",
       "      <td>0.514388</td>\n",
       "      <td>0.032647</td>\n",
       "    </tr>\n",
       "    <tr>\n",
       "      <th>0</th>\n",
       "      <td>2025-05-26T16:16:27.773887+00:00</td>\n",
       "      <td>lenet</td>\n",
       "      <td>Default run</td>\n",
       "      <td>{\"learning_rate\": 0.001, \"num_epochs\": 300, \"b...</td>\n",
       "      <td>0.810080</td>\n",
       "      <td>0.401973</td>\n",
       "      <td>0.426251</td>\n",
       "      <td>0.490702</td>\n",
       "      <td>NaN</td>\n",
       "    </tr>\n",
       "    <tr>\n",
       "      <th>1</th>\n",
       "      <td>2025-05-26T16:40:35.421793+00:00</td>\n",
       "      <td>lenet</td>\n",
       "      <td>Std, loss fun weights</td>\n",
       "      <td>{\"learning_rate\": 0.001, \"num_epochs\": 300, \"b...</td>\n",
       "      <td>0.790140</td>\n",
       "      <td>0.372675</td>\n",
       "      <td>0.463223</td>\n",
       "      <td>0.490987</td>\n",
       "      <td>0.006748</td>\n",
       "    </tr>\n",
       "    <tr>\n",
       "      <th>10</th>\n",
       "      <td>2025-05-26T19:04:12.916651+00:00</td>\n",
       "      <td>lenet</td>\n",
       "      <td>Std, PULoss, less epochs</td>\n",
       "      <td>{\"learning_rate\": 0.001, \"num_epochs\": 30, \"ba...</td>\n",
       "      <td>0.353878</td>\n",
       "      <td>0.000000</td>\n",
       "      <td>0.000000</td>\n",
       "      <td>0.000000</td>\n",
       "      <td>0.000000</td>\n",
       "    </tr>\n",
       "    <tr>\n",
       "      <th>11</th>\n",
       "      <td>2025-05-26T19:21:51.424633+00:00</td>\n",
       "      <td>lenet</td>\n",
       "      <td>Std, less epochs, PULoss, pass whole dataset</td>\n",
       "      <td>{\"learning_rate\": 0.001, \"num_epochs\": 30, \"ba...</td>\n",
       "      <td>-0.420248</td>\n",
       "      <td>0.000000</td>\n",
       "      <td>0.000000</td>\n",
       "      <td>0.000000</td>\n",
       "      <td>0.000000</td>\n",
       "    </tr>\n",
       "  </tbody>\n",
       "</table>\n",
       "</div>"
      ],
      "text/plain": [
       "                           timestamp model_category  \\\n",
       "2   2025-05-26T16:48:02.982363+00:00          lenet   \n",
       "8   2025-05-26T18:10:10.839530+00:00          gsvit   \n",
       "9   2025-05-26T18:39:09.931044+00:00          lenet   \n",
       "7   2025-05-26T18:07:33.599262+00:00          gsvit   \n",
       "4   2025-05-26T17:33:20.980460+00:00           dbda   \n",
       "6   2025-05-26T18:01:49.238280+00:00           dbda   \n",
       "3   2025-05-26T17:10:01.667548+00:00           dbda   \n",
       "5   2025-05-26T17:46:58.675023+00:00           dbda   \n",
       "0   2025-05-26T16:16:27.773887+00:00          lenet   \n",
       "1   2025-05-26T16:40:35.421793+00:00          lenet   \n",
       "10  2025-05-26T19:04:12.916651+00:00          lenet   \n",
       "11  2025-05-26T19:21:51.424633+00:00          lenet   \n",
       "\n",
       "                                        run_desc  \\\n",
       "2             Std, loss fun weights, less epochs   \n",
       "8                                    Default run   \n",
       "9             Std, loss fun weights, less epochs   \n",
       "7                                    Default run   \n",
       "4                                    Default run   \n",
       "6                                    Less epochs   \n",
       "3                                    Default run   \n",
       "5                                    Less epochs   \n",
       "0                                    Default run   \n",
       "1                          Std, loss fun weights   \n",
       "10                      Std, PULoss, less epochs   \n",
       "11  Std, less epochs, PULoss, pass whole dataset   \n",
       "\n",
       "                                               params       loss        f1  \\\n",
       "2   {\"learning_rate\": 0.001, \"num_epochs\": 15, \"ba...   0.612272  0.724373   \n",
       "8   {\"group_spatial_size\": [3, 3, 3], \"dropout\": 0...   0.621146  0.708821   \n",
       "9   {\"learning_rate\": 0.001, \"num_epochs\": 30, \"ba...   0.641825  0.679100   \n",
       "7   {\"group_spatial_size\": [3, 3, 3], \"dropout\": 0...   0.776818  0.658534   \n",
       "4   {\"learning_rate\": 0.001, \"weight_decay\": 0, \"n...  13.519464  0.546337   \n",
       "6   {\"learning_rate\": 0.001, \"weight_decay\": 0, \"n...   1.778952  0.444039   \n",
       "3   {\"learning_rate\": 0.001, \"weight_decay\": 0, \"n...   1.513930  0.411924   \n",
       "5   {\"learning_rate\": 0.001, \"weight_decay\": 0, \"n...   1.513930  0.411924   \n",
       "0   {\"learning_rate\": 0.001, \"num_epochs\": 300, \"b...   0.810080  0.401973   \n",
       "1   {\"learning_rate\": 0.001, \"num_epochs\": 300, \"b...   0.790140  0.372675   \n",
       "10  {\"learning_rate\": 0.001, \"num_epochs\": 30, \"ba...   0.353878  0.000000   \n",
       "11  {\"learning_rate\": 0.001, \"num_epochs\": 30, \"ba...  -0.420248  0.000000   \n",
       "\n",
       "          OA        AA     kappa  \n",
       "2   0.660648  0.721379  0.322724  \n",
       "8   0.642272  0.705541  0.291995  \n",
       "9   0.615935  0.672438       NaN  \n",
       "7   0.606061  0.669774  0.226723  \n",
       "4   0.547112  0.586825  0.138454  \n",
       "6   0.497332  0.533032  0.057993  \n",
       "3   0.481338  0.514388  0.032647  \n",
       "5   0.481338  0.514388  0.032647  \n",
       "0   0.426251  0.490702       NaN  \n",
       "1   0.463223  0.490987  0.006748  \n",
       "10  0.000000  0.000000  0.000000  \n",
       "11  0.000000  0.000000  0.000000  "
      ]
     },
     "execution_count": 34,
     "metadata": {},
     "output_type": "execute_result"
    }
   ],
   "source": [
    "read_report_to_show(model_name, sort_by_metric=\"f1\")"
   ]
  },
  {
   "cell_type": "code",
   "execution_count": 35,
   "metadata": {},
   "outputs": [
    {
     "data": {
      "text/html": [
       "<div>\n",
       "<style scoped>\n",
       "    .dataframe tbody tr th:only-of-type {\n",
       "        vertical-align: middle;\n",
       "    }\n",
       "\n",
       "    .dataframe tbody tr th {\n",
       "        vertical-align: top;\n",
       "    }\n",
       "\n",
       "    .dataframe thead th {\n",
       "        text-align: right;\n",
       "    }\n",
       "</style>\n",
       "<table border=\"1\" class=\"dataframe\">\n",
       "  <thead>\n",
       "    <tr style=\"text-align: right;\">\n",
       "      <th></th>\n",
       "      <th>timestamp</th>\n",
       "      <th>run_desc</th>\n",
       "      <th>params</th>\n",
       "      <th>loss</th>\n",
       "      <th>f1</th>\n",
       "      <th>OA</th>\n",
       "      <th>AA</th>\n",
       "      <th>kappa</th>\n",
       "    </tr>\n",
       "  </thead>\n",
       "  <tbody>\n",
       "    <tr>\n",
       "      <th>2</th>\n",
       "      <td>2025-05-26T16:48:02.982363+00:00</td>\n",
       "      <td>Std, loss fun weights, less epochs</td>\n",
       "      <td>{\"learning_rate\": 0.001, \"num_epochs\": 15, \"ba...</td>\n",
       "      <td>0.612272</td>\n",
       "      <td>0.724373</td>\n",
       "      <td>0.660648</td>\n",
       "      <td>0.721379</td>\n",
       "      <td>0.322724</td>\n",
       "    </tr>\n",
       "    <tr>\n",
       "      <th>9</th>\n",
       "      <td>2025-05-26T18:39:09.931044+00:00</td>\n",
       "      <td>Std, loss fun weights, less epochs</td>\n",
       "      <td>{\"learning_rate\": 0.001, \"num_epochs\": 30, \"ba...</td>\n",
       "      <td>0.641825</td>\n",
       "      <td>0.679100</td>\n",
       "      <td>0.615935</td>\n",
       "      <td>0.672438</td>\n",
       "      <td>NaN</td>\n",
       "    </tr>\n",
       "    <tr>\n",
       "      <th>1</th>\n",
       "      <td>2025-05-26T16:40:35.421793+00:00</td>\n",
       "      <td>Std, loss fun weights</td>\n",
       "      <td>{\"learning_rate\": 0.001, \"num_epochs\": 300, \"b...</td>\n",
       "      <td>0.790140</td>\n",
       "      <td>0.372675</td>\n",
       "      <td>0.463223</td>\n",
       "      <td>0.490987</td>\n",
       "      <td>0.006748</td>\n",
       "    </tr>\n",
       "    <tr>\n",
       "      <th>0</th>\n",
       "      <td>2025-05-26T16:16:27.773887+00:00</td>\n",
       "      <td>Default run</td>\n",
       "      <td>{\"learning_rate\": 0.001, \"num_epochs\": 300, \"b...</td>\n",
       "      <td>0.810080</td>\n",
       "      <td>0.401973</td>\n",
       "      <td>0.426251</td>\n",
       "      <td>0.490702</td>\n",
       "      <td>NaN</td>\n",
       "    </tr>\n",
       "    <tr>\n",
       "      <th>10</th>\n",
       "      <td>2025-05-26T19:04:12.916651+00:00</td>\n",
       "      <td>Std, PULoss, less epochs</td>\n",
       "      <td>{\"learning_rate\": 0.001, \"num_epochs\": 30, \"ba...</td>\n",
       "      <td>0.353878</td>\n",
       "      <td>0.000000</td>\n",
       "      <td>0.000000</td>\n",
       "      <td>0.000000</td>\n",
       "      <td>0.000000</td>\n",
       "    </tr>\n",
       "    <tr>\n",
       "      <th>11</th>\n",
       "      <td>2025-05-26T19:21:51.424633+00:00</td>\n",
       "      <td>Std, less epochs, PULoss, pass whole dataset</td>\n",
       "      <td>{\"learning_rate\": 0.001, \"num_epochs\": 30, \"ba...</td>\n",
       "      <td>-0.420248</td>\n",
       "      <td>0.000000</td>\n",
       "      <td>0.000000</td>\n",
       "      <td>0.000000</td>\n",
       "      <td>0.000000</td>\n",
       "    </tr>\n",
       "  </tbody>\n",
       "</table>\n",
       "</div>"
      ],
      "text/plain": [
       "                           timestamp  \\\n",
       "2   2025-05-26T16:48:02.982363+00:00   \n",
       "9   2025-05-26T18:39:09.931044+00:00   \n",
       "1   2025-05-26T16:40:35.421793+00:00   \n",
       "0   2025-05-26T16:16:27.773887+00:00   \n",
       "10  2025-05-26T19:04:12.916651+00:00   \n",
       "11  2025-05-26T19:21:51.424633+00:00   \n",
       "\n",
       "                                        run_desc  \\\n",
       "2             Std, loss fun weights, less epochs   \n",
       "9             Std, loss fun weights, less epochs   \n",
       "1                          Std, loss fun weights   \n",
       "0                                    Default run   \n",
       "10                      Std, PULoss, less epochs   \n",
       "11  Std, less epochs, PULoss, pass whole dataset   \n",
       "\n",
       "                                               params      loss        f1  \\\n",
       "2   {\"learning_rate\": 0.001, \"num_epochs\": 15, \"ba...  0.612272  0.724373   \n",
       "9   {\"learning_rate\": 0.001, \"num_epochs\": 30, \"ba...  0.641825  0.679100   \n",
       "1   {\"learning_rate\": 0.001, \"num_epochs\": 300, \"b...  0.790140  0.372675   \n",
       "0   {\"learning_rate\": 0.001, \"num_epochs\": 300, \"b...  0.810080  0.401973   \n",
       "10  {\"learning_rate\": 0.001, \"num_epochs\": 30, \"ba...  0.353878  0.000000   \n",
       "11  {\"learning_rate\": 0.001, \"num_epochs\": 30, \"ba... -0.420248  0.000000   \n",
       "\n",
       "          OA        AA     kappa  \n",
       "2   0.660648  0.721379  0.322724  \n",
       "9   0.615935  0.672438       NaN  \n",
       "1   0.463223  0.490987  0.006748  \n",
       "0   0.426251  0.490702       NaN  \n",
       "10  0.000000  0.000000  0.000000  \n",
       "11  0.000000  0.000000  0.000000  "
      ]
     },
     "execution_count": 35,
     "metadata": {},
     "output_type": "execute_result"
    }
   ],
   "source": [
    "read_report_to_show(model_name, sort_by_metric=\"OA\", model_category=model_category)"
   ]
  }
 ],
 "metadata": {
  "kernelspec": {
   "display_name": ".venv",
   "language": "python",
   "name": "python3"
  },
  "language_info": {
   "codemirror_mode": {
    "name": "ipython",
    "version": 3
   },
   "file_extension": ".py",
   "mimetype": "text/x-python",
   "name": "python",
   "nbconvert_exporter": "python",
   "pygments_lexer": "ipython3",
   "version": "3.12.3"
  }
 },
 "nbformat": 4,
 "nbformat_minor": 2
}
