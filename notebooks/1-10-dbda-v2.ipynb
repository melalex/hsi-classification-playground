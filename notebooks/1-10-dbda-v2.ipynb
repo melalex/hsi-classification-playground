{
 "cells": [
  {
   "cell_type": "markdown",
   "metadata": {},
   "source": [
    "# Indiana Pines"
   ]
  },
  {
   "cell_type": "markdown",
   "metadata": {},
   "source": [
    "1. Import dependencies"
   ]
  },
  {
   "cell_type": "code",
   "execution_count": 1,
   "metadata": {},
   "outputs": [],
   "source": [
    "import random\n",
    "import torch\n",
    "import multiprocessing\n",
    "import numpy as np\n",
    "\n",
    "import torch.utils.data as data\n",
    "\n",
    "from sklearn.model_selection import train_test_split\n",
    "\n",
    "from lightning import Trainer\n",
    "\n",
    "from src.util.torch import resolve_torch_device\n",
    "from src.util.hsi import (\n",
    "    extract_patches,\n",
    "    reduce_hsi_dim,\n",
    "    train_test_band_patch_split,\n",
    "    preprocess_hsi,\n",
    "    read_fixed_labels_mask,\n",
    "    train_test_split_by_mask,\n",
    "    PreProcessType,\n",
    "    DimReductionType,\n",
    ")\n",
    "from src.data.indian_pines import load_indian_pines\n",
    "from src.model.hsic import HyperSpectralImageClassifier\n",
    "from src.visualization.plot import (\n",
    "    plot_segmentation_comparison,\n",
    "    plot_epoch_generic,\n",
    "    plot_masked_segmentation_comparison,\n",
    ")\n",
    "\n",
    "from src.data.dataset_decorator import UnlabeledDatasetDecorator\n",
    "from src.util.reporting import (\n",
    "    create_model_name,\n",
    "    report_run,\n",
    "    read_report_to_show,\n",
    "    lightning_metrics,\n",
    ")\n",
    "from src.util.list_ext import smooth_moving_average\n",
    "from src.util.scheduler import CosineLRSchedulerWrapper\n",
    "from src.model.dbda_v2 import DbdaWithCrossAttention\n",
    "from src.util.dict_ext import arrange_and_repeat"
   ]
  },
  {
   "cell_type": "markdown",
   "metadata": {},
   "source": [
    "2. Prepare env"
   ]
  },
  {
   "cell_type": "code",
   "execution_count": 2,
   "metadata": {},
   "outputs": [],
   "source": [
    "learning_rate = 1e-3\n",
    "weight_decay = 0\n",
    "num_epochs = 300"
   ]
  },
  {
   "cell_type": "code",
   "execution_count": 3,
   "metadata": {},
   "outputs": [],
   "source": [
    "batch_size = 64\n",
    "patch_size = 9\n",
    "target_dim = 75\n",
    "\n",
    "examples_per_class = {}\n",
    "\n",
    "pre_process_type = PreProcessType.STANDARTIZATION\n",
    "dim_reduction_type = DimReductionType.PCA"
   ]
  },
  {
   "cell_type": "code",
   "execution_count": 4,
   "metadata": {},
   "outputs": [],
   "source": [
    "random_seed = 42\n",
    "\n",
    "random.seed(random_seed)\n",
    "torch.manual_seed(random_seed)\n",
    "np.random.seed(random_seed)\n",
    "\n",
    "device = resolve_torch_device()"
   ]
  },
  {
   "cell_type": "code",
   "execution_count": 5,
   "metadata": {},
   "outputs": [],
   "source": [
    "torch.cuda.empty_cache()"
   ]
  },
  {
   "cell_type": "code",
   "execution_count": 6,
   "metadata": {},
   "outputs": [],
   "source": [
    "torch.set_float32_matmul_precision(\"medium\")"
   ]
  },
  {
   "cell_type": "code",
   "execution_count": 7,
   "metadata": {},
   "outputs": [
    {
     "data": {
      "text/plain": [
       "'Device is cuda'"
      ]
     },
     "execution_count": 7,
     "metadata": {},
     "output_type": "execute_result"
    }
   ],
   "source": [
    "f\"Device is {device}\""
   ]
  },
  {
   "cell_type": "markdown",
   "metadata": {},
   "source": [
    "3. Load dataset"
   ]
  },
  {
   "cell_type": "code",
   "execution_count": 8,
   "metadata": {},
   "outputs": [],
   "source": [
    "image, labels = load_indian_pines()\n",
    "\n",
    "image_h, image_w, image_c = image.shape"
   ]
  },
  {
   "cell_type": "code",
   "execution_count": 9,
   "metadata": {},
   "outputs": [],
   "source": [
    "_, image = preprocess_hsi(image, pre_process_type)"
   ]
  },
  {
   "cell_type": "code",
   "execution_count": 10,
   "metadata": {},
   "outputs": [],
   "source": [
    "_, target_dim, image = reduce_hsi_dim(\n",
    "    image, target_dim, dim_reduction_type, device, random_seed\n",
    ")"
   ]
  },
  {
   "cell_type": "code",
   "execution_count": 11,
   "metadata": {},
   "outputs": [],
   "source": [
    "x, y = extract_patches(image, labels, patch_size=patch_size)"
   ]
  },
  {
   "cell_type": "code",
   "execution_count": 12,
   "metadata": {},
   "outputs": [
    {
     "data": {
      "text/plain": [
       "'Number of classes 17'"
      ]
     },
     "execution_count": 12,
     "metadata": {},
     "output_type": "execute_result"
    }
   ],
   "source": [
    "num_classes = len(np.unique(y))\n",
    "\n",
    "f\"Number of classes {num_classes}\""
   ]
  },
  {
   "cell_type": "code",
   "execution_count": 13,
   "metadata": {},
   "outputs": [],
   "source": [
    "examples_per_class = arrange_and_repeat(num_classes, 20)"
   ]
  },
  {
   "cell_type": "code",
   "execution_count": 14,
   "metadata": {},
   "outputs": [
    {
     "data": {
      "image/png": "[encoded data removed]",
      "text/plain": [
       "<Figure size 1000x500 with 2 Axes>"
      ]
     },
     "metadata": {},
     "output_type": "display_data"
    }
   ],
   "source": [
    "mask = read_fixed_labels_mask(\"indian-pines-v1.npy\")\n",
    "\n",
    "x_train, y_train, x_test, y_test = train_test_split_by_mask(x, y, mask)\n",
    "\n",
    "_ = plot_masked_segmentation_comparison(y.reshape(image_h, image_w), mask)"
   ]
  },
  {
   "cell_type": "code",
   "execution_count": 15,
   "metadata": {},
   "outputs": [],
   "source": [
    "x_tensor = torch.tensor(x, dtype=torch.float32).permute(0, 3, 1, 2) \n",
    "y_tensor = torch.tensor(y, dtype=torch.long)\n",
    "x_train_tensor = torch.tensor(x_train, dtype=torch.float32).permute(0, 3, 1, 2)\n",
    "y_train_tensor = torch.tensor(y_train, dtype=torch.long)\n",
    "x_test_tensor = torch.tensor(x_test, dtype=torch.float32).permute(0, 3, 1, 2)\n",
    "y_test_tensor = torch.tensor(y_test, dtype=torch.long)"
   ]
  },
  {
   "cell_type": "code",
   "execution_count": 16,
   "metadata": {},
   "outputs": [
    {
     "data": {
      "text/plain": [
       "'Setting num_workers to 24'"
      ]
     },
     "execution_count": 16,
     "metadata": {},
     "output_type": "execute_result"
    }
   ],
   "source": [
    "cpu_count = multiprocessing.cpu_count()\n",
    "\n",
    "f\"Setting num_workers to {cpu_count}\""
   ]
  },
  {
   "cell_type": "code",
   "execution_count": 17,
   "metadata": {},
   "outputs": [],
   "source": [
    "train_dataset = data.TensorDataset(x_train_tensor, y_train_tensor)\n",
    "test_dataset = data.TensorDataset(x_test_tensor, y_test_tensor)\n",
    "full_dataset = data.TensorDataset(x_tensor, y_tensor)\n",
    "\n",
    "train_loader = data.DataLoader(\n",
    "    train_dataset,\n",
    "    batch_size=batch_size,\n",
    "    shuffle=True,\n",
    "    num_workers=cpu_count,\n",
    "    persistent_workers=True,\n",
    ")\n",
    "test_loader = data.DataLoader(\n",
    "    test_dataset,\n",
    "    batch_size=batch_size,\n",
    "    shuffle=False,\n",
    "    num_workers=cpu_count,\n",
    "    persistent_workers=True,\n",
    ")\n",
    "full_loader = data.DataLoader(\n",
    "    full_dataset,\n",
    "    batch_size=batch_size,\n",
    "    shuffle=False,\n",
    "    num_workers=cpu_count,\n",
    "    persistent_workers=True,\n",
    ")\n",
    "predict_loader = data.DataLoader(\n",
    "    UnlabeledDatasetDecorator(full_dataset),\n",
    "    batch_size=batch_size,\n",
    "    num_workers=cpu_count,\n",
    "    persistent_workers=True,\n",
    ")"
   ]
  },
  {
   "cell_type": "code",
   "execution_count": 18,
   "metadata": {},
   "outputs": [
    {
     "data": {
      "text/plain": [
       "'Training samples: 340, Testing samples: 20685'"
      ]
     },
     "execution_count": 18,
     "metadata": {},
     "output_type": "execute_result"
    }
   ],
   "source": [
    "f\"Training samples: {len(train_dataset)}, Testing samples: {len(test_dataset)}\""
   ]
  },
  {
   "cell_type": "markdown",
   "metadata": {},
   "source": [
    "4. Train model"
   ]
  },
  {
   "cell_type": "code",
   "execution_count": 19,
   "metadata": {},
   "outputs": [
    {
     "name": "stderr",
     "output_type": "stream",
     "text": [
      "You are using the plain ModelCheckpoint callback. Consider using LitModelCheckpoint which with seamless uploading to Model registry.\n",
      "GPU available: True (cuda), used: True\n",
      "TPU available: False, using: 0 TPU cores\n",
      "HPU available: False, using: 0 HPUs\n",
      "/home/melal/Workspace/spatial-regulated-self-training/.venv/lib/python3.12/site-packages/lightning/pytorch/trainer/connectors/logger_connector/logger_connector.py:76: Starting from v1.9.0, `tensorboardX` has been removed as a dependency of the `lightning.pytorch` package, due to potential conflicts with other packages in the ML ecosystem. For this reason, `logger=True` will use `CSVLogger` as the default logger, unless the `tensorboard` or `tensorboardX` packages are found. Please `pip install lightning[extra]` or one of them to enable TensorBoard support by default\n"
     ]
    }
   ],
   "source": [
    "model = HyperSpectralImageClassifier(\n",
    "    DbdaWithCrossAttention(\n",
    "        band=target_dim,\n",
    "        classes=num_classes,\n",
    "    ),\n",
    "    num_classes,\n",
    "    lr=learning_rate,\n",
    "    weight_decay=weight_decay,\n",
    "    scheduler=lambda optimizer: CosineLRSchedulerWrapper(\n",
    "        optimizer,\n",
    "        t_initial=num_epochs,\n",
    "        lr_min=learning_rate * 0.01,\n",
    "        warmup_t=int(np.ceil(0.1 * num_epochs)),\n",
    "        warmup_lr_init=learning_rate * 0.01,\n",
    "    ),\n",
    ")\n",
    "\n",
    "trainer = Trainer(accelerator=\"auto\", max_epochs=num_epochs)"
   ]
  },
  {
   "cell_type": "code",
   "execution_count": 20,
   "metadata": {},
   "outputs": [
    {
     "name": "stderr",
     "output_type": "stream",
     "text": [
      "/home/melal/Workspace/spatial-regulated-self-training/.venv/lib/python3.12/site-packages/lightning/pytorch/trainer/configuration_validator.py:70: You defined a `validation_step` but have no `val_dataloader`. Skipping val loop.\n",
      "LOCAL_RANK: 0 - CUDA_VISIBLE_DEVICES: [0]\n",
      "\n",
      "  | Name             | Type                   | Params | Mode \n",
      "--------------------------------------------------------------------\n",
      "0 | net              | DbdaWithCrossAttention | 181 K  | train\n",
      "1 | loss_fun         | CrossEntropyLoss       | 0      | train\n",
      "2 | f1               | MulticlassF1Score      | 0      | train\n",
      "3 | overall_accuracy | MulticlassAccuracy     | 0      | train\n",
      "4 | average_accuracy | MulticlassAccuracy     | 0      | train\n",
      "5 | kappa            | MulticlassCohenKappa   | 0      | train\n",
      "--------------------------------------------------------------------\n",
      "181 K     Trainable params\n",
      "0         Non-trainable params\n",
      "181 K     Total params\n",
      "0.728     Total estimated model params size (MB)\n",
      "52        Modules in train mode\n",
      "0         Modules in eval mode\n",
      "/home/melal/Workspace/spatial-regulated-self-training/.venv/lib/python3.12/site-packages/lightning/pytorch/loops/fit_loop.py:310: The number of training batches (6) is smaller than the logging interval Trainer(log_every_n_steps=50). Set a lower value for log_every_n_steps if you want to see logs for the training epoch.\n"
     ]
    },
    {
     "data": {
      "application/vnd.jupyter.widget-view+json": {
       "model_id": "f1229ee1429548d9917c3b6aa59ede23",
       "version_major": 2,
       "version_minor": 0
      },
      "text/plain": [
       "Training: |          | 0/? [00:00<?, ?it/s]"
      ]
     },
     "metadata": {},
     "output_type": "display_data"
    },
    {
     "name": "stderr",
     "output_type": "stream",
     "text": [
      "`Trainer.fit` stopped: `max_epochs=300` reached.\n"
     ]
    }
   ],
   "source": [
    "trainer.fit(\n",
    "    model,\n",
    "    train_loader, \n",
    "    # test_loader,\n",
    ")"
   ]
  },
  {
   "cell_type": "code",
   "execution_count": 21,
   "metadata": {},
   "outputs": [],
   "source": [
    "# smothed_train = smooth_moving_average([it.loss.cpu() for it in model.train_metrics], 20)\n",
    "# smothed_eval = smooth_moving_average([it.loss.cpu() for it in model.val_metrics], 20)\n",
    "\n",
    "# plot_epoch_generic_comparison(smothed_train, smothed_eval)"
   ]
  },
  {
   "cell_type": "code",
   "execution_count": 22,
   "metadata": {},
   "outputs": [
    {
     "data": {
      "image/png": "[encoded data removed]",
      "text/plain": [
       "<Figure size 1200x600 with 1 Axes>"
      ]
     },
     "metadata": {},
     "output_type": "display_data"
    }
   ],
   "source": [
    "smothed_train = smooth_moving_average([it.loss.cpu() for it in model.train_metrics], 20)\n",
    "\n",
    "plot_epoch_generic(smothed_train, desc=\"Loss\")"
   ]
  },
  {
   "cell_type": "code",
   "execution_count": 23,
   "metadata": {},
   "outputs": [],
   "source": [
    "# smooth_f1 = smooth_moving_average([it.f1.cpu() for it in model.val_metrics], 20)\n",
    "\n",
    "# plot_epoch_generic(smooth_f1, desc=\"F1\")"
   ]
  },
  {
   "cell_type": "code",
   "execution_count": 24,
   "metadata": {},
   "outputs": [
    {
     "name": "stderr",
     "output_type": "stream",
     "text": [
      "LOCAL_RANK: 0 - CUDA_VISIBLE_DEVICES: [0]\n"
     ]
    },
    {
     "data": {
      "application/vnd.jupyter.widget-view+json": {
       "model_id": "ec1a64947aa24460af97f153c7d3e860",
       "version_major": 2,
       "version_minor": 0
      },
      "text/plain": [
       "Validation: |          | 0/? [00:00<?, ?it/s]"
      ]
     },
     "metadata": {},
     "output_type": "display_data"
    },
    {
     "name": "stdout",
     "output_type": "stream",
     "text": [
      "────────────────────────────────────────────────────────────────────────────────────────────────────────────────────────\n",
      "     Validate metric           DataLoader 0\n",
      "────────────────────────────────────────────────────────────────────────────────────────────────────────────────────────\n",
      "  val_average_accuracy      0.6746730208396912\n",
      "         val_f1             0.6978054642677307\n",
      "        val_kappa           0.5186834335327148\n",
      "        val_loss            1.8300577402114868\n",
      "  val_overall_accuracy      0.5086584687232971\n",
      "────────────────────────────────────────────────────────────────────────────────────────────────────────────────────────\n"
     ]
    },
    {
     "data": {
      "text/plain": [
       "[{'val_loss': 1.8300577402114868,\n",
       "  'val_f1': 0.6978054642677307,\n",
       "  'val_overall_accuracy': 0.5086584687232971,\n",
       "  'val_average_accuracy': 0.6746730208396912,\n",
       "  'val_kappa': 0.5186834335327148}]"
      ]
     },
     "execution_count": 24,
     "metadata": {},
     "output_type": "execute_result"
    }
   ],
   "source": [
    "validation_result = trainer.validate(model, full_loader)\n",
    "\n",
    "validation_result"
   ]
  },
  {
   "cell_type": "markdown",
   "metadata": {},
   "source": [
    "2. Display prediction"
   ]
  },
  {
   "cell_type": "code",
   "execution_count": 25,
   "metadata": {},
   "outputs": [
    {
     "name": "stderr",
     "output_type": "stream",
     "text": [
      "LOCAL_RANK: 0 - CUDA_VISIBLE_DEVICES: [0]\n"
     ]
    },
    {
     "data": {
      "application/vnd.jupyter.widget-view+json": {
       "model_id": "ac9f00daed3f458db956170fbc357aa7",
       "version_major": 2,
       "version_minor": 0
      },
      "text/plain": [
       "Predicting: |          | 0/? [00:00<?, ?it/s]"
      ]
     },
     "metadata": {},
     "output_type": "display_data"
    }
   ],
   "source": [
    "y_pred = trainer.predict(model, predict_loader)"
   ]
  },
  {
   "cell_type": "code",
   "execution_count": 26,
   "metadata": {},
   "outputs": [],
   "source": [
    "y_pred = torch.cat(y_pred, dim=0)\n",
    "y_pred = torch.argmax(y_pred, dim=1)\n",
    "y_pred = y_pred.reshape(image_h, image_w)"
   ]
  },
  {
   "cell_type": "code",
   "execution_count": 27,
   "metadata": {},
   "outputs": [
    {
     "data": {
      "image/png": "[encoded data removed]",
      "text/plain": [
       "<Figure size 1000x500 with 2 Axes>"
      ]
     },
     "metadata": {},
     "output_type": "display_data"
    }
   ],
   "source": [
    "plot_segmentation_comparison(y.reshape(image_h, image_w), y_pred.numpy(), num_classes)"
   ]
  },
  {
   "cell_type": "markdown",
   "metadata": {},
   "source": [
    "6. Write report"
   ]
  },
  {
   "cell_type": "code",
   "execution_count": 28,
   "metadata": {},
   "outputs": [
    {
     "data": {
      "text/plain": [
       "PosixPath('/home/melal/Workspace/spatial-regulated-self-training/reports/runs/indian_pines__0-20_1-20_2-20_3-20_4-20_5-20_6-20_7-20_8-20_9-20_10-20_11-20_12-20_13-20_14-20_15-20_16-20.csv')"
      ]
     },
     "execution_count": 28,
     "metadata": {},
     "output_type": "execute_result"
    }
   ],
   "source": [
    "model_name = create_model_name(\"indian_pines_\", examples_per_class)\n",
    "model_category = \"dbda_v2\"\n",
    "\n",
    "run_params = {\n",
    "    \"num_epochs\": num_epochs,\n",
    "    \"batch_size\": batch_size,\n",
    "    \"patch_size\": patch_size,\n",
    "    \"target_dim\": target_dim,\n",
    "    \"pre_process_type\": str(pre_process_type),\n",
    "    \"dim_reduction_type\": str(dim_reduction_type),\n",
    "}\n",
    "\n",
    "report_run(\n",
    "    model_name=model_name,\n",
    "    model_category=model_category,\n",
    "    run_desc=\"Add PCA, scheduler, bigger lr, v3 fixed ds\",\n",
    "    run_params=run_params | model.get_params(),\n",
    "    run_metrics=lightning_metrics(validation_result),\n",
    ")"
   ]
  },
  {
   "cell_type": "code",
   "execution_count": 29,
   "metadata": {},
   "outputs": [
    {
     "data": {
      "text/html": [
       "<div>\n",
       "<style scoped>\n",
       "    .dataframe tbody tr th:only-of-type {\n",
       "        vertical-align: middle;\n",
       "    }\n",
       "\n",
       "    .dataframe tbody tr th {\n",
       "        vertical-align: top;\n",
       "    }\n",
       "\n",
       "    .dataframe thead th {\n",
       "        text-align: right;\n",
       "    }\n",
       "</style>\n",
       "<table border=\"1\" class=\"dataframe\">\n",
       "  <thead>\n",
       "    <tr style=\"text-align: right;\">\n",
       "      <th></th>\n",
       "      <th>timestamp</th>\n",
       "      <th>model_category</th>\n",
       "      <th>run_desc</th>\n",
       "      <th>params</th>\n",
       "      <th>loss</th>\n",
       "      <th>f1</th>\n",
       "      <th>OA</th>\n",
       "      <th>AA</th>\n",
       "      <th>kappa</th>\n",
       "    </tr>\n",
       "  </thead>\n",
       "  <tbody>\n",
       "    <tr>\n",
       "      <th>64</th>\n",
       "      <td>2025-05-31T12:52:12.314211+00:00</td>\n",
       "      <td>lenet_multiview</td>\n",
       "      <td>New fixed mask, 2 epochs, new unlabled shrinking</td>\n",
       "      <td>{\"num_epochs\": 15, \"batch_size\": 32, \"patch_si...</td>\n",
       "      <td>NaN</td>\n",
       "      <td>0.790402</td>\n",
       "      <td>0.878032</td>\n",
       "      <td>0.787206</td>\n",
       "      <td>0.703928</td>\n",
       "    </tr>\n",
       "    <tr>\n",
       "      <th>67</th>\n",
       "      <td>2025-05-31T18:17:32.920559+00:00</td>\n",
       "      <td>lenet_multiview</td>\n",
       "      <td>New fixed mask, 2 epoch, new unlabled shrinking</td>\n",
       "      <td>{\"num_epochs\": 15, \"batch_size\": 32, \"patch_si...</td>\n",
       "      <td>NaN</td>\n",
       "      <td>0.790402</td>\n",
       "      <td>0.878032</td>\n",
       "      <td>0.787206</td>\n",
       "      <td>0.703928</td>\n",
       "    </tr>\n",
       "    <tr>\n",
       "      <th>62</th>\n",
       "      <td>2025-05-30T20:38:12.198151+00:00</td>\n",
       "      <td>lenet_multiview</td>\n",
       "      <td>New fixed mask, less epochs</td>\n",
       "      <td>{\"num_epochs\": 15, \"batch_size\": 32, \"patch_si...</td>\n",
       "      <td>NaN</td>\n",
       "      <td>0.761022</td>\n",
       "      <td>0.824273</td>\n",
       "      <td>0.768847</td>\n",
       "      <td>0.657544</td>\n",
       "    </tr>\n",
       "    <tr>\n",
       "      <th>72</th>\n",
       "      <td>2025-06-01T11:04:28.706267+00:00</td>\n",
       "      <td>lenet_multiview</td>\n",
       "      <td>Self learning, 8 epochs, new unlabled shrinkin...</td>\n",
       "      <td>{\"num_epochs\": 30, \"batch_size\": 32, \"patch_si...</td>\n",
       "      <td>NaN</td>\n",
       "      <td>0.760632</td>\n",
       "      <td>0.838244</td>\n",
       "      <td>0.765612</td>\n",
       "      <td>0.657339</td>\n",
       "    </tr>\n",
       "    <tr>\n",
       "      <th>63</th>\n",
       "      <td>2025-05-31T12:39:48.464309+00:00</td>\n",
       "      <td>lenet_multiview</td>\n",
       "      <td>New fixed mask, more epochs, new unlabled shri...</td>\n",
       "      <td>{\"num_epochs\": 15, \"batch_size\": 32, \"patch_si...</td>\n",
       "      <td>NaN</td>\n",
       "      <td>0.758548</td>\n",
       "      <td>0.828754</td>\n",
       "      <td>0.762759</td>\n",
       "      <td>0.654074</td>\n",
       "    </tr>\n",
       "    <tr>\n",
       "      <th>...</th>\n",
       "      <td>...</td>\n",
       "      <td>...</td>\n",
       "      <td>...</td>\n",
       "      <td>...</td>\n",
       "      <td>...</td>\n",
       "      <td>...</td>\n",
       "      <td>...</td>\n",
       "      <td>...</td>\n",
       "      <td>...</td>\n",
       "    </tr>\n",
       "    <tr>\n",
       "      <th>22</th>\n",
       "      <td>2025-05-25T14:39:13.847478+00:00</td>\n",
       "      <td>specteal_former_co_training</td>\n",
       "      <td>Default run</td>\n",
       "      <td>{\"hidden_dim\": 32, \"num_layers\": 5, \"num_heads...</td>\n",
       "      <td>2.814270</td>\n",
       "      <td>0.179225</td>\n",
       "      <td>0.430531</td>\n",
       "      <td>0.176266</td>\n",
       "      <td>0.130307</td>\n",
       "    </tr>\n",
       "    <tr>\n",
       "      <th>10</th>\n",
       "      <td>2025-05-25T09:30:05.188620+00:00</td>\n",
       "      <td>vit</td>\n",
       "      <td>Add weight decay</td>\n",
       "      <td>{\"hidden_dim\": 64, \"num_layers\": 5, \"num_heads...</td>\n",
       "      <td>5.515652</td>\n",
       "      <td>0.177391</td>\n",
       "      <td>0.052552</td>\n",
       "      <td>0.143306</td>\n",
       "      <td>0.060421</td>\n",
       "    </tr>\n",
       "    <tr>\n",
       "      <th>73</th>\n",
       "      <td>2025-06-01T20:02:30.458685+00:00</td>\n",
       "      <td>vit</td>\n",
       "      <td>Fixed mask, add weight decay, increase dropout...</td>\n",
       "      <td>{\"num_epochs\": 300, \"batch_size\": 64, \"patch_s...</td>\n",
       "      <td>2.716200</td>\n",
       "      <td>0.168771</td>\n",
       "      <td>0.048153</td>\n",
       "      <td>0.131034</td>\n",
       "      <td>0.049644</td>\n",
       "    </tr>\n",
       "    <tr>\n",
       "      <th>24</th>\n",
       "      <td>2025-05-25T16:13:53.131416+00:00</td>\n",
       "      <td>lenet_co_training</td>\n",
       "      <td>Less epochs, no scheduling</td>\n",
       "      <td>{\"learning_rate\": 0.001, \"num_epochs\": 30, \"ba...</td>\n",
       "      <td>2.827521</td>\n",
       "      <td>0.147750</td>\n",
       "      <td>0.677064</td>\n",
       "      <td>0.252176</td>\n",
       "      <td>0.225479</td>\n",
       "    </tr>\n",
       "    <tr>\n",
       "      <th>66</th>\n",
       "      <td>2025-05-31T17:24:39.522341+00:00</td>\n",
       "      <td>lenet_multiview</td>\n",
       "      <td>New fixed mask, 1 epoch, new unlabled shrinkin...</td>\n",
       "      <td>{\"num_epochs\": 15, \"batch_size\": 32, \"patch_si...</td>\n",
       "      <td>NaN</td>\n",
       "      <td>0.037655</td>\n",
       "      <td>0.126472</td>\n",
       "      <td>0.118526</td>\n",
       "      <td>0.023619</td>\n",
       "    </tr>\n",
       "  </tbody>\n",
       "</table>\n",
       "<p>79 rows × 9 columns</p>\n",
       "</div>"
      ],
      "text/plain": [
       "                           timestamp               model_category  \\\n",
       "64  2025-05-31T12:52:12.314211+00:00              lenet_multiview   \n",
       "67  2025-05-31T18:17:32.920559+00:00              lenet_multiview   \n",
       "62  2025-05-30T20:38:12.198151+00:00              lenet_multiview   \n",
       "72  2025-06-01T11:04:28.706267+00:00              lenet_multiview   \n",
       "63  2025-05-31T12:39:48.464309+00:00              lenet_multiview   \n",
       "..                               ...                          ...   \n",
       "22  2025-05-25T14:39:13.847478+00:00  specteal_former_co_training   \n",
       "10  2025-05-25T09:30:05.188620+00:00                          vit   \n",
       "73  2025-06-01T20:02:30.458685+00:00                          vit   \n",
       "24  2025-05-25T16:13:53.131416+00:00            lenet_co_training   \n",
       "66  2025-05-31T17:24:39.522341+00:00              lenet_multiview   \n",
       "\n",
       "                                             run_desc  \\\n",
       "64   New fixed mask, 2 epochs, new unlabled shrinking   \n",
       "67    New fixed mask, 2 epoch, new unlabled shrinking   \n",
       "62                        New fixed mask, less epochs   \n",
       "72  Self learning, 8 epochs, new unlabled shrinkin...   \n",
       "63  New fixed mask, more epochs, new unlabled shri...   \n",
       "..                                                ...   \n",
       "22                                        Default run   \n",
       "10                                   Add weight decay   \n",
       "73  Fixed mask, add weight decay, increase dropout...   \n",
       "24                         Less epochs, no scheduling   \n",
       "66  New fixed mask, 1 epoch, new unlabled shrinkin...   \n",
       "\n",
       "                                               params      loss        f1  \\\n",
       "64  {\"num_epochs\": 15, \"batch_size\": 32, \"patch_si...       NaN  0.790402   \n",
       "67  {\"num_epochs\": 15, \"batch_size\": 32, \"patch_si...       NaN  0.790402   \n",
       "62  {\"num_epochs\": 15, \"batch_size\": 32, \"patch_si...       NaN  0.761022   \n",
       "72  {\"num_epochs\": 30, \"batch_size\": 32, \"patch_si...       NaN  0.760632   \n",
       "63  {\"num_epochs\": 15, \"batch_size\": 32, \"patch_si...       NaN  0.758548   \n",
       "..                                                ...       ...       ...   \n",
       "22  {\"hidden_dim\": 32, \"num_layers\": 5, \"num_heads...  2.814270  0.179225   \n",
       "10  {\"hidden_dim\": 64, \"num_layers\": 5, \"num_heads...  5.515652  0.177391   \n",
       "73  {\"num_epochs\": 300, \"batch_size\": 64, \"patch_s...  2.716200  0.168771   \n",
       "24  {\"learning_rate\": 0.001, \"num_epochs\": 30, \"ba...  2.827521  0.147750   \n",
       "66  {\"num_epochs\": 15, \"batch_size\": 32, \"patch_si...       NaN  0.037655   \n",
       "\n",
       "          OA        AA     kappa  \n",
       "64  0.878032  0.787206  0.703928  \n",
       "67  0.878032  0.787206  0.703928  \n",
       "62  0.824273  0.768847  0.657544  \n",
       "72  0.838244  0.765612  0.657339  \n",
       "63  0.828754  0.762759  0.654074  \n",
       "..       ...       ...       ...  \n",
       "22  0.430531  0.176266  0.130307  \n",
       "10  0.052552  0.143306  0.060421  \n",
       "73  0.048153  0.131034  0.049644  \n",
       "24  0.677064  0.252176  0.225479  \n",
       "66  0.126472  0.118526  0.023619  \n",
       "\n",
       "[79 rows x 9 columns]"
      ]
     },
     "execution_count": 29,
     "metadata": {},
     "output_type": "execute_result"
    }
   ],
   "source": [
    "read_report_to_show(model_name, sort_by_metric=\"f1\")"
   ]
  },
  {
   "cell_type": "code",
   "execution_count": 30,
   "metadata": {},
   "outputs": [
    {
     "data": {
      "text/html": [
       "<div>\n",
       "<style scoped>\n",
       "    .dataframe tbody tr th:only-of-type {\n",
       "        vertical-align: middle;\n",
       "    }\n",
       "\n",
       "    .dataframe tbody tr th {\n",
       "        vertical-align: top;\n",
       "    }\n",
       "\n",
       "    .dataframe thead th {\n",
       "        text-align: right;\n",
       "    }\n",
       "</style>\n",
       "<table border=\"1\" class=\"dataframe\">\n",
       "  <thead>\n",
       "    <tr style=\"text-align: right;\">\n",
       "      <th></th>\n",
       "      <th>timestamp</th>\n",
       "      <th>run_desc</th>\n",
       "      <th>params</th>\n",
       "      <th>loss</th>\n",
       "      <th>f1</th>\n",
       "      <th>OA</th>\n",
       "      <th>AA</th>\n",
       "      <th>kappa</th>\n",
       "    </tr>\n",
       "  </thead>\n",
       "  <tbody>\n",
       "    <tr>\n",
       "      <th>78</th>\n",
       "      <td>2025-06-02T20:27:24.013743+00:00</td>\n",
       "      <td>Add PCA, scheduler, bigger lr, v3 fixed ds</td>\n",
       "      <td>{\"num_epochs\": 300, \"batch_size\": 64, \"patch_s...</td>\n",
       "      <td>1.830058</td>\n",
       "      <td>0.697805</td>\n",
       "      <td>0.508658</td>\n",
       "      <td>0.674673</td>\n",
       "      <td>0.518683</td>\n",
       "    </tr>\n",
       "  </tbody>\n",
       "</table>\n",
       "</div>"
      ],
      "text/plain": [
       "                           timestamp  \\\n",
       "78  2025-06-02T20:27:24.013743+00:00   \n",
       "\n",
       "                                      run_desc  \\\n",
       "78  Add PCA, scheduler, bigger lr, v3 fixed ds   \n",
       "\n",
       "                                               params      loss        f1  \\\n",
       "78  {\"num_epochs\": 300, \"batch_size\": 64, \"patch_s...  1.830058  0.697805   \n",
       "\n",
       "          OA        AA     kappa  \n",
       "78  0.508658  0.674673  0.518683  "
      ]
     },
     "execution_count": 30,
     "metadata": {},
     "output_type": "execute_result"
    }
   ],
   "source": [
    "read_report_to_show(model_name, sort_by_metric=\"f1\", model_category=model_category)"
   ]
  }
 ],
 "metadata": {
  "kernelspec": {
   "display_name": ".venv",
   "language": "python",
   "name": "python3"
  },
  "language_info": {
   "codemirror_mode": {
    "name": "ipython",
    "version": 3
   },
   "file_extension": ".py",
   "mimetype": "text/x-python",
   "name": "python",
   "nbconvert_exporter": "python",
   "pygments_lexer": "ipython3",
   "version": "3.12.3"
  }
 },
 "nbformat": 4,
 "nbformat_minor": 2
}
