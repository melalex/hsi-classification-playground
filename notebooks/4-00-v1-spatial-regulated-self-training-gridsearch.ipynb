{
 "cells": [
  {
   "cell_type": "markdown",
   "metadata": {},
   "source": [
    "# Grid Search hyper parameters for SRST"
   ]
  },
  {
   "cell_type": "markdown",
   "metadata": {},
   "source": [
    "1. Import dependencies"
   ]
  },
  {
   "cell_type": "code",
   "execution_count": null,
   "metadata": {},
   "outputs": [],
   "source": [
    "import random\n",
    "import torch\n",
    "import numpy as np\n",
    "import pandas as pd\n",
    "import time\n",
    "import glob\n",
    "import os\n",
    "\n",
    "from src.util.torch import resolve_torch_device\n",
    "from src.data.indian_pines import load_indian_pines\n",
    "from src.util.hsi import sample_from_segmentation_matrix\n",
    "from src.definitions import GREED_SEARCH_FOLDER\n",
    "from src.model.grid_search import GridSearch\n",
    "from src.model.spatial_regulated_self_training_grid_search import (\n",
    "    SpatialRegulatedSelfTrainingPipelineGridSearchAdapter,\n",
    ")"
   ]
  },
  {
   "cell_type": "markdown",
   "metadata": {},
   "source": [
    "2. Prepare env"
   ]
  },
  {
   "cell_type": "code",
   "execution_count": 14,
   "metadata": {},
   "outputs": [
    {
     "data": {
      "text/plain": [
       "<torch._C.Generator at 0x2c6b800f0>"
      ]
     },
     "execution_count": 14,
     "metadata": {},
     "output_type": "execute_result"
    }
   ],
   "source": [
    "random_seed = 42\n",
    "\n",
    "random.seed(random_seed)\n",
    "torch.manual_seed(random_seed)\n",
    "np.random.seed(random_seed)\n",
    "\n",
    "device = resolve_torch_device()\n",
    "\n",
    "generator = torch.Generator()\n",
    "generator.manual_seed(random_seed)"
   ]
  },
  {
   "cell_type": "code",
   "execution_count": 15,
   "metadata": {},
   "outputs": [
    {
     "data": {
      "text/plain": [
       "'Device is mps'"
      ]
     },
     "execution_count": 15,
     "metadata": {},
     "output_type": "execute_result"
    }
   ],
   "source": [
    "f\"Device is {device}\""
   ]
  },
  {
   "cell_type": "markdown",
   "metadata": {},
   "source": [
    "# Indian pines (Cluster exponential decay)"
   ]
  },
  {
   "cell_type": "markdown",
   "metadata": {},
   "source": [
    "0. Set params"
   ]
  },
  {
   "cell_type": "code",
   "execution_count": 16,
   "metadata": {},
   "outputs": [],
   "source": [
    "examples_per_class = 15\n",
    "# epoch_seconds = int(time.time())\n",
    "epoch_seconds = 1745249041\n",
    "run_name = f\"indian-pines-cluster-exponential-decay-{epoch_seconds}\""
   ]
  },
  {
   "cell_type": "code",
   "execution_count": 17,
   "metadata": {},
   "outputs": [
    {
     "data": {
      "text/plain": [
       "'Setting num_workers to 4'"
      ]
     },
     "execution_count": 17,
     "metadata": {},
     "output_type": "execute_result"
    }
   ],
   "source": [
    "cpu_count = 4\n",
    "\n",
    "f\"Setting num_workers to {cpu_count}\""
   ]
  },
  {
   "cell_type": "markdown",
   "metadata": {},
   "source": [
    "1. Load dataset"
   ]
  },
  {
   "cell_type": "code",
   "execution_count": 18,
   "metadata": {},
   "outputs": [],
   "source": [
    "image, labels = load_indian_pines()"
   ]
  },
  {
   "cell_type": "code",
   "execution_count": 19,
   "metadata": {},
   "outputs": [
    {
     "data": {
      "text/plain": [
       "'Number of classes 17'"
      ]
     },
     "execution_count": 19,
     "metadata": {},
     "output_type": "execute_result"
    }
   ],
   "source": [
    "num_classes = len(np.unique(labels))\n",
    "\n",
    "f\"Number of classes {num_classes}\""
   ]
  },
  {
   "cell_type": "code",
   "execution_count": 20,
   "metadata": {},
   "outputs": [],
   "source": [
    "masked_labels = sample_from_segmentation_matrix(labels, examples_per_class)"
   ]
  },
  {
   "cell_type": "markdown",
   "metadata": {},
   "source": [
    "2. Train model"
   ]
  },
  {
   "cell_type": "code",
   "execution_count": 21,
   "metadata": {},
   "outputs": [],
   "source": [
    "params = {\n",
    "    \"splits\": [4],\n",
    "    \"learning_rate\": [1e-3, 1e-4, 1e-5],\n",
    "    \"patch_size\": [9],\n",
    "    \"num_epochs\": [11],\n",
    "    \"feature_extractor_epochs\": [1, 5, 9, 11],\n",
    "    \"semantic_threshold\": [0.5, 0.6, 0.7, 0.8],\n",
    "    \"lambda_v\": [0.07, 0.09, 0.2, 0.3, 0.4, 0.49],\n",
    "    \"k_star\": [num_classes * 2, num_classes * 3],\n",
    "    \"batch_size\": [64],\n",
    "}\n",
    "\n",
    "adapter = SpatialRegulatedSelfTrainingPipelineGridSearchAdapter(\n",
    "    params, image, masked_labels, labels, num_classes, device, random_seed, generator\n",
    ")"
   ]
  },
  {
   "cell_type": "code",
   "execution_count": 22,
   "metadata": {},
   "outputs": [],
   "source": [
    "log_dir = GREED_SEARCH_FOLDER / run_name"
   ]
  },
  {
   "cell_type": "code",
   "execution_count": 23,
   "metadata": {},
   "outputs": [],
   "source": [
    "search = GridSearch(\n",
    "    adapter=adapter,\n",
    "    optimize_metric=\"kappa_score\",\n",
    "    log_dir=log_dir,\n",
    "    num_workers=cpu_count,\n",
    ")"
   ]
  },
  {
   "cell_type": "code",
   "execution_count": null,
   "metadata": {},
   "outputs": [],
   "source": [
    "_, best_params, best_score = search.run()"
   ]
  },
  {
   "cell_type": "code",
   "execution_count": null,
   "metadata": {},
   "outputs": [],
   "source": [
    "print(\"Best Params:\", best_params)\n",
    "print(\"Best Score:\", best_score)"
   ]
  },
  {
   "cell_type": "markdown",
   "metadata": {},
   "source": [
    "3. Training results"
   ]
  },
  {
   "cell_type": "code",
   "execution_count": null,
   "metadata": {},
   "outputs": [
    {
     "data": {
      "application/vnd.microsoft.datawrangler.viewer.v0+json": {
       "columns": [
        {
         "name": "index",
         "rawType": "int64",
         "type": "integer"
        },
        {
         "name": "splits",
         "rawType": "int64",
         "type": "integer"
        },
        {
         "name": "learning_rate",
         "rawType": "float64",
         "type": "float"
        },
        {
         "name": "patch_size",
         "rawType": "int64",
         "type": "integer"
        },
        {
         "name": "num_epochs",
         "rawType": "int64",
         "type": "integer"
        },
        {
         "name": "feature_extractor_epochs",
         "rawType": "int64",
         "type": "integer"
        },
        {
         "name": "semantic_threshold",
         "rawType": "float64",
         "type": "float"
        },
        {
         "name": "lambda_v",
         "rawType": "float64",
         "type": "float"
        },
        {
         "name": "k_star",
         "rawType": "int64",
         "type": "integer"
        },
        {
         "name": "batch_size",
         "rawType": "int64",
         "type": "integer"
        },
        {
         "name": "overall_accuracy",
         "rawType": "float64",
         "type": "float"
        },
        {
         "name": "average_accuracy",
         "rawType": "float64",
         "type": "float"
        },
        {
         "name": "kappa_score",
         "rawType": "float64",
         "type": "float"
        },
        {
         "name": "f1_score",
         "rawType": "float64",
         "type": "float"
        },
        {
         "name": "best_iteration",
         "rawType": "int64",
         "type": "integer"
        },
        {
         "name": "best_kappa_score",
         "rawType": "float64",
         "type": "float"
        }
       ],
       "conversionMethod": "pd.DataFrame",
       "ref": "16ef20b0-a58a-4f94-b7eb-a84c4ac5abc6",
       "rows": [
        [
         "0",
         "4",
         "0.001",
         "9",
         "11",
         "11",
         "0.5",
         "0.07",
         "34",
         "64",
         "0.0961698144674301",
         "0.4713912010192871",
         "0.0499540567398071",
         "0.3461198210716247",
         "3",
         "0.0664400458335876"
        ],
        [
         "1",
         "4",
         "0.001",
         "9",
         "11",
         "11",
         "0.5",
         "0.07",
         "51",
         "64",
         "0.0824651718139648",
         "0.4959809780120849",
         "0.0189624428749084",
         "0.3499632775783539",
         "3",
         "0.0412268638610839"
        ],
        [
         "0",
         "4",
         "0.001",
         "9",
         "11",
         "1",
         "0.5",
         "0.07",
         "34",
         "64",
         "0.0374236144125461",
         "0.0814744383096695",
         "-0.0234128236770629",
         "0.0868242383003234",
         "6",
         "0.0705881118774414"
        ],
        [
         "1",
         "4",
         "0.001",
         "9",
         "11",
         "1",
         "0.5",
         "0.07",
         "51",
         "64",
         "0.0693036913871765",
         "0.4294887185096741",
         "0.0827537178993225",
         "0.351051777601242",
         "3",
         "0.127009630203247"
        ],
        [
         "2",
         "4",
         "0.001",
         "9",
         "11",
         "1",
         "0.5",
         "0.09",
         "34",
         "64",
         "0.0652511417865753",
         "0.2587395906448364",
         "0.0207720398902893",
         "0.248643010854721",
         "5",
         "0.2231968641281128"
        ]
       ],
       "shape": {
        "columns": 15,
        "rows": 5
       }
      },
      "text/html": [
       "<div>\n",
       "<style scoped>\n",
       "    .dataframe tbody tr th:only-of-type {\n",
       "        vertical-align: middle;\n",
       "    }\n",
       "\n",
       "    .dataframe tbody tr th {\n",
       "        vertical-align: top;\n",
       "    }\n",
       "\n",
       "    .dataframe thead th {\n",
       "        text-align: right;\n",
       "    }\n",
       "</style>\n",
       "<table border=\"1\" class=\"dataframe\">\n",
       "  <thead>\n",
       "    <tr style=\"text-align: right;\">\n",
       "      <th></th>\n",
       "      <th>splits</th>\n",
       "      <th>learning_rate</th>\n",
       "      <th>patch_size</th>\n",
       "      <th>num_epochs</th>\n",
       "      <th>feature_extractor_epochs</th>\n",
       "      <th>semantic_threshold</th>\n",
       "      <th>lambda_v</th>\n",
       "      <th>k_star</th>\n",
       "      <th>batch_size</th>\n",
       "      <th>overall_accuracy</th>\n",
       "      <th>average_accuracy</th>\n",
       "      <th>kappa_score</th>\n",
       "      <th>f1_score</th>\n",
       "      <th>best_iteration</th>\n",
       "      <th>best_kappa_score</th>\n",
       "    </tr>\n",
       "  </thead>\n",
       "  <tbody>\n",
       "    <tr>\n",
       "      <th>0</th>\n",
       "      <td>4</td>\n",
       "      <td>0.001</td>\n",
       "      <td>9</td>\n",
       "      <td>11</td>\n",
       "      <td>11</td>\n",
       "      <td>0.5</td>\n",
       "      <td>0.07</td>\n",
       "      <td>34</td>\n",
       "      <td>64</td>\n",
       "      <td>0.096170</td>\n",
       "      <td>0.471391</td>\n",
       "      <td>0.049954</td>\n",
       "      <td>0.346120</td>\n",
       "      <td>3</td>\n",
       "      <td>0.066440</td>\n",
       "    </tr>\n",
       "    <tr>\n",
       "      <th>1</th>\n",
       "      <td>4</td>\n",
       "      <td>0.001</td>\n",
       "      <td>9</td>\n",
       "      <td>11</td>\n",
       "      <td>11</td>\n",
       "      <td>0.5</td>\n",
       "      <td>0.07</td>\n",
       "      <td>51</td>\n",
       "      <td>64</td>\n",
       "      <td>0.082465</td>\n",
       "      <td>0.495981</td>\n",
       "      <td>0.018962</td>\n",
       "      <td>0.349963</td>\n",
       "      <td>3</td>\n",
       "      <td>0.041227</td>\n",
       "    </tr>\n",
       "    <tr>\n",
       "      <th>0</th>\n",
       "      <td>4</td>\n",
       "      <td>0.001</td>\n",
       "      <td>9</td>\n",
       "      <td>11</td>\n",
       "      <td>1</td>\n",
       "      <td>0.5</td>\n",
       "      <td>0.07</td>\n",
       "      <td>34</td>\n",
       "      <td>64</td>\n",
       "      <td>0.037424</td>\n",
       "      <td>0.081474</td>\n",
       "      <td>-0.023413</td>\n",
       "      <td>0.086824</td>\n",
       "      <td>6</td>\n",
       "      <td>0.070588</td>\n",
       "    </tr>\n",
       "    <tr>\n",
       "      <th>1</th>\n",
       "      <td>4</td>\n",
       "      <td>0.001</td>\n",
       "      <td>9</td>\n",
       "      <td>11</td>\n",
       "      <td>1</td>\n",
       "      <td>0.5</td>\n",
       "      <td>0.07</td>\n",
       "      <td>51</td>\n",
       "      <td>64</td>\n",
       "      <td>0.069304</td>\n",
       "      <td>0.429489</td>\n",
       "      <td>0.082754</td>\n",
       "      <td>0.351052</td>\n",
       "      <td>3</td>\n",
       "      <td>0.127010</td>\n",
       "    </tr>\n",
       "    <tr>\n",
       "      <th>2</th>\n",
       "      <td>4</td>\n",
       "      <td>0.001</td>\n",
       "      <td>9</td>\n",
       "      <td>11</td>\n",
       "      <td>1</td>\n",
       "      <td>0.5</td>\n",
       "      <td>0.09</td>\n",
       "      <td>34</td>\n",
       "      <td>64</td>\n",
       "      <td>0.065251</td>\n",
       "      <td>0.258740</td>\n",
       "      <td>0.020772</td>\n",
       "      <td>0.248643</td>\n",
       "      <td>5</td>\n",
       "      <td>0.223197</td>\n",
       "    </tr>\n",
       "  </tbody>\n",
       "</table>\n",
       "</div>"
      ],
      "text/plain": [
       "   splits  learning_rate  patch_size  num_epochs  feature_extractor_epochs  \\\n",
       "0       4          0.001           9          11                        11   \n",
       "1       4          0.001           9          11                        11   \n",
       "0       4          0.001           9          11                         1   \n",
       "1       4          0.001           9          11                         1   \n",
       "2       4          0.001           9          11                         1   \n",
       "\n",
       "   semantic_threshold  lambda_v  k_star  batch_size  overall_accuracy  \\\n",
       "0                 0.5      0.07      34          64          0.096170   \n",
       "1                 0.5      0.07      51          64          0.082465   \n",
       "0                 0.5      0.07      34          64          0.037424   \n",
       "1                 0.5      0.07      51          64          0.069304   \n",
       "2                 0.5      0.09      34          64          0.065251   \n",
       "\n",
       "   average_accuracy  kappa_score  f1_score  best_iteration  best_kappa_score  \n",
       "0          0.471391     0.049954  0.346120               3          0.066440  \n",
       "1          0.495981     0.018962  0.349963               3          0.041227  \n",
       "0          0.081474    -0.023413  0.086824               6          0.070588  \n",
       "1          0.429489     0.082754  0.351052               3          0.127010  \n",
       "2          0.258740     0.020772  0.248643               5          0.223197  "
      ]
     },
     "execution_count": 26,
     "metadata": {},
     "output_type": "execute_result"
    }
   ],
   "source": [
    "csv_files = glob.glob(os.path.join(log_dir, \"*.csv\"))\n",
    "\n",
    "report = pd.concat([pd.read_csv(f) for f in csv_files])\n",
    "\n",
    "report.head()"
   ]
  },
  {
   "cell_type": "code",
   "execution_count": 27,
   "metadata": {},
   "outputs": [
    {
     "data": {
      "text/plain": [
       "16"
      ]
     },
     "execution_count": 27,
     "metadata": {},
     "output_type": "execute_result"
    }
   ],
   "source": [
    "len(report)"
   ]
  },
  {
   "cell_type": "code",
   "execution_count": 28,
   "metadata": {},
   "outputs": [
    {
     "data": {
      "application/vnd.microsoft.datawrangler.viewer.v0+json": {
       "columns": [
        {
         "name": "index",
         "rawType": "int64",
         "type": "integer"
        },
        {
         "name": "splits",
         "rawType": "int64",
         "type": "integer"
        },
        {
         "name": "learning_rate",
         "rawType": "float64",
         "type": "float"
        },
        {
         "name": "patch_size",
         "rawType": "int64",
         "type": "integer"
        },
        {
         "name": "num_epochs",
         "rawType": "int64",
         "type": "integer"
        },
        {
         "name": "feature_extractor_epochs",
         "rawType": "int64",
         "type": "integer"
        },
        {
         "name": "semantic_threshold",
         "rawType": "float64",
         "type": "float"
        },
        {
         "name": "lambda_v",
         "rawType": "float64",
         "type": "float"
        },
        {
         "name": "k_star",
         "rawType": "int64",
         "type": "integer"
        },
        {
         "name": "batch_size",
         "rawType": "int64",
         "type": "integer"
        },
        {
         "name": "overall_accuracy",
         "rawType": "float64",
         "type": "float"
        },
        {
         "name": "average_accuracy",
         "rawType": "float64",
         "type": "float"
        },
        {
         "name": "kappa_score",
         "rawType": "float64",
         "type": "float"
        },
        {
         "name": "f1_score",
         "rawType": "float64",
         "type": "float"
        },
        {
         "name": "best_iteration",
         "rawType": "int64",
         "type": "integer"
        },
        {
         "name": "best_kappa_score",
         "rawType": "float64",
         "type": "float"
        }
       ],
       "conversionMethod": "pd.DataFrame",
       "ref": "77c02007-0a28-48ee-b1ff-51f0e0a50fb1",
       "rows": [
        [
         "6",
         "4",
         "0.001",
         "9",
         "11",
         "1",
         "0.5",
         "0.3",
         "34",
         "64",
         "0.0864600390195846",
         "0.5613317489624023",
         "0.1728957891464233",
         "0.427188903093338",
         "11",
         "0.1728957891464233"
        ],
        [
         "1",
         "4",
         "0.001",
         "9",
         "11",
         "1",
         "0.5",
         "0.07",
         "51",
         "64",
         "0.0693036913871765",
         "0.4294887185096741",
         "0.0827537178993225",
         "0.351051777601242",
         "3",
         "0.127009630203247"
        ],
        [
         "0",
         "4",
         "0.001",
         "9",
         "11",
         "11",
         "0.5",
         "0.07",
         "34",
         "64",
         "0.0961698144674301",
         "0.4713912010192871",
         "0.0499540567398071",
         "0.3461198210716247",
         "3",
         "0.0664400458335876"
        ],
        [
         "5",
         "4",
         "0.001",
         "9",
         "11",
         "1",
         "0.5",
         "0.2",
         "51",
         "64",
         "0.0769386887550354",
         "0.5222830176353455",
         "0.0492963790893554",
         "0.3748990893363952",
         "6",
         "0.1430552005767822"
        ],
        [
         "0",
         "4",
         "1e-05",
         "9",
         "11",
         "5",
         "0.5",
         "0.07",
         "34",
         "64",
         "0.0765664279460907",
         "0.5255172252655029",
         "0.0484346747398376",
         "0.3757939338684082",
         "4",
         "0.0613460540771484"
        ]
       ],
       "shape": {
        "columns": 15,
        "rows": 5
       }
      },
      "text/html": [
       "<div>\n",
       "<style scoped>\n",
       "    .dataframe tbody tr th:only-of-type {\n",
       "        vertical-align: middle;\n",
       "    }\n",
       "\n",
       "    .dataframe tbody tr th {\n",
       "        vertical-align: top;\n",
       "    }\n",
       "\n",
       "    .dataframe thead th {\n",
       "        text-align: right;\n",
       "    }\n",
       "</style>\n",
       "<table border=\"1\" class=\"dataframe\">\n",
       "  <thead>\n",
       "    <tr style=\"text-align: right;\">\n",
       "      <th></th>\n",
       "      <th>splits</th>\n",
       "      <th>learning_rate</th>\n",
       "      <th>patch_size</th>\n",
       "      <th>num_epochs</th>\n",
       "      <th>feature_extractor_epochs</th>\n",
       "      <th>semantic_threshold</th>\n",
       "      <th>lambda_v</th>\n",
       "      <th>k_star</th>\n",
       "      <th>batch_size</th>\n",
       "      <th>overall_accuracy</th>\n",
       "      <th>average_accuracy</th>\n",
       "      <th>kappa_score</th>\n",
       "      <th>f1_score</th>\n",
       "      <th>best_iteration</th>\n",
       "      <th>best_kappa_score</th>\n",
       "    </tr>\n",
       "  </thead>\n",
       "  <tbody>\n",
       "    <tr>\n",
       "      <th>6</th>\n",
       "      <td>4</td>\n",
       "      <td>0.00100</td>\n",
       "      <td>9</td>\n",
       "      <td>11</td>\n",
       "      <td>1</td>\n",
       "      <td>0.5</td>\n",
       "      <td>0.30</td>\n",
       "      <td>34</td>\n",
       "      <td>64</td>\n",
       "      <td>0.086460</td>\n",
       "      <td>0.561332</td>\n",
       "      <td>0.172896</td>\n",
       "      <td>0.427189</td>\n",
       "      <td>11</td>\n",
       "      <td>0.172896</td>\n",
       "    </tr>\n",
       "    <tr>\n",
       "      <th>1</th>\n",
       "      <td>4</td>\n",
       "      <td>0.00100</td>\n",
       "      <td>9</td>\n",
       "      <td>11</td>\n",
       "      <td>1</td>\n",
       "      <td>0.5</td>\n",
       "      <td>0.07</td>\n",
       "      <td>51</td>\n",
       "      <td>64</td>\n",
       "      <td>0.069304</td>\n",
       "      <td>0.429489</td>\n",
       "      <td>0.082754</td>\n",
       "      <td>0.351052</td>\n",
       "      <td>3</td>\n",
       "      <td>0.127010</td>\n",
       "    </tr>\n",
       "    <tr>\n",
       "      <th>0</th>\n",
       "      <td>4</td>\n",
       "      <td>0.00100</td>\n",
       "      <td>9</td>\n",
       "      <td>11</td>\n",
       "      <td>11</td>\n",
       "      <td>0.5</td>\n",
       "      <td>0.07</td>\n",
       "      <td>34</td>\n",
       "      <td>64</td>\n",
       "      <td>0.096170</td>\n",
       "      <td>0.471391</td>\n",
       "      <td>0.049954</td>\n",
       "      <td>0.346120</td>\n",
       "      <td>3</td>\n",
       "      <td>0.066440</td>\n",
       "    </tr>\n",
       "    <tr>\n",
       "      <th>5</th>\n",
       "      <td>4</td>\n",
       "      <td>0.00100</td>\n",
       "      <td>9</td>\n",
       "      <td>11</td>\n",
       "      <td>1</td>\n",
       "      <td>0.5</td>\n",
       "      <td>0.20</td>\n",
       "      <td>51</td>\n",
       "      <td>64</td>\n",
       "      <td>0.076939</td>\n",
       "      <td>0.522283</td>\n",
       "      <td>0.049296</td>\n",
       "      <td>0.374899</td>\n",
       "      <td>6</td>\n",
       "      <td>0.143055</td>\n",
       "    </tr>\n",
       "    <tr>\n",
       "      <th>0</th>\n",
       "      <td>4</td>\n",
       "      <td>0.00001</td>\n",
       "      <td>9</td>\n",
       "      <td>11</td>\n",
       "      <td>5</td>\n",
       "      <td>0.5</td>\n",
       "      <td>0.07</td>\n",
       "      <td>34</td>\n",
       "      <td>64</td>\n",
       "      <td>0.076566</td>\n",
       "      <td>0.525517</td>\n",
       "      <td>0.048435</td>\n",
       "      <td>0.375794</td>\n",
       "      <td>4</td>\n",
       "      <td>0.061346</td>\n",
       "    </tr>\n",
       "  </tbody>\n",
       "</table>\n",
       "</div>"
      ],
      "text/plain": [
       "   splits  learning_rate  patch_size  num_epochs  feature_extractor_epochs  \\\n",
       "6       4        0.00100           9          11                         1   \n",
       "1       4        0.00100           9          11                         1   \n",
       "0       4        0.00100           9          11                        11   \n",
       "5       4        0.00100           9          11                         1   \n",
       "0       4        0.00001           9          11                         5   \n",
       "\n",
       "   semantic_threshold  lambda_v  k_star  batch_size  overall_accuracy  \\\n",
       "6                 0.5      0.30      34          64          0.086460   \n",
       "1                 0.5      0.07      51          64          0.069304   \n",
       "0                 0.5      0.07      34          64          0.096170   \n",
       "5                 0.5      0.20      51          64          0.076939   \n",
       "0                 0.5      0.07      34          64          0.076566   \n",
       "\n",
       "   average_accuracy  kappa_score  f1_score  best_iteration  best_kappa_score  \n",
       "6          0.561332     0.172896  0.427189              11          0.172896  \n",
       "1          0.429489     0.082754  0.351052               3          0.127010  \n",
       "0          0.471391     0.049954  0.346120               3          0.066440  \n",
       "5          0.522283     0.049296  0.374899               6          0.143055  \n",
       "0          0.525517     0.048435  0.375794               4          0.061346  "
      ]
     },
     "execution_count": 28,
     "metadata": {},
     "output_type": "execute_result"
    }
   ],
   "source": [
    "report.sort_values(\"kappa_score\", ascending=False).head()"
   ]
  }
 ],
 "metadata": {
  "kernelspec": {
   "display_name": ".venv",
   "language": "python",
   "name": "python3"
  },
  "language_info": {
   "codemirror_mode": {
    "name": "ipython",
    "version": 3
   },
   "file_extension": ".py",
   "mimetype": "text/x-python",
   "name": "python",
   "nbconvert_exporter": "python",
   "pygments_lexer": "ipython3",
   "version": "3.12.8"
  }
 },
 "nbformat": 4,
 "nbformat_minor": 2
}
