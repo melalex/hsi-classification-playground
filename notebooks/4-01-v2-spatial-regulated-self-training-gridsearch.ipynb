{
 "cells": [
  {
   "cell_type": "markdown",
   "metadata": {},
   "source": [
    "# Grid Search hyper parameters for improved SRST"
   ]
  },
  {
   "cell_type": "markdown",
   "metadata": {},
   "source": [
    "1. Import dependencies"
   ]
  },
  {
   "cell_type": "code",
   "execution_count": null,
   "metadata": {},
   "outputs": [],
   "source": [
    "import random\n",
    "import torch\n",
    "import numpy as np\n",
    "import pandas as pd\n",
    "import time\n",
    "import glob\n",
    "import os\n",
    "\n",
    "from src.util.torch import resolve_torch_device\n",
    "from src.data.indian_pines import load_indian_pines\n",
    "from src.util.hsi import sample_fraction_from_segmentation\n",
    "from src.definitions import GREED_SEARCH_FOLDER\n",
    "from src.model.grid_search import GridSearch\n",
    "from src.model.improved_spatial_regulated_self_training_grid_search import (\n",
    "    ImprovedSpatialRegulatedSelfTrainingPipelineGridSearchAdapter,\n",
    ")"
   ]
  },
  {
   "cell_type": "markdown",
   "metadata": {},
   "source": [
    "2. Prepare env"
   ]
  },
  {
   "cell_type": "code",
   "execution_count": 2,
   "metadata": {},
   "outputs": [
    {
     "data": {
      "text/plain": [
       "<torch._C.Generator at 0x7f06c8d8ce10>"
      ]
     },
     "execution_count": 2,
     "metadata": {},
     "output_type": "execute_result"
    }
   ],
   "source": [
    "random_seed = 42\n",
    "\n",
    "random.seed(random_seed)\n",
    "torch.manual_seed(random_seed)\n",
    "np.random.seed(random_seed)\n",
    "\n",
    "device = resolve_torch_device()\n",
    "\n",
    "generator = torch.Generator()\n",
    "generator.manual_seed(random_seed)"
   ]
  },
  {
   "cell_type": "code",
   "execution_count": 3,
   "metadata": {},
   "outputs": [
    {
     "data": {
      "text/plain": [
       "'Device is cuda'"
      ]
     },
     "execution_count": 3,
     "metadata": {},
     "output_type": "execute_result"
    }
   ],
   "source": [
    "f\"Device is {device}\""
   ]
  },
  {
   "cell_type": "markdown",
   "metadata": {},
   "source": [
    "# Indian pines (Cluster exponential decay)"
   ]
  },
  {
   "cell_type": "markdown",
   "metadata": {},
   "source": [
    "0. Set params"
   ]
  },
  {
   "cell_type": "code",
   "execution_count": 4,
   "metadata": {},
   "outputs": [],
   "source": [
    "examples_per_class = 0.7\n",
    "epoch_seconds = 1745282320\n",
    "run_name = f\"improved-indian-pines-cluster-exponential-decay-{epoch_seconds}\""
   ]
  },
  {
   "cell_type": "code",
   "execution_count": 5,
   "metadata": {},
   "outputs": [
    {
     "data": {
      "text/plain": [
       "'Setting num_workers to 4'"
      ]
     },
     "execution_count": 5,
     "metadata": {},
     "output_type": "execute_result"
    }
   ],
   "source": [
    "cpu_count = 4\n",
    "\n",
    "f\"Setting num_workers to {cpu_count}\""
   ]
  },
  {
   "cell_type": "markdown",
   "metadata": {},
   "source": [
    "1. Load dataset"
   ]
  },
  {
   "cell_type": "code",
   "execution_count": 6,
   "metadata": {},
   "outputs": [],
   "source": [
    "image, labels = load_indian_pines()"
   ]
  },
  {
   "cell_type": "code",
   "execution_count": 7,
   "metadata": {},
   "outputs": [
    {
     "data": {
      "text/plain": [
       "'Number of classes 17'"
      ]
     },
     "execution_count": 7,
     "metadata": {},
     "output_type": "execute_result"
    }
   ],
   "source": [
    "num_classes = len(np.unique(labels))\n",
    "\n",
    "f\"Number of classes {num_classes}\""
   ]
  },
  {
   "cell_type": "code",
   "execution_count": 8,
   "metadata": {},
   "outputs": [],
   "source": [
    "masked_labels = sample_fraction_from_segmentation(labels, examples_per_class)"
   ]
  },
  {
   "cell_type": "markdown",
   "metadata": {},
   "source": [
    "2. Train model"
   ]
  },
  {
   "cell_type": "code",
   "execution_count": 9,
   "metadata": {},
   "outputs": [],
   "source": [
    "params = {\n",
    "    \"input_channels\": [50, 125, 200],\n",
    "    \"learning_rate\": [1e-3, 1e-4],\n",
    "    \"patch_size\": [9],\n",
    "    \"num_epochs\": [11],\n",
    "    \"feature_extractor_epochs\": [1, 9, 11],\n",
    "    \"semantic_threshold\": [0.5, 0.6, 0.8],\n",
    "    \"lambda_v\": [0.07, 0.3, 0.49],\n",
    "    \"k_star\": [num_classes * 3],\n",
    "    \"batch_size\": [64],\n",
    "}\n",
    "\n",
    "adapter = ImprovedSpatialRegulatedSelfTrainingPipelineGridSearchAdapter(\n",
    "    params,\n",
    "    image,\n",
    "    masked_labels,\n",
    "    labels,\n",
    "    num_classes,\n",
    "    device,\n",
    "    random_seed,\n",
    "    generator,\n",
    ")"
   ]
  },
  {
   "cell_type": "code",
   "execution_count": 10,
   "metadata": {},
   "outputs": [],
   "source": [
    "log_dir = GREED_SEARCH_FOLDER / run_name"
   ]
  },
  {
   "cell_type": "code",
   "execution_count": 11,
   "metadata": {},
   "outputs": [],
   "source": [
    "search = GridSearch(\n",
    "    adapter=adapter,\n",
    "    optimize_metric=\"kappa_score\",\n",
    "    log_dir=log_dir,\n",
    "    num_workers=cpu_count,\n",
    ")"
   ]
  },
  {
   "cell_type": "code",
   "execution_count": null,
   "metadata": {},
   "outputs": [],
   "source": [
    "_, best_params, best_score = search.run()"
   ]
  },
  {
   "cell_type": "code",
   "execution_count": null,
   "metadata": {},
   "outputs": [],
   "source": [
    "print(\"Best Params:\", best_params)\n",
    "print(\"Best Score:\", best_score)"
   ]
  },
  {
   "cell_type": "markdown",
   "metadata": {},
   "source": [
    "3. Training results"
   ]
  },
  {
   "cell_type": "code",
   "execution_count": 12,
   "metadata": {},
   "outputs": [
    {
     "data": {
      "text/html": [
       "<div>\n",
       "<style scoped>\n",
       "    .dataframe tbody tr th:only-of-type {\n",
       "        vertical-align: middle;\n",
       "    }\n",
       "\n",
       "    .dataframe tbody tr th {\n",
       "        vertical-align: top;\n",
       "    }\n",
       "\n",
       "    .dataframe thead th {\n",
       "        text-align: right;\n",
       "    }\n",
       "</style>\n",
       "<table border=\"1\" class=\"dataframe\">\n",
       "  <thead>\n",
       "    <tr style=\"text-align: right;\">\n",
       "      <th></th>\n",
       "      <th>input_channels</th>\n",
       "      <th>learning_rate</th>\n",
       "      <th>patch_size</th>\n",
       "      <th>num_epochs</th>\n",
       "      <th>feature_extractor_epochs</th>\n",
       "      <th>semantic_threshold</th>\n",
       "      <th>lambda_v</th>\n",
       "      <th>k_star</th>\n",
       "      <th>batch_size</th>\n",
       "      <th>overall_accuracy</th>\n",
       "      <th>average_accuracy</th>\n",
       "      <th>kappa_score</th>\n",
       "      <th>f1_score</th>\n",
       "      <th>best_iteration</th>\n",
       "      <th>best_kappa_score</th>\n",
       "    </tr>\n",
       "  </thead>\n",
       "  <tbody>\n",
       "    <tr>\n",
       "      <th>0</th>\n",
       "      <td>200</td>\n",
       "      <td>0.001</td>\n",
       "      <td>9</td>\n",
       "      <td>11</td>\n",
       "      <td>9</td>\n",
       "      <td>0.6</td>\n",
       "      <td>0.49</td>\n",
       "      <td>51</td>\n",
       "      <td>64</td>\n",
       "      <td>0.275979</td>\n",
       "      <td>0.269822</td>\n",
       "      <td>0.172599</td>\n",
       "      <td>0.231070</td>\n",
       "      <td>0</td>\n",
       "      <td>0.892375</td>\n",
       "    </tr>\n",
       "    <tr>\n",
       "      <th>1</th>\n",
       "      <td>200</td>\n",
       "      <td>0.001</td>\n",
       "      <td>9</td>\n",
       "      <td>11</td>\n",
       "      <td>9</td>\n",
       "      <td>0.8</td>\n",
       "      <td>0.07</td>\n",
       "      <td>51</td>\n",
       "      <td>64</td>\n",
       "      <td>0.058824</td>\n",
       "      <td>0.512533</td>\n",
       "      <td>0.000000</td>\n",
       "      <td>0.347351</td>\n",
       "      <td>0</td>\n",
       "      <td>0.000000</td>\n",
       "    </tr>\n",
       "    <tr>\n",
       "      <th>2</th>\n",
       "      <td>200</td>\n",
       "      <td>0.001</td>\n",
       "      <td>9</td>\n",
       "      <td>11</td>\n",
       "      <td>9</td>\n",
       "      <td>0.8</td>\n",
       "      <td>0.30</td>\n",
       "      <td>51</td>\n",
       "      <td>64</td>\n",
       "      <td>0.064961</td>\n",
       "      <td>0.125279</td>\n",
       "      <td>0.008359</td>\n",
       "      <td>0.132326</td>\n",
       "      <td>3</td>\n",
       "      <td>0.114542</td>\n",
       "    </tr>\n",
       "    <tr>\n",
       "      <th>3</th>\n",
       "      <td>200</td>\n",
       "      <td>0.001</td>\n",
       "      <td>9</td>\n",
       "      <td>11</td>\n",
       "      <td>9</td>\n",
       "      <td>0.8</td>\n",
       "      <td>0.49</td>\n",
       "      <td>51</td>\n",
       "      <td>64</td>\n",
       "      <td>0.218416</td>\n",
       "      <td>0.236195</td>\n",
       "      <td>0.154109</td>\n",
       "      <td>0.259043</td>\n",
       "      <td>0</td>\n",
       "      <td>0.893830</td>\n",
       "    </tr>\n",
       "    <tr>\n",
       "      <th>4</th>\n",
       "      <td>200</td>\n",
       "      <td>0.001</td>\n",
       "      <td>9</td>\n",
       "      <td>11</td>\n",
       "      <td>11</td>\n",
       "      <td>0.5</td>\n",
       "      <td>0.07</td>\n",
       "      <td>51</td>\n",
       "      <td>64</td>\n",
       "      <td>0.058824</td>\n",
       "      <td>0.512533</td>\n",
       "      <td>0.000000</td>\n",
       "      <td>0.347351</td>\n",
       "      <td>0</td>\n",
       "      <td>0.000000</td>\n",
       "    </tr>\n",
       "  </tbody>\n",
       "</table>\n",
       "</div>"
      ],
      "text/plain": [
       "   input_channels  learning_rate  patch_size  num_epochs  \\\n",
       "0             200          0.001           9          11   \n",
       "1             200          0.001           9          11   \n",
       "2             200          0.001           9          11   \n",
       "3             200          0.001           9          11   \n",
       "4             200          0.001           9          11   \n",
       "\n",
       "   feature_extractor_epochs  semantic_threshold  lambda_v  k_star  batch_size  \\\n",
       "0                         9                 0.6      0.49      51          64   \n",
       "1                         9                 0.8      0.07      51          64   \n",
       "2                         9                 0.8      0.30      51          64   \n",
       "3                         9                 0.8      0.49      51          64   \n",
       "4                        11                 0.5      0.07      51          64   \n",
       "\n",
       "   overall_accuracy  average_accuracy  kappa_score  f1_score  best_iteration  \\\n",
       "0          0.275979          0.269822     0.172599  0.231070               0   \n",
       "1          0.058824          0.512533     0.000000  0.347351               0   \n",
       "2          0.064961          0.125279     0.008359  0.132326               3   \n",
       "3          0.218416          0.236195     0.154109  0.259043               0   \n",
       "4          0.058824          0.512533     0.000000  0.347351               0   \n",
       "\n",
       "   best_kappa_score  \n",
       "0          0.892375  \n",
       "1          0.000000  \n",
       "2          0.114542  \n",
       "3          0.893830  \n",
       "4          0.000000  "
      ]
     },
     "execution_count": 12,
     "metadata": {},
     "output_type": "execute_result"
    }
   ],
   "source": [
    "csv_files = glob.glob(os.path.join(log_dir, \"*.csv\"))\n",
    "\n",
    "report = pd.concat([pd.read_csv(f) for f in csv_files])\n",
    "\n",
    "report.head()"
   ]
  },
  {
   "cell_type": "code",
   "execution_count": 13,
   "metadata": {},
   "outputs": [
    {
     "data": {
      "text/plain": [
       "162"
      ]
     },
     "execution_count": 13,
     "metadata": {},
     "output_type": "execute_result"
    }
   ],
   "source": [
    "len(report)"
   ]
  },
  {
   "cell_type": "code",
   "execution_count": 14,
   "metadata": {},
   "outputs": [
    {
     "data": {
      "text/html": [
       "<div>\n",
       "<style scoped>\n",
       "    .dataframe tbody tr th:only-of-type {\n",
       "        vertical-align: middle;\n",
       "    }\n",
       "\n",
       "    .dataframe tbody tr th {\n",
       "        vertical-align: top;\n",
       "    }\n",
       "\n",
       "    .dataframe thead th {\n",
       "        text-align: right;\n",
       "    }\n",
       "</style>\n",
       "<table border=\"1\" class=\"dataframe\">\n",
       "  <thead>\n",
       "    <tr style=\"text-align: right;\">\n",
       "      <th></th>\n",
       "      <th>input_channels</th>\n",
       "      <th>learning_rate</th>\n",
       "      <th>patch_size</th>\n",
       "      <th>num_epochs</th>\n",
       "      <th>feature_extractor_epochs</th>\n",
       "      <th>semantic_threshold</th>\n",
       "      <th>lambda_v</th>\n",
       "      <th>k_star</th>\n",
       "      <th>batch_size</th>\n",
       "      <th>overall_accuracy</th>\n",
       "      <th>average_accuracy</th>\n",
       "      <th>kappa_score</th>\n",
       "      <th>f1_score</th>\n",
       "      <th>best_iteration</th>\n",
       "      <th>best_kappa_score</th>\n",
       "    </tr>\n",
       "  </thead>\n",
       "  <tbody>\n",
       "    <tr>\n",
       "      <th>33</th>\n",
       "      <td>200</td>\n",
       "      <td>0.0001</td>\n",
       "      <td>9</td>\n",
       "      <td>11</td>\n",
       "      <td>11</td>\n",
       "      <td>0.5</td>\n",
       "      <td>0.49</td>\n",
       "      <td>51</td>\n",
       "      <td>64</td>\n",
       "      <td>0.576155</td>\n",
       "      <td>0.861260</td>\n",
       "      <td>0.789690</td>\n",
       "      <td>0.848080</td>\n",
       "      <td>1</td>\n",
       "      <td>0.900036</td>\n",
       "    </tr>\n",
       "    <tr>\n",
       "      <th>36</th>\n",
       "      <td>200</td>\n",
       "      <td>0.0001</td>\n",
       "      <td>9</td>\n",
       "      <td>11</td>\n",
       "      <td>11</td>\n",
       "      <td>0.6</td>\n",
       "      <td>0.49</td>\n",
       "      <td>51</td>\n",
       "      <td>64</td>\n",
       "      <td>0.582670</td>\n",
       "      <td>0.854174</td>\n",
       "      <td>0.777485</td>\n",
       "      <td>0.845396</td>\n",
       "      <td>1</td>\n",
       "      <td>0.907199</td>\n",
       "    </tr>\n",
       "    <tr>\n",
       "      <th>27</th>\n",
       "      <td>200</td>\n",
       "      <td>0.0001</td>\n",
       "      <td>9</td>\n",
       "      <td>11</td>\n",
       "      <td>9</td>\n",
       "      <td>0.6</td>\n",
       "      <td>0.49</td>\n",
       "      <td>51</td>\n",
       "      <td>64</td>\n",
       "      <td>0.520374</td>\n",
       "      <td>0.852985</td>\n",
       "      <td>0.775552</td>\n",
       "      <td>0.835933</td>\n",
       "      <td>1</td>\n",
       "      <td>0.900798</td>\n",
       "    </tr>\n",
       "    <tr>\n",
       "      <th>30</th>\n",
       "      <td>200</td>\n",
       "      <td>0.0001</td>\n",
       "      <td>9</td>\n",
       "      <td>11</td>\n",
       "      <td>9</td>\n",
       "      <td>0.8</td>\n",
       "      <td>0.49</td>\n",
       "      <td>51</td>\n",
       "      <td>64</td>\n",
       "      <td>0.514440</td>\n",
       "      <td>0.851082</td>\n",
       "      <td>0.773029</td>\n",
       "      <td>0.833396</td>\n",
       "      <td>1</td>\n",
       "      <td>0.897675</td>\n",
       "    </tr>\n",
       "    <tr>\n",
       "      <th>24</th>\n",
       "      <td>200</td>\n",
       "      <td>0.0001</td>\n",
       "      <td>9</td>\n",
       "      <td>11</td>\n",
       "      <td>9</td>\n",
       "      <td>0.5</td>\n",
       "      <td>0.49</td>\n",
       "      <td>51</td>\n",
       "      <td>64</td>\n",
       "      <td>0.578732</td>\n",
       "      <td>0.845707</td>\n",
       "      <td>0.763662</td>\n",
       "      <td>0.837862</td>\n",
       "      <td>1</td>\n",
       "      <td>0.900191</td>\n",
       "    </tr>\n",
       "  </tbody>\n",
       "</table>\n",
       "</div>"
      ],
      "text/plain": [
       "    input_channels  learning_rate  patch_size  num_epochs  \\\n",
       "33             200         0.0001           9          11   \n",
       "36             200         0.0001           9          11   \n",
       "27             200         0.0001           9          11   \n",
       "30             200         0.0001           9          11   \n",
       "24             200         0.0001           9          11   \n",
       "\n",
       "    feature_extractor_epochs  semantic_threshold  lambda_v  k_star  \\\n",
       "33                        11                 0.5      0.49      51   \n",
       "36                        11                 0.6      0.49      51   \n",
       "27                         9                 0.6      0.49      51   \n",
       "30                         9                 0.8      0.49      51   \n",
       "24                         9                 0.5      0.49      51   \n",
       "\n",
       "    batch_size  overall_accuracy  average_accuracy  kappa_score  f1_score  \\\n",
       "33          64          0.576155          0.861260     0.789690  0.848080   \n",
       "36          64          0.582670          0.854174     0.777485  0.845396   \n",
       "27          64          0.520374          0.852985     0.775552  0.835933   \n",
       "30          64          0.514440          0.851082     0.773029  0.833396   \n",
       "24          64          0.578732          0.845707     0.763662  0.837862   \n",
       "\n",
       "    best_iteration  best_kappa_score  \n",
       "33               1          0.900036  \n",
       "36               1          0.907199  \n",
       "27               1          0.900798  \n",
       "30               1          0.897675  \n",
       "24               1          0.900191  "
      ]
     },
     "execution_count": 14,
     "metadata": {},
     "output_type": "execute_result"
    }
   ],
   "source": [
    "report.sort_values(\"kappa_score\", ascending=False).head()"
   ]
  }
 ],
 "metadata": {
  "kernelspec": {
   "display_name": ".venv",
   "language": "python",
   "name": "python3"
  },
  "language_info": {
   "codemirror_mode": {
    "name": "ipython",
    "version": 3
   },
   "file_extension": ".py",
   "mimetype": "text/x-python",
   "name": "python",
   "nbconvert_exporter": "python",
   "pygments_lexer": "ipython3",
   "version": "3.12.3"
  }
 },
 "nbformat": 4,
 "nbformat_minor": 2
}
