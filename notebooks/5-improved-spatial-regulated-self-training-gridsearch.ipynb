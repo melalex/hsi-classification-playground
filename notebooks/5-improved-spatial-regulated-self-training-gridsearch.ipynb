{
 "cells": [
  {
   "cell_type": "markdown",
   "metadata": {},
   "source": [
    "# Grid Search hyper parameters for improved SRST"
   ]
  },
  {
   "cell_type": "markdown",
   "metadata": {},
   "source": [
    "1. Import dependencies"
   ]
  },
  {
   "cell_type": "code",
   "execution_count": 1,
   "metadata": {},
   "outputs": [],
   "source": [
    "import random\n",
    "import torch\n",
    "import numpy as np\n",
    "import pandas as pd\n",
    "import time\n",
    "import glob\n",
    "import os\n",
    "\n",
    "from src.util.torch_device import resolve_torch_device\n",
    "from src.data.indian_pines import load_indian_pines\n",
    "from src.util.semi_guided import sample_fraction_from_segmentation\n",
    "from src.definitions import GREED_SEARCH_FOLDER\n",
    "from src.model.grid_search import GridSearch\n",
    "from src.model.improved_spatial_regulated_self_training_grid_search import (\n",
    "    ImprovedSpatialRegulatedSelfTrainingPipelineGridSearchAdapter,\n",
    ")"
   ]
  },
  {
   "cell_type": "markdown",
   "metadata": {},
   "source": [
    "2. Prepare env"
   ]
  },
  {
   "cell_type": "code",
   "execution_count": 2,
   "metadata": {},
   "outputs": [
    {
     "data": {
      "text/plain": [
       "<torch._C.Generator at 0x7fe720bd4e10>"
      ]
     },
     "execution_count": 2,
     "metadata": {},
     "output_type": "execute_result"
    }
   ],
   "source": [
    "random_seed = 42\n",
    "\n",
    "random.seed(random_seed)\n",
    "torch.manual_seed(random_seed)\n",
    "np.random.seed(random_seed)\n",
    "\n",
    "device = resolve_torch_device()\n",
    "\n",
    "generator = torch.Generator()\n",
    "generator.manual_seed(random_seed)"
   ]
  },
  {
   "cell_type": "code",
   "execution_count": 3,
   "metadata": {},
   "outputs": [
    {
     "data": {
      "text/plain": [
       "'Device is cuda'"
      ]
     },
     "execution_count": 3,
     "metadata": {},
     "output_type": "execute_result"
    }
   ],
   "source": [
    "f\"Device is {device}\""
   ]
  },
  {
   "cell_type": "markdown",
   "metadata": {},
   "source": [
    "# Indian pines (Cluster exponential decay)"
   ]
  },
  {
   "cell_type": "markdown",
   "metadata": {},
   "source": [
    "0. Set params"
   ]
  },
  {
   "cell_type": "code",
   "execution_count": 4,
   "metadata": {},
   "outputs": [],
   "source": [
    "examples_per_class = 0.7\n",
    "epoch_seconds = int(time.time())\n",
    "run_name = f\"improved-indian-pines-cluster-exponential-decay-{epoch_seconds}\""
   ]
  },
  {
   "cell_type": "code",
   "execution_count": 5,
   "metadata": {},
   "outputs": [
    {
     "data": {
      "text/plain": [
       "'Setting num_workers to 4'"
      ]
     },
     "execution_count": 5,
     "metadata": {},
     "output_type": "execute_result"
    }
   ],
   "source": [
    "cpu_count = 4\n",
    "\n",
    "f\"Setting num_workers to {cpu_count}\""
   ]
  },
  {
   "cell_type": "markdown",
   "metadata": {},
   "source": [
    "1. Load dataset"
   ]
  },
  {
   "cell_type": "code",
   "execution_count": 6,
   "metadata": {},
   "outputs": [],
   "source": [
    "image, labels = load_indian_pines()"
   ]
  },
  {
   "cell_type": "code",
   "execution_count": 7,
   "metadata": {},
   "outputs": [
    {
     "data": {
      "text/plain": [
       "'Number of classes 17'"
      ]
     },
     "execution_count": 7,
     "metadata": {},
     "output_type": "execute_result"
    }
   ],
   "source": [
    "num_classes = len(np.unique(labels))\n",
    "\n",
    "f\"Number of classes {num_classes}\""
   ]
  },
  {
   "cell_type": "code",
   "execution_count": 8,
   "metadata": {},
   "outputs": [],
   "source": [
    "masked_labels = sample_fraction_from_segmentation(labels, examples_per_class)"
   ]
  },
  {
   "cell_type": "markdown",
   "metadata": {},
   "source": [
    "2. Train model"
   ]
  },
  {
   "cell_type": "code",
   "execution_count": null,
   "metadata": {},
   "outputs": [],
   "source": [
    "params = {\n",
    "    \"input_channels\": [50, 125, 200],\n",
    "    \"learning_rate\": [1e-3, 1e-4],\n",
    "    \"patch_size\": [9],\n",
    "    \"num_epochs\": [11],\n",
    "    \"feature_extractor_epochs\": [1, 9, 11],\n",
    "    \"semantic_threshold\": [0.5, 0.6, 0.8],\n",
    "    \"lambda_v\": [0.07, 0.3, 0.49],\n",
    "    \"k_star\": [num_classes * 3],\n",
    "    \"batch_size\": [64],\n",
    "}\n",
    "\n",
    "adapter = ImprovedSpatialRegulatedSelfTrainingPipelineGridSearchAdapter(\n",
    "    params,\n",
    "    image,\n",
    "    masked_labels,\n",
    "    labels,\n",
    "    num_classes,\n",
    "    device,\n",
    "    random_seed,\n",
    "    generator,\n",
    ")"
   ]
  },
  {
   "cell_type": "code",
   "execution_count": 10,
   "metadata": {},
   "outputs": [],
   "source": [
    "log_dir = GREED_SEARCH_FOLDER / run_name"
   ]
  },
  {
   "cell_type": "code",
   "execution_count": 11,
   "metadata": {},
   "outputs": [],
   "source": [
    "search = GridSearch(\n",
    "    adapter=adapter,\n",
    "    optimize_metric=\"kappa_score\",\n",
    "    log_dir=log_dir,\n",
    "    num_workers=cpu_count,\n",
    ")"
   ]
  },
  {
   "cell_type": "code",
   "execution_count": 12,
   "metadata": {},
   "outputs": [
    {
     "name": "stderr",
     "output_type": "stream",
     "text": [
      "100%|██████████| 1/1 [00:20<00:00, 20.97s/it, best_score=0.0475, split=0]\n",
      "100%|██████████| 1/1 [00:38<00:00, 38.99s/it, best_score=0.00086, split=1]\n",
      "100%|██████████| 1/1 [01:21<00:00, 81.06s/it, best_score=-0.00687, split=2]\n",
      "100%|██████████| 1/1 [01:32<00:00, 92.51s/it, best_score=-0.00726, split=3]\n"
     ]
    },
    {
     "name": "stdout",
     "output_type": "stream",
     "text": [
      "[(<src.pipeline.improved_regulated_self_training_pipeline.ImprovedSpatialRegulatedSelfTrainingPipeline object at 0x7fe58e9c5d00>, {'input_channels': 50, 'learning_rate': 0.001, 'patch_size': 9, 'num_epochs': 11, 'feature_extractor_epochs': 1, 'semantic_threshold': 0.5, 'lambda_v': 0.07, 'k_star': 51, 'batch_size': 64}, {'overall_accuracy': 0.07200118899345398, 'average_accuracy': 0.49907252192497253, 'kappa_score': 0.04750770330429077, 'f1_score': 0.36189278960227966}), (<src.pipeline.improved_regulated_self_training_pipeline.ImprovedSpatialRegulatedSelfTrainingPipeline object at 0x7fe58e9c7590>, {'input_channels': 50, 'learning_rate': 0.001, 'patch_size': 9, 'num_epochs': 11, 'feature_extractor_epochs': 3, 'semantic_threshold': 0.5, 'lambda_v': 0.07, 'k_star': 51, 'batch_size': 64}, {'overall_accuracy': 0.0613577701151371, 'average_accuracy': 0.09840665757656097, 'kappa_score': 0.0008600950241088867, 'f1_score': 0.06525576859712601}), (<src.pipeline.improved_regulated_self_training_pipeline.ImprovedSpatialRegulatedSelfTrainingPipeline object at 0x7fe7203088c0>, {'input_channels': 50, 'learning_rate': 0.001, 'patch_size': 9, 'num_epochs': 11, 'feature_extractor_epochs': 9, 'semantic_threshold': 0.5, 'lambda_v': 0.07, 'k_star': 51, 'batch_size': 64}, {'overall_accuracy': 0.05855894461274147, 'average_accuracy': 0.14625446498394012, 'kappa_score': -0.0068749189376831055, 'f1_score': 0.14100149273872375}), (<src.pipeline.improved_regulated_self_training_pipeline.ImprovedSpatialRegulatedSelfTrainingPipeline object at 0x7fe58e9c4770>, {'input_channels': 50, 'learning_rate': 0.001, 'patch_size': 9, 'num_epochs': 11, 'feature_extractor_epochs': 11, 'semantic_threshold': 0.5, 'lambda_v': 0.07, 'k_star': 51, 'batch_size': 64}, {'overall_accuracy': 0.06001037359237671, 'average_accuracy': 0.0922711044549942, 'kappa_score': -0.007261157035827637, 'f1_score': 0.05560794100165367})]\n"
     ]
    }
   ],
   "source": [
    "_, best_params, best_score = search.run()"
   ]
  },
  {
   "cell_type": "code",
   "execution_count": 13,
   "metadata": {},
   "outputs": [
    {
     "name": "stdout",
     "output_type": "stream",
     "text": [
      "Best Params: {'input_channels': 50, 'learning_rate': 0.001, 'patch_size': 9, 'num_epochs': 11, 'feature_extractor_epochs': 1, 'semantic_threshold': 0.5, 'lambda_v': 0.07, 'k_star': 51, 'batch_size': 64}\n",
      "Best Score: {'overall_accuracy': 0.07200118899345398, 'average_accuracy': 0.49907252192497253, 'kappa_score': 0.04750770330429077, 'f1_score': 0.36189278960227966}\n"
     ]
    }
   ],
   "source": [
    "print(\"Best Params:\", best_params)\n",
    "print(\"Best Score:\", best_score)"
   ]
  },
  {
   "cell_type": "markdown",
   "metadata": {},
   "source": [
    "3. Training results"
   ]
  },
  {
   "cell_type": "code",
   "execution_count": 14,
   "metadata": {},
   "outputs": [
    {
     "data": {
      "text/html": [
       "<div>\n",
       "<style scoped>\n",
       "    .dataframe tbody tr th:only-of-type {\n",
       "        vertical-align: middle;\n",
       "    }\n",
       "\n",
       "    .dataframe tbody tr th {\n",
       "        vertical-align: top;\n",
       "    }\n",
       "\n",
       "    .dataframe thead th {\n",
       "        text-align: right;\n",
       "    }\n",
       "</style>\n",
       "<table border=\"1\" class=\"dataframe\">\n",
       "  <thead>\n",
       "    <tr style=\"text-align: right;\">\n",
       "      <th></th>\n",
       "      <th>input_channels</th>\n",
       "      <th>learning_rate</th>\n",
       "      <th>patch_size</th>\n",
       "      <th>num_epochs</th>\n",
       "      <th>feature_extractor_epochs</th>\n",
       "      <th>semantic_threshold</th>\n",
       "      <th>lambda_v</th>\n",
       "      <th>k_star</th>\n",
       "      <th>batch_size</th>\n",
       "      <th>overall_accuracy</th>\n",
       "      <th>average_accuracy</th>\n",
       "      <th>kappa_score</th>\n",
       "      <th>f1_score</th>\n",
       "      <th>best_iteration</th>\n",
       "      <th>best_kappa_score</th>\n",
       "    </tr>\n",
       "  </thead>\n",
       "  <tbody>\n",
       "    <tr>\n",
       "      <th>0</th>\n",
       "      <td>50</td>\n",
       "      <td>0.001</td>\n",
       "      <td>9</td>\n",
       "      <td>11</td>\n",
       "      <td>11</td>\n",
       "      <td>0.5</td>\n",
       "      <td>0.07</td>\n",
       "      <td>51</td>\n",
       "      <td>64</td>\n",
       "      <td>0.060010</td>\n",
       "      <td>0.092271</td>\n",
       "      <td>-0.007261</td>\n",
       "      <td>0.055608</td>\n",
       "      <td>1</td>\n",
       "      <td>0.041108</td>\n",
       "    </tr>\n",
       "    <tr>\n",
       "      <th>0</th>\n",
       "      <td>50</td>\n",
       "      <td>0.001</td>\n",
       "      <td>9</td>\n",
       "      <td>11</td>\n",
       "      <td>9</td>\n",
       "      <td>0.5</td>\n",
       "      <td>0.07</td>\n",
       "      <td>51</td>\n",
       "      <td>64</td>\n",
       "      <td>0.058559</td>\n",
       "      <td>0.146254</td>\n",
       "      <td>-0.006875</td>\n",
       "      <td>0.141001</td>\n",
       "      <td>1</td>\n",
       "      <td>0.053109</td>\n",
       "    </tr>\n",
       "    <tr>\n",
       "      <th>0</th>\n",
       "      <td>50</td>\n",
       "      <td>0.001</td>\n",
       "      <td>9</td>\n",
       "      <td>11</td>\n",
       "      <td>1</td>\n",
       "      <td>0.5</td>\n",
       "      <td>0.07</td>\n",
       "      <td>51</td>\n",
       "      <td>64</td>\n",
       "      <td>0.072001</td>\n",
       "      <td>0.499073</td>\n",
       "      <td>0.047508</td>\n",
       "      <td>0.361893</td>\n",
       "      <td>2</td>\n",
       "      <td>0.049551</td>\n",
       "    </tr>\n",
       "    <tr>\n",
       "      <th>0</th>\n",
       "      <td>50</td>\n",
       "      <td>0.001</td>\n",
       "      <td>9</td>\n",
       "      <td>11</td>\n",
       "      <td>3</td>\n",
       "      <td>0.5</td>\n",
       "      <td>0.07</td>\n",
       "      <td>51</td>\n",
       "      <td>64</td>\n",
       "      <td>0.061358</td>\n",
       "      <td>0.098407</td>\n",
       "      <td>0.000860</td>\n",
       "      <td>0.065256</td>\n",
       "      <td>5</td>\n",
       "      <td>0.040056</td>\n",
       "    </tr>\n",
       "  </tbody>\n",
       "</table>\n",
       "</div>"
      ],
      "text/plain": [
       "   input_channels  learning_rate  patch_size  num_epochs  \\\n",
       "0              50          0.001           9          11   \n",
       "0              50          0.001           9          11   \n",
       "0              50          0.001           9          11   \n",
       "0              50          0.001           9          11   \n",
       "\n",
       "   feature_extractor_epochs  semantic_threshold  lambda_v  k_star  batch_size  \\\n",
       "0                        11                 0.5      0.07      51          64   \n",
       "0                         9                 0.5      0.07      51          64   \n",
       "0                         1                 0.5      0.07      51          64   \n",
       "0                         3                 0.5      0.07      51          64   \n",
       "\n",
       "   overall_accuracy  average_accuracy  kappa_score  f1_score  best_iteration  \\\n",
       "0          0.060010          0.092271    -0.007261  0.055608               1   \n",
       "0          0.058559          0.146254    -0.006875  0.141001               1   \n",
       "0          0.072001          0.499073     0.047508  0.361893               2   \n",
       "0          0.061358          0.098407     0.000860  0.065256               5   \n",
       "\n",
       "   best_kappa_score  \n",
       "0          0.041108  \n",
       "0          0.053109  \n",
       "0          0.049551  \n",
       "0          0.040056  "
      ]
     },
     "execution_count": 14,
     "metadata": {},
     "output_type": "execute_result"
    }
   ],
   "source": [
    "csv_files = glob.glob(os.path.join(log_dir, \"*.csv\"))\n",
    "\n",
    "report = pd.concat([pd.read_csv(f) for f in csv_files])\n",
    "\n",
    "report.head()"
   ]
  },
  {
   "cell_type": "code",
   "execution_count": 15,
   "metadata": {},
   "outputs": [
    {
     "data": {
      "text/plain": [
       "4"
      ]
     },
     "execution_count": 15,
     "metadata": {},
     "output_type": "execute_result"
    }
   ],
   "source": [
    "len(report)"
   ]
  },
  {
   "cell_type": "code",
   "execution_count": 16,
   "metadata": {},
   "outputs": [
    {
     "data": {
      "text/html": [
       "<div>\n",
       "<style scoped>\n",
       "    .dataframe tbody tr th:only-of-type {\n",
       "        vertical-align: middle;\n",
       "    }\n",
       "\n",
       "    .dataframe tbody tr th {\n",
       "        vertical-align: top;\n",
       "    }\n",
       "\n",
       "    .dataframe thead th {\n",
       "        text-align: right;\n",
       "    }\n",
       "</style>\n",
       "<table border=\"1\" class=\"dataframe\">\n",
       "  <thead>\n",
       "    <tr style=\"text-align: right;\">\n",
       "      <th></th>\n",
       "      <th>input_channels</th>\n",
       "      <th>learning_rate</th>\n",
       "      <th>patch_size</th>\n",
       "      <th>num_epochs</th>\n",
       "      <th>feature_extractor_epochs</th>\n",
       "      <th>semantic_threshold</th>\n",
       "      <th>lambda_v</th>\n",
       "      <th>k_star</th>\n",
       "      <th>batch_size</th>\n",
       "      <th>overall_accuracy</th>\n",
       "      <th>average_accuracy</th>\n",
       "      <th>kappa_score</th>\n",
       "      <th>f1_score</th>\n",
       "      <th>best_iteration</th>\n",
       "      <th>best_kappa_score</th>\n",
       "    </tr>\n",
       "  </thead>\n",
       "  <tbody>\n",
       "    <tr>\n",
       "      <th>0</th>\n",
       "      <td>50</td>\n",
       "      <td>0.001</td>\n",
       "      <td>9</td>\n",
       "      <td>11</td>\n",
       "      <td>1</td>\n",
       "      <td>0.5</td>\n",
       "      <td>0.07</td>\n",
       "      <td>51</td>\n",
       "      <td>64</td>\n",
       "      <td>0.072001</td>\n",
       "      <td>0.499073</td>\n",
       "      <td>0.047508</td>\n",
       "      <td>0.361893</td>\n",
       "      <td>2</td>\n",
       "      <td>0.049551</td>\n",
       "    </tr>\n",
       "    <tr>\n",
       "      <th>0</th>\n",
       "      <td>50</td>\n",
       "      <td>0.001</td>\n",
       "      <td>9</td>\n",
       "      <td>11</td>\n",
       "      <td>3</td>\n",
       "      <td>0.5</td>\n",
       "      <td>0.07</td>\n",
       "      <td>51</td>\n",
       "      <td>64</td>\n",
       "      <td>0.061358</td>\n",
       "      <td>0.098407</td>\n",
       "      <td>0.000860</td>\n",
       "      <td>0.065256</td>\n",
       "      <td>5</td>\n",
       "      <td>0.040056</td>\n",
       "    </tr>\n",
       "    <tr>\n",
       "      <th>0</th>\n",
       "      <td>50</td>\n",
       "      <td>0.001</td>\n",
       "      <td>9</td>\n",
       "      <td>11</td>\n",
       "      <td>9</td>\n",
       "      <td>0.5</td>\n",
       "      <td>0.07</td>\n",
       "      <td>51</td>\n",
       "      <td>64</td>\n",
       "      <td>0.058559</td>\n",
       "      <td>0.146254</td>\n",
       "      <td>-0.006875</td>\n",
       "      <td>0.141001</td>\n",
       "      <td>1</td>\n",
       "      <td>0.053109</td>\n",
       "    </tr>\n",
       "    <tr>\n",
       "      <th>0</th>\n",
       "      <td>50</td>\n",
       "      <td>0.001</td>\n",
       "      <td>9</td>\n",
       "      <td>11</td>\n",
       "      <td>11</td>\n",
       "      <td>0.5</td>\n",
       "      <td>0.07</td>\n",
       "      <td>51</td>\n",
       "      <td>64</td>\n",
       "      <td>0.060010</td>\n",
       "      <td>0.092271</td>\n",
       "      <td>-0.007261</td>\n",
       "      <td>0.055608</td>\n",
       "      <td>1</td>\n",
       "      <td>0.041108</td>\n",
       "    </tr>\n",
       "  </tbody>\n",
       "</table>\n",
       "</div>"
      ],
      "text/plain": [
       "   input_channels  learning_rate  patch_size  num_epochs  \\\n",
       "0              50          0.001           9          11   \n",
       "0              50          0.001           9          11   \n",
       "0              50          0.001           9          11   \n",
       "0              50          0.001           9          11   \n",
       "\n",
       "   feature_extractor_epochs  semantic_threshold  lambda_v  k_star  batch_size  \\\n",
       "0                         1                 0.5      0.07      51          64   \n",
       "0                         3                 0.5      0.07      51          64   \n",
       "0                         9                 0.5      0.07      51          64   \n",
       "0                        11                 0.5      0.07      51          64   \n",
       "\n",
       "   overall_accuracy  average_accuracy  kappa_score  f1_score  best_iteration  \\\n",
       "0          0.072001          0.499073     0.047508  0.361893               2   \n",
       "0          0.061358          0.098407     0.000860  0.065256               5   \n",
       "0          0.058559          0.146254    -0.006875  0.141001               1   \n",
       "0          0.060010          0.092271    -0.007261  0.055608               1   \n",
       "\n",
       "   best_kappa_score  \n",
       "0          0.049551  \n",
       "0          0.040056  \n",
       "0          0.053109  \n",
       "0          0.041108  "
      ]
     },
     "execution_count": 16,
     "metadata": {},
     "output_type": "execute_result"
    }
   ],
   "source": [
    "report.sort_values(\"kappa_score\", ascending=False).head()"
   ]
  }
 ],
 "metadata": {
  "kernelspec": {
   "display_name": ".venv",
   "language": "python",
   "name": "python3"
  },
  "language_info": {
   "codemirror_mode": {
    "name": "ipython",
    "version": 3
   },
   "file_extension": ".py",
   "mimetype": "text/x-python",
   "name": "python",
   "nbconvert_exporter": "python",
   "pygments_lexer": "ipython3",
   "version": "3.12.3"
  }
 },
 "nbformat": 4,
 "nbformat_minor": 2
}
