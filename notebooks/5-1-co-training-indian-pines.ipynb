{
 "cells": [
  {
   "cell_type": "markdown",
   "metadata": {},
   "source": [
    "# Indiana Pines"
   ]
  },
  {
   "cell_type": "markdown",
   "metadata": {},
   "source": [
    "1. Import dependencies"
   ]
  },
  {
   "cell_type": "code",
   "execution_count": null,
   "metadata": {},
   "outputs": [],
   "source": [
    "import random\n",
    "import torch\n",
    "import numpy as np\n",
    "\n",
    "import torch.utils.data as data\n",
    "\n",
    "from torch import nn\n",
    "\n",
    "from src.util.image import (\n",
    "    scale_image\n",
    ")\n",
    "from src.util.patches import extract_patches\n",
    "from src.util.torch_device import resolve_torch_device\n",
    "from src.data.indian_pines import load_indian_pines\n",
    "from src.model.lenet import FullyConvolutionalLeNet\n",
    "from src.visualization.plot import plot_segmentation_comparison, plot_epoch_generic\n",
    "from src.data.dataset_decorator import UnlabeledDatasetDecorator\n",
    "from src.model.autoencoder import SpatialAutoEncoder\n",
    "from src.trainer.autoencoder_trainer import AutoEncoderTrainer\n",
    "from src.trainer.co_trainer import BiCoTrainer\n",
    "from src.model.ensemble import Ensemble\n",
    "from src.trainer.base_trainer import AdamOptimizedModule\n",
    "from src.trainer.classification_trainer import ClassificationTrainer\n",
    "from src.util.hsi import train_test_band_patch_split, reduce_depth_with_patched_autoencoder"
   ]
  },
  {
   "cell_type": "markdown",
   "metadata": {},
   "source": [
    "2. Prepare env"
   ]
  },
  {
   "cell_type": "code",
   "execution_count": null,
   "metadata": {},
   "outputs": [],
   "source": [
    "random_seed = 42\n",
    "\n",
    "random.seed(random_seed)\n",
    "torch.manual_seed(random_seed)\n",
    "np.random.seed(random_seed)\n",
    "\n",
    "batch_size = 32\n",
    "patch_size = 9\n",
    "fraction_of_examples = 0.1\n",
    "examples_per_class = 20\n",
    "reduced_dim_size = 200\n",
    "\n",
    "device = resolve_torch_device()\n",
    "\n",
    "generator = torch.Generator()\n",
    "generator.manual_seed(random_seed)"
   ]
  },
  {
   "cell_type": "code",
   "execution_count": null,
   "metadata": {},
   "outputs": [],
   "source": [
    "f\"Device is {device}\""
   ]
  },
  {
   "cell_type": "markdown",
   "metadata": {},
   "source": [
    "3. Load dataset"
   ]
  },
  {
   "cell_type": "code",
   "execution_count": null,
   "metadata": {},
   "outputs": [],
   "source": [
    "image, labels = load_indian_pines()\n",
    "\n",
    "image_h, image_w, image_c = image.shape\n",
    "\n",
    "_, x = scale_image(image)"
   ]
  },
  {
   "cell_type": "code",
   "execution_count": null,
   "metadata": {},
   "outputs": [],
   "source": [
    "num_classes = len(np.unique(labels))\n",
    "\n",
    "f\"Number of classes {num_classes}\""
   ]
  },
  {
   "cell_type": "markdown",
   "metadata": {},
   "source": [
    "4. Reduce dimensions"
   ]
  },
  {
   "cell_type": "code",
   "execution_count": null,
   "metadata": {},
   "outputs": [],
   "source": [
    "if reduced_dim_size != image_c:\n",
    "    auto_encoder_epochs = 100\n",
    "    auto_encoder_lr = 1e-3\n",
    "    reduced_dim_size = 50\n",
    "\n",
    "    autoencoder = AdamOptimizedModule(\n",
    "        SpatialAutoEncoder(input_channels=image_c, embedding_size=reduced_dim_size),\n",
    "        lr=auto_encoder_lr,\n",
    "    )\n",
    "\n",
    "    trainer = AutoEncoderTrainer(nn.MSELoss(), auto_encoder_epochs, device)\n",
    "\n",
    "    x = reduce_depth_with_patched_autoencoder(x, patch_size, autoencoder, trainer, device)"
   ]
  },
  {
   "cell_type": "markdown",
   "metadata": {},
   "source": [
    "5. Prepare dataset"
   ]
  },
  {
   "cell_type": "code",
   "execution_count": null,
   "metadata": {},
   "outputs": [],
   "source": [
    "x, y = extract_patches(x, labels, patch_size=patch_size)\n",
    "\n",
    "examples_per_class_arr = np.repeat(examples_per_class, num_classes)\n",
    "\n",
    "x_train, y_train, x_test, y_test, y_masked = train_test_band_patch_split(\n",
    "    x, y, examples_per_class_arr\n",
    ")"
   ]
  },
  {
   "cell_type": "code",
   "execution_count": null,
   "metadata": {},
   "outputs": [],
   "source": [
    "plot_segmentation_comparison(labels, y_masked.reshape(labels.shape), title2=\"Downsampled\")"
   ]
  },
  {
   "cell_type": "code",
   "execution_count": null,
   "metadata": {},
   "outputs": [],
   "source": [
    "x_train.shape"
   ]
  },
  {
   "cell_type": "code",
   "execution_count": null,
   "metadata": {},
   "outputs": [],
   "source": [
    "x_all = torch.tensor(x, dtype=torch.float32, device=device).permute(0, 3, 1, 2)\n",
    "y_all = torch.tensor(y, dtype=torch.long, device=device)\n",
    "x_train = torch.tensor(x_train, dtype=torch.float32, device=device).permute(0, 3, 1, 2)\n",
    "y_train = torch.tensor(y_train, dtype=torch.long, device=device)\n",
    "x_test = torch.tensor(x_test, dtype=torch.float32, device=device).permute(0, 3, 1, 2)\n",
    "y_test = torch.tensor(y_test, dtype=torch.long, device=device)"
   ]
  },
  {
   "cell_type": "code",
   "execution_count": null,
   "metadata": {},
   "outputs": [],
   "source": [
    "train_dataset = data.TensorDataset(x_train, y_train)\n",
    "test_dataset = data.TensorDataset(x_test, y_test)\n",
    "full_dataset = data.TensorDataset(x_all, y_all)"
   ]
  },
  {
   "cell_type": "code",
   "execution_count": null,
   "metadata": {},
   "outputs": [],
   "source": [
    "train_loader = data.DataLoader(\n",
    "    train_dataset,\n",
    "    batch_size=batch_size,\n",
    "    shuffle=True,\n",
    "    generator=generator,\n",
    ")\n",
    "test_loader = data.DataLoader(\n",
    "    test_dataset,\n",
    "    batch_size=batch_size,\n",
    "    shuffle=False,\n",
    "    generator=generator,\n",
    ")\n",
    "predict_loader = data.DataLoader(\n",
    "    UnlabeledDatasetDecorator(full_dataset),\n",
    "    batch_size=batch_size,\n",
    "    shuffle=False,\n",
    "    generator=generator,\n",
    ")"
   ]
  },
  {
   "cell_type": "code",
   "execution_count": null,
   "metadata": {},
   "outputs": [],
   "source": [
    "f\"Training samples: {len(train_dataset)}, Testing samples: {len(test_dataset)}\""
   ]
  },
  {
   "cell_type": "markdown",
   "metadata": {},
   "source": [
    "4. Train model"
   ]
  },
  {
   "cell_type": "code",
   "execution_count": null,
   "metadata": {},
   "outputs": [],
   "source": [
    "num_epochs = 30\n",
    "learning_rate = 1e-3"
   ]
  },
  {
   "cell_type": "code",
   "execution_count": null,
   "metadata": {},
   "outputs": [],
   "source": [
    "model = AdamOptimizedModule(\n",
    "    FullyConvolutionalLeNet(reduced_dim_size, num_classes),\n",
    "    lr=learning_rate,\n",
    ")\n",
    "\n",
    "loss = nn.CrossEntropyLoss()\n",
    "\n",
    "trainer = ClassificationTrainer(\n",
    "    num_epochs, num_classes, loss, device, gradient_accumulation_steps=2\n",
    ")"
   ]
  },
  {
   "cell_type": "code",
   "execution_count": null,
   "metadata": {},
   "outputs": [],
   "source": [
    "feedback = trainer.fit(model, train_loader, test_loader)"
   ]
  },
  {
   "cell_type": "code",
   "execution_count": null,
   "metadata": {},
   "outputs": [],
   "source": [
    "plot_epoch_generic(\n",
    "    [it.train[\"train_loss\"] for it in feedback.history],\n",
    "    desc=\"Train loss\",\n",
    ")"
   ]
  },
  {
   "cell_type": "code",
   "execution_count": null,
   "metadata": {},
   "outputs": [],
   "source": [
    "plot_epoch_generic(\n",
    "    [it.eval[\"eval_loss\"] for it in feedback.history if \"eval_loss\" in it.eval],\n",
    "    desc=\"Eval loss\",\n",
    ")"
   ]
  },
  {
   "cell_type": "markdown",
   "metadata": {},
   "source": [
    "5. Display prediction"
   ]
  },
  {
   "cell_type": "code",
   "execution_count": null,
   "metadata": {},
   "outputs": [],
   "source": [
    "trainer.validate(model, test_loader)"
   ]
  },
  {
   "cell_type": "code",
   "execution_count": null,
   "metadata": {},
   "outputs": [],
   "source": [
    "_, y_pred = trainer.predict(model, predict_loader)"
   ]
  },
  {
   "cell_type": "code",
   "execution_count": null,
   "metadata": {},
   "outputs": [],
   "source": [
    "y_pred = torch.cat(y_pred, dim=0)"
   ]
  },
  {
   "cell_type": "code",
   "execution_count": null,
   "metadata": {},
   "outputs": [],
   "source": [
    "y_pred = torch.argmax(y_pred, dim=1)\n",
    "y_pred = y_pred.reshape(image_h, image_w)"
   ]
  },
  {
   "cell_type": "code",
   "execution_count": null,
   "metadata": {},
   "outputs": [],
   "source": [
    "plot_segmentation_comparison(labels, y_pred.cpu().numpy())"
   ]
  },
  {
   "cell_type": "markdown",
   "metadata": {},
   "source": [
    "6. Train semi-supervised model"
   ]
  },
  {
   "cell_type": "code",
   "execution_count": null,
   "metadata": {},
   "outputs": [],
   "source": [
    "model_1 = AdamOptimizedModule(\n",
    "    FullyConvolutionalLeNet(reduced_dim_size, num_classes),\n",
    "    lr=learning_rate,\n",
    ")\n",
    "\n",
    "model_2 = AdamOptimizedModule(\n",
    "    FullyConvolutionalLeNet(reduced_dim_size, num_classes),\n",
    "    lr=learning_rate,\n",
    ")\n",
    "\n",
    "loss = nn.CrossEntropyLoss()\n",
    "\n",
    "co_trainer = BiCoTrainer(\n",
    "    batch_size=batch_size,\n",
    "    confidence_threshold=0.9,\n",
    "    generator=generator,\n",
    "    trainer=ClassificationTrainer(\n",
    "        num_epochs=num_epochs,\n",
    "        num_classes=num_classes,\n",
    "        criterion=loss,\n",
    "        device=device,\n",
    "        record_history=False,\n",
    "        gradient_accumulation_steps=2,\n",
    "    ),\n",
    ")"
   ]
  },
  {
   "cell_type": "code",
   "execution_count": null,
   "metadata": {},
   "outputs": [],
   "source": [
    "feedback = co_trainer.fit(\n",
    "    models=(model_1, model_2),\n",
    "    labeled=train_dataset,\n",
    "    unlabeled=test_dataset,\n",
    "    eval_dl=test_loader,\n",
    ")"
   ]
  },
  {
   "cell_type": "code",
   "execution_count": null,
   "metadata": {},
   "outputs": [],
   "source": [
    "feedback.history[-1].eval"
   ]
  },
  {
   "cell_type": "code",
   "execution_count": null,
   "metadata": {},
   "outputs": [],
   "source": [
    "plot_epoch_generic(\n",
    "    [it.eval[\"eval_f1\"] for it in feedback.history], desc=\"F1\"\n",
    ")"
   ]
  },
  {
   "cell_type": "code",
   "execution_count": null,
   "metadata": {},
   "outputs": [],
   "source": [
    "co_trained = Ensemble([model_1, model_2]).to(device)\n",
    "\n",
    "_, y_pred = trainer.predict(co_trained, predict_loader)\n",
    "y_pred = torch.cat(y_pred, dim=0)\n",
    "y_pred = torch.argmax(y_pred, dim=1)\n",
    "y_pred = y_pred.reshape(image_h, image_w)\n",
    "\n",
    "plot_segmentation_comparison(labels, y_pred.cpu().numpy())"
   ]
  }
 ],
 "metadata": {
  "kernelspec": {
   "display_name": ".venv",
   "language": "python",
   "name": "python3"
  },
  "language_info": {
   "codemirror_mode": {
    "name": "ipython",
    "version": 3
   },
   "file_extension": ".py",
   "mimetype": "text/x-python",
   "name": "python",
   "nbconvert_exporter": "python",
   "pygments_lexer": "ipython3",
   "version": "3.12.3"
  }
 },
 "nbformat": 4,
 "nbformat_minor": 2
}
