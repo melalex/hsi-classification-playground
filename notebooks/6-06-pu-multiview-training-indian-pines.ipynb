{
 "cells": [
  {
   "cell_type": "markdown",
   "metadata": {},
   "source": [
    "# Indiana Pines"
   ]
  },
  {
   "cell_type": "markdown",
   "metadata": {},
   "source": [
    "1. Import dependencies"
   ]
  },
  {
   "cell_type": "code",
   "execution_count": 1,
   "metadata": {},
   "outputs": [],
   "source": [
    "import random\n",
    "import torch\n",
    "import numpy as np\n",
    "\n",
    "import torch.utils.data as data\n",
    "\n",
    "from torch import nn\n",
    "\n",
    "from src.util.hsi import (\n",
    "    extract_patches,\n",
    "    DimReductionType,\n",
    "    PreProcessType,\n",
    "    preprocess_hsi,\n",
    "    reduce_hsi_dim,\n",
    "    read_fixed_labels_mask,\n",
    "    pu_train_test_split_by_mask,\n",
    ")\n",
    "from src.util.torch import resolve_torch_device\n",
    "from src.data.indian_pines import load_indian_pines\n",
    "from src.visualization.plot import (\n",
    "    plot_segmentation_comparison,\n",
    "    plot_epoch_generic,\n",
    "    plot_masked_segmentation_comparison,\n",
    ")\n",
    "from src.data.dataset_decorator import UnlabeledDatasetDecorator, BinaryDatasetDecorator\n",
    "from src.model.lenet import PuLeNet\n",
    "from src.trainer.multiview_trainer import MultiViewTrainer\n",
    "from src.trainer.pu_multiview_trainer import PuMultiViewTrainer\n",
    "from src.trainer.base_trainer import AdamOptimizedModule\n",
    "from src.trainer.classification_trainer import ClassificationTrainer\n",
    "from src.util.reporting import (\n",
    "    classification_trainer,\n",
    "    create_model_name,\n",
    "    report_run,\n",
    "    read_report_to_show,\n",
    ")\n",
    "from src.util.loss import PULoss"
   ]
  },
  {
   "cell_type": "markdown",
   "metadata": {},
   "source": [
    "2. Prepare env"
   ]
  },
  {
   "cell_type": "code",
   "execution_count": 2,
   "metadata": {},
   "outputs": [],
   "source": [
    "learning_rate = 1e-3\n",
    "num_epochs = 15\n",
    "scheduler_step_size = num_epochs\n",
    "scheduler_gamma = 0.9\n",
    "weight_decay = 0"
   ]
  },
  {
   "cell_type": "code",
   "execution_count": 3,
   "metadata": {},
   "outputs": [],
   "source": [
    "batch_size = 32\n",
    "patch_size = 9\n",
    "target_dim = 75\n",
    "\n",
    "pre_process_type = PreProcessType.STANDARTIZATION\n",
    "dim_reduction_type = DimReductionType.PCA"
   ]
  },
  {
   "cell_type": "code",
   "execution_count": 4,
   "metadata": {},
   "outputs": [
    {
     "data": {
      "text/plain": [
       "<torch._C.Generator at 0x7f80debc0e10>"
      ]
     },
     "execution_count": 4,
     "metadata": {},
     "output_type": "execute_result"
    }
   ],
   "source": [
    "random_seed = 42\n",
    "\n",
    "random.seed(random_seed)\n",
    "torch.manual_seed(random_seed)\n",
    "np.random.seed(random_seed)\n",
    "\n",
    "device = resolve_torch_device()\n",
    "\n",
    "generator = torch.Generator()\n",
    "generator.manual_seed(random_seed)"
   ]
  },
  {
   "cell_type": "code",
   "execution_count": 5,
   "metadata": {},
   "outputs": [
    {
     "data": {
      "text/plain": [
       "'Device is cuda'"
      ]
     },
     "execution_count": 5,
     "metadata": {},
     "output_type": "execute_result"
    }
   ],
   "source": [
    "f\"Device is {device}\""
   ]
  },
  {
   "cell_type": "markdown",
   "metadata": {},
   "source": [
    "3. Load dataset"
   ]
  },
  {
   "cell_type": "code",
   "execution_count": 6,
   "metadata": {},
   "outputs": [],
   "source": [
    "image, labels = load_indian_pines()\n",
    "\n",
    "image_h, image_w, image_c = image.shape"
   ]
  },
  {
   "cell_type": "code",
   "execution_count": 7,
   "metadata": {},
   "outputs": [],
   "source": [
    "_, image = preprocess_hsi(image, pre_process_type)"
   ]
  },
  {
   "cell_type": "code",
   "execution_count": 8,
   "metadata": {},
   "outputs": [
    {
     "data": {
      "text/plain": [
       "'Number of classes 17'"
      ]
     },
     "execution_count": 8,
     "metadata": {},
     "output_type": "execute_result"
    }
   ],
   "source": [
    "num_classes = len(np.unique(labels))\n",
    "\n",
    "f\"Number of classes {num_classes}\""
   ]
  },
  {
   "cell_type": "code",
   "execution_count": 9,
   "metadata": {},
   "outputs": [],
   "source": [
    "from src.util.dict_ext import arrange_and_repeat\n",
    "\n",
    "\n",
    "examples_per_class = arrange_and_repeat(num_classes, 20)"
   ]
  },
  {
   "cell_type": "markdown",
   "metadata": {},
   "source": [
    "4. Reduce dimensions"
   ]
  },
  {
   "cell_type": "code",
   "execution_count": 10,
   "metadata": {},
   "outputs": [],
   "source": [
    "_, target_dim, image = reduce_hsi_dim(\n",
    "    image, target_dim, dim_reduction_type, device, random_seed\n",
    ")"
   ]
  },
  {
   "cell_type": "markdown",
   "metadata": {},
   "source": [
    "5. Prepare dataset"
   ]
  },
  {
   "cell_type": "code",
   "execution_count": 11,
   "metadata": {},
   "outputs": [],
   "source": [
    "x, y = extract_patches(image, labels, patch_size=patch_size)"
   ]
  },
  {
   "cell_type": "code",
   "execution_count": 12,
   "metadata": {},
   "outputs": [
    {
     "data": {
      "image/png": "[encoded data removed]",
      "text/plain": [
       "<Figure size 1000x500 with 2 Axes>"
      ]
     },
     "metadata": {},
     "output_type": "display_data"
    }
   ],
   "source": [
    "mask = read_fixed_labels_mask(\"indian-pines-v1.npy\")\n",
    "\n",
    "x_train, y_train, x_test, y_test = pu_train_test_split_by_mask(x, y, mask)\n",
    "\n",
    "_ = plot_masked_segmentation_comparison(y.reshape(image_h, image_w), mask)"
   ]
  },
  {
   "cell_type": "code",
   "execution_count": 13,
   "metadata": {},
   "outputs": [],
   "source": [
    "x_all = torch.tensor(x, dtype=torch.float32).permute(0, 3, 1, 2)\n",
    "y_all = torch.tensor(y, dtype=torch.int32)\n",
    "x_train = torch.tensor(x_train, dtype=torch.float32).permute(0, 3, 1, 2)\n",
    "y_train = torch.tensor(y_train, dtype=torch.int32)\n",
    "x_test = torch.tensor(x_test, dtype=torch.float32).permute(0, 3, 1, 2)\n",
    "y_test = torch.tensor(y_test, dtype=torch.int32)"
   ]
  },
  {
   "cell_type": "code",
   "execution_count": 14,
   "metadata": {},
   "outputs": [],
   "source": [
    "full_dataset = data.TensorDataset(x_all, y_all)\n",
    "test_dataset = data.TensorDataset(x_test, y_test)"
   ]
  },
  {
   "cell_type": "code",
   "execution_count": 15,
   "metadata": {},
   "outputs": [],
   "source": [
    "test_loader = data.DataLoader(\n",
    "    test_dataset,\n",
    "    batch_size=batch_size,\n",
    "    shuffle=False,\n",
    "    generator=generator,\n",
    ")\n",
    "full_loader = data.DataLoader(\n",
    "    full_dataset,\n",
    "    batch_size=batch_size,\n",
    "    shuffle=False,\n",
    "    generator=generator,\n",
    ")\n",
    "predict_loader = data.DataLoader(\n",
    "    UnlabeledDatasetDecorator(full_dataset),\n",
    "    batch_size=batch_size,\n",
    "    shuffle=False,\n",
    "    generator=generator,\n",
    ")"
   ]
  },
  {
   "cell_type": "markdown",
   "metadata": {},
   "source": [
    "6. Train semi-supervised model"
   ]
  },
  {
   "cell_type": "code",
   "execution_count": 16,
   "metadata": {},
   "outputs": [],
   "source": [
    "from src.model.dbda import DBDA\n",
    "\n",
    "models = []\n",
    "trainers = []\n",
    "\n",
    "for i in range(1, num_classes):\n",
    "    positive_count = (y_all == i).sum()\n",
    "    positive_prob = positive_count / len(y_all)\n",
    "\n",
    "    model = AdamOptimizedModule(\n",
    "        DBDA(\n",
    "            band=target_dim,\n",
    "            classes=1,\n",
    "            flatten_out=True\n",
    "        ),\n",
    "        lr=learning_rate,\n",
    "        weight_decay=weight_decay,\n",
    "    )\n",
    "    loss = PULoss(prior=positive_prob, nnPU=True)\n",
    "    trainer = ClassificationTrainer(\n",
    "        num_epochs=num_epochs,\n",
    "        num_classes=num_classes,\n",
    "        criterion=loss,\n",
    "        device=device,\n",
    "        record_history=False,\n",
    "        dl_accumulation_steps=2\n",
    "    )\n",
    "\n",
    "    models.append(model)\n",
    "    trainers.append(trainer)\n",
    "\n",
    "co_trainer = PuMultiViewTrainer(\n",
    "    num_classes=num_classes,\n",
    "    batch_size=batch_size,\n",
    "    confidence_threshold=0.9,\n",
    "    generator=generator,\n",
    "    device=device,\n",
    "    max_epochs=1\n",
    ")"
   ]
  },
  {
   "cell_type": "code",
   "execution_count": 17,
   "metadata": {},
   "outputs": [
    {
     "data": {
      "application/vnd.jupyter.widget-view+json": {
       "model_id": "027d9c48652c4c2f9cdf6daedd55d652",
       "version_major": 2,
       "version_minor": 0
      },
      "text/plain": [
       "  0%|          | 0/1 [00:00<?, ?it/s]"
      ]
     },
     "metadata": {},
     "output_type": "display_data"
    },
    {
     "data": {
      "application/vnd.jupyter.widget-view+json": {
       "model_id": "8c9dad6ec7ef4237982a4581f4428410",
       "version_major": 2,
       "version_minor": 0
      },
      "text/plain": [
       "  0%|          | 0/15 [00:00<?, ?it/s]"
      ]
     },
     "metadata": {},
     "output_type": "display_data"
    },
    {
     "data": {
      "application/vnd.jupyter.widget-view+json": {
       "model_id": "ee8ac5c9d0f446a89a9150e624f4ac94",
       "version_major": 2,
       "version_minor": 0
      },
      "text/plain": [
       "  0%|          | 0/15 [00:00<?, ?it/s]"
      ]
     },
     "metadata": {},
     "output_type": "display_data"
    },
    {
     "data": {
      "application/vnd.jupyter.widget-view+json": {
       "model_id": "f5f154a86ec64f149cd5ddeb3db9e901",
       "version_major": 2,
       "version_minor": 0
      },
      "text/plain": [
       "  0%|          | 0/15 [00:00<?, ?it/s]"
      ]
     },
     "metadata": {},
     "output_type": "display_data"
    },
    {
     "data": {
      "application/vnd.jupyter.widget-view+json": {
       "model_id": "93fdd06f8c3f4992840e75d8e01cf617",
       "version_major": 2,
       "version_minor": 0
      },
      "text/plain": [
       "  0%|          | 0/15 [00:00<?, ?it/s]"
      ]
     },
     "metadata": {},
     "output_type": "display_data"
    },
    {
     "data": {
      "application/vnd.jupyter.widget-view+json": {
       "model_id": "d76483d3f7d24d99b28259aab75b9bb9",
       "version_major": 2,
       "version_minor": 0
      },
      "text/plain": [
       "  0%|          | 0/15 [00:00<?, ?it/s]"
      ]
     },
     "metadata": {},
     "output_type": "display_data"
    },
    {
     "data": {
      "application/vnd.jupyter.widget-view+json": {
       "model_id": "c75d104f0fb24149924e17167ca69495",
       "version_major": 2,
       "version_minor": 0
      },
      "text/plain": [
       "  0%|          | 0/15 [00:00<?, ?it/s]"
      ]
     },
     "metadata": {},
     "output_type": "display_data"
    },
    {
     "data": {
      "application/vnd.jupyter.widget-view+json": {
       "model_id": "6c27306a61cf4caba8a43225445250f2",
       "version_major": 2,
       "version_minor": 0
      },
      "text/plain": [
       "  0%|          | 0/15 [00:00<?, ?it/s]"
      ]
     },
     "metadata": {},
     "output_type": "display_data"
    },
    {
     "data": {
      "application/vnd.jupyter.widget-view+json": {
       "model_id": "f2a368b045fb4e1e833956c73cf9cf0a",
       "version_major": 2,
       "version_minor": 0
      },
      "text/plain": [
       "  0%|          | 0/15 [00:00<?, ?it/s]"
      ]
     },
     "metadata": {},
     "output_type": "display_data"
    },
    {
     "data": {
      "application/vnd.jupyter.widget-view+json": {
       "model_id": "694ab95f060b4c81b54b5c1dbdeab2c7",
       "version_major": 2,
       "version_minor": 0
      },
      "text/plain": [
       "  0%|          | 0/15 [00:00<?, ?it/s]"
      ]
     },
     "metadata": {},
     "output_type": "display_data"
    },
    {
     "data": {
      "application/vnd.jupyter.widget-view+json": {
       "model_id": "6ba12d0fdd454886bd74d249923929bd",
       "version_major": 2,
       "version_minor": 0
      },
      "text/plain": [
       "  0%|          | 0/15 [00:00<?, ?it/s]"
      ]
     },
     "metadata": {},
     "output_type": "display_data"
    },
    {
     "data": {
      "application/vnd.jupyter.widget-view+json": {
       "model_id": "5659b31855964d9d8d9530fed5a903ed",
       "version_major": 2,
       "version_minor": 0
      },
      "text/plain": [
       "  0%|          | 0/15 [00:00<?, ?it/s]"
      ]
     },
     "metadata": {},
     "output_type": "display_data"
    },
    {
     "data": {
      "application/vnd.jupyter.widget-view+json": {
       "model_id": "36aa2456aeda48da879b4f7d37623559",
       "version_major": 2,
       "version_minor": 0
      },
      "text/plain": [
       "  0%|          | 0/15 [00:00<?, ?it/s]"
      ]
     },
     "metadata": {},
     "output_type": "display_data"
    },
    {
     "data": {
      "application/vnd.jupyter.widget-view+json": {
       "model_id": "9b7b8ab942174ded9cb0de68176680ba",
       "version_major": 2,
       "version_minor": 0
      },
      "text/plain": [
       "  0%|          | 0/15 [00:00<?, ?it/s]"
      ]
     },
     "metadata": {},
     "output_type": "display_data"
    },
    {
     "data": {
      "application/vnd.jupyter.widget-view+json": {
       "model_id": "151acb3d01594467902fe9d39a6e3f55",
       "version_major": 2,
       "version_minor": 0
      },
      "text/plain": [
       "  0%|          | 0/15 [00:00<?, ?it/s]"
      ]
     },
     "metadata": {},
     "output_type": "display_data"
    },
    {
     "data": {
      "application/vnd.jupyter.widget-view+json": {
       "model_id": "a8e5c9cc3e6a44429df178892d549ab3",
       "version_major": 2,
       "version_minor": 0
      },
      "text/plain": [
       "  0%|          | 0/15 [00:00<?, ?it/s]"
      ]
     },
     "metadata": {},
     "output_type": "display_data"
    },
    {
     "data": {
      "application/vnd.jupyter.widget-view+json": {
       "model_id": "7c2e6fe30d944832930ec54708f62dcd",
       "version_major": 2,
       "version_minor": 0
      },
      "text/plain": [
       "  0%|          | 0/15 [00:00<?, ?it/s]"
      ]
     },
     "metadata": {},
     "output_type": "display_data"
    }
   ],
   "source": [
    "feedback, co_trained = co_trainer.fit(\n",
    "    models=models, trainers=trainers, x=x_train, y=y_train, eval_dl=test_loader\n",
    ")"
   ]
  },
  {
   "cell_type": "code",
   "execution_count": 18,
   "metadata": {},
   "outputs": [
    {
     "data": {
      "image/png": "[encoded data removed]",
      "text/plain": [
       "<Figure size 1200x600 with 1 Axes>"
      ]
     },
     "metadata": {},
     "output_type": "display_data"
    }
   ],
   "source": [
    "plot_epoch_generic([it.eval[\"eval_f1\"] for it in feedback.history], desc=\"F1\")"
   ]
  },
  {
   "cell_type": "code",
   "execution_count": 19,
   "metadata": {},
   "outputs": [
    {
     "data": {
      "image/png": "[encoded data removed]",
      "text/plain": [
       "<Figure size 1200x600 with 1 Axes>"
      ]
     },
     "metadata": {},
     "output_type": "display_data"
    }
   ],
   "source": [
    "plot_epoch_generic([it.eval[\"eval_kappa\"] for it in feedback.history], desc=\"Kappa\")"
   ]
  },
  {
   "cell_type": "code",
   "execution_count": 20,
   "metadata": {},
   "outputs": [
    {
     "data": {
      "image/png": "[encoded data removed]",
      "text/plain": [
       "<Figure size 1200x600 with 1 Axes>"
      ]
     },
     "metadata": {},
     "output_type": "display_data"
    }
   ],
   "source": [
    "plot_epoch_generic(\n",
    "    [it.eval[\"eval_accuracy_avg\"] for it in feedback.history], desc=\"AA\"\n",
    ")"
   ]
  },
  {
   "cell_type": "code",
   "execution_count": 21,
   "metadata": {},
   "outputs": [
    {
     "data": {
      "image/png": "[encoded data removed]",
      "text/plain": [
       "<Figure size 1200x600 with 1 Axes>"
      ]
     },
     "metadata": {},
     "output_type": "display_data"
    }
   ],
   "source": [
    "plot_epoch_generic(\n",
    "    [it.eval[\"eval_accuracy_overall\"] for it in feedback.history], desc=\"OA\"\n",
    ")"
   ]
  },
  {
   "cell_type": "code",
   "execution_count": 22,
   "metadata": {},
   "outputs": [
    {
     "data": {
      "image/png": "[encoded data removed]",
      "text/plain": [
       "<Figure size 1200x600 with 1 Axes>"
      ]
     },
     "metadata": {},
     "output_type": "display_data"
    }
   ],
   "source": [
    "plot_epoch_generic(\n",
    "    [it.train[\"avg_unlabeled_len\"] for it in feedback.history], desc=\"Unlabeled count\"\n",
    ")"
   ]
  },
  {
   "cell_type": "code",
   "execution_count": 23,
   "metadata": {},
   "outputs": [],
   "source": [
    "# from src.model.ensemble import MultiViewEnsemble\n",
    "\n",
    "\n",
    "# co_trained = MultiViewEnsemble(models, confidence_treshhold=0.9)"
   ]
  },
  {
   "cell_type": "code",
   "execution_count": 24,
   "metadata": {},
   "outputs": [
    {
     "data": {
      "text/plain": [
       "{'eval_f1': 0.3473508656024933,\n",
       " 'eval_accuracy_overall': 0.05882352963089943,\n",
       " 'eval_accuracy_avg': 0.5125327110290527,\n",
       " 'eval_kappa': 0.0}"
      ]
     },
     "execution_count": 24,
     "metadata": {},
     "output_type": "execute_result"
    }
   ],
   "source": [
    "validation_result = co_trainer.validate(co_trained, full_loader)\n",
    "\n",
    "validation_result"
   ]
  },
  {
   "cell_type": "code",
   "execution_count": 25,
   "metadata": {},
   "outputs": [
    {
     "data": {
      "image/png": "[encoded data removed]",
      "text/plain": [
       "<Figure size 1000x500 with 2 Axes>"
      ]
     },
     "metadata": {},
     "output_type": "display_data"
    }
   ],
   "source": [
    "_, y_pred = co_trainer.predict(co_trained, predict_loader)\n",
    "y_pred = torch.cat(y_pred, dim=0)\n",
    "y_pred = y_pred.reshape(image_h, image_w)\n",
    "\n",
    "plot_segmentation_comparison(labels, y_pred.cpu().numpy())"
   ]
  },
  {
   "cell_type": "markdown",
   "metadata": {},
   "source": [
    "6. Write report"
   ]
  },
  {
   "cell_type": "code",
   "execution_count": 26,
   "metadata": {},
   "outputs": [],
   "source": [
    "model_name = create_model_name(\"indian_pines_\", examples_per_class)\n",
    "model_category = \"pu_lenet_multiview\""
   ]
  },
  {
   "cell_type": "code",
   "execution_count": 27,
   "metadata": {},
   "outputs": [
    {
     "data": {
      "text/plain": [
       "PosixPath('/home/melal/Workspace/spatial-regulated-self-training/reports/runs/indian_pines__0-20_1-20_2-20_3-20_4-20_5-20_6-20_7-20_8-20_9-20_10-20_11-20_12-20_13-20_14-20_15-20_16-20.csv')"
      ]
     },
     "execution_count": 27,
     "metadata": {},
     "output_type": "execute_result"
    }
   ],
   "source": [
    "run_params = {\n",
    "    \"num_epochs\": num_epochs,\n",
    "    \"batch_size\": batch_size,\n",
    "    \"patch_size\": patch_size,\n",
    "    \"target_dim\": target_dim,\n",
    "    \"pre_process_type\": str(pre_process_type),\n",
    "    \"dim_reduction_type\": str(dim_reduction_type),\n",
    "}\n",
    "\n",
    "report_run(\n",
    "    model_name=model_name,\n",
    "    model_category=model_category,\n",
    "    run_desc=\"NN PU\",\n",
    "    run_params=run_params | model.get_params(),\n",
    "    run_metrics=classification_trainer(validation_result),\n",
    ")"
   ]
  },
  {
   "cell_type": "code",
   "execution_count": 28,
   "metadata": {},
   "outputs": [
    {
     "data": {
      "text/html": [
       "<div>\n",
       "<style scoped>\n",
       "    .dataframe tbody tr th:only-of-type {\n",
       "        vertical-align: middle;\n",
       "    }\n",
       "\n",
       "    .dataframe tbody tr th {\n",
       "        vertical-align: top;\n",
       "    }\n",
       "\n",
       "    .dataframe thead th {\n",
       "        text-align: right;\n",
       "    }\n",
       "</style>\n",
       "<table border=\"1\" class=\"dataframe\">\n",
       "  <thead>\n",
       "    <tr style=\"text-align: right;\">\n",
       "      <th></th>\n",
       "      <th>timestamp</th>\n",
       "      <th>model_category</th>\n",
       "      <th>run_desc</th>\n",
       "      <th>params</th>\n",
       "      <th>loss</th>\n",
       "      <th>f1</th>\n",
       "      <th>OA</th>\n",
       "      <th>AA</th>\n",
       "      <th>kappa</th>\n",
       "    </tr>\n",
       "  </thead>\n",
       "  <tbody>\n",
       "    <tr>\n",
       "      <th>67</th>\n",
       "      <td>2025-05-31T18:17:32.920559+00:00</td>\n",
       "      <td>lenet_multiview</td>\n",
       "      <td>New fixed mask, 2 epoch, new unlabled shrinking</td>\n",
       "      <td>{\"num_epochs\": 15, \"batch_size\": 32, \"patch_si...</td>\n",
       "      <td>NaN</td>\n",
       "      <td>0.790402</td>\n",
       "      <td>0.878032</td>\n",
       "      <td>0.787206</td>\n",
       "      <td>0.703928</td>\n",
       "    </tr>\n",
       "    <tr>\n",
       "      <th>64</th>\n",
       "      <td>2025-05-31T12:52:12.314211+00:00</td>\n",
       "      <td>lenet_multiview</td>\n",
       "      <td>New fixed mask, 2 epochs, new unlabled shrinking</td>\n",
       "      <td>{\"num_epochs\": 15, \"batch_size\": 32, \"patch_si...</td>\n",
       "      <td>NaN</td>\n",
       "      <td>0.790402</td>\n",
       "      <td>0.878032</td>\n",
       "      <td>0.787206</td>\n",
       "      <td>0.703928</td>\n",
       "    </tr>\n",
       "    <tr>\n",
       "      <th>62</th>\n",
       "      <td>2025-05-30T20:38:12.198151+00:00</td>\n",
       "      <td>lenet_multiview</td>\n",
       "      <td>New fixed mask, less epochs</td>\n",
       "      <td>{\"num_epochs\": 15, \"batch_size\": 32, \"patch_si...</td>\n",
       "      <td>NaN</td>\n",
       "      <td>0.761022</td>\n",
       "      <td>0.824273</td>\n",
       "      <td>0.768847</td>\n",
       "      <td>0.657544</td>\n",
       "    </tr>\n",
       "    <tr>\n",
       "      <th>63</th>\n",
       "      <td>2025-05-31T12:39:48.464309+00:00</td>\n",
       "      <td>lenet_multiview</td>\n",
       "      <td>New fixed mask, more epochs, new unlabled shri...</td>\n",
       "      <td>{\"num_epochs\": 15, \"batch_size\": 32, \"patch_si...</td>\n",
       "      <td>NaN</td>\n",
       "      <td>0.758548</td>\n",
       "      <td>0.828754</td>\n",
       "      <td>0.762759</td>\n",
       "      <td>0.654074</td>\n",
       "    </tr>\n",
       "    <tr>\n",
       "      <th>57</th>\n",
       "      <td>2025-05-30T14:30:57.399895+00:00</td>\n",
       "      <td>lenet_multiview</td>\n",
       "      <td>Fixed mask, less epochs</td>\n",
       "      <td>{\"num_epochs\": 15, \"batch_size\": 32, \"patch_si...</td>\n",
       "      <td>NaN</td>\n",
       "      <td>0.751540</td>\n",
       "      <td>0.816561</td>\n",
       "      <td>0.758763</td>\n",
       "      <td>0.645057</td>\n",
       "    </tr>\n",
       "    <tr>\n",
       "      <th>...</th>\n",
       "      <td>...</td>\n",
       "      <td>...</td>\n",
       "      <td>...</td>\n",
       "      <td>...</td>\n",
       "      <td>...</td>\n",
       "      <td>...</td>\n",
       "      <td>...</td>\n",
       "      <td>...</td>\n",
       "      <td>...</td>\n",
       "    </tr>\n",
       "    <tr>\n",
       "      <th>25</th>\n",
       "      <td>2025-05-25T19:19:51.903381+00:00</td>\n",
       "      <td>lenet_clustering</td>\n",
       "      <td>Default run</td>\n",
       "      <td>{\"learning_rate\": 0.001, \"num_epochs\": 30, \"ba...</td>\n",
       "      <td>2.678000</td>\n",
       "      <td>0.182683</td>\n",
       "      <td>0.290217</td>\n",
       "      <td>0.250369</td>\n",
       "      <td>0.206694</td>\n",
       "    </tr>\n",
       "    <tr>\n",
       "      <th>22</th>\n",
       "      <td>2025-05-25T14:39:13.847478+00:00</td>\n",
       "      <td>specteal_former_co_training</td>\n",
       "      <td>Default run</td>\n",
       "      <td>{\"hidden_dim\": 32, \"num_layers\": 5, \"num_heads...</td>\n",
       "      <td>2.814270</td>\n",
       "      <td>0.179225</td>\n",
       "      <td>0.430531</td>\n",
       "      <td>0.176266</td>\n",
       "      <td>0.130307</td>\n",
       "    </tr>\n",
       "    <tr>\n",
       "      <th>10</th>\n",
       "      <td>2025-05-25T09:30:05.188620+00:00</td>\n",
       "      <td>vit</td>\n",
       "      <td>Add weight decay</td>\n",
       "      <td>{\"hidden_dim\": 64, \"num_layers\": 5, \"num_heads...</td>\n",
       "      <td>5.515652</td>\n",
       "      <td>0.177391</td>\n",
       "      <td>0.052552</td>\n",
       "      <td>0.143306</td>\n",
       "      <td>0.060421</td>\n",
       "    </tr>\n",
       "    <tr>\n",
       "      <th>24</th>\n",
       "      <td>2025-05-25T16:13:53.131416+00:00</td>\n",
       "      <td>lenet_co_training</td>\n",
       "      <td>Less epochs, no scheduling</td>\n",
       "      <td>{\"learning_rate\": 0.001, \"num_epochs\": 30, \"ba...</td>\n",
       "      <td>2.827521</td>\n",
       "      <td>0.147750</td>\n",
       "      <td>0.677064</td>\n",
       "      <td>0.252176</td>\n",
       "      <td>0.225479</td>\n",
       "    </tr>\n",
       "    <tr>\n",
       "      <th>66</th>\n",
       "      <td>2025-05-31T17:24:39.522341+00:00</td>\n",
       "      <td>lenet_multiview</td>\n",
       "      <td>New fixed mask, 1 epoch, new unlabled shrinkin...</td>\n",
       "      <td>{\"num_epochs\": 15, \"batch_size\": 32, \"patch_si...</td>\n",
       "      <td>NaN</td>\n",
       "      <td>0.037655</td>\n",
       "      <td>0.126472</td>\n",
       "      <td>0.118526</td>\n",
       "      <td>0.023619</td>\n",
       "    </tr>\n",
       "  </tbody>\n",
       "</table>\n",
       "<p>71 rows × 9 columns</p>\n",
       "</div>"
      ],
      "text/plain": [
       "                           timestamp               model_category  \\\n",
       "67  2025-05-31T18:17:32.920559+00:00              lenet_multiview   \n",
       "64  2025-05-31T12:52:12.314211+00:00              lenet_multiview   \n",
       "62  2025-05-30T20:38:12.198151+00:00              lenet_multiview   \n",
       "63  2025-05-31T12:39:48.464309+00:00              lenet_multiview   \n",
       "57  2025-05-30T14:30:57.399895+00:00              lenet_multiview   \n",
       "..                               ...                          ...   \n",
       "25  2025-05-25T19:19:51.903381+00:00             lenet_clustering   \n",
       "22  2025-05-25T14:39:13.847478+00:00  specteal_former_co_training   \n",
       "10  2025-05-25T09:30:05.188620+00:00                          vit   \n",
       "24  2025-05-25T16:13:53.131416+00:00            lenet_co_training   \n",
       "66  2025-05-31T17:24:39.522341+00:00              lenet_multiview   \n",
       "\n",
       "                                             run_desc  \\\n",
       "67    New fixed mask, 2 epoch, new unlabled shrinking   \n",
       "64   New fixed mask, 2 epochs, new unlabled shrinking   \n",
       "62                        New fixed mask, less epochs   \n",
       "63  New fixed mask, more epochs, new unlabled shri...   \n",
       "57                            Fixed mask, less epochs   \n",
       "..                                                ...   \n",
       "25                                        Default run   \n",
       "22                                        Default run   \n",
       "10                                   Add weight decay   \n",
       "24                         Less epochs, no scheduling   \n",
       "66  New fixed mask, 1 epoch, new unlabled shrinkin...   \n",
       "\n",
       "                                               params      loss        f1  \\\n",
       "67  {\"num_epochs\": 15, \"batch_size\": 32, \"patch_si...       NaN  0.790402   \n",
       "64  {\"num_epochs\": 15, \"batch_size\": 32, \"patch_si...       NaN  0.790402   \n",
       "62  {\"num_epochs\": 15, \"batch_size\": 32, \"patch_si...       NaN  0.761022   \n",
       "63  {\"num_epochs\": 15, \"batch_size\": 32, \"patch_si...       NaN  0.758548   \n",
       "57  {\"num_epochs\": 15, \"batch_size\": 32, \"patch_si...       NaN  0.751540   \n",
       "..                                                ...       ...       ...   \n",
       "25  {\"learning_rate\": 0.001, \"num_epochs\": 30, \"ba...  2.678000  0.182683   \n",
       "22  {\"hidden_dim\": 32, \"num_layers\": 5, \"num_heads...  2.814270  0.179225   \n",
       "10  {\"hidden_dim\": 64, \"num_layers\": 5, \"num_heads...  5.515652  0.177391   \n",
       "24  {\"learning_rate\": 0.001, \"num_epochs\": 30, \"ba...  2.827521  0.147750   \n",
       "66  {\"num_epochs\": 15, \"batch_size\": 32, \"patch_si...       NaN  0.037655   \n",
       "\n",
       "          OA        AA     kappa  \n",
       "67  0.878032  0.787206  0.703928  \n",
       "64  0.878032  0.787206  0.703928  \n",
       "62  0.824273  0.768847  0.657544  \n",
       "63  0.828754  0.762759  0.654074  \n",
       "57  0.816561  0.758763  0.645057  \n",
       "..       ...       ...       ...  \n",
       "25  0.290217  0.250369  0.206694  \n",
       "22  0.430531  0.176266  0.130307  \n",
       "10  0.052552  0.143306  0.060421  \n",
       "24  0.677064  0.252176  0.225479  \n",
       "66  0.126472  0.118526  0.023619  \n",
       "\n",
       "[71 rows x 9 columns]"
      ]
     },
     "execution_count": 28,
     "metadata": {},
     "output_type": "execute_result"
    }
   ],
   "source": [
    "read_report_to_show(model_name, sort_by_metric=\"f1\")"
   ]
  },
  {
   "cell_type": "code",
   "execution_count": 29,
   "metadata": {},
   "outputs": [
    {
     "data": {
      "text/html": [
       "<div>\n",
       "<style scoped>\n",
       "    .dataframe tbody tr th:only-of-type {\n",
       "        vertical-align: middle;\n",
       "    }\n",
       "\n",
       "    .dataframe tbody tr th {\n",
       "        vertical-align: top;\n",
       "    }\n",
       "\n",
       "    .dataframe thead th {\n",
       "        text-align: right;\n",
       "    }\n",
       "</style>\n",
       "<table border=\"1\" class=\"dataframe\">\n",
       "  <thead>\n",
       "    <tr style=\"text-align: right;\">\n",
       "      <th></th>\n",
       "      <th>timestamp</th>\n",
       "      <th>run_desc</th>\n",
       "      <th>params</th>\n",
       "      <th>loss</th>\n",
       "      <th>f1</th>\n",
       "      <th>OA</th>\n",
       "      <th>AA</th>\n",
       "      <th>kappa</th>\n",
       "    </tr>\n",
       "  </thead>\n",
       "  <tbody>\n",
       "    <tr>\n",
       "      <th>70</th>\n",
       "      <td>2025-05-31T21:53:53.410630+00:00</td>\n",
       "      <td>NN PU</td>\n",
       "      <td>{\"num_epochs\": 15, \"batch_size\": 32, \"patch_si...</td>\n",
       "      <td>NaN</td>\n",
       "      <td>0.347351</td>\n",
       "      <td>0.058824</td>\n",
       "      <td>0.512533</td>\n",
       "      <td>0.0</td>\n",
       "    </tr>\n",
       "    <tr>\n",
       "      <th>69</th>\n",
       "      <td>2025-05-31T21:32:47.766122+00:00</td>\n",
       "      <td>Default run</td>\n",
       "      <td>{\"num_epochs\": 15, \"batch_size\": 32, \"patch_si...</td>\n",
       "      <td>NaN</td>\n",
       "      <td>0.347351</td>\n",
       "      <td>0.058824</td>\n",
       "      <td>0.512533</td>\n",
       "      <td>0.0</td>\n",
       "    </tr>\n",
       "  </tbody>\n",
       "</table>\n",
       "</div>"
      ],
      "text/plain": [
       "                           timestamp     run_desc  \\\n",
       "70  2025-05-31T21:53:53.410630+00:00        NN PU   \n",
       "69  2025-05-31T21:32:47.766122+00:00  Default run   \n",
       "\n",
       "                                               params  loss        f1  \\\n",
       "70  {\"num_epochs\": 15, \"batch_size\": 32, \"patch_si...   NaN  0.347351   \n",
       "69  {\"num_epochs\": 15, \"batch_size\": 32, \"patch_si...   NaN  0.347351   \n",
       "\n",
       "          OA        AA  kappa  \n",
       "70  0.058824  0.512533    0.0  \n",
       "69  0.058824  0.512533    0.0  "
      ]
     },
     "execution_count": 29,
     "metadata": {},
     "output_type": "execute_result"
    }
   ],
   "source": [
    "read_report_to_show(model_name, sort_by_metric=\"f1\", model_category=model_category)"
   ]
  }
 ],
 "metadata": {
  "kernelspec": {
   "display_name": ".venv",
   "language": "python",
   "name": "python3"
  },
  "language_info": {
   "codemirror_mode": {
    "name": "ipython",
    "version": 3
   },
   "file_extension": ".py",
   "mimetype": "text/x-python",
   "name": "python",
   "nbconvert_exporter": "python",
   "pygments_lexer": "ipython3",
   "version": "3.12.3"
  }
 },
 "nbformat": 4,
 "nbformat_minor": 2
}
