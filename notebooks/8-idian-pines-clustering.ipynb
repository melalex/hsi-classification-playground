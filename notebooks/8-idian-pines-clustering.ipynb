{
 "cells": [
  {
   "cell_type": "markdown",
   "metadata": {},
   "source": [
    "# Indiana Pines"
   ]
  },
  {
   "cell_type": "markdown",
   "metadata": {},
   "source": [
    "1. Import dependencies"
   ]
  },
  {
   "cell_type": "code",
   "execution_count": null,
   "metadata": {},
   "outputs": [],
   "source": [
    "import random\n",
    "import torch\n",
    "import numpy as np\n",
    "\n",
    "from torch import nn\n",
    "from torch import optim\n",
    "from sklearn.cluster import KMeans\n",
    "from torchmetrics import Accuracy, CohenKappa, F1Score\n",
    "\n",
    "from src.pipeline.common import (\n",
    "    introduce_semantic_constraint,\n",
    "    introduce_spatial_constraint,\n",
    ")\n",
    "from src.util.image import (\n",
    "    scale_image,\n",
    "    reduce_depth_with_patched_autoencoder,\n",
    ")\n",
    "from src.util.torch_device import resolve_torch_device\n",
    "from src.data.indian_pines import load_indian_pines\n",
    "from src.visualization.plot import plot_segmentation_comparison\n",
    "from src.model.autoencoder import SpatialAutoEncoder\n",
    "from src.trainer.autoencoder_trainer import AutoEncoderTrainer\n",
    "from src.util.over_clustering import exponential_decay_over_clustering\n",
    "from src.visualization.plot import plot_k_values"
   ]
  },
  {
   "cell_type": "markdown",
   "metadata": {},
   "source": [
    "2. Prepare env"
   ]
  },
  {
   "cell_type": "code",
   "execution_count": null,
   "metadata": {},
   "outputs": [
    {
     "data": {
      "text/plain": [
       "<torch._C.Generator at 0x7f931e6a0e30>"
      ]
     },
     "execution_count": 2,
     "metadata": {},
     "output_type": "execute_result"
    }
   ],
   "source": [
    "random_seed = 42\n",
    "\n",
    "random.seed(random_seed)\n",
    "torch.manual_seed(random_seed)\n",
    "np.random.seed(random_seed)\n",
    "\n",
    "batch_size = 32\n",
    "patch_size = 9\n",
    "num_epochs = 12\n",
    "learning_rate = 1e-3\n",
    "fraction_of_examples = 0.1\n",
    "reduced_dim_size = 200\n",
    "\n",
    "lambda_v = 0.49\n",
    "k_star_multiplier = 3\n",
    "k_means_init = 3\n",
    "semantic_threshold = 0.6\n",
    "spatial_constraint_weights = [1, 0.5]\n",
    "spatial_threshold = 8\n",
    "\n",
    "device = resolve_torch_device()\n",
    "\n",
    "generator = torch.Generator()\n",
    "generator.manual_seed(random_seed)"
   ]
  },
  {
   "cell_type": "code",
   "execution_count": 3,
   "metadata": {},
   "outputs": [
    {
     "data": {
      "text/plain": [
       "'Device is cuda'"
      ]
     },
     "execution_count": 3,
     "metadata": {},
     "output_type": "execute_result"
    }
   ],
   "source": [
    "f\"Device is {device}\""
   ]
  },
  {
   "cell_type": "markdown",
   "metadata": {},
   "source": [
    "3. Load dataset"
   ]
  },
  {
   "cell_type": "code",
   "execution_count": 4,
   "metadata": {},
   "outputs": [],
   "source": [
    "image, labels = load_indian_pines()\n",
    "\n",
    "image_h, image_w, image_c = image.shape\n",
    "\n",
    "_, x = scale_image(image)"
   ]
  },
  {
   "cell_type": "code",
   "execution_count": 5,
   "metadata": {},
   "outputs": [
    {
     "data": {
      "text/plain": [
       "'Number of classes 17'"
      ]
     },
     "execution_count": 5,
     "metadata": {},
     "output_type": "execute_result"
    }
   ],
   "source": [
    "num_classes = len(np.unique(labels))\n",
    "\n",
    "f\"Number of classes {num_classes}\""
   ]
  },
  {
   "cell_type": "markdown",
   "metadata": {},
   "source": [
    "4. Reduce dimensions"
   ]
  },
  {
   "cell_type": "code",
   "execution_count": 6,
   "metadata": {},
   "outputs": [],
   "source": [
    "# _, x = reduce_depth_with_pca(x, n_components=reduced_dim_size)"
   ]
  },
  {
   "cell_type": "code",
   "execution_count": 7,
   "metadata": {},
   "outputs": [],
   "source": [
    "# auto_encoder_epochs = 100\n",
    "\n",
    "# autoencoder = SymmetricPointWiseAutoEncoder([image_c, reduced_dim_size]).to(device)\n",
    "\n",
    "# criterion = nn.MSELoss().to(device)\n",
    "# optimizer = optim.Adam(autoencoder.parameters(), lr=1e-3)\n",
    "# trainer = AutoEncoderTrainer(\n",
    "#     criterion,\n",
    "#     auto_encoder_epochs,\n",
    "#     optimizer,\n",
    "# )\n",
    "\n",
    "# x = reduce_depth_with_autoencoder(x, autoencoder, trainer, device)"
   ]
  },
  {
   "cell_type": "code",
   "execution_count": null,
   "metadata": {},
   "outputs": [
    {
     "data": {
      "application/vnd.jupyter.widget-view+json": {
       "model_id": "261d01b34b6c457bac503883679c5704",
       "version_major": 2,
       "version_minor": 0
      },
      "text/plain": [
       "  0%|          | 0/500 [00:00<?, ?it/s]"
      ]
     },
     "metadata": {},
     "output_type": "display_data"
    },
    {
     "data": {
      "application/vnd.jupyter.widget-view+json": {
       "model_id": "1941e68264b24bfcacb53b183b9c9931",
       "version_major": 2,
       "version_minor": 0
      },
      "text/plain": [
       "  0%|          | 0/300 [00:00<?, ?it/s]"
      ]
     },
     "metadata": {},
     "output_type": "display_data"
    },
    {
     "data": {
      "application/vnd.jupyter.widget-view+json": {
       "model_id": "458231c1347d4ba49593ef808383517e",
       "version_major": 2,
       "version_minor": 0
      },
      "text/plain": [
       "  0%|          | 0/300 [00:00<?, ?it/s]"
      ]
     },
     "metadata": {},
     "output_type": "display_data"
    }
   ],
   "source": [
    "if reduced_dim_size != image_c:\n",
    "    autoencoder = SpatialAutoEncoder(\n",
    "        input_channels=image_c, embedding_size=reduced_dim_size\n",
    "    ).to(device)\n",
    "\n",
    "    trainer_1 = AutoEncoderTrainer(\n",
    "        nn.MSELoss(),\n",
    "        500,\n",
    "        optim.Adam(autoencoder.parameters(), lr=1e-3),\n",
    "    )\n",
    "\n",
    "    trainer_2 = AutoEncoderTrainer(\n",
    "        nn.MSELoss(),\n",
    "        300,\n",
    "        optim.Adam(autoencoder.parameters(), lr=1e-4),\n",
    "    )\n",
    "\n",
    "    trainer_3 = AutoEncoderTrainer(\n",
    "        nn.MSELoss(),\n",
    "        300,\n",
    "        optim.Adam(autoencoder.parameters(), lr=1e-5),\n",
    "    )\n",
    "\n",
    "    x = reduce_depth_with_patched_autoencoder(\n",
    "        x, patch_size, autoencoder, [trainer_1, trainer_2, trainer_3], device\n",
    "    )"
   ]
  },
  {
   "cell_type": "markdown",
   "metadata": {},
   "source": [
    "5. Prepare dataset"
   ]
  },
  {
   "cell_type": "code",
   "execution_count": 9,
   "metadata": {},
   "outputs": [],
   "source": [
    "x = x.reshape(-1, reduced_dim_size)\n",
    "y = labels.reshape(-1)"
   ]
  },
  {
   "cell_type": "markdown",
   "metadata": {},
   "source": [
    "4. Train model"
   ]
  },
  {
   "cell_type": "code",
   "execution_count": 10,
   "metadata": {},
   "outputs": [],
   "source": [
    "k_star = num_classes * k_star_multiplier\n",
    "\n",
    "k_values = exponential_decay_over_clustering(\n",
    "    k_star=k_star, lambda_v=lambda_v, max_iter=num_epochs\n",
    ")"
   ]
  },
  {
   "cell_type": "code",
   "execution_count": 11,
   "metadata": {},
   "outputs": [
    {
     "data": {
      "image/png": "[encoded data removed]",
      "text/plain": [
       "<Figure size 800x500 with 1 Axes>"
      ]
     },
     "metadata": {},
     "output_type": "display_data"
    }
   ],
   "source": [
    "plot_k_values(k_values=k_values, k_star=k_star, num_classes=num_classes)"
   ]
  },
  {
   "cell_type": "code",
   "execution_count": 12,
   "metadata": {},
   "outputs": [],
   "source": [
    "original_shape = (image_h, image_w)\n",
    "\n",
    "for num_clusters in k_values:\n",
    "    clustering = KMeans(\n",
    "        n_clusters=num_clusters, n_init=k_means_init, random_state=random_seed\n",
    "    )\n",
    "\n",
    "    y = y.reshape(-1)\n",
    "    k = clustering.fit_predict(x)\n",
    "    c = introduce_semantic_constraint(k, y, num_classes, semantic_threshold)\n",
    "    y = introduce_spatial_constraint(\n",
    "        c, original_shape, spatial_constraint_weights, spatial_threshold\n",
    "    )"
   ]
  },
  {
   "cell_type": "markdown",
   "metadata": {},
   "source": [
    "5. Display prediction"
   ]
  },
  {
   "cell_type": "code",
   "execution_count": 13,
   "metadata": {},
   "outputs": [],
   "source": [
    "f1 = F1Score(task=\"multiclass\", num_classes=num_classes, average=\"weighted\")\n",
    "overall_accuracy = Accuracy(task=\"multiclass\", num_classes=num_classes, average=\"macro\")\n",
    "average_accuracy = Accuracy(task=\"multiclass\", num_classes=num_classes, average=\"micro\")\n",
    "kappa = CohenKappa(task=\"multiclass\", num_classes=num_classes)"
   ]
  },
  {
   "cell_type": "code",
   "execution_count": 14,
   "metadata": {},
   "outputs": [
    {
     "name": "stdout",
     "output_type": "stream",
     "text": [
      "\n",
      "overall_accuracy=0.18075263500213623\n",
      "average_accuracy=0.3887752592563629\n",
      "kappa_score=0.2086275815963745\n",
      "f1_score=0.3666958510875702\n",
      "\n"
     ]
    }
   ],
   "source": [
    "y_pred = torch.tensor(y)\n",
    "y_true = torch.tensor(labels)\n",
    "y_pred_arr = y_pred.ravel()\n",
    "y_true_arr = y_true.ravel()\n",
    "\n",
    "print(f\"\"\"\n",
    "overall_accuracy={overall_accuracy(y_pred_arr, y_true_arr).item()}\n",
    "average_accuracy={average_accuracy(y_pred_arr, y_true_arr).item()}\n",
    "kappa_score={kappa(y_pred_arr, y_true_arr).item()}\n",
    "f1_score={f1(y_pred_arr, y_true_arr).item()}\n",
    "\"\"\")"
   ]
  },
  {
   "cell_type": "code",
   "execution_count": 15,
   "metadata": {},
   "outputs": [
    {
     "data": {
      "image/png": "[encoded data removed]",
      "text/plain": [
       "<Figure size 1000x500 with 2 Axes>"
      ]
     },
     "metadata": {},
     "output_type": "display_data"
    }
   ],
   "source": [
    "plot_segmentation_comparison(labels, y.reshape(original_shape))"
   ]
  }
 ],
 "metadata": {
  "kernelspec": {
   "display_name": ".venv",
   "language": "python",
   "name": "python3"
  },
  "language_info": {
   "codemirror_mode": {
    "name": "ipython",
    "version": 3
   },
   "file_extension": ".py",
   "mimetype": "text/x-python",
   "name": "python",
   "nbconvert_exporter": "python",
   "pygments_lexer": "ipython3",
   "version": "3.12.3"
  }
 },
 "nbformat": 4,
 "nbformat_minor": 2
}
