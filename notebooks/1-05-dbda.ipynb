{
 "cells": [
  {
   "cell_type": "markdown",
   "metadata": {},
   "source": [
    "# Indiana Pines"
   ]
  },
  {
   "cell_type": "markdown",
   "metadata": {},
   "source": [
    "1. Import dependencies"
   ]
  },
  {
   "cell_type": "code",
   "execution_count": null,
   "metadata": {},
   "outputs": [],
   "source": [
    "import random\n",
    "import torch\n",
    "import multiprocessing\n",
    "import numpy as np\n",
    "\n",
    "import torch.utils.data as data\n",
    "\n",
    "from sklearn.model_selection import train_test_split\n",
    "\n",
    "from lightning import Trainer\n",
    "\n",
    "from src.util.torch import resolve_torch_device\n",
    "from src.util.hsi import (\n",
    "    extract_patches,\n",
    "    reduce_hsi_dim,\n",
    "    train_test_band_patch_split,\n",
    "    preprocess_hsi,\n",
    "    read_fixed_labels_mask,\n",
    "    train_test_split_by_mask,\n",
    "    PreProcessType,\n",
    "    DimReductionType,\n",
    ")\n",
    "from src.data.indian_pines import load_indian_pines\n",
    "from src.model.hsic import HyperSpectralImageClassifier\n",
    "from src.visualization.plot import (\n",
    "    plot_segmentation_comparison,\n",
    "    plot_epoch_generic,\n",
    "    plot_masked_segmentation_comparison,\n",
    ")\n",
    "\n",
    "from src.data.dataset_decorator import UnlabeledDatasetDecorator\n",
    "from src.util.reporting import (\n",
    "    create_model_name,\n",
    "    report_run,\n",
    "    read_report_to_show,\n",
    "    lightning_metrics,\n",
    ")\n",
    "from src.util.list_ext import smooth_moving_average\n",
    "from src.util.scheduler import CosineLRSchedulerWrapper\n",
    "from src.model.dbda import DBDA\n",
    "from src.util.dict_ext import arrange_and_repeat"
   ]
  },
  {
   "cell_type": "markdown",
   "metadata": {},
   "source": [
    "2. Prepare env"
   ]
  },
  {
   "cell_type": "code",
   "execution_count": 2,
   "metadata": {},
   "outputs": [],
   "source": [
    "learning_rate = 1e-3\n",
    "weight_decay = 0\n",
    "num_epochs = 300"
   ]
  },
  {
   "cell_type": "code",
   "execution_count": 3,
   "metadata": {},
   "outputs": [],
   "source": [
    "batch_size = 64\n",
    "patch_size = 9\n",
    "target_dim = 75\n",
    "\n",
    "examples_per_class = {}\n",
    "\n",
    "pre_process_type = PreProcessType.STANDARTIZATION\n",
    "dim_reduction_type = DimReductionType.PCA"
   ]
  },
  {
   "cell_type": "code",
   "execution_count": 4,
   "metadata": {},
   "outputs": [],
   "source": [
    "random_seed = 42\n",
    "\n",
    "random.seed(random_seed)\n",
    "torch.manual_seed(random_seed)\n",
    "np.random.seed(random_seed)\n",
    "\n",
    "device = resolve_torch_device()"
   ]
  },
  {
   "cell_type": "code",
   "execution_count": 5,
   "metadata": {},
   "outputs": [],
   "source": [
    "torch.cuda.empty_cache()"
   ]
  },
  {
   "cell_type": "code",
   "execution_count": 6,
   "metadata": {},
   "outputs": [],
   "source": [
    "torch.set_float32_matmul_precision(\"medium\")"
   ]
  },
  {
   "cell_type": "code",
   "execution_count": 7,
   "metadata": {},
   "outputs": [
    {
     "data": {
      "text/plain": [
       "'Device is cuda'"
      ]
     },
     "execution_count": 7,
     "metadata": {},
     "output_type": "execute_result"
    }
   ],
   "source": [
    "f\"Device is {device}\""
   ]
  },
  {
   "cell_type": "markdown",
   "metadata": {},
   "source": [
    "3. Load dataset"
   ]
  },
  {
   "cell_type": "code",
   "execution_count": 8,
   "metadata": {},
   "outputs": [],
   "source": [
    "image, labels = load_indian_pines()\n",
    "\n",
    "image_h, image_w, image_c = image.shape"
   ]
  },
  {
   "cell_type": "code",
   "execution_count": 9,
   "metadata": {},
   "outputs": [],
   "source": [
    "_, image = preprocess_hsi(image, pre_process_type)"
   ]
  },
  {
   "cell_type": "code",
   "execution_count": 10,
   "metadata": {},
   "outputs": [],
   "source": [
    "_, target_dim, image = reduce_hsi_dim(\n",
    "    image, target_dim, dim_reduction_type, device, random_seed\n",
    ")"
   ]
  },
  {
   "cell_type": "code",
   "execution_count": 11,
   "metadata": {},
   "outputs": [],
   "source": [
    "x, y = extract_patches(image, labels, patch_size=patch_size)"
   ]
  },
  {
   "cell_type": "code",
   "execution_count": 12,
   "metadata": {},
   "outputs": [
    {
     "data": {
      "text/plain": [
       "'Number of classes 17'"
      ]
     },
     "execution_count": 12,
     "metadata": {},
     "output_type": "execute_result"
    }
   ],
   "source": [
    "num_classes = len(np.unique(y))\n",
    "\n",
    "f\"Number of classes {num_classes}\""
   ]
  },
  {
   "cell_type": "code",
   "execution_count": 13,
   "metadata": {},
   "outputs": [],
   "source": [
    "examples_per_class = arrange_and_repeat(num_classes, 20)"
   ]
  },
  {
   "cell_type": "code",
   "execution_count": 14,
   "metadata": {},
   "outputs": [
    {
     "data": {
      "image/png": "[encoded data removed]",
      "text/plain": [
       "<Figure size 1000x500 with 2 Axes>"
      ]
     },
     "metadata": {},
     "output_type": "display_data"
    }
   ],
   "source": [
    "mask = read_fixed_labels_mask(\"indian-pines-v1.npy\")\n",
    "\n",
    "x_train, y_train, x_test, y_test = train_test_split_by_mask(x, y, mask)\n",
    "\n",
    "_ = plot_masked_segmentation_comparison(y.reshape(image_h, image_w), mask)"
   ]
  },
  {
   "cell_type": "code",
   "execution_count": 15,
   "metadata": {},
   "outputs": [],
   "source": [
    "x_tensor = torch.tensor(x, dtype=torch.float32).permute(0, 3, 1, 2) \n",
    "y_tensor = torch.tensor(y, dtype=torch.long)\n",
    "x_train_tensor = torch.tensor(x_train, dtype=torch.float32).permute(0, 3, 1, 2)\n",
    "y_train_tensor = torch.tensor(y_train, dtype=torch.long)\n",
    "x_test_tensor = torch.tensor(x_test, dtype=torch.float32).permute(0, 3, 1, 2)\n",
    "y_test_tensor = torch.tensor(y_test, dtype=torch.long)"
   ]
  },
  {
   "cell_type": "code",
   "execution_count": 16,
   "metadata": {},
   "outputs": [
    {
     "data": {
      "text/plain": [
       "'Setting num_workers to 24'"
      ]
     },
     "execution_count": 16,
     "metadata": {},
     "output_type": "execute_result"
    }
   ],
   "source": [
    "cpu_count = multiprocessing.cpu_count()\n",
    "\n",
    "f\"Setting num_workers to {cpu_count}\""
   ]
  },
  {
   "cell_type": "code",
   "execution_count": 17,
   "metadata": {},
   "outputs": [],
   "source": [
    "train_dataset = data.TensorDataset(x_train_tensor, y_train_tensor)\n",
    "test_dataset = data.TensorDataset(x_test_tensor, y_test_tensor)\n",
    "full_dataset = data.TensorDataset(x_tensor, y_tensor)\n",
    "\n",
    "train_loader = data.DataLoader(\n",
    "    train_dataset,\n",
    "    batch_size=batch_size,\n",
    "    shuffle=True,\n",
    "    num_workers=cpu_count,\n",
    "    persistent_workers=True,\n",
    ")\n",
    "test_loader = data.DataLoader(\n",
    "    test_dataset,\n",
    "    batch_size=batch_size,\n",
    "    shuffle=False,\n",
    "    num_workers=cpu_count,\n",
    "    persistent_workers=True,\n",
    ")\n",
    "full_loader = data.DataLoader(\n",
    "    full_dataset,\n",
    "    batch_size=batch_size,\n",
    "    shuffle=False,\n",
    "    num_workers=cpu_count,\n",
    "    persistent_workers=True,\n",
    ")\n",
    "predict_loader = data.DataLoader(\n",
    "    UnlabeledDatasetDecorator(full_dataset),\n",
    "    batch_size=batch_size,\n",
    "    num_workers=cpu_count,\n",
    "    persistent_workers=True,\n",
    ")"
   ]
  },
  {
   "cell_type": "code",
   "execution_count": 18,
   "metadata": {},
   "outputs": [
    {
     "data": {
      "text/plain": [
       "'Training samples: 340, Testing samples: 20685'"
      ]
     },
     "execution_count": 18,
     "metadata": {},
     "output_type": "execute_result"
    }
   ],
   "source": [
    "f\"Training samples: {len(train_dataset)}, Testing samples: {len(test_dataset)}\""
   ]
  },
  {
   "cell_type": "markdown",
   "metadata": {},
   "source": [
    "4. Train model"
   ]
  },
  {
   "cell_type": "code",
   "execution_count": 19,
   "metadata": {},
   "outputs": [
    {
     "name": "stderr",
     "output_type": "stream",
     "text": [
      "You are using the plain ModelCheckpoint callback. Consider using LitModelCheckpoint which with seamless uploading to Model registry.\n",
      "GPU available: True (cuda), used: True\n",
      "TPU available: False, using: 0 TPU cores\n",
      "HPU available: False, using: 0 HPUs\n",
      "/home/melal/Workspace/spatial-regulated-self-training/.venv/lib/python3.12/site-packages/lightning/pytorch/trainer/connectors/logger_connector/logger_connector.py:76: Starting from v1.9.0, `tensorboardX` has been removed as a dependency of the `lightning.pytorch` package, due to potential conflicts with other packages in the ML ecosystem. For this reason, `logger=True` will use `CSVLogger` as the default logger, unless the `tensorboard` or `tensorboardX` packages are found. Please `pip install lightning[extra]` or one of them to enable TensorBoard support by default\n"
     ]
    }
   ],
   "source": [
    "model = HyperSpectralImageClassifier(\n",
    "    DBDA(\n",
    "        band=target_dim,\n",
    "        classes=num_classes,\n",
    "    ),\n",
    "    num_classes,\n",
    "    lr=learning_rate,\n",
    "    weight_decay=weight_decay,\n",
    "    scheduler=lambda optimizer: CosineLRSchedulerWrapper(\n",
    "        optimizer,\n",
    "        t_initial=num_epochs,\n",
    "        lr_min=learning_rate * 0.01,\n",
    "        warmup_t=int(np.ceil(0.1 * num_epochs)),\n",
    "        warmup_lr_init=learning_rate * 0.01,\n",
    "    ),\n",
    ")\n",
    "\n",
    "trainer = Trainer(accelerator=\"auto\", max_epochs=num_epochs)"
   ]
  },
  {
   "cell_type": "code",
   "execution_count": 20,
   "metadata": {},
   "outputs": [
    {
     "name": "stderr",
     "output_type": "stream",
     "text": [
      "/home/melal/Workspace/spatial-regulated-self-training/.venv/lib/python3.12/site-packages/lightning/pytorch/trainer/configuration_validator.py:70: You defined a `validation_step` but have no `val_dataloader`. Skipping val loop.\n",
      "LOCAL_RANK: 0 - CUDA_VISIBLE_DEVICES: [0]\n",
      "\n",
      "  | Name             | Type                 | Params | Mode \n",
      "------------------------------------------------------------------\n",
      "0 | net              | DBDA                 | 152 K  | train\n",
      "1 | loss_fun         | CrossEntropyLoss     | 0      | train\n",
      "2 | f1               | MulticlassF1Score    | 0      | train\n",
      "3 | overall_accuracy | MulticlassAccuracy   | 0      | train\n",
      "4 | average_accuracy | MulticlassAccuracy   | 0      | train\n",
      "5 | kappa            | MulticlassCohenKappa | 0      | train\n",
      "------------------------------------------------------------------\n",
      "152 K     Trainable params\n",
      "0         Non-trainable params\n",
      "152 K     Total params\n",
      "0.610     Total estimated model params size (MB)\n",
      "47        Modules in train mode\n",
      "0         Modules in eval mode\n",
      "/home/melal/Workspace/spatial-regulated-self-training/.venv/lib/python3.12/site-packages/lightning/pytorch/loops/fit_loop.py:310: The number of training batches (6) is smaller than the logging interval Trainer(log_every_n_steps=50). Set a lower value for log_every_n_steps if you want to see logs for the training epoch.\n"
     ]
    },
    {
     "data": {
      "application/vnd.jupyter.widget-view+json": {
       "model_id": "9cf7485fd5af415499fa63f6c4e6bfa2",
       "version_major": 2,
       "version_minor": 0
      },
      "text/plain": [
       "Training: |          | 0/? [00:00<?, ?it/s]"
      ]
     },
     "metadata": {},
     "output_type": "display_data"
    },
    {
     "name": "stderr",
     "output_type": "stream",
     "text": [
      "`Trainer.fit` stopped: `max_epochs=300` reached.\n"
     ]
    }
   ],
   "source": [
    "trainer.fit(\n",
    "    model,\n",
    "    train_loader, \n",
    "    # test_loader,\n",
    ")"
   ]
  },
  {
   "cell_type": "code",
   "execution_count": 21,
   "metadata": {},
   "outputs": [],
   "source": [
    "# smothed_train = smooth_moving_average([it.loss.cpu() for it in model.train_metrics], 20)\n",
    "# smothed_eval = smooth_moving_average([it.loss.cpu() for it in model.val_metrics], 20)\n",
    "\n",
    "# plot_epoch_generic_comparison(smothed_train, smothed_eval)"
   ]
  },
  {
   "cell_type": "code",
   "execution_count": 22,
   "metadata": {},
   "outputs": [
    {
     "data": {
      "image/png": "[encoded data removed]",
      "text/plain": [
       "<Figure size 1200x600 with 1 Axes>"
      ]
     },
     "metadata": {},
     "output_type": "display_data"
    }
   ],
   "source": [
    "smothed_train = smooth_moving_average([it.loss.cpu() for it in model.train_metrics], 20)\n",
    "\n",
    "plot_epoch_generic(smothed_train, desc=\"Loss\")"
   ]
  },
  {
   "cell_type": "code",
   "execution_count": 23,
   "metadata": {},
   "outputs": [],
   "source": [
    "# smooth_f1 = smooth_moving_average([it.f1.cpu() for it in model.val_metrics], 20)\n",
    "\n",
    "# plot_epoch_generic(smooth_f1, desc=\"F1\")"
   ]
  },
  {
   "cell_type": "code",
   "execution_count": 24,
   "metadata": {},
   "outputs": [
    {
     "name": "stderr",
     "output_type": "stream",
     "text": [
      "LOCAL_RANK: 0 - CUDA_VISIBLE_DEVICES: [0]\n"
     ]
    },
    {
     "data": {
      "application/vnd.jupyter.widget-view+json": {
       "model_id": "8f36f52f4ed6470eb6b1b1b5c72ab08e",
       "version_major": 2,
       "version_minor": 0
      },
      "text/plain": [
       "Validation: |          | 0/? [00:00<?, ?it/s]"
      ]
     },
     "metadata": {},
     "output_type": "display_data"
    },
    {
     "name": "stdout",
     "output_type": "stream",
     "text": [
      "────────────────────────────────────────────────────────────────────────────────────────────────────────────────────────\n",
      "     Validate metric           DataLoader 0\n",
      "────────────────────────────────────────────────────────────────────────────────────────────────────────────────────────\n",
      "  val_average_accuracy      0.6703448295593262\n",
      "         val_f1             0.7036696672439575\n",
      "        val_kappa            0.506472110748291\n",
      "        val_loss             3.566643476486206\n",
      "  val_overall_accuracy      0.4811021685600281\n",
      "────────────────────────────────────────────────────────────────────────────────────────────────────────────────────────\n"
     ]
    },
    {
     "data": {
      "text/plain": [
       "[{'val_loss': 3.566643476486206,\n",
       "  'val_f1': 0.7036696672439575,\n",
       "  'val_overall_accuracy': 0.4811021685600281,\n",
       "  'val_average_accuracy': 0.6703448295593262,\n",
       "  'val_kappa': 0.506472110748291}]"
      ]
     },
     "execution_count": 24,
     "metadata": {},
     "output_type": "execute_result"
    }
   ],
   "source": [
    "validation_result = trainer.validate(model, full_loader)\n",
    "\n",
    "validation_result"
   ]
  },
  {
   "cell_type": "markdown",
   "metadata": {},
   "source": [
    "2. Display prediction"
   ]
  },
  {
   "cell_type": "code",
   "execution_count": 25,
   "metadata": {},
   "outputs": [
    {
     "name": "stderr",
     "output_type": "stream",
     "text": [
      "LOCAL_RANK: 0 - CUDA_VISIBLE_DEVICES: [0]\n"
     ]
    },
    {
     "data": {
      "application/vnd.jupyter.widget-view+json": {
       "model_id": "0d7b690c590f402a9d768d346e4ecf94",
       "version_major": 2,
       "version_minor": 0
      },
      "text/plain": [
       "Predicting: |          | 0/? [00:00<?, ?it/s]"
      ]
     },
     "metadata": {},
     "output_type": "display_data"
    }
   ],
   "source": [
    "y_pred = trainer.predict(model, predict_loader)"
   ]
  },
  {
   "cell_type": "code",
   "execution_count": 26,
   "metadata": {},
   "outputs": [],
   "source": [
    "y_pred = torch.cat(y_pred, dim=0)\n",
    "y_pred = torch.argmax(y_pred, dim=1)\n",
    "y_pred = y_pred.reshape(image_h, image_w)"
   ]
  },
  {
   "cell_type": "code",
   "execution_count": 27,
   "metadata": {},
   "outputs": [
    {
     "data": {
      "image/png": "[encoded data removed]",
      "text/plain": [
       "<Figure size 1000x500 with 2 Axes>"
      ]
     },
     "metadata": {},
     "output_type": "display_data"
    }
   ],
   "source": [
    "plot_segmentation_comparison(y.reshape(image_h, image_w), y_pred.numpy(), num_classes)"
   ]
  },
  {
   "cell_type": "markdown",
   "metadata": {},
   "source": [
    "6. Write report"
   ]
  },
  {
   "cell_type": "code",
   "execution_count": 28,
   "metadata": {},
   "outputs": [
    {
     "data": {
      "text/plain": [
       "PosixPath('/home/melal/Workspace/spatial-regulated-self-training/reports/runs/indian_pines__0-20_1-20_2-20_3-20_4-20_5-20_6-20_7-20_8-20_9-20_10-20_11-20_12-20_13-20_14-20_15-20_16-20.csv')"
      ]
     },
     "execution_count": 28,
     "metadata": {},
     "output_type": "execute_result"
    }
   ],
   "source": [
    "model_name = create_model_name(\"indian_pines_\", examples_per_class)\n",
    "model_category = \"dbda\"\n",
    "\n",
    "run_params = {\n",
    "    \"num_epochs\": num_epochs,\n",
    "    \"batch_size\": batch_size,\n",
    "    \"patch_size\": patch_size,\n",
    "    \"target_dim\": target_dim,\n",
    "    \"pre_process_type\": str(pre_process_type),\n",
    "    \"dim_reduction_type\": str(dim_reduction_type),\n",
    "}\n",
    "\n",
    "report_run(\n",
    "    model_name=model_name,\n",
    "    model_category=model_category,\n",
    "    run_desc=\"Add PCA, scheduler, bigger lr, v3 fixed ds\",\n",
    "    run_params=run_params | model.get_params(),\n",
    "    run_metrics=lightning_metrics(validation_result),\n",
    ")"
   ]
  },
  {
   "cell_type": "code",
   "execution_count": 29,
   "metadata": {},
   "outputs": [
    {
     "data": {
      "text/html": [
       "<div>\n",
       "<style scoped>\n",
       "    .dataframe tbody tr th:only-of-type {\n",
       "        vertical-align: middle;\n",
       "    }\n",
       "\n",
       "    .dataframe tbody tr th {\n",
       "        vertical-align: top;\n",
       "    }\n",
       "\n",
       "    .dataframe thead th {\n",
       "        text-align: right;\n",
       "    }\n",
       "</style>\n",
       "<table border=\"1\" class=\"dataframe\">\n",
       "  <thead>\n",
       "    <tr style=\"text-align: right;\">\n",
       "      <th></th>\n",
       "      <th>timestamp</th>\n",
       "      <th>model_category</th>\n",
       "      <th>run_desc</th>\n",
       "      <th>params</th>\n",
       "      <th>loss</th>\n",
       "      <th>f1</th>\n",
       "      <th>OA</th>\n",
       "      <th>AA</th>\n",
       "      <th>kappa</th>\n",
       "    </tr>\n",
       "  </thead>\n",
       "  <tbody>\n",
       "    <tr>\n",
       "      <th>57</th>\n",
       "      <td>2025-05-30T14:30:57.399895+00:00</td>\n",
       "      <td>lenet_multiview</td>\n",
       "      <td>Fixed mask, less epochs</td>\n",
       "      <td>{\"num_epochs\": 15, \"batch_size\": 32, \"patch_si...</td>\n",
       "      <td>NaN</td>\n",
       "      <td>0.751540</td>\n",
       "      <td>0.816561</td>\n",
       "      <td>0.758763</td>\n",
       "      <td>0.645057</td>\n",
       "    </tr>\n",
       "    <tr>\n",
       "      <th>55</th>\n",
       "      <td>2025-05-29T18:14:30.557523+00:00</td>\n",
       "      <td>lenet_multiview</td>\n",
       "      <td>DBDA</td>\n",
       "      <td>{\"learning_rate\": 0.001, \"num_epochs\": 15, \"ba...</td>\n",
       "      <td>NaN</td>\n",
       "      <td>0.747156</td>\n",
       "      <td>0.815115</td>\n",
       "      <td>0.749727</td>\n",
       "      <td>0.637652</td>\n",
       "    </tr>\n",
       "    <tr>\n",
       "      <th>61</th>\n",
       "      <td>2025-05-30T18:38:35.926843+00:00</td>\n",
       "      <td>dbda</td>\n",
       "      <td>Add PCA, scheduler, bigger lr, v3 fixed ds</td>\n",
       "      <td>{\"num_epochs\": 300, \"batch_size\": 64, \"patch_s...</td>\n",
       "      <td>3.566643</td>\n",
       "      <td>0.703670</td>\n",
       "      <td>0.481102</td>\n",
       "      <td>0.670345</td>\n",
       "      <td>0.506472</td>\n",
       "    </tr>\n",
       "    <tr>\n",
       "      <th>56</th>\n",
       "      <td>2025-05-30T12:27:26.406124+00:00</td>\n",
       "      <td>dbda</td>\n",
       "      <td>Add PCA, scheduler, bigger lr, fixed ds</td>\n",
       "      <td>{\"num_epochs\": 300, \"batch_size\": 64, \"patch_s...</td>\n",
       "      <td>4.663567</td>\n",
       "      <td>0.690509</td>\n",
       "      <td>0.462844</td>\n",
       "      <td>0.655838</td>\n",
       "      <td>0.488072</td>\n",
       "    </tr>\n",
       "    <tr>\n",
       "      <th>60</th>\n",
       "      <td>2025-05-30T18:35:43.973805+00:00</td>\n",
       "      <td>dbda</td>\n",
       "      <td>Add PCA, scheduler, bigger lr, newer fixed ds</td>\n",
       "      <td>{\"num_epochs\": 300, \"batch_size\": 64, \"patch_s...</td>\n",
       "      <td>3.839921</td>\n",
       "      <td>0.688104</td>\n",
       "      <td>0.458919</td>\n",
       "      <td>0.654221</td>\n",
       "      <td>0.489939</td>\n",
       "    </tr>\n",
       "    <tr>\n",
       "      <th>...</th>\n",
       "      <td>...</td>\n",
       "      <td>...</td>\n",
       "      <td>...</td>\n",
       "      <td>...</td>\n",
       "      <td>...</td>\n",
       "      <td>...</td>\n",
       "      <td>...</td>\n",
       "      <td>...</td>\n",
       "      <td>...</td>\n",
       "    </tr>\n",
       "    <tr>\n",
       "      <th>23</th>\n",
       "      <td>2025-05-25T15:52:03.734232+00:00</td>\n",
       "      <td>lenet_co_training</td>\n",
       "      <td>Default run</td>\n",
       "      <td>{\"learning_rate\": 0.001, \"num_epochs\": 300, \"b...</td>\n",
       "      <td>2.826677</td>\n",
       "      <td>0.195459</td>\n",
       "      <td>0.688948</td>\n",
       "      <td>0.286706</td>\n",
       "      <td>0.255198</td>\n",
       "    </tr>\n",
       "    <tr>\n",
       "      <th>25</th>\n",
       "      <td>2025-05-25T19:19:51.903381+00:00</td>\n",
       "      <td>lenet_clustering</td>\n",
       "      <td>Default run</td>\n",
       "      <td>{\"learning_rate\": 0.001, \"num_epochs\": 30, \"ba...</td>\n",
       "      <td>2.678000</td>\n",
       "      <td>0.182683</td>\n",
       "      <td>0.290217</td>\n",
       "      <td>0.250369</td>\n",
       "      <td>0.206694</td>\n",
       "    </tr>\n",
       "    <tr>\n",
       "      <th>22</th>\n",
       "      <td>2025-05-25T14:39:13.847478+00:00</td>\n",
       "      <td>specteal_former_co_training</td>\n",
       "      <td>Default run</td>\n",
       "      <td>{\"hidden_dim\": 32, \"num_layers\": 5, \"num_heads...</td>\n",
       "      <td>2.814270</td>\n",
       "      <td>0.179225</td>\n",
       "      <td>0.430531</td>\n",
       "      <td>0.176266</td>\n",
       "      <td>0.130307</td>\n",
       "    </tr>\n",
       "    <tr>\n",
       "      <th>10</th>\n",
       "      <td>2025-05-25T09:30:05.188620+00:00</td>\n",
       "      <td>vit</td>\n",
       "      <td>Add weight decay</td>\n",
       "      <td>{\"hidden_dim\": 64, \"num_layers\": 5, \"num_heads...</td>\n",
       "      <td>5.515652</td>\n",
       "      <td>0.177391</td>\n",
       "      <td>0.052552</td>\n",
       "      <td>0.143306</td>\n",
       "      <td>0.060421</td>\n",
       "    </tr>\n",
       "    <tr>\n",
       "      <th>24</th>\n",
       "      <td>2025-05-25T16:13:53.131416+00:00</td>\n",
       "      <td>lenet_co_training</td>\n",
       "      <td>Less epochs, no scheduling</td>\n",
       "      <td>{\"learning_rate\": 0.001, \"num_epochs\": 30, \"ba...</td>\n",
       "      <td>2.827521</td>\n",
       "      <td>0.147750</td>\n",
       "      <td>0.677064</td>\n",
       "      <td>0.252176</td>\n",
       "      <td>0.225479</td>\n",
       "    </tr>\n",
       "  </tbody>\n",
       "</table>\n",
       "<p>62 rows × 9 columns</p>\n",
       "</div>"
      ],
      "text/plain": [
       "                           timestamp               model_category  \\\n",
       "57  2025-05-30T14:30:57.399895+00:00              lenet_multiview   \n",
       "55  2025-05-29T18:14:30.557523+00:00              lenet_multiview   \n",
       "61  2025-05-30T18:38:35.926843+00:00                         dbda   \n",
       "56  2025-05-30T12:27:26.406124+00:00                         dbda   \n",
       "60  2025-05-30T18:35:43.973805+00:00                         dbda   \n",
       "..                               ...                          ...   \n",
       "23  2025-05-25T15:52:03.734232+00:00            lenet_co_training   \n",
       "25  2025-05-25T19:19:51.903381+00:00             lenet_clustering   \n",
       "22  2025-05-25T14:39:13.847478+00:00  specteal_former_co_training   \n",
       "10  2025-05-25T09:30:05.188620+00:00                          vit   \n",
       "24  2025-05-25T16:13:53.131416+00:00            lenet_co_training   \n",
       "\n",
       "                                         run_desc  \\\n",
       "57                        Fixed mask, less epochs   \n",
       "55                                           DBDA   \n",
       "61     Add PCA, scheduler, bigger lr, v3 fixed ds   \n",
       "56        Add PCA, scheduler, bigger lr, fixed ds   \n",
       "60  Add PCA, scheduler, bigger lr, newer fixed ds   \n",
       "..                                            ...   \n",
       "23                                    Default run   \n",
       "25                                    Default run   \n",
       "22                                    Default run   \n",
       "10                               Add weight decay   \n",
       "24                     Less epochs, no scheduling   \n",
       "\n",
       "                                               params      loss        f1  \\\n",
       "57  {\"num_epochs\": 15, \"batch_size\": 32, \"patch_si...       NaN  0.751540   \n",
       "55  {\"learning_rate\": 0.001, \"num_epochs\": 15, \"ba...       NaN  0.747156   \n",
       "61  {\"num_epochs\": 300, \"batch_size\": 64, \"patch_s...  3.566643  0.703670   \n",
       "56  {\"num_epochs\": 300, \"batch_size\": 64, \"patch_s...  4.663567  0.690509   \n",
       "60  {\"num_epochs\": 300, \"batch_size\": 64, \"patch_s...  3.839921  0.688104   \n",
       "..                                                ...       ...       ...   \n",
       "23  {\"learning_rate\": 0.001, \"num_epochs\": 300, \"b...  2.826677  0.195459   \n",
       "25  {\"learning_rate\": 0.001, \"num_epochs\": 30, \"ba...  2.678000  0.182683   \n",
       "22  {\"hidden_dim\": 32, \"num_layers\": 5, \"num_heads...  2.814270  0.179225   \n",
       "10  {\"hidden_dim\": 64, \"num_layers\": 5, \"num_heads...  5.515652  0.177391   \n",
       "24  {\"learning_rate\": 0.001, \"num_epochs\": 30, \"ba...  2.827521  0.147750   \n",
       "\n",
       "          OA        AA     kappa  \n",
       "57  0.816561  0.758763  0.645057  \n",
       "55  0.815115  0.749727  0.637652  \n",
       "61  0.481102  0.670345  0.506472  \n",
       "56  0.462844  0.655838  0.488072  \n",
       "60  0.458919  0.654221  0.489939  \n",
       "..       ...       ...       ...  \n",
       "23  0.688948  0.286706  0.255198  \n",
       "25  0.290217  0.250369  0.206694  \n",
       "22  0.430531  0.176266  0.130307  \n",
       "10  0.052552  0.143306  0.060421  \n",
       "24  0.677064  0.252176  0.225479  \n",
       "\n",
       "[62 rows x 9 columns]"
      ]
     },
     "execution_count": 29,
     "metadata": {},
     "output_type": "execute_result"
    }
   ],
   "source": [
    "read_report_to_show(model_name, sort_by_metric=\"f1\")"
   ]
  },
  {
   "cell_type": "code",
   "execution_count": 30,
   "metadata": {},
   "outputs": [
    {
     "data": {
      "text/html": [
       "<div>\n",
       "<style scoped>\n",
       "    .dataframe tbody tr th:only-of-type {\n",
       "        vertical-align: middle;\n",
       "    }\n",
       "\n",
       "    .dataframe tbody tr th {\n",
       "        vertical-align: top;\n",
       "    }\n",
       "\n",
       "    .dataframe thead th {\n",
       "        text-align: right;\n",
       "    }\n",
       "</style>\n",
       "<table border=\"1\" class=\"dataframe\">\n",
       "  <thead>\n",
       "    <tr style=\"text-align: right;\">\n",
       "      <th></th>\n",
       "      <th>timestamp</th>\n",
       "      <th>run_desc</th>\n",
       "      <th>params</th>\n",
       "      <th>loss</th>\n",
       "      <th>f1</th>\n",
       "      <th>OA</th>\n",
       "      <th>AA</th>\n",
       "      <th>kappa</th>\n",
       "    </tr>\n",
       "  </thead>\n",
       "  <tbody>\n",
       "    <tr>\n",
       "      <th>61</th>\n",
       "      <td>2025-05-30T18:38:35.926843+00:00</td>\n",
       "      <td>Add PCA, scheduler, bigger lr, v3 fixed ds</td>\n",
       "      <td>{\"num_epochs\": 300, \"batch_size\": 64, \"patch_s...</td>\n",
       "      <td>3.566643</td>\n",
       "      <td>0.703670</td>\n",
       "      <td>0.481102</td>\n",
       "      <td>0.670345</td>\n",
       "      <td>0.506472</td>\n",
       "    </tr>\n",
       "    <tr>\n",
       "      <th>56</th>\n",
       "      <td>2025-05-30T12:27:26.406124+00:00</td>\n",
       "      <td>Add PCA, scheduler, bigger lr, fixed ds</td>\n",
       "      <td>{\"num_epochs\": 300, \"batch_size\": 64, \"patch_s...</td>\n",
       "      <td>4.663567</td>\n",
       "      <td>0.690509</td>\n",
       "      <td>0.462844</td>\n",
       "      <td>0.655838</td>\n",
       "      <td>0.488072</td>\n",
       "    </tr>\n",
       "    <tr>\n",
       "      <th>60</th>\n",
       "      <td>2025-05-30T18:35:43.973805+00:00</td>\n",
       "      <td>Add PCA, scheduler, bigger lr, newer fixed ds</td>\n",
       "      <td>{\"num_epochs\": 300, \"batch_size\": 64, \"patch_s...</td>\n",
       "      <td>3.839921</td>\n",
       "      <td>0.688104</td>\n",
       "      <td>0.458919</td>\n",
       "      <td>0.654221</td>\n",
       "      <td>0.489939</td>\n",
       "    </tr>\n",
       "    <tr>\n",
       "      <th>59</th>\n",
       "      <td>2025-05-30T18:25:28.893737+00:00</td>\n",
       "      <td>Add PCA, scheduler, bigger lr, new fixed ds</td>\n",
       "      <td>{\"num_epochs\": 300, \"batch_size\": 64, \"patch_s...</td>\n",
       "      <td>4.048932</td>\n",
       "      <td>0.684991</td>\n",
       "      <td>0.449493</td>\n",
       "      <td>0.647229</td>\n",
       "      <td>0.481405</td>\n",
       "    </tr>\n",
       "    <tr>\n",
       "      <th>41</th>\n",
       "      <td>2025-05-26T13:36:49.598137+00:00</td>\n",
       "      <td>Add PCA, scheduler, bigger lr</td>\n",
       "      <td>{\"learning_rate\": 0.001, \"weight_decay\": 0, \"n...</td>\n",
       "      <td>3.049507</td>\n",
       "      <td>0.684335</td>\n",
       "      <td>0.494762</td>\n",
       "      <td>0.657646</td>\n",
       "      <td>0.478008</td>\n",
       "    </tr>\n",
       "    <tr>\n",
       "      <th>39</th>\n",
       "      <td>2025-05-26T13:19:18.177604+00:00</td>\n",
       "      <td>Add PCA</td>\n",
       "      <td>{\"learning_rate\": 0.0001, \"weight_decay\": 0, \"...</td>\n",
       "      <td>1.579928</td>\n",
       "      <td>0.672000</td>\n",
       "      <td>0.467689</td>\n",
       "      <td>0.644138</td>\n",
       "      <td>0.468405</td>\n",
       "    </tr>\n",
       "    <tr>\n",
       "      <th>36</th>\n",
       "      <td>2025-05-25T23:33:57.452646+00:00</td>\n",
       "      <td>Default run</td>\n",
       "      <td>{\"learning_rate\": 0.0001, \"weight_decay\": 0, \"...</td>\n",
       "      <td>1.600769</td>\n",
       "      <td>0.661525</td>\n",
       "      <td>0.456191</td>\n",
       "      <td>0.630725</td>\n",
       "      <td>0.466202</td>\n",
       "    </tr>\n",
       "    <tr>\n",
       "      <th>40</th>\n",
       "      <td>2025-05-26T13:35:13.284522+00:00</td>\n",
       "      <td>Add PCA, scheduler</td>\n",
       "      <td>{\"learning_rate\": 0.0001, \"weight_decay\": 0, \"...</td>\n",
       "      <td>1.308922</td>\n",
       "      <td>0.651018</td>\n",
       "      <td>0.442690</td>\n",
       "      <td>0.620404</td>\n",
       "      <td>0.443848</td>\n",
       "    </tr>\n",
       "  </tbody>\n",
       "</table>\n",
       "</div>"
      ],
      "text/plain": [
       "                           timestamp  \\\n",
       "61  2025-05-30T18:38:35.926843+00:00   \n",
       "56  2025-05-30T12:27:26.406124+00:00   \n",
       "60  2025-05-30T18:35:43.973805+00:00   \n",
       "59  2025-05-30T18:25:28.893737+00:00   \n",
       "41  2025-05-26T13:36:49.598137+00:00   \n",
       "39  2025-05-26T13:19:18.177604+00:00   \n",
       "36  2025-05-25T23:33:57.452646+00:00   \n",
       "40  2025-05-26T13:35:13.284522+00:00   \n",
       "\n",
       "                                         run_desc  \\\n",
       "61     Add PCA, scheduler, bigger lr, v3 fixed ds   \n",
       "56        Add PCA, scheduler, bigger lr, fixed ds   \n",
       "60  Add PCA, scheduler, bigger lr, newer fixed ds   \n",
       "59    Add PCA, scheduler, bigger lr, new fixed ds   \n",
       "41                  Add PCA, scheduler, bigger lr   \n",
       "39                                        Add PCA   \n",
       "36                                    Default run   \n",
       "40                             Add PCA, scheduler   \n",
       "\n",
       "                                               params      loss        f1  \\\n",
       "61  {\"num_epochs\": 300, \"batch_size\": 64, \"patch_s...  3.566643  0.703670   \n",
       "56  {\"num_epochs\": 300, \"batch_size\": 64, \"patch_s...  4.663567  0.690509   \n",
       "60  {\"num_epochs\": 300, \"batch_size\": 64, \"patch_s...  3.839921  0.688104   \n",
       "59  {\"num_epochs\": 300, \"batch_size\": 64, \"patch_s...  4.048932  0.684991   \n",
       "41  {\"learning_rate\": 0.001, \"weight_decay\": 0, \"n...  3.049507  0.684335   \n",
       "39  {\"learning_rate\": 0.0001, \"weight_decay\": 0, \"...  1.579928  0.672000   \n",
       "36  {\"learning_rate\": 0.0001, \"weight_decay\": 0, \"...  1.600769  0.661525   \n",
       "40  {\"learning_rate\": 0.0001, \"weight_decay\": 0, \"...  1.308922  0.651018   \n",
       "\n",
       "          OA        AA     kappa  \n",
       "61  0.481102  0.670345  0.506472  \n",
       "56  0.462844  0.655838  0.488072  \n",
       "60  0.458919  0.654221  0.489939  \n",
       "59  0.449493  0.647229  0.481405  \n",
       "41  0.494762  0.657646  0.478008  \n",
       "39  0.467689  0.644138  0.468405  \n",
       "36  0.456191  0.630725  0.466202  \n",
       "40  0.442690  0.620404  0.443848  "
      ]
     },
     "execution_count": 30,
     "metadata": {},
     "output_type": "execute_result"
    }
   ],
   "source": [
    "read_report_to_show(model_name, sort_by_metric=\"f1\", model_category=model_category)"
   ]
  }
 ],
 "metadata": {
  "kernelspec": {
   "display_name": ".venv",
   "language": "python",
   "name": "python3"
  },
  "language_info": {
   "codemirror_mode": {
    "name": "ipython",
    "version": 3
   },
   "file_extension": ".py",
   "mimetype": "text/x-python",
   "name": "python",
   "nbconvert_exporter": "python",
   "pygments_lexer": "ipython3",
   "version": "3.12.3"
  }
 },
 "nbformat": 4,
 "nbformat_minor": 2
}
